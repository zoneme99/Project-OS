{
 "cells": [
  {
   "cell_type": "code",
   "execution_count": null,
   "metadata": {},
   "outputs": [],
   "source": []
  },
  {
   "cell_type": "code",
   "execution_count": 19,
   "metadata": {},
   "outputs": [
    {
     "data": {
      "text/html": [
       "\n",
       "        <iframe\n",
       "            width=\"100%\"\n",
       "            height=\"650\"\n",
       "            src=\"http://127.0.0.1:8050/\"\n",
       "            frameborder=\"0\"\n",
       "            allowfullscreen\n",
       "            \n",
       "        ></iframe>\n",
       "        "
      ],
      "text/plain": [
       "<IPython.lib.display.IFrame at 0x254276111c0>"
      ]
     },
     "metadata": {},
     "output_type": "display_data"
    }
   ],
   "source": [
    "from dash import Dash, html, dash_table, dcc\n",
    "import plotly.express as px\n",
    "import pandas as pd \n",
    "import dash_bootstrap_components as dbc\n",
    "\n",
    "df = pd.read_csv(\"../Data/athlete_events.csv\")\n",
    "hungary = df[ df[\"NOC\"] == \"HUN\" ]\n",
    "\n",
    "fig = px.bar(hungary, x=\"Year\", y=\"Medal\", color=\"City\", barmode=\"group\")\n",
    "\n",
    "app = Dash( external_stylesheets=[dbc.themes.BOOTSTRAP] ) \n",
    "\n",
    "alert = dbc.Alert( \"Hello, Bootstrap!\", className=\"m-5\" ) \n",
    "\n",
    "table = dbc.Table.from_dataframe(\n",
    "    hungary.head(),\n",
    "    # using the same table as in the above example\n",
    "    bordered=True,\n",
    "    dark=True,\n",
    "    hover=True,\n",
    "    responsive=True,\n",
    "    striped=True,\n",
    ")\n",
    "\n",
    "app.layout = [ \n",
    "    alert,\n",
    "    table\n",
    "    ]\n",
    "\n",
    "\n",
    "\"\"\"\n",
    "app.layout = [\n",
    "    \n",
    "    html.Div( children=\"My firsst app with data\",  style={'backgroundColor': \"Black\", \"color\":\"White\"},),\n",
    "    dash_table.DataTable( data=hungary[ hungary[\"Sport\"] == \"Fencing\" ].to_dict(\"records\"), page_size=10),\n",
    "    dcc.Graph(\n",
    "        id='example-graph',\n",
    "        figure=fig\n",
    "    )\n",
    "   \n",
    "] \"\"\"\n",
    "\n",
    "app.run(debug=True)"
   ]
  }
 ],
 "metadata": {
  "kernelspec": {
   "display_name": ".venv",
   "language": "python",
   "name": "python3"
  },
  "language_info": {
   "codemirror_mode": {
    "name": "ipython",
    "version": 3
   },
   "file_extension": ".py",
   "mimetype": "text/x-python",
   "name": "python",
   "nbconvert_exporter": "python",
   "pygments_lexer": "ipython3",
   "version": "3.12.5"
  }
 },
 "nbformat": 4,
 "nbformat_minor": 2
}
