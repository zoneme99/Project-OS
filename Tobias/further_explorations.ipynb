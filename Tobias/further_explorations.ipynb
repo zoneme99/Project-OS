{
 "cells": [
  {
   "cell_type": "code",
   "execution_count": 1,
   "metadata": {},
   "outputs": [
    {
     "name": "stdout",
     "output_type": "stream",
     "text": [
      "Sports in both seasons ['Alpinism', 'Figure Skating', 'Ice Hockey']\n",
      "            Sport                                               Year\n",
      "0        Alpinism                                 [1924, 1936, 1932]\n",
      "1  Figure Skating  [1964, 1968, 2010, 2014, 1998, 1994, 2002, 194...\n",
      "2      Ice Hockey  [2002, 2014, 1924, 1952, 1980, 1984, 1972, 192...\n"
     ]
    }
   ],
   "source": [
    "import pandas as pd\n",
    "\n",
    "df = pd.read_csv(\"../Data/athlete_events.csv\")\n",
    "\n",
    "sports_both_season = df.groupby(\"Sport\")[\"Season\"].nunique().reset_index().query(\"Season == 2\")[\"Sport\"].tolist()\n",
    "\n",
    "print(f\"Sports in both seasons {sports_both_season}\")\n",
    "\n",
    "\n",
    "filtered_df = df[df[\"Sport\"].isin(sports_both_season)]\n",
    "\n",
    "years_in_both = filtered_df.groupby(\"Sport\")[\"Year\"].unique().reset_index()\n",
    "print(years_in_both)\n"
   ]
  },
  {
   "cell_type": "code",
   "execution_count": 2,
   "metadata": {},
   "outputs": [
    {
     "name": "stdout",
     "output_type": "stream",
     "text": [
      "Total medals Hungary won in sports featured in both Olympics: Year  Sport           Medal   Sex  Season\n",
      "1932  Figure Skating  Bronze  F    Winter    1\n",
      "                              M    Winter    1\n",
      "1936  Figure Skating  Bronze  F    Winter    1\n",
      "                              M    Winter    1\n",
      "1948  Figure Skating  Silver  F    Winter    1\n",
      "                              M    Winter    1\n",
      "1952  Figure Skating  Bronze  F    Winter    1\n",
      "                              M    Winter    1\n",
      "1956  Figure Skating  Bronze  F    Winter    1\n",
      "                              M    Winter    1\n",
      "1980  Figure Skating  Silver  F    Winter    1\n",
      "                              M    Winter    1\n",
      "Name: count, dtype: int64\n"
     ]
    }
   ],
   "source": [
    "medals_won_hungary = df[\n",
    "    (df[\"Sport\"].isin(sports_both_season)) & (df[\"NOC\"] == \"HUN\")\n",
    "]\n",
    "\n",
    "total_medals = medals_won_hungary.groupby(\"Year\")[[\"Sport\",\"Medal\",\"Sex\",\"Season\"]].value_counts()\n",
    "\n",
    "print(\"Total medals Hungary won in sports featured in both Olympics:\", total_medals)"
   ]
  },
  {
   "cell_type": "code",
   "execution_count": 3,
   "metadata": {},
   "outputs": [
    {
     "name": "stdout",
     "output_type": "stream",
     "text": [
      "Hungary's best winter sport is Figure Skating with 12 medals.\n"
     ]
    }
   ],
   "source": [
    "# Hungarys best wintersport\n",
    "\n",
    "hungary = df[(df[\"NOC\"] == \"HUN\") & (df[\"Season\"] == \"Winter\")]\n",
    "\n",
    "sport_medal_counts = (hungary.groupby(\"Sport\")[\"Medal\"].count().sort_values(ascending=False))\n",
    "number_of_medals = sport_medal_counts.sum()\n",
    "\n",
    "best_sport = sport_medal_counts.idxmax()\n",
    "print(f\"Hungary's best winter sport is {best_sport} with {number_of_medals} medals.\")"
   ]
  },
  {
   "cell_type": "code",
   "execution_count": 4,
   "metadata": {},
   "outputs": [
    {
     "name": "stdout",
     "output_type": "stream",
     "text": [
      "Hungary's best summer sport is Fencing with 1123 medals.\n"
     ]
    }
   ],
   "source": [
    "# Hungarys best summersport\n",
    "\n",
    "hungary = df[(df[\"NOC\"] == \"HUN\") & (df[\"Season\"] == \"Summer\")]\n",
    "sport_medal_counts = (hungary.groupby(\"Sport\")[\"Medal\"].count().sort_values(ascending=False))\n",
    "number_of_medals = sport_medal_counts.sum()\n",
    "\n",
    "best_sport = sport_medal_counts.idxmax()\n",
    "print(f\"Hungary's best summer sport is {best_sport} with {number_of_medals} medals.\")"
   ]
  },
  {
   "cell_type": "code",
   "execution_count": 26,
   "metadata": {},
   "outputs": [
    {
     "name": "stdout",
     "output_type": "stream",
     "text": [
      "Oldest winner for Hungary: ID                                              74532\n",
      "Name                                  Miltiades Manno\n",
      "Sex                                                 M\n",
      "Age                                              53.0\n",
      "Height                                            NaN\n",
      "Weight                                           76.0\n",
      "Team                                          Hungary\n",
      "NOC                                               HUN\n",
      "Games                                     1932 Summer\n",
      "Year                                             1932\n",
      "Season                                         Summer\n",
      "City                                      Los Angeles\n",
      "Sport                                Art Competitions\n",
      "Event     Art Competitions Mixed Sculpturing, Statues\n",
      "Medal                                          Silver\n",
      "Name: 148575, dtype: object\n",
      "Youngest winner for Hungary: ID                                     78100\n",
      "Name                     Krisztina Medveczky\n",
      "Sex                                        F\n",
      "Age                                     14.0\n",
      "Height                                 160.0\n",
      "Weight                                  49.0\n",
      "Team                                 Hungary\n",
      "NOC                                      HUN\n",
      "Games                            1972 Summer\n",
      "Year                                    1972\n",
      "Season                                Summer\n",
      "City                                  Munich\n",
      "Sport                             Gymnastics\n",
      "Event     Gymnastics Women's Team All-Around\n",
      "Medal                                 Bronze\n",
      "Name: 155559, dtype: object\n"
     ]
    }
   ],
   "source": [
    "# Oldest and youngest medal winner, any medal\n",
    "oldest_winner = hungary[hungary[\"Medal\"].notna()].sort_values(\"Age\", ascending=False).iloc[0]\n",
    "youngest_winner = hungary[hungary[\"Medal\"].notna()].sort_values(\"Age\").iloc[0]\n",
    "\n",
    "print(f\"Oldest winner for Hungary: {oldest_winner}\")\n",
    "print(f\"Youngest winner for Hungary: {youngest_winner}\")\n"
   ]
  },
  {
   "cell_type": "code",
   "execution_count": null,
   "metadata": {},
   "outputs": [
    {
     "name": "stdout",
     "output_type": "stream",
     "text": [
      "Best Year: 1952 with 102 medals\n",
      "Worst Year: 1904 with 4 medals\n"
     ]
    }
   ],
   "source": [
    "# Best and worst year\n",
    "medals_per_year = hungary.dropna(subset=['Medal']).groupby('Year')['Medal'].count()\n",
    "best_year = medals_per_year.idxmax()\n",
    "worst_year = medals_per_year.idxmin()\n",
    "\n",
    "print(f\"Best Year: {best_year} with {medals_per_year.max()} medals\")\n",
    "print(f\"Worst Year: {worst_year} with {medals_per_year.min()} medals\")"
   ]
  },
  {
   "cell_type": "code",
   "execution_count": null,
   "metadata": {},
   "outputs": [
    {
     "name": "stdout",
     "output_type": "stream",
     "text": [
      "Name\n",
      "Alfrd (Arnold-) Hajs (Guttmann-)    2\n",
      "Andrs Baronyi                       2\n",
      "Andrs Bodnr                         2\n",
      "Andrs Han                           2\n",
      "Attila Horvth                       2\n",
      "                                   ..\n",
      "Zoltn Horvth                        2\n",
      "Zoltn Kovcs                         2\n",
      "Zoltn Molnr                         2\n",
      "Zsfia Kovcs                         2\n",
      "Zsolt Nmeth                         3\n",
      "Name: Sport, Length: 84, dtype: int64\n"
     ]
    }
   ],
   "source": [
    "# Atheletes competing in multiple sports\n",
    "multi_athletes = hungary.groupby(\"Name\")[\"Sport\"].nunique()\n",
    "\n",
    "print(multi_athletes[multi_athletes > 1])"
   ]
  }
 ],
 "metadata": {
  "kernelspec": {
   "display_name": ".venv",
   "language": "python",
   "name": "python3"
  },
  "language_info": {
   "codemirror_mode": {
    "name": "ipython",
    "version": 3
   },
   "file_extension": ".py",
   "mimetype": "text/x-python",
   "name": "python",
   "nbconvert_exporter": "python",
   "pygments_lexer": "ipython3",
   "version": "3.12.5"
  }
 },
 "nbformat": 4,
 "nbformat_minor": 2
}
