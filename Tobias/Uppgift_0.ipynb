{
 "cells": [
  {
   "cell_type": "code",
   "execution_count": 14,
   "metadata": {},
   "outputs": [
    {
     "name": "stdout",
     "output_type": "stream",
     "text": [
      "<class 'pandas.core.frame.DataFrame'>\n",
      "RangeIndex: 271116 entries, 0 to 271115\n",
      "Data columns (total 15 columns):\n",
      " #   Column  Non-Null Count   Dtype  \n",
      "---  ------  --------------   -----  \n",
      " 0   ID      271116 non-null  int64  \n",
      " 1   Name    271116 non-null  object \n",
      " 2   Sex     271116 non-null  object \n",
      " 3   Age     261642 non-null  float64\n",
      " 4   Height  210945 non-null  float64\n",
      " 5   Weight  208241 non-null  float64\n",
      " 6   Team    271116 non-null  object \n",
      " 7   NOC     271116 non-null  object \n",
      " 8   Games   271116 non-null  object \n",
      " 9   Year    271116 non-null  int64  \n",
      " 10  Season  271116 non-null  object \n",
      " 11  City    271116 non-null  object \n",
      " 12  Sport   271116 non-null  object \n",
      " 13  Event   271116 non-null  object \n",
      " 14  Medal   39783 non-null   object \n",
      "dtypes: float64(3), int64(2), object(10)\n",
      "memory usage: 31.0+ MB\n"
     ]
    }
   ],
   "source": [
    "import pandas as pd\n",
    "\n",
    "df = pd.read_csv(\"athlete_events.csv\")\n",
    "df.info()\n"
   ]
  },
  {
   "cell_type": "code",
   "execution_count": 16,
   "metadata": {},
   "outputs": [
    {
     "name": "stdout",
     "output_type": "stream",
     "text": [
      "['China' 'Denmark' 'Denmark/Sweden' ... 'Solos Carex' 'Dow Jones' 'Digby']\n",
      "1184\n"
     ]
    }
   ],
   "source": [
    "# a) hur många länder som är med i datan?\n",
    "print(df[\"Team\"].unique())\n",
    "print(df[\"Team\"].nunique())"
   ]
  },
  {
   "cell_type": "code",
   "execution_count": null,
   "metadata": {},
   "outputs": [
    {
     "name": "stdout",
     "output_type": "stream",
     "text": [
      "['CHN' 'DEN' 'NED' 'USA' 'FIN' 'NOR' 'ROU' 'EST' 'FRA' 'MAR' 'ESP' 'EGY'\n",
      " 'IRI' 'BUL' 'ITA' 'CHA' 'AZE' 'SUD' 'RUS' 'ARG' 'CUB' 'BLR' 'GRE' 'CMR'\n",
      " 'TUR' 'CHI' 'MEX' 'URS' 'NCA' 'HUN' 'NGR' 'ALG' 'KUW' 'BRN' 'PAK' 'IRQ'\n",
      " 'UAR' 'LIB' 'QAT' 'MAS' 'GER' 'CAN' 'IRL' 'AUS' 'RSA' 'ERI' 'TAN' 'JOR'\n",
      " 'TUN' 'LBA' 'BEL' 'DJI' 'PLE' 'COM' 'KAZ' 'BRU' 'IND' 'KSA' 'SYR' 'MDV'\n",
      " 'ETH' 'UAE' 'YAR' 'INA' 'PHI' 'SGP' 'UZB' 'KGZ' 'TJK' 'EUN' 'JPN' 'CGO'\n",
      " 'SUI' 'BRA' 'FRG' 'GDR' 'MON' 'ISR' 'URU' 'SWE' 'ISV' 'SRI' 'ARM' 'CIV'\n",
      " 'KEN' 'BEN' 'UKR' 'GBR' 'GHA' 'SOM' 'LAT' 'NIG' 'MLI' 'AFG' 'POL' 'CRC'\n",
      " 'PAN' 'GEO' 'SLO' 'CRO' 'GUY' 'NZL' 'POR' 'PAR' 'ANG' 'VEN' 'COL' 'BAN'\n",
      " 'PER' 'ESA' 'PUR' 'UGA' 'HON' 'ECU' 'TKM' 'MRI' 'SEY' 'TCH' 'LUX' 'MTN'\n",
      " 'CZE' 'SKN' 'TTO' 'DOM' 'VIN' 'JAM' 'LBR' 'SUR' 'NEP' 'MGL' 'AUT' 'PLW'\n",
      " 'LTU' 'TOG' 'NAM' 'AHO' 'ISL' 'ASA' 'SAM' 'RWA' 'DMA' 'HAI' 'MLT' 'CYP'\n",
      " 'GUI' 'BIZ' 'YMD' 'KOR' 'THA' 'BER' 'ANZ' 'SCG' 'SLE' 'PNG' 'YEM' 'IOA'\n",
      " 'OMA' 'FIJ' 'VAN' 'MDA' 'YUG' 'BAH' 'GUA' 'SRB' 'IVB' 'MOZ' 'CAF' 'MAD'\n",
      " 'MAL' 'BIH' 'GUM' 'CAY' 'SVK' 'BAR' 'GBS' 'TLS' 'COD' 'GAB' 'SMR' 'LAO'\n",
      " 'BOT' 'ROT' 'CAM' 'PRK' 'SOL' 'SEN' 'CPV' 'CRT' 'GEQ' 'BOL' 'SAA' 'AND'\n",
      " 'ANT' 'ZIM' 'GRN' 'HKG' 'LCA' 'FSM' 'MYA' 'MAW' 'ZAM' 'RHO' 'TPE' 'STP'\n",
      " 'MKD' 'BOH' 'TGA' 'LIE' 'MNE' 'GAM' 'COK' 'ALB' 'WIF' 'SWZ' 'BUR' 'NBO'\n",
      " 'BDI' 'ARU' 'NRU' 'VNM' 'VIE' 'BHU' 'MHL' 'KIR' 'UNK' 'TUV' 'NFL' 'KOS'\n",
      " 'SSD' 'LES']\n",
      "230\n"
     ]
    }
   ],
   "source": [
    "# b) vilka länder är med? (förkortningarna räcker)\n",
    "print(df[\"NOC\"].unique())\n",
    "print(df[\"NOC\"].nunique())"
   ]
  },
  {
   "cell_type": "code",
   "execution_count": null,
   "metadata": {},
   "outputs": [
    {
     "name": "stdout",
     "output_type": "stream",
     "text": [
      "['Basketball' 'Judo' 'Football' 'Tug-Of-War' 'Speed Skating'\n",
      " 'Cross Country Skiing' 'Athletics' 'Ice Hockey' 'Swimming' 'Badminton'\n",
      " 'Sailing' 'Biathlon' 'Gymnastics' 'Art Competitions' 'Alpine Skiing'\n",
      " 'Handball' 'Weightlifting' 'Wrestling' 'Luge' 'Water Polo' 'Hockey'\n",
      " 'Rowing' 'Bobsleigh' 'Fencing' 'Equestrianism' 'Shooting' 'Boxing'\n",
      " 'Taekwondo' 'Cycling' 'Diving' 'Canoeing' 'Tennis' 'Modern Pentathlon'\n",
      " 'Figure Skating' 'Golf' 'Softball' 'Archery' 'Volleyball'\n",
      " 'Synchronized Swimming' 'Table Tennis' 'Nordic Combined' 'Baseball'\n",
      " 'Rhythmic Gymnastics' 'Freestyle Skiing' 'Rugby Sevens' 'Trampolining'\n",
      " 'Beach Volleyball' 'Triathlon' 'Ski Jumping' 'Curling' 'Snowboarding'\n",
      " 'Rugby' 'Short Track Speed Skating' 'Skeleton' 'Lacrosse' 'Polo'\n",
      " 'Cricket' 'Racquets' 'Motorboating' 'Military Ski Patrol' 'Croquet'\n",
      " 'Jeu De Paume' 'Roque' 'Alpinism' 'Basque Pelota' 'Aeronautics']\n",
      "66\n"
     ]
    }
   ],
   "source": [
    "# c) vilka sporter är med?\n",
    "print(df[\"Sport\"].unique())\n",
    "print(df[\"Sport\"].nunique())"
   ]
  },
  {
   "cell_type": "code",
   "execution_count": 13,
   "metadata": {},
   "outputs": [
    {
     "name": "stdout",
     "output_type": "stream",
     "text": [
      "['Gold' 'Bronze' 'Silver']\n"
     ]
    }
   ],
   "source": [
    "# d) vilka medaljtyper finns det?\n",
    "\n",
    "print(df[\"Medal\"].dropna().unique())\n"
   ]
  },
  {
   "cell_type": "code",
   "execution_count": 9,
   "metadata": {},
   "outputs": [
    {
     "data": {
      "text/plain": [
       "count    261642.000000\n",
       "mean         25.556898\n",
       "std           6.393561\n",
       "min          10.000000\n",
       "25%          21.000000\n",
       "50%          24.000000\n",
       "75%          28.000000\n",
       "max          97.000000\n",
       "Name: Age, dtype: float64"
      ]
     },
     "execution_count": 9,
     "metadata": {},
     "output_type": "execute_result"
    }
   ],
   "source": [
    "# e) ta reda på statistik för åldern: medelvärde, median, min, max, standardavvikelse,\n",
    "df[\"Age\"].describe()"
   ]
  }
 ],
 "metadata": {
  "kernelspec": {
   "display_name": ".venv",
   "language": "python",
   "name": "python3"
  },
  "language_info": {
   "codemirror_mode": {
    "name": "ipython",
    "version": 3
   },
   "file_extension": ".py",
   "mimetype": "text/x-python",
   "name": "python",
   "nbconvert_exporter": "python",
   "pygments_lexer": "ipython3",
   "version": "3.12.5"
  }
 },
 "nbformat": 4,
 "nbformat_minor": 2
}
