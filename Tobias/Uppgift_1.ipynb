{
 "cells": [
  {
   "cell_type": "code",
   "execution_count": null,
   "metadata": {},
   "outputs": [
    {
     "data": {
      "text/plain": [
       "208    3d783a420a34bbe55508bbd5f6eaf42e2a5c8804a13ac6...\n",
       "209    ed7fb6924e1b785bfd0d7d8f53af169ad6488abb1505b7...\n",
       "210    ed7fb6924e1b785bfd0d7d8f53af169ad6488abb1505b7...\n",
       "884    557f18d348e2fb24e10d9cc87fb47162eb705d53ae01fe...\n",
       "885    557f18d348e2fb24e10d9cc87fb47162eb705d53ae01fe...\n",
       "Name: Name, dtype: object"
      ]
     },
     "execution_count": 15,
     "metadata": {},
     "output_type": "execute_result"
    }
   ],
   "source": [
    "# a)\n",
    "import pandas as pd\n",
    "import hashlib as hl\n",
    "# HUN \n",
    "\n",
    "df = pd.read_csv(\"athlete_events.csv\", usecols=[\"Team\", \"Name\"])\n",
    "hungary = df[df[\"Team\"] == \"Hungary\"]\n",
    "\n",
    "Hashes = hungary[\"Name\"].apply(lambda hungary: hl.sha256(hungary.encode()).hexdigest()) \n",
    "\n",
    "Hashes.head()\n",
    "\n"
   ]
  },
  {
   "cell_type": "code",
   "execution_count": null,
   "metadata": {},
   "outputs": [],
   "source": [
    "# b)\n"
   ]
  }
 ],
 "metadata": {
  "kernelspec": {
   "display_name": ".venv",
   "language": "python",
   "name": "python3"
  },
  "language_info": {
   "codemirror_mode": {
    "name": "ipython",
    "version": 3
   },
   "file_extension": ".py",
   "mimetype": "text/x-python",
   "name": "python",
   "nbconvert_exporter": "python",
   "pygments_lexer": "ipython3",
   "version": "3.12.5"
  }
 },
 "nbformat": 4,
 "nbformat_minor": 2
}
