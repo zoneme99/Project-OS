{
 "cells": [
  {
   "cell_type": "code",
   "execution_count": 10,
   "metadata": {},
   "outputs": [
    {
     "name": "stdout",
     "output_type": "stream",
     "text": [
      "<class 'pandas.core.frame.DataFrame'>\n",
      "RangeIndex: 271116 entries, 0 to 271115\n",
      "Data columns (total 15 columns):\n",
      " #   Column  Non-Null Count   Dtype  \n",
      "---  ------  --------------   -----  \n",
      " 0   ID      271116 non-null  int64  \n",
      " 1   Name    271116 non-null  object \n",
      " 2   Sex     271116 non-null  object \n",
      " 3   Age     261642 non-null  float64\n",
      " 4   Height  210945 non-null  float64\n",
      " 5   Weight  208241 non-null  float64\n",
      " 6   Team    271116 non-null  object \n",
      " 7   NOC     271116 non-null  object \n",
      " 8   Games   271116 non-null  object \n",
      " 9   Year    271116 non-null  int64  \n",
      " 10  Season  271116 non-null  object \n",
      " 11  City    271116 non-null  object \n",
      " 12  Sport   271116 non-null  object \n",
      " 13  Event   271116 non-null  object \n",
      " 14  Medal   39783 non-null   object \n",
      "dtypes: float64(3), int64(2), object(10)\n",
      "memory usage: 31.0+ MB\n",
      "   ID                      Name Sex   Age  Height  Weight            Team  \\\n",
      "0   1                 A Dijiang   M  24.0   180.0    80.0           China   \n",
      "1   2                  A Lamusi   M  23.0   170.0    60.0           China   \n",
      "2   3       Gunnar Nielsen Aaby   M  24.0     NaN     NaN         Denmark   \n",
      "3   4      Edgar Lindenau Aabye   M  34.0     NaN     NaN  Denmark/Sweden   \n",
      "4   5  Christine Jacoba Aaftink   F  21.0   185.0    82.0     Netherlands   \n",
      "\n",
      "   NOC        Games  Year  Season       City          Sport  \\\n",
      "0  CHN  1992 Summer  1992  Summer  Barcelona     Basketball   \n",
      "1  CHN  2012 Summer  2012  Summer     London           Judo   \n",
      "2  DEN  1920 Summer  1920  Summer  Antwerpen       Football   \n",
      "3  DEN  1900 Summer  1900  Summer      Paris     Tug-Of-War   \n",
      "4  NED  1988 Winter  1988  Winter    Calgary  Speed Skating   \n",
      "\n",
      "                              Event Medal  \n",
      "0       Basketball Men's Basketball   NaN  \n",
      "1      Judo Men's Extra-Lightweight   NaN  \n",
      "2           Football Men's Football   NaN  \n",
      "3       Tug-Of-War Men's Tug-Of-War  Gold  \n",
      "4  Speed Skating Women's 500 metres   NaN   None                   ID            Age         Height         Weight  \\\n",
      "count  271116.000000  261642.000000  210945.000000  208241.000000   \n",
      "mean    68248.954396      25.556898     175.338970      70.702393   \n",
      "std     39022.286345       6.393561      10.518462      14.348020   \n",
      "min         1.000000      10.000000     127.000000      25.000000   \n",
      "25%     34643.000000      21.000000     168.000000      60.000000   \n",
      "50%     68205.000000      24.000000     175.000000      70.000000   \n",
      "75%    102097.250000      28.000000     183.000000      79.000000   \n",
      "max    135571.000000      97.000000     226.000000     214.000000   \n",
      "\n",
      "                Year  \n",
      "count  271116.000000  \n",
      "mean     1978.378480  \n",
      "std        29.877632  \n",
      "min      1896.000000  \n",
      "25%      1960.000000  \n",
      "50%      1988.000000  \n",
      "75%      2002.000000  \n",
      "max      2016.000000  \n"
     ]
    }
   ],
   "source": [
    "import pandas as pd\n",
    "import plotly_express as px\n",
    "\n",
    "\n",
    "df = pd.read_csv(\"../Tobias/athlete_events.csv\")\n",
    "print(df.head(), df.info(), df.describe())"
   ]
  },
  {
   "cell_type": "code",
   "execution_count": 11,
   "metadata": {},
   "outputs": [
    {
     "name": "stdout",
     "output_type": "stream",
     "text": [
      "['Basketball' 'Judo' 'Football' 'Tug-Of-War' 'Speed Skating'\n",
      " 'Cross Country Skiing' 'Athletics' 'Ice Hockey' 'Swimming' 'Badminton'\n",
      " 'Sailing' 'Biathlon' 'Gymnastics' 'Art Competitions' 'Alpine Skiing'\n",
      " 'Handball' 'Weightlifting' 'Wrestling' 'Luge' 'Water Polo' 'Hockey'\n",
      " 'Rowing' 'Bobsleigh' 'Fencing' 'Equestrianism' 'Shooting' 'Boxing'\n",
      " 'Taekwondo' 'Cycling' 'Diving' 'Canoeing' 'Tennis' 'Modern Pentathlon'\n",
      " 'Figure Skating' 'Golf' 'Softball' 'Archery' 'Volleyball'\n",
      " 'Synchronized Swimming' 'Table Tennis' 'Nordic Combined' 'Baseball'\n",
      " 'Rhythmic Gymnastics' 'Freestyle Skiing' 'Rugby Sevens' 'Trampolining'\n",
      " 'Beach Volleyball' 'Triathlon' 'Ski Jumping' 'Curling' 'Snowboarding'\n",
      " 'Rugby' 'Short Track Speed Skating' 'Skeleton' 'Lacrosse' 'Polo'\n",
      " 'Cricket' 'Racquets' 'Motorboating' 'Military Ski Patrol' 'Croquet'\n",
      " 'Jeu De Paume' 'Roque' 'Alpinism' 'Basque Pelota' 'Aeronautics'] 66\n"
     ]
    }
   ],
   "source": [
    "# Printar ut vilka sporter som finns med i df\n",
    "sports = df[\"Sport\"].unique()\n",
    "number_of_sports = df[\"Sport\"].nunique()\n",
    "print(sports, number_of_sports)\n"
   ]
  },
  {
   "cell_type": "code",
   "execution_count": 12,
   "metadata": {},
   "outputs": [
    {
     "data": {
      "application/vnd.plotly.v1+json": {
       "config": {
        "plotlyServerURL": "https://plot.ly"
       },
       "data": [
        {
         "alignmentgroup": "True",
         "hovertemplate": "NOC=%{x}<br>Medal=%{y}<extra></extra>",
         "legendgroup": "URS",
         "marker": {
          "color": "#636efa",
          "pattern": {
           "shape": ""
          }
         },
         "name": "URS",
         "offsetgroup": "URS",
         "orientation": "v",
         "showlegend": true,
         "textposition": "auto",
         "type": "bar",
         "x": [
          "URS"
         ],
         "xaxis": "x",
         "y": [
          62
         ],
         "yaxis": "y"
        },
        {
         "alignmentgroup": "True",
         "hovertemplate": "NOC=%{x}<br>Medal=%{y}<extra></extra>",
         "legendgroup": "CHN",
         "marker": {
          "color": "#EF553B",
          "pattern": {
           "shape": ""
          }
         },
         "name": "CHN",
         "offsetgroup": "CHN",
         "orientation": "v",
         "showlegend": true,
         "textposition": "auto",
         "type": "bar",
         "x": [
          "CHN"
         ],
         "xaxis": "x",
         "y": [
          57
         ],
         "yaxis": "y"
        },
        {
         "alignmentgroup": "True",
         "hovertemplate": "NOC=%{x}<br>Medal=%{y}<extra></extra>",
         "legendgroup": "USA",
         "marker": {
          "color": "#00cc96",
          "pattern": {
           "shape": ""
          }
         },
         "name": "USA",
         "offsetgroup": "USA",
         "orientation": "v",
         "showlegend": true,
         "textposition": "auto",
         "type": "bar",
         "x": [
          "USA"
         ],
         "xaxis": "x",
         "y": [
          42
         ],
         "yaxis": "y"
        },
        {
         "alignmentgroup": "True",
         "hovertemplate": "NOC=%{x}<br>Medal=%{y}<extra></extra>",
         "legendgroup": "BUL",
         "marker": {
          "color": "#ab63fa",
          "pattern": {
           "shape": ""
          }
         },
         "name": "BUL",
         "offsetgroup": "BUL",
         "orientation": "v",
         "showlegend": true,
         "textposition": "auto",
         "type": "bar",
         "x": [
          "BUL"
         ],
         "xaxis": "x",
         "y": [
          36
         ],
         "yaxis": "y"
        },
        {
         "alignmentgroup": "True",
         "hovertemplate": "NOC=%{x}<br>Medal=%{y}<extra></extra>",
         "legendgroup": "POL",
         "marker": {
          "color": "#FFA15A",
          "pattern": {
           "shape": ""
          }
         },
         "name": "POL",
         "offsetgroup": "POL",
         "orientation": "v",
         "showlegend": true,
         "textposition": "auto",
         "type": "bar",
         "x": [
          "POL"
         ],
         "xaxis": "x",
         "y": [
          32
         ],
         "yaxis": "y"
        },
        {
         "alignmentgroup": "True",
         "hovertemplate": "NOC=%{x}<br>Medal=%{y}<extra></extra>",
         "legendgroup": "RUS",
         "marker": {
          "color": "#19d3f3",
          "pattern": {
           "shape": ""
          }
         },
         "name": "RUS",
         "offsetgroup": "RUS",
         "orientation": "v",
         "showlegend": true,
         "textposition": "auto",
         "type": "bar",
         "x": [
          "RUS"
         ],
         "xaxis": "x",
         "y": [
          26
         ],
         "yaxis": "y"
        },
        {
         "alignmentgroup": "True",
         "hovertemplate": "NOC=%{x}<br>Medal=%{y}<extra></extra>",
         "legendgroup": "GER",
         "marker": {
          "color": "#FF6692",
          "pattern": {
           "shape": ""
          }
         },
         "name": "GER",
         "offsetgroup": "GER",
         "orientation": "v",
         "showlegend": true,
         "textposition": "auto",
         "type": "bar",
         "x": [
          "GER"
         ],
         "xaxis": "x",
         "y": [
          25
         ],
         "yaxis": "y"
        },
        {
         "alignmentgroup": "True",
         "hovertemplate": "NOC=%{x}<br>Medal=%{y}<extra></extra>",
         "legendgroup": "HUN",
         "marker": {
          "color": "#B6E880",
          "pattern": {
           "shape": ""
          }
         },
         "name": "HUN",
         "offsetgroup": "HUN",
         "orientation": "v",
         "showlegend": true,
         "textposition": "auto",
         "type": "bar",
         "x": [
          "HUN"
         ],
         "xaxis": "x",
         "y": [
          20
         ],
         "yaxis": "y"
        },
        {
         "alignmentgroup": "True",
         "hovertemplate": "NOC=%{x}<br>Medal=%{y}<extra></extra>",
         "legendgroup": "IRI",
         "marker": {
          "color": "#FF97FF",
          "pattern": {
           "shape": ""
          }
         },
         "name": "IRI",
         "offsetgroup": "IRI",
         "orientation": "v",
         "showlegend": true,
         "textposition": "auto",
         "type": "bar",
         "x": [
          "IRI"
         ],
         "xaxis": "x",
         "y": [
          18
         ],
         "yaxis": "y"
        },
        {
         "alignmentgroup": "True",
         "hovertemplate": "NOC=%{x}<br>Medal=%{y}<extra></extra>",
         "legendgroup": "PRK",
         "marker": {
          "color": "#FECB52",
          "pattern": {
           "shape": ""
          }
         },
         "name": "PRK",
         "offsetgroup": "PRK",
         "orientation": "v",
         "showlegend": true,
         "textposition": "auto",
         "type": "bar",
         "x": [
          "PRK"
         ],
         "xaxis": "x",
         "y": [
          17
         ],
         "yaxis": "y"
        },
        {
         "alignmentgroup": "True",
         "hovertemplate": "NOC=%{x}<br>Medal=%{y}<extra></extra>",
         "legendgroup": "KAZ",
         "marker": {
          "color": "#636efa",
          "pattern": {
           "shape": ""
          }
         },
         "name": "KAZ",
         "offsetgroup": "KAZ",
         "orientation": "v",
         "showlegend": true,
         "textposition": "auto",
         "type": "bar",
         "x": [
          "KAZ"
         ],
         "xaxis": "x",
         "y": [
          16
         ],
         "yaxis": "y"
        },
        {
         "alignmentgroup": "True",
         "hovertemplate": "NOC=%{x}<br>Medal=%{y}<extra></extra>",
         "legendgroup": "FRA",
         "marker": {
          "color": "#EF553B",
          "pattern": {
           "shape": ""
          }
         },
         "name": "FRA",
         "offsetgroup": "FRA",
         "orientation": "v",
         "showlegend": true,
         "textposition": "auto",
         "type": "bar",
         "x": [
          "FRA"
         ],
         "xaxis": "x",
         "y": [
          16
         ],
         "yaxis": "y"
        },
        {
         "alignmentgroup": "True",
         "hovertemplate": "NOC=%{x}<br>Medal=%{y}<extra></extra>",
         "legendgroup": "GRE",
         "marker": {
          "color": "#00cc96",
          "pattern": {
           "shape": ""
          }
         },
         "name": "GRE",
         "offsetgroup": "GRE",
         "orientation": "v",
         "showlegend": true,
         "textposition": "auto",
         "type": "bar",
         "x": [
          "GRE"
         ],
         "xaxis": "x",
         "y": [
          16
         ],
         "yaxis": "y"
        },
        {
         "alignmentgroup": "True",
         "hovertemplate": "NOC=%{x}<br>Medal=%{y}<extra></extra>",
         "legendgroup": "ITA",
         "marker": {
          "color": "#ab63fa",
          "pattern": {
           "shape": ""
          }
         },
         "name": "ITA",
         "offsetgroup": "ITA",
         "orientation": "v",
         "showlegend": true,
         "textposition": "auto",
         "type": "bar",
         "x": [
          "ITA"
         ],
         "xaxis": "x",
         "y": [
          15
         ],
         "yaxis": "y"
        },
        {
         "alignmentgroup": "True",
         "hovertemplate": "NOC=%{x}<br>Medal=%{y}<extra></extra>",
         "legendgroup": "JPN",
         "marker": {
          "color": "#FFA15A",
          "pattern": {
           "shape": ""
          }
         },
         "name": "JPN",
         "offsetgroup": "JPN",
         "orientation": "v",
         "showlegend": true,
         "textposition": "auto",
         "type": "bar",
         "x": [
          "JPN"
         ],
         "xaxis": "x",
         "y": [
          14
         ],
         "yaxis": "y"
        },
        {
         "alignmentgroup": "True",
         "hovertemplate": "NOC=%{x}<br>Medal=%{y}<extra></extra>",
         "legendgroup": "ROU",
         "marker": {
          "color": "#19d3f3",
          "pattern": {
           "shape": ""
          }
         },
         "name": "ROU",
         "offsetgroup": "ROU",
         "orientation": "v",
         "showlegend": true,
         "textposition": "auto",
         "type": "bar",
         "x": [
          "ROU"
         ],
         "xaxis": "x",
         "y": [
          13
         ],
         "yaxis": "y"
        },
        {
         "alignmentgroup": "True",
         "hovertemplate": "NOC=%{x}<br>Medal=%{y}<extra></extra>",
         "legendgroup": "BLR",
         "marker": {
          "color": "#FF6692",
          "pattern": {
           "shape": ""
          }
         },
         "name": "BLR",
         "offsetgroup": "BLR",
         "orientation": "v",
         "showlegend": true,
         "textposition": "auto",
         "type": "bar",
         "x": [
          "BLR"
         ],
         "xaxis": "x",
         "y": [
          12
         ],
         "yaxis": "y"
        },
        {
         "alignmentgroup": "True",
         "hovertemplate": "NOC=%{x}<br>Medal=%{y}<extra></extra>",
         "legendgroup": "KOR",
         "marker": {
          "color": "#B6E880",
          "pattern": {
           "shape": ""
          }
         },
         "name": "KOR",
         "offsetgroup": "KOR",
         "orientation": "v",
         "showlegend": true,
         "textposition": "auto",
         "type": "bar",
         "x": [
          "KOR"
         ],
         "xaxis": "x",
         "y": [
          12
         ],
         "yaxis": "y"
        },
        {
         "alignmentgroup": "True",
         "hovertemplate": "NOC=%{x}<br>Medal=%{y}<extra></extra>",
         "legendgroup": "TUR",
         "marker": {
          "color": "#FF97FF",
          "pattern": {
           "shape": ""
          }
         },
         "name": "TUR",
         "offsetgroup": "TUR",
         "orientation": "v",
         "showlegend": true,
         "textposition": "auto",
         "type": "bar",
         "x": [
          "TUR"
         ],
         "xaxis": "x",
         "y": [
          12
         ],
         "yaxis": "y"
        },
        {
         "alignmentgroup": "True",
         "hovertemplate": "NOC=%{x}<br>Medal=%{y}<extra></extra>",
         "legendgroup": "GDR",
         "marker": {
          "color": "#FECB52",
          "pattern": {
           "shape": ""
          }
         },
         "name": "GDR",
         "offsetgroup": "GDR",
         "orientation": "v",
         "showlegend": true,
         "textposition": "auto",
         "type": "bar",
         "x": [
          "GDR"
         ],
         "xaxis": "x",
         "y": [
          11
         ],
         "yaxis": "y"
        },
        {
         "alignmentgroup": "True",
         "hovertemplate": "NOC=%{x}<br>Medal=%{y}<extra></extra>",
         "legendgroup": "EGY",
         "marker": {
          "color": "#636efa",
          "pattern": {
           "shape": ""
          }
         },
         "name": "EGY",
         "offsetgroup": "EGY",
         "orientation": "v",
         "showlegend": true,
         "textposition": "auto",
         "type": "bar",
         "x": [
          "EGY"
         ],
         "xaxis": "x",
         "y": [
          11
         ],
         "yaxis": "y"
        },
        {
         "alignmentgroup": "True",
         "hovertemplate": "NOC=%{x}<br>Medal=%{y}<extra></extra>",
         "legendgroup": "THA",
         "marker": {
          "color": "#EF553B",
          "pattern": {
           "shape": ""
          }
         },
         "name": "THA",
         "offsetgroup": "THA",
         "orientation": "v",
         "showlegend": true,
         "textposition": "auto",
         "type": "bar",
         "x": [
          "THA"
         ],
         "xaxis": "x",
         "y": [
          11
         ],
         "yaxis": "y"
        },
        {
         "alignmentgroup": "True",
         "hovertemplate": "NOC=%{x}<br>Medal=%{y}<extra></extra>",
         "legendgroup": "AUT",
         "marker": {
          "color": "#00cc96",
          "pattern": {
           "shape": ""
          }
         },
         "name": "AUT",
         "offsetgroup": "AUT",
         "orientation": "v",
         "showlegend": true,
         "textposition": "auto",
         "type": "bar",
         "x": [
          "AUT"
         ],
         "xaxis": "x",
         "y": [
          11
         ],
         "yaxis": "y"
        },
        {
         "alignmentgroup": "True",
         "hovertemplate": "NOC=%{x}<br>Medal=%{y}<extra></extra>",
         "legendgroup": "INA",
         "marker": {
          "color": "#ab63fa",
          "pattern": {
           "shape": ""
          }
         },
         "name": "INA",
         "offsetgroup": "INA",
         "orientation": "v",
         "showlegend": true,
         "textposition": "auto",
         "type": "bar",
         "x": [
          "INA"
         ],
         "xaxis": "x",
         "y": [
          10
         ],
         "yaxis": "y"
        },
        {
         "alignmentgroup": "True",
         "hovertemplate": "NOC=%{x}<br>Medal=%{y}<extra></extra>",
         "legendgroup": "EUN",
         "marker": {
          "color": "#FFA15A",
          "pattern": {
           "shape": ""
          }
         },
         "name": "EUN",
         "offsetgroup": "EUN",
         "orientation": "v",
         "showlegend": true,
         "textposition": "auto",
         "type": "bar",
         "x": [
          "EUN"
         ],
         "xaxis": "x",
         "y": [
          9
         ],
         "yaxis": "y"
        },
        {
         "alignmentgroup": "True",
         "hovertemplate": "NOC=%{x}<br>Medal=%{y}<extra></extra>",
         "legendgroup": "TPE",
         "marker": {
          "color": "#19d3f3",
          "pattern": {
           "shape": ""
          }
         },
         "name": "TPE",
         "offsetgroup": "TPE",
         "orientation": "v",
         "showlegend": true,
         "textposition": "auto",
         "type": "bar",
         "x": [
          "TPE"
         ],
         "xaxis": "x",
         "y": [
          8
         ],
         "yaxis": "y"
        },
        {
         "alignmentgroup": "True",
         "hovertemplate": "NOC=%{x}<br>Medal=%{y}<extra></extra>",
         "legendgroup": "UKR",
         "marker": {
          "color": "#FF6692",
          "pattern": {
           "shape": ""
          }
         },
         "name": "UKR",
         "offsetgroup": "UKR",
         "orientation": "v",
         "showlegend": true,
         "textposition": "auto",
         "type": "bar",
         "x": [
          "UKR"
         ],
         "xaxis": "x",
         "y": [
          8
         ],
         "yaxis": "y"
        },
        {
         "alignmentgroup": "True",
         "hovertemplate": "NOC=%{x}<br>Medal=%{y}<extra></extra>",
         "legendgroup": "TCH",
         "marker": {
          "color": "#B6E880",
          "pattern": {
           "shape": ""
          }
         },
         "name": "TCH",
         "offsetgroup": "TCH",
         "orientation": "v",
         "showlegend": true,
         "textposition": "auto",
         "type": "bar",
         "x": [
          "TCH"
         ],
         "xaxis": "x",
         "y": [
          8
         ],
         "yaxis": "y"
        },
        {
         "alignmentgroup": "True",
         "hovertemplate": "NOC=%{x}<br>Medal=%{y}<extra></extra>",
         "legendgroup": "FRG",
         "marker": {
          "color": "#FF97FF",
          "pattern": {
           "shape": ""
          }
         },
         "name": "FRG",
         "offsetgroup": "FRG",
         "orientation": "v",
         "showlegend": true,
         "textposition": "auto",
         "type": "bar",
         "x": [
          "FRG"
         ],
         "xaxis": "x",
         "y": [
          7
         ],
         "yaxis": "y"
        },
        {
         "alignmentgroup": "True",
         "hovertemplate": "NOC=%{x}<br>Medal=%{y}<extra></extra>",
         "legendgroup": "GBR",
         "marker": {
          "color": "#FECB52",
          "pattern": {
           "shape": ""
          }
         },
         "name": "GBR",
         "offsetgroup": "GBR",
         "orientation": "v",
         "showlegend": true,
         "textposition": "auto",
         "type": "bar",
         "x": [
          "GBR"
         ],
         "xaxis": "x",
         "y": [
          7
         ],
         "yaxis": "y"
        },
        {
         "alignmentgroup": "True",
         "hovertemplate": "NOC=%{x}<br>Medal=%{y}<extra></extra>",
         "legendgroup": "EST",
         "marker": {
          "color": "#636efa",
          "pattern": {
           "shape": ""
          }
         },
         "name": "EST",
         "offsetgroup": "EST",
         "orientation": "v",
         "showlegend": true,
         "textposition": "auto",
         "type": "bar",
         "x": [
          "EST"
         ],
         "xaxis": "x",
         "y": [
          7
         ],
         "yaxis": "y"
        },
        {
         "alignmentgroup": "True",
         "hovertemplate": "NOC=%{x}<br>Medal=%{y}<extra></extra>",
         "legendgroup": "ARM",
         "marker": {
          "color": "#EF553B",
          "pattern": {
           "shape": ""
          }
         },
         "name": "ARM",
         "offsetgroup": "ARM",
         "orientation": "v",
         "showlegend": true,
         "textposition": "auto",
         "type": "bar",
         "x": [
          "ARM"
         ],
         "xaxis": "x",
         "y": [
          7
         ],
         "yaxis": "y"
        },
        {
         "alignmentgroup": "True",
         "hovertemplate": "NOC=%{x}<br>Medal=%{y}<extra></extra>",
         "legendgroup": "COL",
         "marker": {
          "color": "#00cc96",
          "pattern": {
           "shape": ""
          }
         },
         "name": "COL",
         "offsetgroup": "COL",
         "orientation": "v",
         "showlegend": true,
         "textposition": "auto",
         "type": "bar",
         "x": [
          "COL"
         ],
         "xaxis": "x",
         "y": [
          6
         ],
         "yaxis": "y"
        },
        {
         "alignmentgroup": "True",
         "hovertemplate": "NOC=%{x}<br>Medal=%{y}<extra></extra>",
         "legendgroup": "CUB",
         "marker": {
          "color": "#ab63fa",
          "pattern": {
           "shape": ""
          }
         },
         "name": "CUB",
         "offsetgroup": "CUB",
         "orientation": "v",
         "showlegend": true,
         "textposition": "auto",
         "type": "bar",
         "x": [
          "CUB"
         ],
         "xaxis": "x",
         "y": [
          5
         ],
         "yaxis": "y"
        },
        {
         "alignmentgroup": "True",
         "hovertemplate": "NOC=%{x}<br>Medal=%{y}<extra></extra>",
         "legendgroup": "AUS",
         "marker": {
          "color": "#FFA15A",
          "pattern": {
           "shape": ""
          }
         },
         "name": "AUS",
         "offsetgroup": "AUS",
         "orientation": "v",
         "showlegend": true,
         "textposition": "auto",
         "type": "bar",
         "x": [
          "AUS"
         ],
         "xaxis": "x",
         "y": [
          4
         ],
         "yaxis": "y"
        },
        {
         "alignmentgroup": "True",
         "hovertemplate": "NOC=%{x}<br>Medal=%{y}<extra></extra>",
         "legendgroup": "GEO",
         "marker": {
          "color": "#19d3f3",
          "pattern": {
           "shape": ""
          }
         },
         "name": "GEO",
         "offsetgroup": "GEO",
         "orientation": "v",
         "showlegend": true,
         "textposition": "auto",
         "type": "bar",
         "x": [
          "GEO"
         ],
         "xaxis": "x",
         "y": [
          4
         ],
         "yaxis": "y"
        },
        {
         "alignmentgroup": "True",
         "hovertemplate": "NOC=%{x}<br>Medal=%{y}<extra></extra>",
         "legendgroup": "SUI",
         "marker": {
          "color": "#FF6692",
          "pattern": {
           "shape": ""
          }
         },
         "name": "SUI",
         "offsetgroup": "SUI",
         "orientation": "v",
         "showlegend": true,
         "textposition": "auto",
         "type": "bar",
         "x": [
          "SUI"
         ],
         "xaxis": "x",
         "y": [
          4
         ],
         "yaxis": "y"
        },
        {
         "alignmentgroup": "True",
         "hovertemplate": "NOC=%{x}<br>Medal=%{y}<extra></extra>",
         "legendgroup": "BEL",
         "marker": {
          "color": "#B6E880",
          "pattern": {
           "shape": ""
          }
         },
         "name": "BEL",
         "offsetgroup": "BEL",
         "orientation": "v",
         "showlegend": true,
         "textposition": "auto",
         "type": "bar",
         "x": [
          "BEL"
         ],
         "xaxis": "x",
         "y": [
          4
         ],
         "yaxis": "y"
        },
        {
         "alignmentgroup": "True",
         "hovertemplate": "NOC=%{x}<br>Medal=%{y}<extra></extra>",
         "legendgroup": "SWE",
         "marker": {
          "color": "#FF97FF",
          "pattern": {
           "shape": ""
          }
         },
         "name": "SWE",
         "offsetgroup": "SWE",
         "orientation": "v",
         "showlegend": true,
         "textposition": "auto",
         "type": "bar",
         "x": [
          "SWE"
         ],
         "xaxis": "x",
         "y": [
          4
         ],
         "yaxis": "y"
        },
        {
         "alignmentgroup": "True",
         "hovertemplate": "NOC=%{x}<br>Medal=%{y}<extra></extra>",
         "legendgroup": "NED",
         "marker": {
          "color": "#FECB52",
          "pattern": {
           "shape": ""
          }
         },
         "name": "NED",
         "offsetgroup": "NED",
         "orientation": "v",
         "showlegend": true,
         "textposition": "auto",
         "type": "bar",
         "x": [
          "NED"
         ],
         "xaxis": "x",
         "y": [
          3
         ],
         "yaxis": "y"
        },
        {
         "alignmentgroup": "True",
         "hovertemplate": "NOC=%{x}<br>Medal=%{y}<extra></extra>",
         "legendgroup": "DEN",
         "marker": {
          "color": "#636efa",
          "pattern": {
           "shape": ""
          }
         },
         "name": "DEN",
         "offsetgroup": "DEN",
         "orientation": "v",
         "showlegend": true,
         "textposition": "auto",
         "type": "bar",
         "x": [
          "DEN"
         ],
         "xaxis": "x",
         "y": [
          3
         ],
         "yaxis": "y"
        },
        {
         "alignmentgroup": "True",
         "hovertemplate": "NOC=%{x}<br>Medal=%{y}<extra></extra>",
         "legendgroup": "TTO",
         "marker": {
          "color": "#EF553B",
          "pattern": {
           "shape": ""
          }
         },
         "name": "TTO",
         "offsetgroup": "TTO",
         "orientation": "v",
         "showlegend": true,
         "textposition": "auto",
         "type": "bar",
         "x": [
          "TTO"
         ],
         "xaxis": "x",
         "y": [
          3
         ],
         "yaxis": "y"
        },
        {
         "alignmentgroup": "True",
         "hovertemplate": "NOC=%{x}<br>Medal=%{y}<extra></extra>",
         "legendgroup": "FIN",
         "marker": {
          "color": "#00cc96",
          "pattern": {
           "shape": ""
          }
         },
         "name": "FIN",
         "offsetgroup": "FIN",
         "orientation": "v",
         "showlegend": true,
         "textposition": "auto",
         "type": "bar",
         "x": [
          "FIN"
         ],
         "xaxis": "x",
         "y": [
          3
         ],
         "yaxis": "y"
        },
        {
         "alignmentgroup": "True",
         "hovertemplate": "NOC=%{x}<br>Medal=%{y}<extra></extra>",
         "legendgroup": "CAN",
         "marker": {
          "color": "#ab63fa",
          "pattern": {
           "shape": ""
          }
         },
         "name": "CAN",
         "offsetgroup": "CAN",
         "orientation": "v",
         "showlegend": true,
         "textposition": "auto",
         "type": "bar",
         "x": [
          "CAN"
         ],
         "xaxis": "x",
         "y": [
          3
         ],
         "yaxis": "y"
        },
        {
         "alignmentgroup": "True",
         "hovertemplate": "NOC=%{x}<br>Medal=%{y}<extra></extra>",
         "legendgroup": "CRO",
         "marker": {
          "color": "#FFA15A",
          "pattern": {
           "shape": ""
          }
         },
         "name": "CRO",
         "offsetgroup": "CRO",
         "orientation": "v",
         "showlegend": true,
         "textposition": "auto",
         "type": "bar",
         "x": [
          "CRO"
         ],
         "xaxis": "x",
         "y": [
          2
         ],
         "yaxis": "y"
        },
        {
         "alignmentgroup": "True",
         "hovertemplate": "NOC=%{x}<br>Medal=%{y}<extra></extra>",
         "legendgroup": "ARG",
         "marker": {
          "color": "#19d3f3",
          "pattern": {
           "shape": ""
          }
         },
         "name": "ARG",
         "offsetgroup": "ARG",
         "orientation": "v",
         "showlegend": true,
         "textposition": "auto",
         "type": "bar",
         "x": [
          "ARG"
         ],
         "xaxis": "x",
         "y": [
          2
         ],
         "yaxis": "y"
        },
        {
         "alignmentgroup": "True",
         "hovertemplate": "NOC=%{x}<br>Medal=%{y}<extra></extra>",
         "legendgroup": "LAT",
         "marker": {
          "color": "#FF6692",
          "pattern": {
           "shape": ""
          }
         },
         "name": "LAT",
         "offsetgroup": "LAT",
         "orientation": "v",
         "showlegend": true,
         "textposition": "auto",
         "type": "bar",
         "x": [
          "LAT"
         ],
         "xaxis": "x",
         "y": [
          2
         ],
         "yaxis": "y"
        },
        {
         "alignmentgroup": "True",
         "hovertemplate": "NOC=%{x}<br>Medal=%{y}<extra></extra>",
         "legendgroup": "MDA",
         "marker": {
          "color": "#B6E880",
          "pattern": {
           "shape": ""
          }
         },
         "name": "MDA",
         "offsetgroup": "MDA",
         "orientation": "v",
         "showlegend": true,
         "textposition": "auto",
         "type": "bar",
         "x": [
          "MDA"
         ],
         "xaxis": "x",
         "y": [
          2
         ],
         "yaxis": "y"
        },
        {
         "alignmentgroup": "True",
         "hovertemplate": "NOC=%{x}<br>Medal=%{y}<extra></extra>",
         "legendgroup": "IRQ",
         "marker": {
          "color": "#FF97FF",
          "pattern": {
           "shape": ""
          }
         },
         "name": "IRQ",
         "offsetgroup": "IRQ",
         "orientation": "v",
         "showlegend": true,
         "textposition": "auto",
         "type": "bar",
         "x": [
          "IRQ"
         ],
         "xaxis": "x",
         "y": [
          1
         ],
         "yaxis": "y"
        },
        {
         "alignmentgroup": "True",
         "hovertemplate": "NOC=%{x}<br>Medal=%{y}<extra></extra>",
         "legendgroup": "IND",
         "marker": {
          "color": "#FECB52",
          "pattern": {
           "shape": ""
          }
         },
         "name": "IND",
         "offsetgroup": "IND",
         "orientation": "v",
         "showlegend": true,
         "textposition": "auto",
         "type": "bar",
         "x": [
          "IND"
         ],
         "xaxis": "x",
         "y": [
          1
         ],
         "yaxis": "y"
        },
        {
         "alignmentgroup": "True",
         "hovertemplate": "NOC=%{x}<br>Medal=%{y}<extra></extra>",
         "legendgroup": "AZE",
         "marker": {
          "color": "#636efa",
          "pattern": {
           "shape": ""
          }
         },
         "name": "AZE",
         "offsetgroup": "AZE",
         "orientation": "v",
         "showlegend": true,
         "textposition": "auto",
         "type": "bar",
         "x": [
          "AZE"
         ],
         "xaxis": "x",
         "y": [
          1
         ],
         "yaxis": "y"
        },
        {
         "alignmentgroup": "True",
         "hovertemplate": "NOC=%{x}<br>Medal=%{y}<extra></extra>",
         "legendgroup": "ESP",
         "marker": {
          "color": "#EF553B",
          "pattern": {
           "shape": ""
          }
         },
         "name": "ESP",
         "offsetgroup": "ESP",
         "orientation": "v",
         "showlegend": true,
         "textposition": "auto",
         "type": "bar",
         "x": [
          "ESP"
         ],
         "xaxis": "x",
         "y": [
          1
         ],
         "yaxis": "y"
        },
        {
         "alignmentgroup": "True",
         "hovertemplate": "NOC=%{x}<br>Medal=%{y}<extra></extra>",
         "legendgroup": "MEX",
         "marker": {
          "color": "#00cc96",
          "pattern": {
           "shape": ""
          }
         },
         "name": "MEX",
         "offsetgroup": "MEX",
         "orientation": "v",
         "showlegend": true,
         "textposition": "auto",
         "type": "bar",
         "x": [
          "MEX"
         ],
         "xaxis": "x",
         "y": [
          1
         ],
         "yaxis": "y"
        },
        {
         "alignmentgroup": "True",
         "hovertemplate": "NOC=%{x}<br>Medal=%{y}<extra></extra>",
         "legendgroup": "LIB",
         "marker": {
          "color": "#ab63fa",
          "pattern": {
           "shape": ""
          }
         },
         "name": "LIB",
         "offsetgroup": "LIB",
         "orientation": "v",
         "showlegend": true,
         "textposition": "auto",
         "type": "bar",
         "x": [
          "LIB"
         ],
         "xaxis": "x",
         "y": [
          1
         ],
         "yaxis": "y"
        },
        {
         "alignmentgroup": "True",
         "hovertemplate": "NOC=%{x}<br>Medal=%{y}<extra></extra>",
         "legendgroup": "LTU",
         "marker": {
          "color": "#FFA15A",
          "pattern": {
           "shape": ""
          }
         },
         "name": "LTU",
         "offsetgroup": "LTU",
         "orientation": "v",
         "showlegend": true,
         "textposition": "auto",
         "type": "bar",
         "x": [
          "LTU"
         ],
         "xaxis": "x",
         "y": [
          1
         ],
         "yaxis": "y"
        },
        {
         "alignmentgroup": "True",
         "hovertemplate": "NOC=%{x}<br>Medal=%{y}<extra></extra>",
         "legendgroup": "LUX",
         "marker": {
          "color": "#19d3f3",
          "pattern": {
           "shape": ""
          }
         },
         "name": "LUX",
         "offsetgroup": "LUX",
         "orientation": "v",
         "showlegend": true,
         "textposition": "auto",
         "type": "bar",
         "x": [
          "LUX"
         ],
         "xaxis": "x",
         "y": [
          1
         ],
         "yaxis": "y"
        },
        {
         "alignmentgroup": "True",
         "hovertemplate": "NOC=%{x}<br>Medal=%{y}<extra></extra>",
         "legendgroup": "QAT",
         "marker": {
          "color": "#FF6692",
          "pattern": {
           "shape": ""
          }
         },
         "name": "QAT",
         "offsetgroup": "QAT",
         "orientation": "v",
         "showlegend": true,
         "textposition": "auto",
         "type": "bar",
         "x": [
          "QAT"
         ],
         "xaxis": "x",
         "y": [
          1
         ],
         "yaxis": "y"
        },
        {
         "alignmentgroup": "True",
         "hovertemplate": "NOC=%{x}<br>Medal=%{y}<extra></extra>",
         "legendgroup": "PHI",
         "marker": {
          "color": "#B6E880",
          "pattern": {
           "shape": ""
          }
         },
         "name": "PHI",
         "offsetgroup": "PHI",
         "orientation": "v",
         "showlegend": true,
         "textposition": "auto",
         "type": "bar",
         "x": [
          "PHI"
         ],
         "xaxis": "x",
         "y": [
          1
         ],
         "yaxis": "y"
        },
        {
         "alignmentgroup": "True",
         "hovertemplate": "NOC=%{x}<br>Medal=%{y}<extra></extra>",
         "legendgroup": "NGR",
         "marker": {
          "color": "#FF97FF",
          "pattern": {
           "shape": ""
          }
         },
         "name": "NGR",
         "offsetgroup": "NGR",
         "orientation": "v",
         "showlegend": true,
         "textposition": "auto",
         "type": "bar",
         "x": [
          "NGR"
         ],
         "xaxis": "x",
         "y": [
          1
         ],
         "yaxis": "y"
        },
        {
         "alignmentgroup": "True",
         "hovertemplate": "NOC=%{x}<br>Medal=%{y}<extra></extra>",
         "legendgroup": "NOR",
         "marker": {
          "color": "#FECB52",
          "pattern": {
           "shape": ""
          }
         },
         "name": "NOR",
         "offsetgroup": "NOR",
         "orientation": "v",
         "showlegend": true,
         "textposition": "auto",
         "type": "bar",
         "x": [
          "NOR"
         ],
         "xaxis": "x",
         "y": [
          1
         ],
         "yaxis": "y"
        },
        {
         "alignmentgroup": "True",
         "hovertemplate": "NOC=%{x}<br>Medal=%{y}<extra></extra>",
         "legendgroup": "SGP",
         "marker": {
          "color": "#636efa",
          "pattern": {
           "shape": ""
          }
         },
         "name": "SGP",
         "offsetgroup": "SGP",
         "orientation": "v",
         "showlegend": true,
         "textposition": "auto",
         "type": "bar",
         "x": [
          "SGP"
         ],
         "xaxis": "x",
         "y": [
          1
         ],
         "yaxis": "y"
        },
        {
         "alignmentgroup": "True",
         "hovertemplate": "NOC=%{x}<br>Medal=%{y}<extra></extra>",
         "legendgroup": "UZB",
         "marker": {
          "color": "#EF553B",
          "pattern": {
           "shape": ""
          }
         },
         "name": "UZB",
         "offsetgroup": "UZB",
         "orientation": "v",
         "showlegend": true,
         "textposition": "auto",
         "type": "bar",
         "x": [
          "UZB"
         ],
         "xaxis": "x",
         "y": [
          1
         ],
         "yaxis": "y"
        },
        {
         "alignmentgroup": "True",
         "hovertemplate": "NOC=%{x}<br>Medal=%{y}<extra></extra>",
         "legendgroup": "VEN",
         "marker": {
          "color": "#00cc96",
          "pattern": {
           "shape": ""
          }
         },
         "name": "VEN",
         "offsetgroup": "VEN",
         "orientation": "v",
         "showlegend": true,
         "textposition": "auto",
         "type": "bar",
         "x": [
          "VEN"
         ],
         "xaxis": "x",
         "y": [
          1
         ],
         "yaxis": "y"
        },
        {
         "alignmentgroup": "True",
         "hovertemplate": "NOC=%{x}<br>Medal=%{y}<extra></extra>",
         "legendgroup": "VIE",
         "marker": {
          "color": "#ab63fa",
          "pattern": {
           "shape": ""
          }
         },
         "name": "VIE",
         "offsetgroup": "VIE",
         "orientation": "v",
         "showlegend": true,
         "textposition": "auto",
         "type": "bar",
         "x": [
          "VIE"
         ],
         "xaxis": "x",
         "y": [
          1
         ],
         "yaxis": "y"
        }
       ],
       "layout": {
        "barmode": "relative",
        "legend": {
         "title": {
          "text": "NOC"
         },
         "tracegroupgap": 0
        },
        "template": {
         "data": {
          "bar": [
           {
            "error_x": {
             "color": "#2a3f5f"
            },
            "error_y": {
             "color": "#2a3f5f"
            },
            "marker": {
             "line": {
              "color": "#E5ECF6",
              "width": 0.5
             },
             "pattern": {
              "fillmode": "overlay",
              "size": 10,
              "solidity": 0.2
             }
            },
            "type": "bar"
           }
          ],
          "barpolar": [
           {
            "marker": {
             "line": {
              "color": "#E5ECF6",
              "width": 0.5
             },
             "pattern": {
              "fillmode": "overlay",
              "size": 10,
              "solidity": 0.2
             }
            },
            "type": "barpolar"
           }
          ],
          "carpet": [
           {
            "aaxis": {
             "endlinecolor": "#2a3f5f",
             "gridcolor": "white",
             "linecolor": "white",
             "minorgridcolor": "white",
             "startlinecolor": "#2a3f5f"
            },
            "baxis": {
             "endlinecolor": "#2a3f5f",
             "gridcolor": "white",
             "linecolor": "white",
             "minorgridcolor": "white",
             "startlinecolor": "#2a3f5f"
            },
            "type": "carpet"
           }
          ],
          "choropleth": [
           {
            "colorbar": {
             "outlinewidth": 0,
             "ticks": ""
            },
            "type": "choropleth"
           }
          ],
          "contour": [
           {
            "colorbar": {
             "outlinewidth": 0,
             "ticks": ""
            },
            "colorscale": [
             [
              0,
              "#0d0887"
             ],
             [
              0.1111111111111111,
              "#46039f"
             ],
             [
              0.2222222222222222,
              "#7201a8"
             ],
             [
              0.3333333333333333,
              "#9c179e"
             ],
             [
              0.4444444444444444,
              "#bd3786"
             ],
             [
              0.5555555555555556,
              "#d8576b"
             ],
             [
              0.6666666666666666,
              "#ed7953"
             ],
             [
              0.7777777777777778,
              "#fb9f3a"
             ],
             [
              0.8888888888888888,
              "#fdca26"
             ],
             [
              1,
              "#f0f921"
             ]
            ],
            "type": "contour"
           }
          ],
          "contourcarpet": [
           {
            "colorbar": {
             "outlinewidth": 0,
             "ticks": ""
            },
            "type": "contourcarpet"
           }
          ],
          "heatmap": [
           {
            "colorbar": {
             "outlinewidth": 0,
             "ticks": ""
            },
            "colorscale": [
             [
              0,
              "#0d0887"
             ],
             [
              0.1111111111111111,
              "#46039f"
             ],
             [
              0.2222222222222222,
              "#7201a8"
             ],
             [
              0.3333333333333333,
              "#9c179e"
             ],
             [
              0.4444444444444444,
              "#bd3786"
             ],
             [
              0.5555555555555556,
              "#d8576b"
             ],
             [
              0.6666666666666666,
              "#ed7953"
             ],
             [
              0.7777777777777778,
              "#fb9f3a"
             ],
             [
              0.8888888888888888,
              "#fdca26"
             ],
             [
              1,
              "#f0f921"
             ]
            ],
            "type": "heatmap"
           }
          ],
          "heatmapgl": [
           {
            "colorbar": {
             "outlinewidth": 0,
             "ticks": ""
            },
            "colorscale": [
             [
              0,
              "#0d0887"
             ],
             [
              0.1111111111111111,
              "#46039f"
             ],
             [
              0.2222222222222222,
              "#7201a8"
             ],
             [
              0.3333333333333333,
              "#9c179e"
             ],
             [
              0.4444444444444444,
              "#bd3786"
             ],
             [
              0.5555555555555556,
              "#d8576b"
             ],
             [
              0.6666666666666666,
              "#ed7953"
             ],
             [
              0.7777777777777778,
              "#fb9f3a"
             ],
             [
              0.8888888888888888,
              "#fdca26"
             ],
             [
              1,
              "#f0f921"
             ]
            ],
            "type": "heatmapgl"
           }
          ],
          "histogram": [
           {
            "marker": {
             "pattern": {
              "fillmode": "overlay",
              "size": 10,
              "solidity": 0.2
             }
            },
            "type": "histogram"
           }
          ],
          "histogram2d": [
           {
            "colorbar": {
             "outlinewidth": 0,
             "ticks": ""
            },
            "colorscale": [
             [
              0,
              "#0d0887"
             ],
             [
              0.1111111111111111,
              "#46039f"
             ],
             [
              0.2222222222222222,
              "#7201a8"
             ],
             [
              0.3333333333333333,
              "#9c179e"
             ],
             [
              0.4444444444444444,
              "#bd3786"
             ],
             [
              0.5555555555555556,
              "#d8576b"
             ],
             [
              0.6666666666666666,
              "#ed7953"
             ],
             [
              0.7777777777777778,
              "#fb9f3a"
             ],
             [
              0.8888888888888888,
              "#fdca26"
             ],
             [
              1,
              "#f0f921"
             ]
            ],
            "type": "histogram2d"
           }
          ],
          "histogram2dcontour": [
           {
            "colorbar": {
             "outlinewidth": 0,
             "ticks": ""
            },
            "colorscale": [
             [
              0,
              "#0d0887"
             ],
             [
              0.1111111111111111,
              "#46039f"
             ],
             [
              0.2222222222222222,
              "#7201a8"
             ],
             [
              0.3333333333333333,
              "#9c179e"
             ],
             [
              0.4444444444444444,
              "#bd3786"
             ],
             [
              0.5555555555555556,
              "#d8576b"
             ],
             [
              0.6666666666666666,
              "#ed7953"
             ],
             [
              0.7777777777777778,
              "#fb9f3a"
             ],
             [
              0.8888888888888888,
              "#fdca26"
             ],
             [
              1,
              "#f0f921"
             ]
            ],
            "type": "histogram2dcontour"
           }
          ],
          "mesh3d": [
           {
            "colorbar": {
             "outlinewidth": 0,
             "ticks": ""
            },
            "type": "mesh3d"
           }
          ],
          "parcoords": [
           {
            "line": {
             "colorbar": {
              "outlinewidth": 0,
              "ticks": ""
             }
            },
            "type": "parcoords"
           }
          ],
          "pie": [
           {
            "automargin": true,
            "type": "pie"
           }
          ],
          "scatter": [
           {
            "fillpattern": {
             "fillmode": "overlay",
             "size": 10,
             "solidity": 0.2
            },
            "type": "scatter"
           }
          ],
          "scatter3d": [
           {
            "line": {
             "colorbar": {
              "outlinewidth": 0,
              "ticks": ""
             }
            },
            "marker": {
             "colorbar": {
              "outlinewidth": 0,
              "ticks": ""
             }
            },
            "type": "scatter3d"
           }
          ],
          "scattercarpet": [
           {
            "marker": {
             "colorbar": {
              "outlinewidth": 0,
              "ticks": ""
             }
            },
            "type": "scattercarpet"
           }
          ],
          "scattergeo": [
           {
            "marker": {
             "colorbar": {
              "outlinewidth": 0,
              "ticks": ""
             }
            },
            "type": "scattergeo"
           }
          ],
          "scattergl": [
           {
            "marker": {
             "colorbar": {
              "outlinewidth": 0,
              "ticks": ""
             }
            },
            "type": "scattergl"
           }
          ],
          "scattermapbox": [
           {
            "marker": {
             "colorbar": {
              "outlinewidth": 0,
              "ticks": ""
             }
            },
            "type": "scattermapbox"
           }
          ],
          "scatterpolar": [
           {
            "marker": {
             "colorbar": {
              "outlinewidth": 0,
              "ticks": ""
             }
            },
            "type": "scatterpolar"
           }
          ],
          "scatterpolargl": [
           {
            "marker": {
             "colorbar": {
              "outlinewidth": 0,
              "ticks": ""
             }
            },
            "type": "scatterpolargl"
           }
          ],
          "scatterternary": [
           {
            "marker": {
             "colorbar": {
              "outlinewidth": 0,
              "ticks": ""
             }
            },
            "type": "scatterternary"
           }
          ],
          "surface": [
           {
            "colorbar": {
             "outlinewidth": 0,
             "ticks": ""
            },
            "colorscale": [
             [
              0,
              "#0d0887"
             ],
             [
              0.1111111111111111,
              "#46039f"
             ],
             [
              0.2222222222222222,
              "#7201a8"
             ],
             [
              0.3333333333333333,
              "#9c179e"
             ],
             [
              0.4444444444444444,
              "#bd3786"
             ],
             [
              0.5555555555555556,
              "#d8576b"
             ],
             [
              0.6666666666666666,
              "#ed7953"
             ],
             [
              0.7777777777777778,
              "#fb9f3a"
             ],
             [
              0.8888888888888888,
              "#fdca26"
             ],
             [
              1,
              "#f0f921"
             ]
            ],
            "type": "surface"
           }
          ],
          "table": [
           {
            "cells": {
             "fill": {
              "color": "#EBF0F8"
             },
             "line": {
              "color": "white"
             }
            },
            "header": {
             "fill": {
              "color": "#C8D4E3"
             },
             "line": {
              "color": "white"
             }
            },
            "type": "table"
           }
          ]
         },
         "layout": {
          "annotationdefaults": {
           "arrowcolor": "#2a3f5f",
           "arrowhead": 0,
           "arrowwidth": 1
          },
          "autotypenumbers": "strict",
          "coloraxis": {
           "colorbar": {
            "outlinewidth": 0,
            "ticks": ""
           }
          },
          "colorscale": {
           "diverging": [
            [
             0,
             "#8e0152"
            ],
            [
             0.1,
             "#c51b7d"
            ],
            [
             0.2,
             "#de77ae"
            ],
            [
             0.3,
             "#f1b6da"
            ],
            [
             0.4,
             "#fde0ef"
            ],
            [
             0.5,
             "#f7f7f7"
            ],
            [
             0.6,
             "#e6f5d0"
            ],
            [
             0.7,
             "#b8e186"
            ],
            [
             0.8,
             "#7fbc41"
            ],
            [
             0.9,
             "#4d9221"
            ],
            [
             1,
             "#276419"
            ]
           ],
           "sequential": [
            [
             0,
             "#0d0887"
            ],
            [
             0.1111111111111111,
             "#46039f"
            ],
            [
             0.2222222222222222,
             "#7201a8"
            ],
            [
             0.3333333333333333,
             "#9c179e"
            ],
            [
             0.4444444444444444,
             "#bd3786"
            ],
            [
             0.5555555555555556,
             "#d8576b"
            ],
            [
             0.6666666666666666,
             "#ed7953"
            ],
            [
             0.7777777777777778,
             "#fb9f3a"
            ],
            [
             0.8888888888888888,
             "#fdca26"
            ],
            [
             1,
             "#f0f921"
            ]
           ],
           "sequentialminus": [
            [
             0,
             "#0d0887"
            ],
            [
             0.1111111111111111,
             "#46039f"
            ],
            [
             0.2222222222222222,
             "#7201a8"
            ],
            [
             0.3333333333333333,
             "#9c179e"
            ],
            [
             0.4444444444444444,
             "#bd3786"
            ],
            [
             0.5555555555555556,
             "#d8576b"
            ],
            [
             0.6666666666666666,
             "#ed7953"
            ],
            [
             0.7777777777777778,
             "#fb9f3a"
            ],
            [
             0.8888888888888888,
             "#fdca26"
            ],
            [
             1,
             "#f0f921"
            ]
           ]
          },
          "colorway": [
           "#636efa",
           "#EF553B",
           "#00cc96",
           "#ab63fa",
           "#FFA15A",
           "#19d3f3",
           "#FF6692",
           "#B6E880",
           "#FF97FF",
           "#FECB52"
          ],
          "font": {
           "color": "#2a3f5f"
          },
          "geo": {
           "bgcolor": "white",
           "lakecolor": "white",
           "landcolor": "#E5ECF6",
           "showlakes": true,
           "showland": true,
           "subunitcolor": "white"
          },
          "hoverlabel": {
           "align": "left"
          },
          "hovermode": "closest",
          "mapbox": {
           "style": "light"
          },
          "paper_bgcolor": "white",
          "plot_bgcolor": "#E5ECF6",
          "polar": {
           "angularaxis": {
            "gridcolor": "white",
            "linecolor": "white",
            "ticks": ""
           },
           "bgcolor": "#E5ECF6",
           "radialaxis": {
            "gridcolor": "white",
            "linecolor": "white",
            "ticks": ""
           }
          },
          "scene": {
           "xaxis": {
            "backgroundcolor": "#E5ECF6",
            "gridcolor": "white",
            "gridwidth": 2,
            "linecolor": "white",
            "showbackground": true,
            "ticks": "",
            "zerolinecolor": "white"
           },
           "yaxis": {
            "backgroundcolor": "#E5ECF6",
            "gridcolor": "white",
            "gridwidth": 2,
            "linecolor": "white",
            "showbackground": true,
            "ticks": "",
            "zerolinecolor": "white"
           },
           "zaxis": {
            "backgroundcolor": "#E5ECF6",
            "gridcolor": "white",
            "gridwidth": 2,
            "linecolor": "white",
            "showbackground": true,
            "ticks": "",
            "zerolinecolor": "white"
           }
          },
          "shapedefaults": {
           "line": {
            "color": "#2a3f5f"
           }
          },
          "ternary": {
           "aaxis": {
            "gridcolor": "white",
            "linecolor": "white",
            "ticks": ""
           },
           "baxis": {
            "gridcolor": "white",
            "linecolor": "white",
            "ticks": ""
           },
           "bgcolor": "#E5ECF6",
           "caxis": {
            "gridcolor": "white",
            "linecolor": "white",
            "ticks": ""
           }
          },
          "title": {
           "x": 0.05
          },
          "xaxis": {
           "automargin": true,
           "gridcolor": "white",
           "linecolor": "white",
           "ticks": "",
           "title": {
            "standoff": 15
           },
           "zerolinecolor": "white",
           "zerolinewidth": 2
          },
          "yaxis": {
           "automargin": true,
           "gridcolor": "white",
           "linecolor": "white",
           "ticks": "",
           "title": {
            "standoff": 15
           },
           "zerolinecolor": "white",
           "zerolinewidth": 2
          }
         }
        },
        "title": {
         "text": "Total medals won in weightlifting for each country"
        },
        "xaxis": {
         "anchor": "y",
         "categoryarray": [
          "URS",
          "CHN",
          "USA",
          "BUL",
          "POL",
          "RUS",
          "GER",
          "HUN",
          "IRI",
          "PRK",
          "KAZ",
          "FRA",
          "GRE",
          "ITA",
          "JPN",
          "ROU",
          "BLR",
          "KOR",
          "TUR",
          "GDR",
          "EGY",
          "THA",
          "AUT",
          "INA",
          "EUN",
          "TPE",
          "UKR",
          "TCH",
          "FRG",
          "GBR",
          "EST",
          "ARM",
          "COL",
          "CUB",
          "AUS",
          "GEO",
          "SUI",
          "BEL",
          "SWE",
          "NED",
          "DEN",
          "TTO",
          "FIN",
          "CAN",
          "CRO",
          "ARG",
          "LAT",
          "MDA",
          "IRQ",
          "IND",
          "AZE",
          "ESP",
          "MEX",
          "LIB",
          "LTU",
          "LUX",
          "QAT",
          "PHI",
          "NGR",
          "NOR",
          "SGP",
          "UZB",
          "VEN",
          "VIE"
         ],
         "categoryorder": "array",
         "domain": [
          0,
          1
         ],
         "title": {
          "text": "NOC"
         }
        },
        "yaxis": {
         "anchor": "x",
         "domain": [
          0,
          1
         ],
         "title": {
          "text": "Medal"
         }
        }
       }
      }
     },
     "metadata": {},
     "output_type": "display_data"
    }
   ],
   "source": [
    "# Välj 2-4 sporter, medaljfördelning mellan länder i sporterna\n",
    "# Sporter = Weightlifting, Archery, Gymnastics\n",
    "\n",
    "weightlifting = (df[\"Sport\"] == \"Weightlifting\") & (df[\"Medal\"].notna())\n",
    "df[weightlifting].head()                            # går också att få samma output med df.loc[weightlifting]\n",
    "\n",
    "medals_in_weightlifting = df[weightlifting].groupby(\"NOC\")[[\"Medal\"]].count().sort_values(by=\"Medal\",ascending=False).reset_index()\n",
    "\n",
    "fig = px.bar(medals_in_weightlifting, \n",
    "            x= \"NOC\",\n",
    "            y = \"Medal\",\n",
    "            color=\"NOC\",\n",
    "            title= \"Total medals won in weightlifting for each country\")\n",
    "\n",
    "fig.show()\n",
    "\n"
   ]
  },
  {
   "cell_type": "code",
   "execution_count": 13,
   "metadata": {},
   "outputs": [
    {
     "data": {
      "application/vnd.plotly.v1+json": {
       "config": {
        "plotlyServerURL": "https://plot.ly"
       },
       "data": [
        {
         "alignmentgroup": "True",
         "hovertemplate": "NOC=%{x}<br>Medal=%{y}<extra></extra>",
         "legendgroup": "KOR",
         "marker": {
          "color": "#636efa",
          "pattern": {
           "shape": ""
          }
         },
         "name": "KOR",
         "offsetgroup": "KOR",
         "orientation": "v",
         "showlegend": true,
         "textposition": "auto",
         "type": "bar",
         "x": [
          "KOR"
         ],
         "xaxis": "x",
         "y": [
          69
         ],
         "yaxis": "y"
        },
        {
         "alignmentgroup": "True",
         "hovertemplate": "NOC=%{x}<br>Medal=%{y}<extra></extra>",
         "legendgroup": "USA",
         "marker": {
          "color": "#EF553B",
          "pattern": {
           "shape": ""
          }
         },
         "name": "USA",
         "offsetgroup": "USA",
         "orientation": "v",
         "showlegend": true,
         "textposition": "auto",
         "type": "bar",
         "x": [
          "USA"
         ],
         "xaxis": "x",
         "y": [
          57
         ],
         "yaxis": "y"
        },
        {
         "alignmentgroup": "True",
         "hovertemplate": "NOC=%{x}<br>Medal=%{y}<extra></extra>",
         "legendgroup": "BEL",
         "marker": {
          "color": "#00cc96",
          "pattern": {
           "shape": ""
          }
         },
         "name": "BEL",
         "offsetgroup": "BEL",
         "orientation": "v",
         "showlegend": true,
         "textposition": "auto",
         "type": "bar",
         "x": [
          "BEL"
         ],
         "xaxis": "x",
         "y": [
          52
         ],
         "yaxis": "y"
        },
        {
         "alignmentgroup": "True",
         "hovertemplate": "NOC=%{x}<br>Medal=%{y}<extra></extra>",
         "legendgroup": "FRA",
         "marker": {
          "color": "#ab63fa",
          "pattern": {
           "shape": ""
          }
         },
         "name": "FRA",
         "offsetgroup": "FRA",
         "orientation": "v",
         "showlegend": true,
         "textposition": "auto",
         "type": "bar",
         "x": [
          "FRA"
         ],
         "xaxis": "x",
         "y": [
          48
         ],
         "yaxis": "y"
        },
        {
         "alignmentgroup": "True",
         "hovertemplate": "NOC=%{x}<br>Medal=%{y}<extra></extra>",
         "legendgroup": "CHN",
         "marker": {
          "color": "#FFA15A",
          "pattern": {
           "shape": ""
          }
         },
         "name": "CHN",
         "offsetgroup": "CHN",
         "orientation": "v",
         "showlegend": true,
         "textposition": "auto",
         "type": "bar",
         "x": [
          "CHN"
         ],
         "xaxis": "x",
         "y": [
          19
         ],
         "yaxis": "y"
        },
        {
         "alignmentgroup": "True",
         "hovertemplate": "NOC=%{x}<br>Medal=%{y}<extra></extra>",
         "legendgroup": "ITA",
         "marker": {
          "color": "#19d3f3",
          "pattern": {
           "shape": ""
          }
         },
         "name": "ITA",
         "offsetgroup": "ITA",
         "orientation": "v",
         "showlegend": true,
         "textposition": "auto",
         "type": "bar",
         "x": [
          "ITA"
         ],
         "xaxis": "x",
         "y": [
          15
         ],
         "yaxis": "y"
        },
        {
         "alignmentgroup": "True",
         "hovertemplate": "NOC=%{x}<br>Medal=%{y}<extra></extra>",
         "legendgroup": "GBR",
         "marker": {
          "color": "#FF6692",
          "pattern": {
           "shape": ""
          }
         },
         "name": "GBR",
         "offsetgroup": "GBR",
         "orientation": "v",
         "showlegend": true,
         "textposition": "auto",
         "type": "bar",
         "x": [
          "GBR"
         ],
         "xaxis": "x",
         "y": [
          13
         ],
         "yaxis": "y"
        },
        {
         "alignmentgroup": "True",
         "hovertemplate": "NOC=%{x}<br>Medal=%{y}<extra></extra>",
         "legendgroup": "NED",
         "marker": {
          "color": "#B6E880",
          "pattern": {
           "shape": ""
          }
         },
         "name": "NED",
         "offsetgroup": "NED",
         "orientation": "v",
         "showlegend": true,
         "textposition": "auto",
         "type": "bar",
         "x": [
          "NED"
         ],
         "xaxis": "x",
         "y": [
          9
         ],
         "yaxis": "y"
        },
        {
         "alignmentgroup": "True",
         "hovertemplate": "NOC=%{x}<br>Medal=%{y}<extra></extra>",
         "legendgroup": "TPE",
         "marker": {
          "color": "#FF97FF",
          "pattern": {
           "shape": ""
          }
         },
         "name": "TPE",
         "offsetgroup": "TPE",
         "orientation": "v",
         "showlegend": true,
         "textposition": "auto",
         "type": "bar",
         "x": [
          "TPE"
         ],
         "xaxis": "x",
         "y": [
          9
         ],
         "yaxis": "y"
        },
        {
         "alignmentgroup": "True",
         "hovertemplate": "NOC=%{x}<br>Medal=%{y}<extra></extra>",
         "legendgroup": "UKR",
         "marker": {
          "color": "#FECB52",
          "pattern": {
           "shape": ""
          }
         },
         "name": "UKR",
         "offsetgroup": "UKR",
         "orientation": "v",
         "showlegend": true,
         "textposition": "auto",
         "type": "bar",
         "x": [
          "UKR"
         ],
         "xaxis": "x",
         "y": [
          8
         ],
         "yaxis": "y"
        },
        {
         "alignmentgroup": "True",
         "hovertemplate": "NOC=%{x}<br>Medal=%{y}<extra></extra>",
         "legendgroup": "URS",
         "marker": {
          "color": "#636efa",
          "pattern": {
           "shape": ""
          }
         },
         "name": "URS",
         "offsetgroup": "URS",
         "orientation": "v",
         "showlegend": true,
         "textposition": "auto",
         "type": "bar",
         "x": [
          "URS"
         ],
         "xaxis": "x",
         "y": [
          7
         ],
         "yaxis": "y"
        },
        {
         "alignmentgroup": "True",
         "hovertemplate": "NOC=%{x}<br>Medal=%{y}<extra></extra>",
         "legendgroup": "JPN",
         "marker": {
          "color": "#EF553B",
          "pattern": {
           "shape": ""
          }
         },
         "name": "JPN",
         "offsetgroup": "JPN",
         "orientation": "v",
         "showlegend": true,
         "textposition": "auto",
         "type": "bar",
         "x": [
          "JPN"
         ],
         "xaxis": "x",
         "y": [
          7
         ],
         "yaxis": "y"
        },
        {
         "alignmentgroup": "True",
         "hovertemplate": "NOC=%{x}<br>Medal=%{y}<extra></extra>",
         "legendgroup": "GER",
         "marker": {
          "color": "#00cc96",
          "pattern": {
           "shape": ""
          }
         },
         "name": "GER",
         "offsetgroup": "GER",
         "orientation": "v",
         "showlegend": true,
         "textposition": "auto",
         "type": "bar",
         "x": [
          "GER"
         ],
         "xaxis": "x",
         "y": [
          7
         ],
         "yaxis": "y"
        },
        {
         "alignmentgroup": "True",
         "hovertemplate": "NOC=%{x}<br>Medal=%{y}<extra></extra>",
         "legendgroup": "FIN",
         "marker": {
          "color": "#ab63fa",
          "pattern": {
           "shape": ""
          }
         },
         "name": "FIN",
         "offsetgroup": "FIN",
         "orientation": "v",
         "showlegend": true,
         "textposition": "auto",
         "type": "bar",
         "x": [
          "FIN"
         ],
         "xaxis": "x",
         "y": [
          6
         ],
         "yaxis": "y"
        },
        {
         "alignmentgroup": "True",
         "hovertemplate": "NOC=%{x}<br>Medal=%{y}<extra></extra>",
         "legendgroup": "AUS",
         "marker": {
          "color": "#FFA15A",
          "pattern": {
           "shape": ""
          }
         },
         "name": "AUS",
         "offsetgroup": "AUS",
         "orientation": "v",
         "showlegend": true,
         "textposition": "auto",
         "type": "bar",
         "x": [
          "AUS"
         ],
         "xaxis": "x",
         "y": [
          5
         ],
         "yaxis": "y"
        },
        {
         "alignmentgroup": "True",
         "hovertemplate": "NOC=%{x}<br>Medal=%{y}<extra></extra>",
         "legendgroup": "EUN",
         "marker": {
          "color": "#19d3f3",
          "pattern": {
           "shape": ""
          }
         },
         "name": "EUN",
         "offsetgroup": "EUN",
         "orientation": "v",
         "showlegend": true,
         "textposition": "auto",
         "type": "bar",
         "x": [
          "EUN"
         ],
         "xaxis": "x",
         "y": [
          4
         ],
         "yaxis": "y"
        },
        {
         "alignmentgroup": "True",
         "hovertemplate": "NOC=%{x}<br>Medal=%{y}<extra></extra>",
         "legendgroup": "RUS",
         "marker": {
          "color": "#FF6692",
          "pattern": {
           "shape": ""
          }
         },
         "name": "RUS",
         "offsetgroup": "RUS",
         "orientation": "v",
         "showlegend": true,
         "textposition": "auto",
         "type": "bar",
         "x": [
          "RUS"
         ],
         "xaxis": "x",
         "y": [
          4
         ],
         "yaxis": "y"
        },
        {
         "alignmentgroup": "True",
         "hovertemplate": "NOC=%{x}<br>Medal=%{y}<extra></extra>",
         "legendgroup": "POL",
         "marker": {
          "color": "#B6E880",
          "pattern": {
           "shape": ""
          }
         },
         "name": "POL",
         "offsetgroup": "POL",
         "orientation": "v",
         "showlegend": true,
         "textposition": "auto",
         "type": "bar",
         "x": [
          "POL"
         ],
         "xaxis": "x",
         "y": [
          4
         ],
         "yaxis": "y"
        },
        {
         "alignmentgroup": "True",
         "hovertemplate": "NOC=%{x}<br>Medal=%{y}<extra></extra>",
         "legendgroup": "ESP",
         "marker": {
          "color": "#FF97FF",
          "pattern": {
           "shape": ""
          }
         },
         "name": "ESP",
         "offsetgroup": "ESP",
         "orientation": "v",
         "showlegend": true,
         "textposition": "auto",
         "type": "bar",
         "x": [
          "ESP"
         ],
         "xaxis": "x",
         "y": [
          3
         ],
         "yaxis": "y"
        },
        {
         "alignmentgroup": "True",
         "hovertemplate": "NOC=%{x}<br>Medal=%{y}<extra></extra>",
         "legendgroup": "INA",
         "marker": {
          "color": "#FECB52",
          "pattern": {
           "shape": ""
          }
         },
         "name": "INA",
         "offsetgroup": "INA",
         "orientation": "v",
         "showlegend": true,
         "textposition": "auto",
         "type": "bar",
         "x": [
          "INA"
         ],
         "xaxis": "x",
         "y": [
          3
         ],
         "yaxis": "y"
        },
        {
         "alignmentgroup": "True",
         "hovertemplate": "NOC=%{x}<br>Medal=%{y}<extra></extra>",
         "legendgroup": "MEX",
         "marker": {
          "color": "#636efa",
          "pattern": {
           "shape": ""
          }
         },
         "name": "MEX",
         "offsetgroup": "MEX",
         "orientation": "v",
         "showlegend": true,
         "textposition": "auto",
         "type": "bar",
         "x": [
          "MEX"
         ],
         "xaxis": "x",
         "y": [
          2
         ],
         "yaxis": "y"
        },
        {
         "alignmentgroup": "True",
         "hovertemplate": "NOC=%{x}<br>Medal=%{y}<extra></extra>",
         "legendgroup": "SWE",
         "marker": {
          "color": "#EF553B",
          "pattern": {
           "shape": ""
          }
         },
         "name": "SWE",
         "offsetgroup": "SWE",
         "orientation": "v",
         "showlegend": true,
         "textposition": "auto",
         "type": "bar",
         "x": [
          "SWE"
         ],
         "xaxis": "x",
         "y": [
          2
         ],
         "yaxis": "y"
        }
       ],
       "layout": {
        "barmode": "relative",
        "legend": {
         "title": {
          "text": "NOC"
         },
         "tracegroupgap": 0
        },
        "template": {
         "data": {
          "bar": [
           {
            "error_x": {
             "color": "#2a3f5f"
            },
            "error_y": {
             "color": "#2a3f5f"
            },
            "marker": {
             "line": {
              "color": "#E5ECF6",
              "width": 0.5
             },
             "pattern": {
              "fillmode": "overlay",
              "size": 10,
              "solidity": 0.2
             }
            },
            "type": "bar"
           }
          ],
          "barpolar": [
           {
            "marker": {
             "line": {
              "color": "#E5ECF6",
              "width": 0.5
             },
             "pattern": {
              "fillmode": "overlay",
              "size": 10,
              "solidity": 0.2
             }
            },
            "type": "barpolar"
           }
          ],
          "carpet": [
           {
            "aaxis": {
             "endlinecolor": "#2a3f5f",
             "gridcolor": "white",
             "linecolor": "white",
             "minorgridcolor": "white",
             "startlinecolor": "#2a3f5f"
            },
            "baxis": {
             "endlinecolor": "#2a3f5f",
             "gridcolor": "white",
             "linecolor": "white",
             "minorgridcolor": "white",
             "startlinecolor": "#2a3f5f"
            },
            "type": "carpet"
           }
          ],
          "choropleth": [
           {
            "colorbar": {
             "outlinewidth": 0,
             "ticks": ""
            },
            "type": "choropleth"
           }
          ],
          "contour": [
           {
            "colorbar": {
             "outlinewidth": 0,
             "ticks": ""
            },
            "colorscale": [
             [
              0,
              "#0d0887"
             ],
             [
              0.1111111111111111,
              "#46039f"
             ],
             [
              0.2222222222222222,
              "#7201a8"
             ],
             [
              0.3333333333333333,
              "#9c179e"
             ],
             [
              0.4444444444444444,
              "#bd3786"
             ],
             [
              0.5555555555555556,
              "#d8576b"
             ],
             [
              0.6666666666666666,
              "#ed7953"
             ],
             [
              0.7777777777777778,
              "#fb9f3a"
             ],
             [
              0.8888888888888888,
              "#fdca26"
             ],
             [
              1,
              "#f0f921"
             ]
            ],
            "type": "contour"
           }
          ],
          "contourcarpet": [
           {
            "colorbar": {
             "outlinewidth": 0,
             "ticks": ""
            },
            "type": "contourcarpet"
           }
          ],
          "heatmap": [
           {
            "colorbar": {
             "outlinewidth": 0,
             "ticks": ""
            },
            "colorscale": [
             [
              0,
              "#0d0887"
             ],
             [
              0.1111111111111111,
              "#46039f"
             ],
             [
              0.2222222222222222,
              "#7201a8"
             ],
             [
              0.3333333333333333,
              "#9c179e"
             ],
             [
              0.4444444444444444,
              "#bd3786"
             ],
             [
              0.5555555555555556,
              "#d8576b"
             ],
             [
              0.6666666666666666,
              "#ed7953"
             ],
             [
              0.7777777777777778,
              "#fb9f3a"
             ],
             [
              0.8888888888888888,
              "#fdca26"
             ],
             [
              1,
              "#f0f921"
             ]
            ],
            "type": "heatmap"
           }
          ],
          "heatmapgl": [
           {
            "colorbar": {
             "outlinewidth": 0,
             "ticks": ""
            },
            "colorscale": [
             [
              0,
              "#0d0887"
             ],
             [
              0.1111111111111111,
              "#46039f"
             ],
             [
              0.2222222222222222,
              "#7201a8"
             ],
             [
              0.3333333333333333,
              "#9c179e"
             ],
             [
              0.4444444444444444,
              "#bd3786"
             ],
             [
              0.5555555555555556,
              "#d8576b"
             ],
             [
              0.6666666666666666,
              "#ed7953"
             ],
             [
              0.7777777777777778,
              "#fb9f3a"
             ],
             [
              0.8888888888888888,
              "#fdca26"
             ],
             [
              1,
              "#f0f921"
             ]
            ],
            "type": "heatmapgl"
           }
          ],
          "histogram": [
           {
            "marker": {
             "pattern": {
              "fillmode": "overlay",
              "size": 10,
              "solidity": 0.2
             }
            },
            "type": "histogram"
           }
          ],
          "histogram2d": [
           {
            "colorbar": {
             "outlinewidth": 0,
             "ticks": ""
            },
            "colorscale": [
             [
              0,
              "#0d0887"
             ],
             [
              0.1111111111111111,
              "#46039f"
             ],
             [
              0.2222222222222222,
              "#7201a8"
             ],
             [
              0.3333333333333333,
              "#9c179e"
             ],
             [
              0.4444444444444444,
              "#bd3786"
             ],
             [
              0.5555555555555556,
              "#d8576b"
             ],
             [
              0.6666666666666666,
              "#ed7953"
             ],
             [
              0.7777777777777778,
              "#fb9f3a"
             ],
             [
              0.8888888888888888,
              "#fdca26"
             ],
             [
              1,
              "#f0f921"
             ]
            ],
            "type": "histogram2d"
           }
          ],
          "histogram2dcontour": [
           {
            "colorbar": {
             "outlinewidth": 0,
             "ticks": ""
            },
            "colorscale": [
             [
              0,
              "#0d0887"
             ],
             [
              0.1111111111111111,
              "#46039f"
             ],
             [
              0.2222222222222222,
              "#7201a8"
             ],
             [
              0.3333333333333333,
              "#9c179e"
             ],
             [
              0.4444444444444444,
              "#bd3786"
             ],
             [
              0.5555555555555556,
              "#d8576b"
             ],
             [
              0.6666666666666666,
              "#ed7953"
             ],
             [
              0.7777777777777778,
              "#fb9f3a"
             ],
             [
              0.8888888888888888,
              "#fdca26"
             ],
             [
              1,
              "#f0f921"
             ]
            ],
            "type": "histogram2dcontour"
           }
          ],
          "mesh3d": [
           {
            "colorbar": {
             "outlinewidth": 0,
             "ticks": ""
            },
            "type": "mesh3d"
           }
          ],
          "parcoords": [
           {
            "line": {
             "colorbar": {
              "outlinewidth": 0,
              "ticks": ""
             }
            },
            "type": "parcoords"
           }
          ],
          "pie": [
           {
            "automargin": true,
            "type": "pie"
           }
          ],
          "scatter": [
           {
            "fillpattern": {
             "fillmode": "overlay",
             "size": 10,
             "solidity": 0.2
            },
            "type": "scatter"
           }
          ],
          "scatter3d": [
           {
            "line": {
             "colorbar": {
              "outlinewidth": 0,
              "ticks": ""
             }
            },
            "marker": {
             "colorbar": {
              "outlinewidth": 0,
              "ticks": ""
             }
            },
            "type": "scatter3d"
           }
          ],
          "scattercarpet": [
           {
            "marker": {
             "colorbar": {
              "outlinewidth": 0,
              "ticks": ""
             }
            },
            "type": "scattercarpet"
           }
          ],
          "scattergeo": [
           {
            "marker": {
             "colorbar": {
              "outlinewidth": 0,
              "ticks": ""
             }
            },
            "type": "scattergeo"
           }
          ],
          "scattergl": [
           {
            "marker": {
             "colorbar": {
              "outlinewidth": 0,
              "ticks": ""
             }
            },
            "type": "scattergl"
           }
          ],
          "scattermapbox": [
           {
            "marker": {
             "colorbar": {
              "outlinewidth": 0,
              "ticks": ""
             }
            },
            "type": "scattermapbox"
           }
          ],
          "scatterpolar": [
           {
            "marker": {
             "colorbar": {
              "outlinewidth": 0,
              "ticks": ""
             }
            },
            "type": "scatterpolar"
           }
          ],
          "scatterpolargl": [
           {
            "marker": {
             "colorbar": {
              "outlinewidth": 0,
              "ticks": ""
             }
            },
            "type": "scatterpolargl"
           }
          ],
          "scatterternary": [
           {
            "marker": {
             "colorbar": {
              "outlinewidth": 0,
              "ticks": ""
             }
            },
            "type": "scatterternary"
           }
          ],
          "surface": [
           {
            "colorbar": {
             "outlinewidth": 0,
             "ticks": ""
            },
            "colorscale": [
             [
              0,
              "#0d0887"
             ],
             [
              0.1111111111111111,
              "#46039f"
             ],
             [
              0.2222222222222222,
              "#7201a8"
             ],
             [
              0.3333333333333333,
              "#9c179e"
             ],
             [
              0.4444444444444444,
              "#bd3786"
             ],
             [
              0.5555555555555556,
              "#d8576b"
             ],
             [
              0.6666666666666666,
              "#ed7953"
             ],
             [
              0.7777777777777778,
              "#fb9f3a"
             ],
             [
              0.8888888888888888,
              "#fdca26"
             ],
             [
              1,
              "#f0f921"
             ]
            ],
            "type": "surface"
           }
          ],
          "table": [
           {
            "cells": {
             "fill": {
              "color": "#EBF0F8"
             },
             "line": {
              "color": "white"
             }
            },
            "header": {
             "fill": {
              "color": "#C8D4E3"
             },
             "line": {
              "color": "white"
             }
            },
            "type": "table"
           }
          ]
         },
         "layout": {
          "annotationdefaults": {
           "arrowcolor": "#2a3f5f",
           "arrowhead": 0,
           "arrowwidth": 1
          },
          "autotypenumbers": "strict",
          "coloraxis": {
           "colorbar": {
            "outlinewidth": 0,
            "ticks": ""
           }
          },
          "colorscale": {
           "diverging": [
            [
             0,
             "#8e0152"
            ],
            [
             0.1,
             "#c51b7d"
            ],
            [
             0.2,
             "#de77ae"
            ],
            [
             0.3,
             "#f1b6da"
            ],
            [
             0.4,
             "#fde0ef"
            ],
            [
             0.5,
             "#f7f7f7"
            ],
            [
             0.6,
             "#e6f5d0"
            ],
            [
             0.7,
             "#b8e186"
            ],
            [
             0.8,
             "#7fbc41"
            ],
            [
             0.9,
             "#4d9221"
            ],
            [
             1,
             "#276419"
            ]
           ],
           "sequential": [
            [
             0,
             "#0d0887"
            ],
            [
             0.1111111111111111,
             "#46039f"
            ],
            [
             0.2222222222222222,
             "#7201a8"
            ],
            [
             0.3333333333333333,
             "#9c179e"
            ],
            [
             0.4444444444444444,
             "#bd3786"
            ],
            [
             0.5555555555555556,
             "#d8576b"
            ],
            [
             0.6666666666666666,
             "#ed7953"
            ],
            [
             0.7777777777777778,
             "#fb9f3a"
            ],
            [
             0.8888888888888888,
             "#fdca26"
            ],
            [
             1,
             "#f0f921"
            ]
           ],
           "sequentialminus": [
            [
             0,
             "#0d0887"
            ],
            [
             0.1111111111111111,
             "#46039f"
            ],
            [
             0.2222222222222222,
             "#7201a8"
            ],
            [
             0.3333333333333333,
             "#9c179e"
            ],
            [
             0.4444444444444444,
             "#bd3786"
            ],
            [
             0.5555555555555556,
             "#d8576b"
            ],
            [
             0.6666666666666666,
             "#ed7953"
            ],
            [
             0.7777777777777778,
             "#fb9f3a"
            ],
            [
             0.8888888888888888,
             "#fdca26"
            ],
            [
             1,
             "#f0f921"
            ]
           ]
          },
          "colorway": [
           "#636efa",
           "#EF553B",
           "#00cc96",
           "#ab63fa",
           "#FFA15A",
           "#19d3f3",
           "#FF6692",
           "#B6E880",
           "#FF97FF",
           "#FECB52"
          ],
          "font": {
           "color": "#2a3f5f"
          },
          "geo": {
           "bgcolor": "white",
           "lakecolor": "white",
           "landcolor": "#E5ECF6",
           "showlakes": true,
           "showland": true,
           "subunitcolor": "white"
          },
          "hoverlabel": {
           "align": "left"
          },
          "hovermode": "closest",
          "mapbox": {
           "style": "light"
          },
          "paper_bgcolor": "white",
          "plot_bgcolor": "#E5ECF6",
          "polar": {
           "angularaxis": {
            "gridcolor": "white",
            "linecolor": "white",
            "ticks": ""
           },
           "bgcolor": "#E5ECF6",
           "radialaxis": {
            "gridcolor": "white",
            "linecolor": "white",
            "ticks": ""
           }
          },
          "scene": {
           "xaxis": {
            "backgroundcolor": "#E5ECF6",
            "gridcolor": "white",
            "gridwidth": 2,
            "linecolor": "white",
            "showbackground": true,
            "ticks": "",
            "zerolinecolor": "white"
           },
           "yaxis": {
            "backgroundcolor": "#E5ECF6",
            "gridcolor": "white",
            "gridwidth": 2,
            "linecolor": "white",
            "showbackground": true,
            "ticks": "",
            "zerolinecolor": "white"
           },
           "zaxis": {
            "backgroundcolor": "#E5ECF6",
            "gridcolor": "white",
            "gridwidth": 2,
            "linecolor": "white",
            "showbackground": true,
            "ticks": "",
            "zerolinecolor": "white"
           }
          },
          "shapedefaults": {
           "line": {
            "color": "#2a3f5f"
           }
          },
          "ternary": {
           "aaxis": {
            "gridcolor": "white",
            "linecolor": "white",
            "ticks": ""
           },
           "baxis": {
            "gridcolor": "white",
            "linecolor": "white",
            "ticks": ""
           },
           "bgcolor": "#E5ECF6",
           "caxis": {
            "gridcolor": "white",
            "linecolor": "white",
            "ticks": ""
           }
          },
          "title": {
           "x": 0.05
          },
          "xaxis": {
           "automargin": true,
           "gridcolor": "white",
           "linecolor": "white",
           "ticks": "",
           "title": {
            "standoff": 15
           },
           "zerolinecolor": "white",
           "zerolinewidth": 2
          },
          "yaxis": {
           "automargin": true,
           "gridcolor": "white",
           "linecolor": "white",
           "ticks": "",
           "title": {
            "standoff": 15
           },
           "zerolinecolor": "white",
           "zerolinewidth": 2
          }
         }
        },
        "title": {
         "text": "Total medals won in archery for each country"
        },
        "xaxis": {
         "anchor": "y",
         "categoryarray": [
          "KOR",
          "USA",
          "BEL",
          "FRA",
          "CHN",
          "ITA",
          "GBR",
          "NED",
          "TPE",
          "UKR",
          "URS",
          "JPN",
          "GER",
          "FIN",
          "AUS",
          "EUN",
          "RUS",
          "POL",
          "ESP",
          "INA",
          "MEX",
          "SWE"
         ],
         "categoryorder": "array",
         "domain": [
          0,
          1
         ],
         "title": {
          "text": "NOC"
         }
        },
        "yaxis": {
         "anchor": "x",
         "domain": [
          0,
          1
         ],
         "title": {
          "text": "Medal"
         }
        }
       }
      }
     },
     "metadata": {},
     "output_type": "display_data"
    }
   ],
   "source": [
    "archery = (df[\"Sport\"] == \"Archery\") & (df[\"Medal\"].notna())\n",
    "df[archery].head()\n",
    "\n",
    "medals_in_archery = df[archery].groupby(\"NOC\")[[\"Medal\"]].count().sort_values(by=\"Medal\", ascending=False).reset_index()\n",
    "\n",
    "fig = px.bar(medals_in_archery,\n",
    "            x=\"NOC\",\n",
    "            y=\"Medal\",\n",
    "            color=\"NOC\", \n",
    "            title= \"Total medals won in archery for each country\")\n",
    "\n",
    "fig.show()"
   ]
  },
  {
   "cell_type": "code",
   "execution_count": 14,
   "metadata": {},
   "outputs": [
    {
     "data": {
      "application/vnd.plotly.v1+json": {
       "config": {
        "plotlyServerURL": "https://plot.ly"
       },
       "data": [
        {
         "alignmentgroup": "True",
         "hovertemplate": "NOC=%{x}<br>Medal=%{y}<extra></extra>",
         "legendgroup": "URS",
         "marker": {
          "color": "#636efa",
          "pattern": {
           "shape": ""
          }
         },
         "name": "URS",
         "offsetgroup": "URS",
         "orientation": "v",
         "showlegend": true,
         "textposition": "auto",
         "type": "bar",
         "x": [
          "URS"
         ],
         "xaxis": "x",
         "y": [
          288
         ],
         "yaxis": "y"
        },
        {
         "alignmentgroup": "True",
         "hovertemplate": "NOC=%{x}<br>Medal=%{y}<extra></extra>",
         "legendgroup": "USA",
         "marker": {
          "color": "#EF553B",
          "pattern": {
           "shape": ""
          }
         },
         "name": "USA",
         "offsetgroup": "USA",
         "orientation": "v",
         "showlegend": true,
         "textposition": "auto",
         "type": "bar",
         "x": [
          "USA"
         ],
         "xaxis": "x",
         "y": [
          194
         ],
         "yaxis": "y"
        },
        {
         "alignmentgroup": "True",
         "hovertemplate": "NOC=%{x}<br>Medal=%{y}<extra></extra>",
         "legendgroup": "JPN",
         "marker": {
          "color": "#00cc96",
          "pattern": {
           "shape": ""
          }
         },
         "name": "JPN",
         "offsetgroup": "JPN",
         "orientation": "v",
         "showlegend": true,
         "textposition": "auto",
         "type": "bar",
         "x": [
          "JPN"
         ],
         "xaxis": "x",
         "y": [
          166
         ],
         "yaxis": "y"
        },
        {
         "alignmentgroup": "True",
         "hovertemplate": "NOC=%{x}<br>Medal=%{y}<extra></extra>",
         "legendgroup": "ROU",
         "marker": {
          "color": "#ab63fa",
          "pattern": {
           "shape": ""
          }
         },
         "name": "ROU",
         "offsetgroup": "ROU",
         "orientation": "v",
         "showlegend": true,
         "textposition": "auto",
         "type": "bar",
         "x": [
          "ROU"
         ],
         "xaxis": "x",
         "y": [
          135
         ],
         "yaxis": "y"
        },
        {
         "alignmentgroup": "True",
         "hovertemplate": "NOC=%{x}<br>Medal=%{y}<extra></extra>",
         "legendgroup": "NOR",
         "marker": {
          "color": "#FFA15A",
          "pattern": {
           "shape": ""
          }
         },
         "name": "NOR",
         "offsetgroup": "NOR",
         "orientation": "v",
         "showlegend": true,
         "textposition": "auto",
         "type": "bar",
         "x": [
          "NOR"
         ],
         "xaxis": "x",
         "y": [
          121
         ],
         "yaxis": "y"
        },
        {
         "alignmentgroup": "True",
         "hovertemplate": "NOC=%{x}<br>Medal=%{y}<extra></extra>",
         "legendgroup": "HUN",
         "marker": {
          "color": "#19d3f3",
          "pattern": {
           "shape": ""
          }
         },
         "name": "HUN",
         "offsetgroup": "HUN",
         "orientation": "v",
         "showlegend": true,
         "textposition": "auto",
         "type": "bar",
         "x": [
          "HUN"
         ],
         "xaxis": "x",
         "y": [
          111
         ],
         "yaxis": "y"
        },
        {
         "alignmentgroup": "True",
         "hovertemplate": "NOC=%{x}<br>Medal=%{y}<extra></extra>",
         "legendgroup": "DEN",
         "marker": {
          "color": "#FF6692",
          "pattern": {
           "shape": ""
          }
         },
         "name": "DEN",
         "offsetgroup": "DEN",
         "orientation": "v",
         "showlegend": true,
         "textposition": "auto",
         "type": "bar",
         "x": [
          "DEN"
         ],
         "xaxis": "x",
         "y": [
          111
         ],
         "yaxis": "y"
        },
        {
         "alignmentgroup": "True",
         "hovertemplate": "NOC=%{x}<br>Medal=%{y}<extra></extra>",
         "legendgroup": "ITA",
         "marker": {
          "color": "#B6E880",
          "pattern": {
           "shape": ""
          }
         },
         "name": "ITA",
         "offsetgroup": "ITA",
         "orientation": "v",
         "showlegend": true,
         "textposition": "auto",
         "type": "bar",
         "x": [
          "ITA"
         ],
         "xaxis": "x",
         "y": [
          109
         ],
         "yaxis": "y"
        },
        {
         "alignmentgroup": "True",
         "hovertemplate": "NOC=%{x}<br>Medal=%{y}<extra></extra>",
         "legendgroup": "CHN",
         "marker": {
          "color": "#FF97FF",
          "pattern": {
           "shape": ""
          }
         },
         "name": "CHN",
         "offsetgroup": "CHN",
         "orientation": "v",
         "showlegend": true,
         "textposition": "auto",
         "type": "bar",
         "x": [
          "CHN"
         ],
         "xaxis": "x",
         "y": [
          109
         ],
         "yaxis": "y"
        },
        {
         "alignmentgroup": "True",
         "hovertemplate": "NOC=%{x}<br>Medal=%{y}<extra></extra>",
         "legendgroup": "SWE",
         "marker": {
          "color": "#FECB52",
          "pattern": {
           "shape": ""
          }
         },
         "name": "SWE",
         "offsetgroup": "SWE",
         "orientation": "v",
         "showlegend": true,
         "textposition": "auto",
         "type": "bar",
         "x": [
          "SWE"
         ],
         "xaxis": "x",
         "y": [
          103
         ],
         "yaxis": "y"
        },
        {
         "alignmentgroup": "True",
         "hovertemplate": "NOC=%{x}<br>Medal=%{y}<extra></extra>",
         "legendgroup": "FIN",
         "marker": {
          "color": "#636efa",
          "pattern": {
           "shape": ""
          }
         },
         "name": "FIN",
         "offsetgroup": "FIN",
         "orientation": "v",
         "showlegend": true,
         "textposition": "auto",
         "type": "bar",
         "x": [
          "FIN"
         ],
         "xaxis": "x",
         "y": [
          99
         ],
         "yaxis": "y"
        },
        {
         "alignmentgroup": "True",
         "hovertemplate": "NOC=%{x}<br>Medal=%{y}<extra></extra>",
         "legendgroup": "GDR",
         "marker": {
          "color": "#EF553B",
          "pattern": {
           "shape": ""
          }
         },
         "name": "GDR",
         "offsetgroup": "GDR",
         "orientation": "v",
         "showlegend": true,
         "textposition": "auto",
         "type": "bar",
         "x": [
          "GDR"
         ],
         "xaxis": "x",
         "y": [
          86
         ],
         "yaxis": "y"
        },
        {
         "alignmentgroup": "True",
         "hovertemplate": "NOC=%{x}<br>Medal=%{y}<extra></extra>",
         "legendgroup": "SUI",
         "marker": {
          "color": "#00cc96",
          "pattern": {
           "shape": ""
          }
         },
         "name": "SUI",
         "offsetgroup": "SUI",
         "orientation": "v",
         "showlegend": true,
         "textposition": "auto",
         "type": "bar",
         "x": [
          "SUI"
         ],
         "xaxis": "x",
         "y": [
          84
         ],
         "yaxis": "y"
        },
        {
         "alignmentgroup": "True",
         "hovertemplate": "NOC=%{x}<br>Medal=%{y}<extra></extra>",
         "legendgroup": "RUS",
         "marker": {
          "color": "#ab63fa",
          "pattern": {
           "shape": ""
          }
         },
         "name": "RUS",
         "offsetgroup": "RUS",
         "orientation": "v",
         "showlegend": true,
         "textposition": "auto",
         "type": "bar",
         "x": [
          "RUS"
         ],
         "xaxis": "x",
         "y": [
          83
         ],
         "yaxis": "y"
        },
        {
         "alignmentgroup": "True",
         "hovertemplate": "NOC=%{x}<br>Medal=%{y}<extra></extra>",
         "legendgroup": "TCH",
         "marker": {
          "color": "#FFA15A",
          "pattern": {
           "shape": ""
          }
         },
         "name": "TCH",
         "offsetgroup": "TCH",
         "orientation": "v",
         "showlegend": true,
         "textposition": "auto",
         "type": "bar",
         "x": [
          "TCH"
         ],
         "xaxis": "x",
         "y": [
          78
         ],
         "yaxis": "y"
        },
        {
         "alignmentgroup": "True",
         "hovertemplate": "NOC=%{x}<br>Medal=%{y}<extra></extra>",
         "legendgroup": "GER",
         "marker": {
          "color": "#19d3f3",
          "pattern": {
           "shape": ""
          }
         },
         "name": "GER",
         "offsetgroup": "GER",
         "orientation": "v",
         "showlegend": true,
         "textposition": "auto",
         "type": "bar",
         "x": [
          "GER"
         ],
         "xaxis": "x",
         "y": [
          77
         ],
         "yaxis": "y"
        },
        {
         "alignmentgroup": "True",
         "hovertemplate": "NOC=%{x}<br>Medal=%{y}<extra></extra>",
         "legendgroup": "FRA",
         "marker": {
          "color": "#FF6692",
          "pattern": {
           "shape": ""
          }
         },
         "name": "FRA",
         "offsetgroup": "FRA",
         "orientation": "v",
         "showlegend": true,
         "textposition": "auto",
         "type": "bar",
         "x": [
          "FRA"
         ],
         "xaxis": "x",
         "y": [
          58
         ],
         "yaxis": "y"
        },
        {
         "alignmentgroup": "True",
         "hovertemplate": "NOC=%{x}<br>Medal=%{y}<extra></extra>",
         "legendgroup": "GBR",
         "marker": {
          "color": "#B6E880",
          "pattern": {
           "shape": ""
          }
         },
         "name": "GBR",
         "offsetgroup": "GBR",
         "orientation": "v",
         "showlegend": true,
         "textposition": "auto",
         "type": "bar",
         "x": [
          "GBR"
         ],
         "xaxis": "x",
         "y": [
          51
         ],
         "yaxis": "y"
        },
        {
         "alignmentgroup": "True",
         "hovertemplate": "NOC=%{x}<br>Medal=%{y}<extra></extra>",
         "legendgroup": "BEL",
         "marker": {
          "color": "#FF97FF",
          "pattern": {
           "shape": ""
          }
         },
         "name": "BEL",
         "offsetgroup": "BEL",
         "orientation": "v",
         "showlegend": true,
         "textposition": "auto",
         "type": "bar",
         "x": [
          "BEL"
         ],
         "xaxis": "x",
         "y": [
          48
         ],
         "yaxis": "y"
        },
        {
         "alignmentgroup": "True",
         "hovertemplate": "NOC=%{x}<br>Medal=%{y}<extra></extra>",
         "legendgroup": "EUN",
         "marker": {
          "color": "#FECB52",
          "pattern": {
           "shape": ""
          }
         },
         "name": "EUN",
         "offsetgroup": "EUN",
         "orientation": "v",
         "showlegend": true,
         "textposition": "auto",
         "type": "bar",
         "x": [
          "EUN"
         ],
         "xaxis": "x",
         "y": [
          28
         ],
         "yaxis": "y"
        },
        {
         "alignmentgroup": "True",
         "hovertemplate": "NOC=%{x}<br>Medal=%{y}<extra></extra>",
         "legendgroup": "UKR",
         "marker": {
          "color": "#636efa",
          "pattern": {
           "shape": ""
          }
         },
         "name": "UKR",
         "offsetgroup": "UKR",
         "orientation": "v",
         "showlegend": true,
         "textposition": "auto",
         "type": "bar",
         "x": [
          "UKR"
         ],
         "xaxis": "x",
         "y": [
          23
         ],
         "yaxis": "y"
        },
        {
         "alignmentgroup": "True",
         "hovertemplate": "NOC=%{x}<br>Medal=%{y}<extra></extra>",
         "legendgroup": "YUG",
         "marker": {
          "color": "#EF553B",
          "pattern": {
           "shape": ""
          }
         },
         "name": "YUG",
         "offsetgroup": "YUG",
         "orientation": "v",
         "showlegend": true,
         "textposition": "auto",
         "type": "bar",
         "x": [
          "YUG"
         ],
         "xaxis": "x",
         "y": [
          18
         ],
         "yaxis": "y"
        },
        {
         "alignmentgroup": "True",
         "hovertemplate": "NOC=%{x}<br>Medal=%{y}<extra></extra>",
         "legendgroup": "GRE",
         "marker": {
          "color": "#00cc96",
          "pattern": {
           "shape": ""
          }
         },
         "name": "GRE",
         "offsetgroup": "GRE",
         "orientation": "v",
         "showlegend": true,
         "textposition": "auto",
         "type": "bar",
         "x": [
          "GRE"
         ],
         "xaxis": "x",
         "y": [
          12
         ],
         "yaxis": "y"
        },
        {
         "alignmentgroup": "True",
         "hovertemplate": "NOC=%{x}<br>Medal=%{y}<extra></extra>",
         "legendgroup": "NED",
         "marker": {
          "color": "#ab63fa",
          "pattern": {
           "shape": ""
          }
         },
         "name": "NED",
         "offsetgroup": "NED",
         "orientation": "v",
         "showlegend": true,
         "textposition": "auto",
         "type": "bar",
         "x": [
          "NED"
         ],
         "xaxis": "x",
         "y": [
          12
         ],
         "yaxis": "y"
        },
        {
         "alignmentgroup": "True",
         "hovertemplate": "NOC=%{x}<br>Medal=%{y}<extra></extra>",
         "legendgroup": "BUL",
         "marker": {
          "color": "#FFA15A",
          "pattern": {
           "shape": ""
          }
         },
         "name": "BUL",
         "offsetgroup": "BUL",
         "orientation": "v",
         "showlegend": true,
         "textposition": "auto",
         "type": "bar",
         "x": [
          "BUL"
         ],
         "xaxis": "x",
         "y": [
          10
         ],
         "yaxis": "y"
        },
        {
         "alignmentgroup": "True",
         "hovertemplate": "NOC=%{x}<br>Medal=%{y}<extra></extra>",
         "legendgroup": "KOR",
         "marker": {
          "color": "#19d3f3",
          "pattern": {
           "shape": ""
          }
         },
         "name": "KOR",
         "offsetgroup": "KOR",
         "orientation": "v",
         "showlegend": true,
         "textposition": "auto",
         "type": "bar",
         "x": [
          "KOR"
         ],
         "xaxis": "x",
         "y": [
          9
         ],
         "yaxis": "y"
        },
        {
         "alignmentgroup": "True",
         "hovertemplate": "NOC=%{x}<br>Medal=%{y}<extra></extra>",
         "legendgroup": "POL",
         "marker": {
          "color": "#FF6692",
          "pattern": {
           "shape": ""
          }
         },
         "name": "POL",
         "offsetgroup": "POL",
         "orientation": "v",
         "showlegend": true,
         "textposition": "auto",
         "type": "bar",
         "x": [
          "POL"
         ],
         "xaxis": "x",
         "y": [
          9
         ],
         "yaxis": "y"
        },
        {
         "alignmentgroup": "True",
         "hovertemplate": "NOC=%{x}<br>Medal=%{y}<extra></extra>",
         "legendgroup": "BLR",
         "marker": {
          "color": "#B6E880",
          "pattern": {
           "shape": ""
          }
         },
         "name": "BLR",
         "offsetgroup": "BLR",
         "orientation": "v",
         "showlegend": true,
         "textposition": "auto",
         "type": "bar",
         "x": [
          "BLR"
         ],
         "xaxis": "x",
         "y": [
          4
         ],
         "yaxis": "y"
        },
        {
         "alignmentgroup": "True",
         "hovertemplate": "NOC=%{x}<br>Medal=%{y}<extra></extra>",
         "legendgroup": "BRA",
         "marker": {
          "color": "#FF97FF",
          "pattern": {
           "shape": ""
          }
         },
         "name": "BRA",
         "offsetgroup": "BRA",
         "orientation": "v",
         "showlegend": true,
         "textposition": "auto",
         "type": "bar",
         "x": [
          "BRA"
         ],
         "xaxis": "x",
         "y": [
          4
         ],
         "yaxis": "y"
        },
        {
         "alignmentgroup": "True",
         "hovertemplate": "NOC=%{x}<br>Medal=%{y}<extra></extra>",
         "legendgroup": "ESP",
         "marker": {
          "color": "#FECB52",
          "pattern": {
           "shape": ""
          }
         },
         "name": "ESP",
         "offsetgroup": "ESP",
         "orientation": "v",
         "showlegend": true,
         "textposition": "auto",
         "type": "bar",
         "x": [
          "ESP"
         ],
         "xaxis": "x",
         "y": [
          4
         ],
         "yaxis": "y"
        },
        {
         "alignmentgroup": "True",
         "hovertemplate": "NOC=%{x}<br>Medal=%{y}<extra></extra>",
         "legendgroup": "AUT",
         "marker": {
          "color": "#636efa",
          "pattern": {
           "shape": ""
          }
         },
         "name": "AUT",
         "offsetgroup": "AUT",
         "orientation": "v",
         "showlegend": true,
         "textposition": "auto",
         "type": "bar",
         "x": [
          "AUT"
         ],
         "xaxis": "x",
         "y": [
          3
         ],
         "yaxis": "y"
        },
        {
         "alignmentgroup": "True",
         "hovertemplate": "NOC=%{x}<br>Medal=%{y}<extra></extra>",
         "legendgroup": "PRK",
         "marker": {
          "color": "#EF553B",
          "pattern": {
           "shape": ""
          }
         },
         "name": "PRK",
         "offsetgroup": "PRK",
         "orientation": "v",
         "showlegend": true,
         "textposition": "auto",
         "type": "bar",
         "x": [
          "PRK"
         ],
         "xaxis": "x",
         "y": [
          3
         ],
         "yaxis": "y"
        },
        {
         "alignmentgroup": "True",
         "hovertemplate": "NOC=%{x}<br>Medal=%{y}<extra></extra>",
         "legendgroup": "LAT",
         "marker": {
          "color": "#00cc96",
          "pattern": {
           "shape": ""
          }
         },
         "name": "LAT",
         "offsetgroup": "LAT",
         "orientation": "v",
         "showlegend": true,
         "textposition": "auto",
         "type": "bar",
         "x": [
          "LAT"
         ],
         "xaxis": "x",
         "y": [
          2
         ],
         "yaxis": "y"
        },
        {
         "alignmentgroup": "True",
         "hovertemplate": "NOC=%{x}<br>Medal=%{y}<extra></extra>",
         "legendgroup": "FRG",
         "marker": {
          "color": "#ab63fa",
          "pattern": {
           "shape": ""
          }
         },
         "name": "FRG",
         "offsetgroup": "FRG",
         "orientation": "v",
         "showlegend": true,
         "textposition": "auto",
         "type": "bar",
         "x": [
          "FRG"
         ],
         "xaxis": "x",
         "y": [
          1
         ],
         "yaxis": "y"
        },
        {
         "alignmentgroup": "True",
         "hovertemplate": "NOC=%{x}<br>Medal=%{y}<extra></extra>",
         "legendgroup": "CAN",
         "marker": {
          "color": "#FFA15A",
          "pattern": {
           "shape": ""
          }
         },
         "name": "CAN",
         "offsetgroup": "CAN",
         "orientation": "v",
         "showlegend": true,
         "textposition": "auto",
         "type": "bar",
         "x": [
          "CAN"
         ],
         "xaxis": "x",
         "y": [
          1
         ],
         "yaxis": "y"
        },
        {
         "alignmentgroup": "True",
         "hovertemplate": "NOC=%{x}<br>Medal=%{y}<extra></extra>",
         "legendgroup": "CRO",
         "marker": {
          "color": "#19d3f3",
          "pattern": {
           "shape": ""
          }
         },
         "name": "CRO",
         "offsetgroup": "CRO",
         "orientation": "v",
         "showlegend": true,
         "textposition": "auto",
         "type": "bar",
         "x": [
          "CRO"
         ],
         "xaxis": "x",
         "y": [
          1
         ],
         "yaxis": "y"
        },
        {
         "alignmentgroup": "True",
         "hovertemplate": "NOC=%{x}<br>Medal=%{y}<extra></extra>",
         "legendgroup": "UZB",
         "marker": {
          "color": "#FF6692",
          "pattern": {
           "shape": ""
          }
         },
         "name": "UZB",
         "offsetgroup": "UZB",
         "orientation": "v",
         "showlegend": true,
         "textposition": "auto",
         "type": "bar",
         "x": [
          "UZB"
         ],
         "xaxis": "x",
         "y": [
          1
         ],
         "yaxis": "y"
        }
       ],
       "layout": {
        "barmode": "relative",
        "legend": {
         "title": {
          "text": "NOC"
         },
         "tracegroupgap": 0
        },
        "template": {
         "data": {
          "bar": [
           {
            "error_x": {
             "color": "#2a3f5f"
            },
            "error_y": {
             "color": "#2a3f5f"
            },
            "marker": {
             "line": {
              "color": "#E5ECF6",
              "width": 0.5
             },
             "pattern": {
              "fillmode": "overlay",
              "size": 10,
              "solidity": 0.2
             }
            },
            "type": "bar"
           }
          ],
          "barpolar": [
           {
            "marker": {
             "line": {
              "color": "#E5ECF6",
              "width": 0.5
             },
             "pattern": {
              "fillmode": "overlay",
              "size": 10,
              "solidity": 0.2
             }
            },
            "type": "barpolar"
           }
          ],
          "carpet": [
           {
            "aaxis": {
             "endlinecolor": "#2a3f5f",
             "gridcolor": "white",
             "linecolor": "white",
             "minorgridcolor": "white",
             "startlinecolor": "#2a3f5f"
            },
            "baxis": {
             "endlinecolor": "#2a3f5f",
             "gridcolor": "white",
             "linecolor": "white",
             "minorgridcolor": "white",
             "startlinecolor": "#2a3f5f"
            },
            "type": "carpet"
           }
          ],
          "choropleth": [
           {
            "colorbar": {
             "outlinewidth": 0,
             "ticks": ""
            },
            "type": "choropleth"
           }
          ],
          "contour": [
           {
            "colorbar": {
             "outlinewidth": 0,
             "ticks": ""
            },
            "colorscale": [
             [
              0,
              "#0d0887"
             ],
             [
              0.1111111111111111,
              "#46039f"
             ],
             [
              0.2222222222222222,
              "#7201a8"
             ],
             [
              0.3333333333333333,
              "#9c179e"
             ],
             [
              0.4444444444444444,
              "#bd3786"
             ],
             [
              0.5555555555555556,
              "#d8576b"
             ],
             [
              0.6666666666666666,
              "#ed7953"
             ],
             [
              0.7777777777777778,
              "#fb9f3a"
             ],
             [
              0.8888888888888888,
              "#fdca26"
             ],
             [
              1,
              "#f0f921"
             ]
            ],
            "type": "contour"
           }
          ],
          "contourcarpet": [
           {
            "colorbar": {
             "outlinewidth": 0,
             "ticks": ""
            },
            "type": "contourcarpet"
           }
          ],
          "heatmap": [
           {
            "colorbar": {
             "outlinewidth": 0,
             "ticks": ""
            },
            "colorscale": [
             [
              0,
              "#0d0887"
             ],
             [
              0.1111111111111111,
              "#46039f"
             ],
             [
              0.2222222222222222,
              "#7201a8"
             ],
             [
              0.3333333333333333,
              "#9c179e"
             ],
             [
              0.4444444444444444,
              "#bd3786"
             ],
             [
              0.5555555555555556,
              "#d8576b"
             ],
             [
              0.6666666666666666,
              "#ed7953"
             ],
             [
              0.7777777777777778,
              "#fb9f3a"
             ],
             [
              0.8888888888888888,
              "#fdca26"
             ],
             [
              1,
              "#f0f921"
             ]
            ],
            "type": "heatmap"
           }
          ],
          "heatmapgl": [
           {
            "colorbar": {
             "outlinewidth": 0,
             "ticks": ""
            },
            "colorscale": [
             [
              0,
              "#0d0887"
             ],
             [
              0.1111111111111111,
              "#46039f"
             ],
             [
              0.2222222222222222,
              "#7201a8"
             ],
             [
              0.3333333333333333,
              "#9c179e"
             ],
             [
              0.4444444444444444,
              "#bd3786"
             ],
             [
              0.5555555555555556,
              "#d8576b"
             ],
             [
              0.6666666666666666,
              "#ed7953"
             ],
             [
              0.7777777777777778,
              "#fb9f3a"
             ],
             [
              0.8888888888888888,
              "#fdca26"
             ],
             [
              1,
              "#f0f921"
             ]
            ],
            "type": "heatmapgl"
           }
          ],
          "histogram": [
           {
            "marker": {
             "pattern": {
              "fillmode": "overlay",
              "size": 10,
              "solidity": 0.2
             }
            },
            "type": "histogram"
           }
          ],
          "histogram2d": [
           {
            "colorbar": {
             "outlinewidth": 0,
             "ticks": ""
            },
            "colorscale": [
             [
              0,
              "#0d0887"
             ],
             [
              0.1111111111111111,
              "#46039f"
             ],
             [
              0.2222222222222222,
              "#7201a8"
             ],
             [
              0.3333333333333333,
              "#9c179e"
             ],
             [
              0.4444444444444444,
              "#bd3786"
             ],
             [
              0.5555555555555556,
              "#d8576b"
             ],
             [
              0.6666666666666666,
              "#ed7953"
             ],
             [
              0.7777777777777778,
              "#fb9f3a"
             ],
             [
              0.8888888888888888,
              "#fdca26"
             ],
             [
              1,
              "#f0f921"
             ]
            ],
            "type": "histogram2d"
           }
          ],
          "histogram2dcontour": [
           {
            "colorbar": {
             "outlinewidth": 0,
             "ticks": ""
            },
            "colorscale": [
             [
              0,
              "#0d0887"
             ],
             [
              0.1111111111111111,
              "#46039f"
             ],
             [
              0.2222222222222222,
              "#7201a8"
             ],
             [
              0.3333333333333333,
              "#9c179e"
             ],
             [
              0.4444444444444444,
              "#bd3786"
             ],
             [
              0.5555555555555556,
              "#d8576b"
             ],
             [
              0.6666666666666666,
              "#ed7953"
             ],
             [
              0.7777777777777778,
              "#fb9f3a"
             ],
             [
              0.8888888888888888,
              "#fdca26"
             ],
             [
              1,
              "#f0f921"
             ]
            ],
            "type": "histogram2dcontour"
           }
          ],
          "mesh3d": [
           {
            "colorbar": {
             "outlinewidth": 0,
             "ticks": ""
            },
            "type": "mesh3d"
           }
          ],
          "parcoords": [
           {
            "line": {
             "colorbar": {
              "outlinewidth": 0,
              "ticks": ""
             }
            },
            "type": "parcoords"
           }
          ],
          "pie": [
           {
            "automargin": true,
            "type": "pie"
           }
          ],
          "scatter": [
           {
            "fillpattern": {
             "fillmode": "overlay",
             "size": 10,
             "solidity": 0.2
            },
            "type": "scatter"
           }
          ],
          "scatter3d": [
           {
            "line": {
             "colorbar": {
              "outlinewidth": 0,
              "ticks": ""
             }
            },
            "marker": {
             "colorbar": {
              "outlinewidth": 0,
              "ticks": ""
             }
            },
            "type": "scatter3d"
           }
          ],
          "scattercarpet": [
           {
            "marker": {
             "colorbar": {
              "outlinewidth": 0,
              "ticks": ""
             }
            },
            "type": "scattercarpet"
           }
          ],
          "scattergeo": [
           {
            "marker": {
             "colorbar": {
              "outlinewidth": 0,
              "ticks": ""
             }
            },
            "type": "scattergeo"
           }
          ],
          "scattergl": [
           {
            "marker": {
             "colorbar": {
              "outlinewidth": 0,
              "ticks": ""
             }
            },
            "type": "scattergl"
           }
          ],
          "scattermapbox": [
           {
            "marker": {
             "colorbar": {
              "outlinewidth": 0,
              "ticks": ""
             }
            },
            "type": "scattermapbox"
           }
          ],
          "scatterpolar": [
           {
            "marker": {
             "colorbar": {
              "outlinewidth": 0,
              "ticks": ""
             }
            },
            "type": "scatterpolar"
           }
          ],
          "scatterpolargl": [
           {
            "marker": {
             "colorbar": {
              "outlinewidth": 0,
              "ticks": ""
             }
            },
            "type": "scatterpolargl"
           }
          ],
          "scatterternary": [
           {
            "marker": {
             "colorbar": {
              "outlinewidth": 0,
              "ticks": ""
             }
            },
            "type": "scatterternary"
           }
          ],
          "surface": [
           {
            "colorbar": {
             "outlinewidth": 0,
             "ticks": ""
            },
            "colorscale": [
             [
              0,
              "#0d0887"
             ],
             [
              0.1111111111111111,
              "#46039f"
             ],
             [
              0.2222222222222222,
              "#7201a8"
             ],
             [
              0.3333333333333333,
              "#9c179e"
             ],
             [
              0.4444444444444444,
              "#bd3786"
             ],
             [
              0.5555555555555556,
              "#d8576b"
             ],
             [
              0.6666666666666666,
              "#ed7953"
             ],
             [
              0.7777777777777778,
              "#fb9f3a"
             ],
             [
              0.8888888888888888,
              "#fdca26"
             ],
             [
              1,
              "#f0f921"
             ]
            ],
            "type": "surface"
           }
          ],
          "table": [
           {
            "cells": {
             "fill": {
              "color": "#EBF0F8"
             },
             "line": {
              "color": "white"
             }
            },
            "header": {
             "fill": {
              "color": "#C8D4E3"
             },
             "line": {
              "color": "white"
             }
            },
            "type": "table"
           }
          ]
         },
         "layout": {
          "annotationdefaults": {
           "arrowcolor": "#2a3f5f",
           "arrowhead": 0,
           "arrowwidth": 1
          },
          "autotypenumbers": "strict",
          "coloraxis": {
           "colorbar": {
            "outlinewidth": 0,
            "ticks": ""
           }
          },
          "colorscale": {
           "diverging": [
            [
             0,
             "#8e0152"
            ],
            [
             0.1,
             "#c51b7d"
            ],
            [
             0.2,
             "#de77ae"
            ],
            [
             0.3,
             "#f1b6da"
            ],
            [
             0.4,
             "#fde0ef"
            ],
            [
             0.5,
             "#f7f7f7"
            ],
            [
             0.6,
             "#e6f5d0"
            ],
            [
             0.7,
             "#b8e186"
            ],
            [
             0.8,
             "#7fbc41"
            ],
            [
             0.9,
             "#4d9221"
            ],
            [
             1,
             "#276419"
            ]
           ],
           "sequential": [
            [
             0,
             "#0d0887"
            ],
            [
             0.1111111111111111,
             "#46039f"
            ],
            [
             0.2222222222222222,
             "#7201a8"
            ],
            [
             0.3333333333333333,
             "#9c179e"
            ],
            [
             0.4444444444444444,
             "#bd3786"
            ],
            [
             0.5555555555555556,
             "#d8576b"
            ],
            [
             0.6666666666666666,
             "#ed7953"
            ],
            [
             0.7777777777777778,
             "#fb9f3a"
            ],
            [
             0.8888888888888888,
             "#fdca26"
            ],
            [
             1,
             "#f0f921"
            ]
           ],
           "sequentialminus": [
            [
             0,
             "#0d0887"
            ],
            [
             0.1111111111111111,
             "#46039f"
            ],
            [
             0.2222222222222222,
             "#7201a8"
            ],
            [
             0.3333333333333333,
             "#9c179e"
            ],
            [
             0.4444444444444444,
             "#bd3786"
            ],
            [
             0.5555555555555556,
             "#d8576b"
            ],
            [
             0.6666666666666666,
             "#ed7953"
            ],
            [
             0.7777777777777778,
             "#fb9f3a"
            ],
            [
             0.8888888888888888,
             "#fdca26"
            ],
            [
             1,
             "#f0f921"
            ]
           ]
          },
          "colorway": [
           "#636efa",
           "#EF553B",
           "#00cc96",
           "#ab63fa",
           "#FFA15A",
           "#19d3f3",
           "#FF6692",
           "#B6E880",
           "#FF97FF",
           "#FECB52"
          ],
          "font": {
           "color": "#2a3f5f"
          },
          "geo": {
           "bgcolor": "white",
           "lakecolor": "white",
           "landcolor": "#E5ECF6",
           "showlakes": true,
           "showland": true,
           "subunitcolor": "white"
          },
          "hoverlabel": {
           "align": "left"
          },
          "hovermode": "closest",
          "mapbox": {
           "style": "light"
          },
          "paper_bgcolor": "white",
          "plot_bgcolor": "#E5ECF6",
          "polar": {
           "angularaxis": {
            "gridcolor": "white",
            "linecolor": "white",
            "ticks": ""
           },
           "bgcolor": "#E5ECF6",
           "radialaxis": {
            "gridcolor": "white",
            "linecolor": "white",
            "ticks": ""
           }
          },
          "scene": {
           "xaxis": {
            "backgroundcolor": "#E5ECF6",
            "gridcolor": "white",
            "gridwidth": 2,
            "linecolor": "white",
            "showbackground": true,
            "ticks": "",
            "zerolinecolor": "white"
           },
           "yaxis": {
            "backgroundcolor": "#E5ECF6",
            "gridcolor": "white",
            "gridwidth": 2,
            "linecolor": "white",
            "showbackground": true,
            "ticks": "",
            "zerolinecolor": "white"
           },
           "zaxis": {
            "backgroundcolor": "#E5ECF6",
            "gridcolor": "white",
            "gridwidth": 2,
            "linecolor": "white",
            "showbackground": true,
            "ticks": "",
            "zerolinecolor": "white"
           }
          },
          "shapedefaults": {
           "line": {
            "color": "#2a3f5f"
           }
          },
          "ternary": {
           "aaxis": {
            "gridcolor": "white",
            "linecolor": "white",
            "ticks": ""
           },
           "baxis": {
            "gridcolor": "white",
            "linecolor": "white",
            "ticks": ""
           },
           "bgcolor": "#E5ECF6",
           "caxis": {
            "gridcolor": "white",
            "linecolor": "white",
            "ticks": ""
           }
          },
          "title": {
           "x": 0.05
          },
          "xaxis": {
           "automargin": true,
           "gridcolor": "white",
           "linecolor": "white",
           "ticks": "",
           "title": {
            "standoff": 15
           },
           "zerolinecolor": "white",
           "zerolinewidth": 2
          },
          "yaxis": {
           "automargin": true,
           "gridcolor": "white",
           "linecolor": "white",
           "ticks": "",
           "title": {
            "standoff": 15
           },
           "zerolinecolor": "white",
           "zerolinewidth": 2
          }
         }
        },
        "title": {
         "text": "Total medals won in gymnastics for each country"
        },
        "xaxis": {
         "anchor": "y",
         "categoryarray": [
          "URS",
          "USA",
          "JPN",
          "ROU",
          "NOR",
          "HUN",
          "DEN",
          "ITA",
          "CHN",
          "SWE",
          "FIN",
          "GDR",
          "SUI",
          "RUS",
          "TCH",
          "GER",
          "FRA",
          "GBR",
          "BEL",
          "EUN",
          "UKR",
          "YUG",
          "GRE",
          "NED",
          "BUL",
          "KOR",
          "POL",
          "BLR",
          "BRA",
          "ESP",
          "AUT",
          "PRK",
          "LAT",
          "FRG",
          "CAN",
          "CRO",
          "UZB"
         ],
         "categoryorder": "array",
         "domain": [
          0,
          1
         ],
         "title": {
          "text": "NOC"
         }
        },
        "yaxis": {
         "anchor": "x",
         "domain": [
          0,
          1
         ],
         "title": {
          "text": "Medal"
         }
        }
       }
      }
     },
     "metadata": {},
     "output_type": "display_data"
    }
   ],
   "source": [
    "gymnastics = (df[\"Sport\"] == \"Gymnastics\") & (df[\"Medal\"].notna())\n",
    "df[gymnastics].head()\n",
    "\n",
    "medals_in_gymnastics = df[gymnastics].groupby(\"NOC\")[[\"Medal\"]].count().sort_values(by=\"Medal\",ascending=False).reset_index()\n",
    "\n",
    "fig = px.bar(medals_in_gymnastics,\n",
    "            x=\"NOC\",\n",
    "            y=\"Medal\",\n",
    "            color=\"NOC\",\n",
    "            title=\"Total medals won in gymnastics for each country\")\n",
    "fig.show()"
   ]
  },
  {
   "cell_type": "code",
   "execution_count": 15,
   "metadata": {},
   "outputs": [
    {
     "data": {
      "text/html": [
       "<div>\n",
       "<style scoped>\n",
       "    .dataframe tbody tr th:only-of-type {\n",
       "        vertical-align: middle;\n",
       "    }\n",
       "\n",
       "    .dataframe tbody tr th {\n",
       "        vertical-align: top;\n",
       "    }\n",
       "\n",
       "    .dataframe thead th {\n",
       "        text-align: right;\n",
       "    }\n",
       "</style>\n",
       "<table border=\"1\" class=\"dataframe\">\n",
       "  <thead>\n",
       "    <tr style=\"text-align: right;\">\n",
       "      <th></th>\n",
       "      <th>ID</th>\n",
       "      <th>Name</th>\n",
       "      <th>Sex</th>\n",
       "      <th>Age</th>\n",
       "      <th>Height</th>\n",
       "      <th>Weight</th>\n",
       "      <th>Team</th>\n",
       "      <th>NOC</th>\n",
       "      <th>Games</th>\n",
       "      <th>Year</th>\n",
       "      <th>Season</th>\n",
       "      <th>City</th>\n",
       "      <th>Sport</th>\n",
       "      <th>Event</th>\n",
       "      <th>Medal</th>\n",
       "    </tr>\n",
       "  </thead>\n",
       "  <tbody>\n",
       "    <tr>\n",
       "      <th>41</th>\n",
       "      <td>17</td>\n",
       "      <td>Paavo Johannes Aaltonen</td>\n",
       "      <td>M</td>\n",
       "      <td>28.0</td>\n",
       "      <td>175.0</td>\n",
       "      <td>64.0</td>\n",
       "      <td>Finland</td>\n",
       "      <td>FIN</td>\n",
       "      <td>1948 Summer</td>\n",
       "      <td>1948</td>\n",
       "      <td>Summer</td>\n",
       "      <td>London</td>\n",
       "      <td>Gymnastics</td>\n",
       "      <td>Gymnastics Men's Individual All-Around</td>\n",
       "      <td>Bronze</td>\n",
       "    </tr>\n",
       "    <tr>\n",
       "      <th>42</th>\n",
       "      <td>17</td>\n",
       "      <td>Paavo Johannes Aaltonen</td>\n",
       "      <td>M</td>\n",
       "      <td>28.0</td>\n",
       "      <td>175.0</td>\n",
       "      <td>64.0</td>\n",
       "      <td>Finland</td>\n",
       "      <td>FIN</td>\n",
       "      <td>1948 Summer</td>\n",
       "      <td>1948</td>\n",
       "      <td>Summer</td>\n",
       "      <td>London</td>\n",
       "      <td>Gymnastics</td>\n",
       "      <td>Gymnastics Men's Team All-Around</td>\n",
       "      <td>Gold</td>\n",
       "    </tr>\n",
       "    <tr>\n",
       "      <th>43</th>\n",
       "      <td>17</td>\n",
       "      <td>Paavo Johannes Aaltonen</td>\n",
       "      <td>M</td>\n",
       "      <td>28.0</td>\n",
       "      <td>175.0</td>\n",
       "      <td>64.0</td>\n",
       "      <td>Finland</td>\n",
       "      <td>FIN</td>\n",
       "      <td>1948 Summer</td>\n",
       "      <td>1948</td>\n",
       "      <td>Summer</td>\n",
       "      <td>London</td>\n",
       "      <td>Gymnastics</td>\n",
       "      <td>Gymnastics Men's Floor Exercise</td>\n",
       "      <td>NaN</td>\n",
       "    </tr>\n",
       "    <tr>\n",
       "      <th>44</th>\n",
       "      <td>17</td>\n",
       "      <td>Paavo Johannes Aaltonen</td>\n",
       "      <td>M</td>\n",
       "      <td>28.0</td>\n",
       "      <td>175.0</td>\n",
       "      <td>64.0</td>\n",
       "      <td>Finland</td>\n",
       "      <td>FIN</td>\n",
       "      <td>1948 Summer</td>\n",
       "      <td>1948</td>\n",
       "      <td>Summer</td>\n",
       "      <td>London</td>\n",
       "      <td>Gymnastics</td>\n",
       "      <td>Gymnastics Men's Horse Vault</td>\n",
       "      <td>Gold</td>\n",
       "    </tr>\n",
       "    <tr>\n",
       "      <th>45</th>\n",
       "      <td>17</td>\n",
       "      <td>Paavo Johannes Aaltonen</td>\n",
       "      <td>M</td>\n",
       "      <td>28.0</td>\n",
       "      <td>175.0</td>\n",
       "      <td>64.0</td>\n",
       "      <td>Finland</td>\n",
       "      <td>FIN</td>\n",
       "      <td>1948 Summer</td>\n",
       "      <td>1948</td>\n",
       "      <td>Summer</td>\n",
       "      <td>London</td>\n",
       "      <td>Gymnastics</td>\n",
       "      <td>Gymnastics Men's Parallel Bars</td>\n",
       "      <td>NaN</td>\n",
       "    </tr>\n",
       "  </tbody>\n",
       "</table>\n",
       "</div>"
      ],
      "text/plain": [
       "    ID                     Name Sex   Age  Height  Weight     Team  NOC  \\\n",
       "41  17  Paavo Johannes Aaltonen   M  28.0   175.0    64.0  Finland  FIN   \n",
       "42  17  Paavo Johannes Aaltonen   M  28.0   175.0    64.0  Finland  FIN   \n",
       "43  17  Paavo Johannes Aaltonen   M  28.0   175.0    64.0  Finland  FIN   \n",
       "44  17  Paavo Johannes Aaltonen   M  28.0   175.0    64.0  Finland  FIN   \n",
       "45  17  Paavo Johannes Aaltonen   M  28.0   175.0    64.0  Finland  FIN   \n",
       "\n",
       "          Games  Year  Season    City       Sport  \\\n",
       "41  1948 Summer  1948  Summer  London  Gymnastics   \n",
       "42  1948 Summer  1948  Summer  London  Gymnastics   \n",
       "43  1948 Summer  1948  Summer  London  Gymnastics   \n",
       "44  1948 Summer  1948  Summer  London  Gymnastics   \n",
       "45  1948 Summer  1948  Summer  London  Gymnastics   \n",
       "\n",
       "                                     Event   Medal  \n",
       "41  Gymnastics Men's Individual All-Around  Bronze  \n",
       "42        Gymnastics Men's Team All-Around    Gold  \n",
       "43         Gymnastics Men's Floor Exercise     NaN  \n",
       "44            Gymnastics Men's Horse Vault    Gold  \n",
       "45          Gymnastics Men's Parallel Bars     NaN  "
      ]
     },
     "execution_count": 15,
     "metadata": {},
     "output_type": "execute_result"
    }
   ],
   "source": [
    "# åldersfördelning i sporterna\n",
    "\n",
    "chosen_sports = [\"Weightlifting\", \"Archery\", \"Gymnastics\"]\n",
    "\n",
    "filt_df = df[df[\"Sport\"].isin(chosen_sports)]\n",
    "filt_df.head()"
   ]
  },
  {
   "cell_type": "code",
   "execution_count": 16,
   "metadata": {},
   "outputs": [
    {
     "data": {
      "application/vnd.plotly.v1+json": {
       "config": {
        "plotlyServerURL": "https://plot.ly"
       },
       "data": [
        {
         "alignmentgroup": "True",
         "hovertemplate": "Medal=Bronze<br>Sport=%{x}<br>Age=%{y}<extra></extra>",
         "legendgroup": "Bronze",
         "marker": {
          "color": "#636efa"
         },
         "name": "Bronze",
         "notched": false,
         "offsetgroup": "Bronze",
         "orientation": "v",
         "showlegend": true,
         "type": "box",
         "x": [
          "Gymnastics",
          "Gymnastics",
          "Gymnastics",
          "Gymnastics",
          "Gymnastics",
          "Gymnastics",
          "Gymnastics",
          "Gymnastics",
          "Weightlifting",
          "Weightlifting",
          "Gymnastics",
          "Gymnastics",
          "Gymnastics",
          "Gymnastics",
          "Gymnastics",
          "Gymnastics",
          "Gymnastics",
          "Gymnastics",
          "Weightlifting",
          "Gymnastics",
          "Gymnastics",
          "Gymnastics",
          "Gymnastics",
          "Weightlifting",
          "Gymnastics",
          "Archery",
          "Weightlifting",
          "Gymnastics",
          "Weightlifting",
          "Archery",
          "Weightlifting",
          "Gymnastics",
          "Gymnastics",
          "Gymnastics",
          "Archery",
          "Weightlifting",
          "Gymnastics",
          "Weightlifting",
          "Archery",
          "Gymnastics",
          "Weightlifting",
          "Gymnastics",
          "Weightlifting",
          "Gymnastics",
          "Gymnastics",
          "Weightlifting",
          "Gymnastics",
          "Gymnastics",
          "Gymnastics",
          "Gymnastics",
          "Gymnastics",
          "Weightlifting",
          "Gymnastics",
          "Gymnastics",
          "Weightlifting",
          "Gymnastics",
          "Weightlifting",
          "Gymnastics",
          "Gymnastics",
          "Gymnastics",
          "Gymnastics",
          "Gymnastics",
          "Archery",
          "Weightlifting",
          "Gymnastics",
          "Gymnastics",
          "Weightlifting",
          "Gymnastics",
          "Gymnastics",
          "Gymnastics",
          "Gymnastics",
          "Weightlifting",
          "Weightlifting",
          "Gymnastics",
          "Gymnastics",
          "Gymnastics",
          "Gymnastics",
          "Gymnastics",
          "Gymnastics",
          "Gymnastics",
          "Gymnastics",
          "Gymnastics",
          "Gymnastics",
          "Gymnastics",
          "Gymnastics",
          "Gymnastics",
          "Archery",
          "Gymnastics",
          "Archery",
          "Archery",
          "Gymnastics",
          "Gymnastics",
          "Archery",
          "Weightlifting",
          "Gymnastics",
          "Weightlifting",
          "Gymnastics",
          "Gymnastics",
          "Gymnastics",
          "Gymnastics",
          "Weightlifting",
          "Gymnastics",
          "Gymnastics",
          "Weightlifting",
          "Gymnastics",
          "Gymnastics",
          "Gymnastics",
          "Gymnastics",
          "Weightlifting",
          "Archery",
          "Weightlifting",
          "Gymnastics",
          "Gymnastics",
          "Gymnastics",
          "Weightlifting",
          "Gymnastics",
          "Weightlifting",
          "Weightlifting",
          "Gymnastics",
          "Gymnastics",
          "Gymnastics",
          "Weightlifting",
          "Weightlifting",
          "Gymnastics",
          "Weightlifting",
          "Gymnastics",
          "Gymnastics",
          "Gymnastics",
          "Weightlifting",
          "Gymnastics",
          "Gymnastics",
          "Gymnastics",
          "Gymnastics",
          "Gymnastics",
          "Gymnastics",
          "Gymnastics",
          "Archery",
          "Weightlifting",
          "Gymnastics",
          "Archery",
          "Archery",
          "Gymnastics",
          "Gymnastics",
          "Gymnastics",
          "Weightlifting",
          "Weightlifting",
          "Gymnastics",
          "Gymnastics",
          "Gymnastics",
          "Weightlifting",
          "Gymnastics",
          "Gymnastics",
          "Gymnastics",
          "Gymnastics",
          "Gymnastics",
          "Gymnastics",
          "Weightlifting",
          "Gymnastics",
          "Gymnastics",
          "Gymnastics",
          "Gymnastics",
          "Gymnastics",
          "Weightlifting",
          "Gymnastics",
          "Weightlifting",
          "Gymnastics",
          "Gymnastics",
          "Archery",
          "Gymnastics",
          "Gymnastics",
          "Gymnastics",
          "Gymnastics",
          "Gymnastics",
          "Gymnastics",
          "Gymnastics",
          "Weightlifting",
          "Gymnastics",
          "Gymnastics",
          "Gymnastics",
          "Weightlifting",
          "Gymnastics",
          "Gymnastics",
          "Weightlifting",
          "Gymnastics",
          "Gymnastics",
          "Gymnastics",
          "Archery",
          "Gymnastics",
          "Archery",
          "Weightlifting",
          "Gymnastics",
          "Gymnastics",
          "Archery",
          "Gymnastics",
          "Gymnastics",
          "Gymnastics",
          "Gymnastics",
          "Gymnastics",
          "Gymnastics",
          "Gymnastics",
          "Gymnastics",
          "Gymnastics",
          "Archery",
          "Gymnastics",
          "Weightlifting",
          "Archery",
          "Archery",
          "Gymnastics",
          "Gymnastics",
          "Archery",
          "Archery",
          "Gymnastics",
          "Gymnastics",
          "Archery",
          "Gymnastics",
          "Gymnastics",
          "Gymnastics",
          "Weightlifting",
          "Gymnastics",
          "Gymnastics",
          "Gymnastics",
          "Archery",
          "Gymnastics",
          "Gymnastics",
          "Weightlifting",
          "Gymnastics",
          "Gymnastics",
          "Gymnastics",
          "Gymnastics",
          "Weightlifting",
          "Archery",
          "Gymnastics",
          "Gymnastics",
          "Gymnastics",
          "Gymnastics",
          "Gymnastics",
          "Gymnastics",
          "Gymnastics",
          "Weightlifting",
          "Gymnastics",
          "Weightlifting",
          "Weightlifting",
          "Gymnastics",
          "Gymnastics",
          "Gymnastics",
          "Gymnastics",
          "Gymnastics",
          "Gymnastics",
          "Archery",
          "Weightlifting",
          "Weightlifting",
          "Gymnastics",
          "Gymnastics",
          "Gymnastics",
          "Gymnastics",
          "Gymnastics",
          "Gymnastics",
          "Gymnastics",
          "Gymnastics",
          "Gymnastics",
          "Archery",
          "Archery",
          "Weightlifting",
          "Gymnastics",
          "Weightlifting",
          "Gymnastics",
          "Gymnastics",
          "Gymnastics",
          "Gymnastics",
          "Gymnastics",
          "Gymnastics",
          "Gymnastics",
          "Gymnastics",
          "Gymnastics",
          "Gymnastics",
          "Gymnastics",
          "Weightlifting",
          "Archery",
          "Weightlifting",
          "Weightlifting",
          "Gymnastics",
          "Gymnastics",
          "Gymnastics",
          "Gymnastics",
          "Gymnastics",
          "Archery",
          "Gymnastics",
          "Gymnastics",
          "Gymnastics",
          "Archery",
          "Gymnastics",
          "Weightlifting",
          "Weightlifting",
          "Gymnastics",
          "Gymnastics",
          "Gymnastics",
          "Gymnastics",
          "Gymnastics",
          "Gymnastics",
          "Weightlifting",
          "Gymnastics",
          "Weightlifting",
          "Gymnastics",
          "Weightlifting",
          "Archery",
          "Gymnastics",
          "Gymnastics",
          "Gymnastics",
          "Gymnastics",
          "Weightlifting",
          "Weightlifting",
          "Weightlifting",
          "Gymnastics",
          "Gymnastics",
          "Gymnastics",
          "Archery",
          "Weightlifting",
          "Weightlifting",
          "Gymnastics",
          "Gymnastics",
          "Gymnastics",
          "Gymnastics",
          "Gymnastics",
          "Gymnastics",
          "Gymnastics",
          "Gymnastics",
          "Weightlifting",
          "Weightlifting",
          "Weightlifting",
          "Weightlifting",
          "Gymnastics",
          "Gymnastics",
          "Gymnastics",
          "Gymnastics",
          "Gymnastics",
          "Weightlifting",
          "Gymnastics",
          "Gymnastics",
          "Gymnastics",
          "Gymnastics",
          "Gymnastics",
          "Gymnastics",
          "Archery",
          "Gymnastics",
          "Archery",
          "Gymnastics",
          "Gymnastics",
          "Gymnastics",
          "Weightlifting",
          "Gymnastics",
          "Gymnastics",
          "Weightlifting",
          "Gymnastics",
          "Gymnastics",
          "Weightlifting",
          "Archery",
          "Gymnastics",
          "Gymnastics",
          "Gymnastics",
          "Gymnastics",
          "Gymnastics",
          "Weightlifting",
          "Gymnastics",
          "Gymnastics",
          "Gymnastics",
          "Archery",
          "Gymnastics",
          "Gymnastics",
          "Gymnastics",
          "Gymnastics",
          "Gymnastics",
          "Gymnastics",
          "Gymnastics",
          "Gymnastics",
          "Gymnastics",
          "Gymnastics",
          "Weightlifting",
          "Weightlifting",
          "Gymnastics",
          "Weightlifting",
          "Weightlifting",
          "Weightlifting",
          "Archery",
          "Weightlifting",
          "Weightlifting",
          "Archery",
          "Weightlifting",
          "Archery",
          "Weightlifting",
          "Weightlifting",
          "Weightlifting",
          "Archery",
          "Gymnastics",
          "Gymnastics",
          "Gymnastics",
          "Gymnastics",
          "Archery",
          "Gymnastics",
          "Gymnastics",
          "Gymnastics",
          "Gymnastics",
          "Weightlifting",
          "Gymnastics",
          "Gymnastics",
          "Gymnastics",
          "Gymnastics",
          "Gymnastics",
          "Gymnastics",
          "Gymnastics",
          "Gymnastics",
          "Gymnastics",
          "Gymnastics",
          "Gymnastics",
          "Gymnastics",
          "Gymnastics",
          "Gymnastics",
          "Weightlifting",
          "Gymnastics",
          "Gymnastics",
          "Gymnastics",
          "Gymnastics",
          "Gymnastics",
          "Gymnastics",
          "Gymnastics",
          "Gymnastics",
          "Weightlifting",
          "Gymnastics",
          "Gymnastics",
          "Gymnastics",
          "Gymnastics",
          "Gymnastics",
          "Weightlifting",
          "Weightlifting",
          "Gymnastics",
          "Weightlifting",
          "Weightlifting",
          "Weightlifting",
          "Gymnastics",
          "Archery",
          "Gymnastics",
          "Archery",
          "Gymnastics",
          "Gymnastics",
          "Weightlifting",
          "Gymnastics",
          "Gymnastics",
          "Gymnastics",
          "Gymnastics",
          "Gymnastics",
          "Gymnastics",
          "Gymnastics",
          "Weightlifting",
          "Gymnastics",
          "Gymnastics",
          "Archery",
          "Weightlifting",
          "Gymnastics",
          "Gymnastics",
          "Gymnastics",
          "Gymnastics",
          "Gymnastics",
          "Gymnastics",
          "Archery",
          "Gymnastics",
          "Gymnastics",
          "Gymnastics",
          "Gymnastics",
          "Gymnastics",
          "Gymnastics",
          "Weightlifting",
          "Gymnastics",
          "Archery",
          "Gymnastics",
          "Gymnastics",
          "Gymnastics",
          "Archery",
          "Gymnastics",
          "Gymnastics",
          "Gymnastics",
          "Gymnastics",
          "Gymnastics",
          "Weightlifting",
          "Gymnastics",
          "Gymnastics",
          "Gymnastics",
          "Gymnastics",
          "Gymnastics",
          "Gymnastics",
          "Gymnastics",
          "Weightlifting",
          "Gymnastics",
          "Gymnastics",
          "Weightlifting",
          "Gymnastics",
          "Weightlifting",
          "Weightlifting",
          "Gymnastics",
          "Gymnastics",
          "Gymnastics",
          "Gymnastics",
          "Gymnastics",
          "Archery",
          "Gymnastics",
          "Gymnastics",
          "Gymnastics",
          "Gymnastics",
          "Gymnastics",
          "Gymnastics",
          "Gymnastics",
          "Weightlifting",
          "Gymnastics",
          "Weightlifting",
          "Gymnastics",
          "Weightlifting",
          "Gymnastics",
          "Weightlifting",
          "Gymnastics",
          "Weightlifting",
          "Gymnastics",
          "Weightlifting",
          "Gymnastics",
          "Gymnastics",
          "Gymnastics",
          "Gymnastics",
          "Gymnastics",
          "Gymnastics",
          "Gymnastics",
          "Weightlifting",
          "Weightlifting",
          "Weightlifting",
          "Weightlifting",
          "Gymnastics",
          "Gymnastics",
          "Gymnastics",
          "Weightlifting",
          "Gymnastics",
          "Gymnastics",
          "Gymnastics",
          "Gymnastics",
          "Gymnastics",
          "Gymnastics",
          "Gymnastics",
          "Gymnastics",
          "Gymnastics",
          "Weightlifting",
          "Gymnastics",
          "Gymnastics",
          "Gymnastics",
          "Archery",
          "Weightlifting",
          "Archery",
          "Archery",
          "Gymnastics",
          "Gymnastics",
          "Gymnastics",
          "Gymnastics",
          "Gymnastics",
          "Gymnastics",
          "Gymnastics",
          "Gymnastics",
          "Gymnastics",
          "Gymnastics",
          "Gymnastics",
          "Gymnastics",
          "Gymnastics",
          "Gymnastics",
          "Gymnastics",
          "Gymnastics",
          "Weightlifting",
          "Weightlifting",
          "Gymnastics",
          "Weightlifting",
          "Weightlifting",
          "Gymnastics",
          "Gymnastics",
          "Gymnastics",
          "Gymnastics",
          "Gymnastics",
          "Gymnastics",
          "Gymnastics",
          "Gymnastics",
          "Gymnastics",
          "Weightlifting",
          "Weightlifting",
          "Gymnastics",
          "Gymnastics",
          "Gymnastics",
          "Gymnastics",
          "Gymnastics",
          "Gymnastics",
          "Gymnastics",
          "Gymnastics",
          "Gymnastics",
          "Gymnastics",
          "Gymnastics",
          "Gymnastics",
          "Gymnastics",
          "Weightlifting",
          "Weightlifting",
          "Gymnastics",
          "Gymnastics",
          "Gymnastics",
          "Gymnastics",
          "Gymnastics",
          "Gymnastics",
          "Weightlifting",
          "Weightlifting",
          "Gymnastics",
          "Gymnastics",
          "Weightlifting",
          "Gymnastics",
          "Gymnastics",
          "Gymnastics",
          "Gymnastics",
          "Weightlifting",
          "Gymnastics",
          "Gymnastics",
          "Gymnastics",
          "Gymnastics",
          "Gymnastics",
          "Weightlifting",
          "Weightlifting",
          "Gymnastics",
          "Archery",
          "Gymnastics",
          "Gymnastics",
          "Archery",
          "Weightlifting",
          "Gymnastics",
          "Archery",
          "Archery",
          "Weightlifting",
          "Gymnastics",
          "Gymnastics",
          "Weightlifting",
          "Gymnastics",
          "Gymnastics",
          "Gymnastics",
          "Gymnastics",
          "Gymnastics",
          "Gymnastics",
          "Gymnastics",
          "Gymnastics",
          "Gymnastics",
          "Weightlifting",
          "Gymnastics",
          "Gymnastics",
          "Gymnastics",
          "Gymnastics",
          "Gymnastics",
          "Weightlifting",
          "Archery",
          "Gymnastics",
          "Archery",
          "Gymnastics",
          "Weightlifting",
          "Gymnastics",
          "Gymnastics",
          "Gymnastics",
          "Gymnastics",
          "Gymnastics",
          "Gymnastics",
          "Gymnastics",
          "Gymnastics",
          "Gymnastics",
          "Gymnastics",
          "Gymnastics",
          "Gymnastics",
          "Weightlifting",
          "Weightlifting",
          "Gymnastics",
          "Archery",
          "Archery",
          "Gymnastics",
          "Weightlifting",
          "Weightlifting",
          "Weightlifting",
          "Gymnastics",
          "Gymnastics",
          "Archery",
          "Gymnastics",
          "Weightlifting",
          "Gymnastics",
          "Weightlifting",
          "Weightlifting",
          "Gymnastics",
          "Gymnastics",
          "Gymnastics",
          "Weightlifting",
          "Gymnastics",
          "Gymnastics",
          "Gymnastics",
          "Gymnastics",
          "Weightlifting",
          "Gymnastics",
          "Archery",
          "Archery",
          "Gymnastics",
          "Gymnastics",
          "Gymnastics",
          "Weightlifting",
          "Gymnastics",
          "Gymnastics",
          "Gymnastics",
          "Gymnastics",
          "Gymnastics",
          "Archery",
          "Gymnastics",
          "Gymnastics",
          "Archery",
          "Archery",
          "Gymnastics",
          "Gymnastics",
          "Gymnastics",
          "Archery",
          "Gymnastics",
          "Gymnastics",
          "Gymnastics",
          "Gymnastics",
          "Gymnastics",
          "Gymnastics",
          "Gymnastics",
          "Gymnastics",
          "Gymnastics",
          "Gymnastics",
          "Weightlifting",
          "Gymnastics",
          "Gymnastics",
          "Gymnastics",
          "Archery",
          "Archery",
          "Archery",
          "Gymnastics",
          "Gymnastics",
          "Weightlifting",
          "Weightlifting",
          "Weightlifting",
          "Gymnastics",
          "Weightlifting",
          "Gymnastics",
          "Archery",
          "Weightlifting",
          "Gymnastics",
          "Gymnastics",
          "Archery",
          "Weightlifting",
          "Weightlifting",
          "Gymnastics",
          "Gymnastics",
          "Weightlifting",
          "Gymnastics",
          "Weightlifting",
          "Gymnastics",
          "Gymnastics",
          "Gymnastics",
          "Gymnastics",
          "Archery",
          "Gymnastics",
          "Weightlifting",
          "Weightlifting",
          "Gymnastics",
          "Weightlifting",
          "Gymnastics",
          "Gymnastics",
          "Gymnastics",
          "Gymnastics",
          "Gymnastics",
          "Gymnastics",
          "Gymnastics",
          "Gymnastics",
          "Gymnastics",
          "Weightlifting",
          "Gymnastics",
          "Weightlifting",
          "Weightlifting",
          "Weightlifting",
          "Gymnastics",
          "Gymnastics",
          "Gymnastics",
          "Weightlifting",
          "Weightlifting",
          "Gymnastics",
          "Archery",
          "Gymnastics",
          "Gymnastics",
          "Gymnastics",
          "Gymnastics",
          "Gymnastics",
          "Gymnastics",
          "Gymnastics",
          "Weightlifting",
          "Archery",
          "Weightlifting",
          "Gymnastics",
          "Gymnastics",
          "Gymnastics",
          "Gymnastics",
          "Weightlifting",
          "Gymnastics",
          "Gymnastics",
          "Gymnastics",
          "Gymnastics",
          "Gymnastics",
          "Gymnastics",
          "Gymnastics",
          "Gymnastics",
          "Gymnastics",
          "Gymnastics",
          "Weightlifting",
          "Weightlifting",
          "Gymnastics",
          "Gymnastics",
          "Gymnastics",
          "Weightlifting",
          "Gymnastics",
          "Gymnastics",
          "Gymnastics",
          "Archery",
          "Weightlifting",
          "Weightlifting",
          "Gymnastics",
          "Gymnastics",
          "Gymnastics",
          "Gymnastics",
          "Gymnastics",
          "Gymnastics",
          "Gymnastics",
          "Gymnastics",
          "Gymnastics",
          "Gymnastics",
          "Gymnastics",
          "Gymnastics",
          "Gymnastics",
          "Gymnastics",
          "Gymnastics",
          "Gymnastics",
          "Gymnastics",
          "Gymnastics",
          "Gymnastics",
          "Gymnastics",
          "Gymnastics",
          "Weightlifting",
          "Gymnastics",
          "Weightlifting",
          "Gymnastics",
          "Gymnastics",
          "Gymnastics",
          "Gymnastics",
          "Gymnastics",
          "Gymnastics",
          "Gymnastics",
          "Weightlifting",
          "Gymnastics",
          "Gymnastics",
          "Weightlifting",
          "Gymnastics",
          "Gymnastics",
          "Gymnastics",
          "Gymnastics",
          "Gymnastics",
          "Gymnastics",
          "Gymnastics",
          "Weightlifting",
          "Gymnastics",
          "Gymnastics",
          "Archery",
          "Gymnastics",
          "Gymnastics",
          "Gymnastics",
          "Gymnastics",
          "Gymnastics",
          "Gymnastics",
          "Weightlifting",
          "Archery",
          "Archery",
          "Gymnastics",
          "Gymnastics",
          "Archery",
          "Archery",
          "Gymnastics",
          "Gymnastics",
          "Gymnastics",
          "Gymnastics",
          "Gymnastics",
          "Gymnastics",
          "Gymnastics",
          "Gymnastics",
          "Gymnastics",
          "Gymnastics",
          "Gymnastics",
          "Weightlifting",
          "Gymnastics",
          "Gymnastics",
          "Gymnastics",
          "Gymnastics",
          "Gymnastics",
          "Weightlifting",
          "Weightlifting",
          "Weightlifting",
          "Gymnastics",
          "Gymnastics",
          "Gymnastics",
          "Gymnastics",
          "Gymnastics",
          "Gymnastics",
          "Gymnastics",
          "Gymnastics",
          "Gymnastics",
          "Gymnastics",
          "Weightlifting",
          "Gymnastics",
          "Archery",
          "Weightlifting",
          "Gymnastics",
          "Weightlifting",
          "Gymnastics",
          "Gymnastics",
          "Gymnastics",
          "Gymnastics",
          "Gymnastics",
          "Gymnastics",
          "Archery",
          "Archery",
          "Weightlifting",
          "Gymnastics",
          "Archery",
          "Gymnastics",
          "Weightlifting",
          "Gymnastics",
          "Gymnastics",
          "Gymnastics",
          "Gymnastics",
          "Weightlifting",
          "Weightlifting",
          "Gymnastics",
          "Weightlifting",
          "Weightlifting",
          "Gymnastics",
          "Gymnastics",
          "Gymnastics",
          "Weightlifting",
          "Gymnastics",
          "Gymnastics",
          "Gymnastics",
          "Gymnastics",
          "Gymnastics",
          "Gymnastics",
          "Weightlifting",
          "Gymnastics",
          "Gymnastics",
          "Gymnastics",
          "Weightlifting",
          "Archery",
          "Gymnastics",
          "Gymnastics",
          "Gymnastics",
          "Gymnastics",
          "Gymnastics",
          "Archery",
          "Gymnastics",
          "Gymnastics",
          "Gymnastics",
          "Gymnastics",
          "Gymnastics",
          "Gymnastics",
          "Gymnastics",
          "Gymnastics",
          "Weightlifting",
          "Weightlifting",
          "Gymnastics",
          "Archery",
          "Gymnastics",
          "Gymnastics",
          "Gymnastics",
          "Gymnastics",
          "Gymnastics",
          "Gymnastics",
          "Weightlifting",
          "Archery",
          "Gymnastics",
          "Gymnastics",
          "Weightlifting",
          "Weightlifting",
          "Gymnastics",
          "Archery",
          "Weightlifting",
          "Weightlifting",
          "Archery",
          "Gymnastics",
          "Archery",
          "Weightlifting",
          "Weightlifting",
          "Archery",
          "Gymnastics",
          "Archery",
          "Gymnastics",
          "Gymnastics",
          "Gymnastics",
          "Gymnastics",
          "Gymnastics",
          "Weightlifting",
          "Gymnastics",
          "Gymnastics",
          "Archery",
          "Weightlifting",
          "Gymnastics",
          "Gymnastics",
          "Weightlifting",
          "Gymnastics",
          "Gymnastics",
          "Gymnastics",
          "Gymnastics",
          "Gymnastics",
          "Archery",
          "Archery",
          "Archery",
          "Gymnastics",
          "Gymnastics",
          "Weightlifting",
          "Weightlifting",
          "Weightlifting",
          "Gymnastics",
          "Gymnastics",
          "Weightlifting",
          "Gymnastics",
          "Gymnastics",
          "Weightlifting",
          "Weightlifting",
          "Weightlifting",
          "Gymnastics",
          "Gymnastics",
          "Gymnastics",
          "Gymnastics"
         ],
         "x0": " ",
         "xaxis": "x",
         "y": [
          28,
          32,
          19,
          24,
          26,
          16,
          16,
          21,
          23,
          24,
          21,
          16,
          16,
          20,
          26,
          20,
          22,
          26,
          26,
          19,
          23,
          27,
          25,
          21,
          null,
          28,
          28,
          22,
          28,
          34,
          25,
          20,
          23,
          27,
          18,
          null,
          29,
          24,
          32,
          24,
          25,
          28,
          24,
          24,
          18,
          29,
          24,
          26,
          18,
          22,
          24,
          27,
          22,
          22,
          null,
          19,
          28,
          24,
          27,
          19,
          21,
          27,
          19,
          30,
          23,
          23,
          28,
          17,
          24,
          15,
          22,
          27,
          21,
          18,
          20,
          23,
          25,
          26,
          25,
          29,
          null,
          26,
          19,
          20,
          24,
          24,
          44,
          19,
          26,
          40,
          16,
          null,
          41,
          28,
          28,
          30,
          25,
          20,
          22,
          29,
          22,
          24,
          20,
          30,
          null,
          null,
          34,
          18,
          28,
          23,
          26,
          21,
          20,
          20,
          29,
          25,
          22,
          27,
          22,
          30,
          35,
          23,
          30,
          22,
          23,
          null,
          27,
          null,
          27,
          14,
          22,
          27,
          25,
          21,
          17,
          21,
          17,
          28,
          22,
          21,
          42,
          25,
          18,
          32,
          25,
          23,
          15,
          19,
          23,
          32,
          null,
          21,
          null,
          26,
          25,
          45,
          24,
          24,
          35,
          35,
          29,
          22,
          25,
          26,
          32,
          25,
          22,
          34,
          16,
          26,
          15,
          23,
          23,
          18,
          29,
          24,
          null,
          22,
          20,
          24,
          29,
          29,
          21,
          null,
          30,
          31,
          21,
          19,
          27,
          23,
          28,
          29,
          61,
          17,
          25,
          19,
          23,
          33,
          20,
          22,
          16,
          30,
          38,
          25,
          27,
          33,
          37,
          null,
          19,
          32,
          null,
          25,
          19,
          20,
          22,
          27,
          27,
          26,
          25,
          29,
          27,
          34,
          23,
          23,
          21,
          18,
          21,
          null,
          24,
          27,
          50,
          15,
          15,
          17,
          17,
          17,
          23,
          23,
          23,
          26,
          28,
          21,
          20,
          25,
          21,
          22,
          17,
          19,
          53,
          22,
          24,
          18,
          27,
          20,
          27,
          27,
          31,
          31,
          31,
          26,
          23,
          27,
          30,
          20,
          26,
          33,
          24,
          24,
          25,
          20,
          null,
          21,
          24,
          null,
          20,
          26,
          17,
          24,
          27,
          21,
          21,
          22,
          25,
          26,
          20,
          null,
          24,
          22,
          27,
          40,
          19,
          26,
          26,
          26,
          34,
          29,
          null,
          24,
          29,
          26,
          22,
          28,
          22,
          21,
          20,
          15,
          29,
          20,
          15,
          27,
          20,
          26,
          17,
          17,
          21,
          27,
          28,
          21,
          27,
          19,
          null,
          null,
          25,
          16,
          21,
          24,
          19,
          19,
          23,
          22,
          18,
          22,
          24,
          24,
          20,
          28,
          16,
          20,
          26,
          20,
          31,
          20,
          26,
          19,
          45,
          24,
          20,
          18,
          26,
          29,
          23,
          23,
          19,
          26,
          26,
          23,
          25,
          25,
          null,
          25,
          25,
          17,
          24,
          22,
          26,
          20,
          17,
          21,
          31,
          31,
          26,
          20,
          24,
          24,
          17,
          16,
          25,
          26,
          25,
          24,
          28,
          24,
          28,
          31,
          25,
          21,
          35,
          22,
          23,
          29,
          33,
          29,
          21,
          26,
          18,
          36,
          23,
          19,
          17,
          20,
          24,
          27,
          25,
          26,
          21,
          22,
          26,
          20,
          20,
          20,
          20,
          20,
          21,
          25,
          29,
          18,
          24,
          20,
          27,
          null,
          16,
          20,
          20,
          null,
          23,
          20,
          16,
          21,
          24,
          19,
          19,
          25,
          25,
          24,
          26,
          22,
          25,
          18,
          18,
          27,
          26,
          26,
          34,
          26,
          29,
          34,
          27,
          21,
          25,
          29,
          29,
          28,
          18,
          18,
          26,
          23,
          27,
          23,
          20,
          37,
          31,
          23,
          36,
          34,
          22,
          21,
          21,
          25,
          20,
          24,
          20,
          22,
          23,
          18,
          20,
          23,
          19,
          24,
          24,
          23,
          21,
          20,
          21,
          21,
          18,
          17,
          17,
          26,
          24,
          28,
          24,
          10,
          23,
          25,
          30,
          22,
          30,
          17,
          21,
          21,
          21,
          31,
          20,
          28,
          23,
          29,
          20,
          22,
          null,
          32,
          26,
          22,
          null,
          25,
          19,
          25,
          22,
          30,
          23,
          21,
          16,
          20,
          23,
          22,
          15,
          20,
          22,
          23,
          20,
          20,
          25,
          23,
          null,
          null,
          30,
          19,
          22,
          22,
          null,
          31,
          22,
          null,
          31,
          14,
          24,
          19,
          19,
          23,
          39,
          23,
          null,
          27,
          26,
          26,
          26,
          26,
          24,
          22,
          19,
          25,
          15,
          15,
          15,
          15,
          15,
          19,
          19,
          23,
          21,
          23,
          25,
          30,
          23,
          23,
          26,
          26,
          33,
          30,
          25,
          16,
          27,
          24,
          21,
          35,
          27,
          27,
          27,
          31,
          17,
          17,
          21,
          25,
          20,
          15,
          21,
          25,
          29,
          38,
          30,
          20,
          20,
          20,
          24,
          24,
          24,
          23,
          31,
          null,
          27,
          31,
          22,
          19,
          19,
          23,
          null,
          18,
          22,
          18,
          17,
          19,
          26,
          27,
          22,
          29,
          24,
          28,
          24,
          24,
          19,
          22,
          30,
          21,
          17,
          19,
          25,
          28,
          25,
          38,
          24,
          28,
          20,
          25,
          29,
          29,
          23,
          24,
          23,
          null,
          21,
          25,
          32,
          31,
          23,
          14,
          17,
          18,
          30,
          30,
          14,
          22,
          16,
          16,
          28,
          30,
          34,
          25,
          32,
          null,
          26,
          34,
          26,
          43,
          43,
          19,
          26,
          34,
          29,
          24,
          23,
          29,
          null,
          32,
          null,
          28,
          35,
          28,
          34,
          null,
          28,
          29,
          23,
          20,
          22,
          25,
          33,
          63,
          63,
          36,
          24,
          21,
          31,
          23,
          31,
          29,
          15,
          26,
          20,
          30,
          20,
          33,
          37,
          28,
          20,
          21,
          40,
          18,
          19,
          21,
          18,
          34,
          25,
          18,
          null,
          null,
          18,
          null,
          15,
          16,
          16,
          15,
          18,
          55,
          24,
          26,
          28,
          28,
          null,
          34,
          21,
          36,
          23,
          23,
          15,
          15,
          21,
          25,
          29,
          23,
          23,
          21,
          20,
          30,
          23,
          22,
          25,
          null,
          28,
          20,
          21,
          29,
          21,
          18,
          20,
          33,
          19,
          20,
          24,
          24,
          24,
          28,
          44,
          33,
          19,
          30,
          36,
          40,
          20,
          26,
          19,
          21,
          21,
          27,
          24,
          21,
          24,
          24,
          15,
          23,
          18,
          20,
          20,
          26,
          22,
          null,
          28,
          32,
          23,
          19,
          20,
          19,
          19,
          25,
          24,
          24,
          24,
          24,
          19,
          25,
          22,
          24,
          19,
          22,
          16,
          26,
          26,
          22,
          32,
          33,
          29,
          24,
          26,
          22,
          24,
          18,
          19,
          23,
          20,
          null,
          26,
          26,
          22,
          29,
          24,
          24,
          27,
          29,
          33,
          33,
          29,
          22,
          19,
          37,
          14,
          28,
          29,
          29,
          16,
          26,
          25,
          25,
          18,
          28,
          21,
          23,
          29,
          22,
          24,
          27,
          37,
          37,
          37,
          17,
          25,
          19,
          26,
          22,
          30,
          23,
          27,
          17,
          17,
          21,
          21,
          18,
          18,
          null,
          23,
          56,
          56,
          16,
          22,
          34,
          22,
          16,
          23,
          23,
          20,
          20,
          24,
          31,
          27,
          19,
          21,
          32,
          29,
          33,
          27,
          20,
          27,
          26,
          25,
          24,
          28,
          28,
          22,
          15,
          21,
          19,
          23,
          31,
          27,
          25,
          26,
          30,
          22,
          15,
          22,
          26,
          28,
          25,
          25,
          22,
          22,
          31,
          22,
          21,
          19,
          24,
          32,
          23,
          26,
          22,
          24,
          28,
          45,
          31,
          null,
          23,
          23,
          24,
          32,
          24,
          24,
          20,
          26,
          26,
          23,
          27,
          23,
          20,
          20,
          25,
          31,
          null,
          28,
          16,
          31,
          28,
          23,
          25,
          29,
          null,
          22,
          22,
          29,
          23,
          31,
          19,
          24,
          26,
          23,
          19,
          19,
          23,
          null,
          null,
          21,
          27,
          32,
          20,
          24,
          24,
          29,
          null,
          25,
          27,
          22,
          21,
          18,
          24,
          23,
          18,
          28,
          24,
          21,
          26,
          24,
          15,
          15,
          15,
          23,
          25,
          25,
          30,
          20,
          22,
          26,
          29,
          24,
          27,
          27,
          31,
          19,
          19,
          23,
          17,
          21,
          36,
          23,
          25,
          23,
          27,
          18,
          17,
          16,
          16,
          26,
          34,
          38,
          18,
          16,
          24,
          21
         ],
         "y0": " ",
         "yaxis": "y"
        },
        {
         "alignmentgroup": "True",
         "hovertemplate": "Medal=Gold<br>Sport=%{x}<br>Age=%{y}<extra></extra>",
         "legendgroup": "Gold",
         "marker": {
          "color": "#EF553B"
         },
         "name": "Gold",
         "notched": false,
         "offsetgroup": "Gold",
         "orientation": "v",
         "showlegend": true,
         "type": "box",
         "x": [
          "Gymnastics",
          "Gymnastics",
          "Gymnastics",
          "Gymnastics",
          "Gymnastics",
          "Gymnastics",
          "Gymnastics",
          "Gymnastics",
          "Gymnastics",
          "Gymnastics",
          "Weightlifting",
          "Weightlifting",
          "Gymnastics",
          "Archery",
          "Archery",
          "Gymnastics",
          "Gymnastics",
          "Gymnastics",
          "Gymnastics",
          "Gymnastics",
          "Weightlifting",
          "Gymnastics",
          "Gymnastics",
          "Gymnastics",
          "Gymnastics",
          "Gymnastics",
          "Gymnastics",
          "Gymnastics",
          "Gymnastics",
          "Gymnastics",
          "Gymnastics",
          "Gymnastics",
          "Weightlifting",
          "Weightlifting",
          "Gymnastics",
          "Gymnastics",
          "Gymnastics",
          "Gymnastics",
          "Weightlifting",
          "Weightlifting",
          "Gymnastics",
          "Gymnastics",
          "Gymnastics",
          "Gymnastics",
          "Gymnastics",
          "Gymnastics",
          "Gymnastics",
          "Gymnastics",
          "Gymnastics",
          "Gymnastics",
          "Gymnastics",
          "Weightlifting",
          "Gymnastics",
          "Gymnastics",
          "Gymnastics",
          "Archery",
          "Gymnastics",
          "Gymnastics",
          "Weightlifting",
          "Weightlifting",
          "Weightlifting",
          "Gymnastics",
          "Gymnastics",
          "Gymnastics",
          "Gymnastics",
          "Gymnastics",
          "Gymnastics",
          "Gymnastics",
          "Weightlifting",
          "Weightlifting",
          "Gymnastics",
          "Gymnastics",
          "Gymnastics",
          "Gymnastics",
          "Gymnastics",
          "Gymnastics",
          "Gymnastics",
          "Weightlifting",
          "Gymnastics",
          "Gymnastics",
          "Gymnastics",
          "Gymnastics",
          "Gymnastics",
          "Gymnastics",
          "Gymnastics",
          "Gymnastics",
          "Gymnastics",
          "Gymnastics",
          "Gymnastics",
          "Gymnastics",
          "Gymnastics",
          "Gymnastics",
          "Gymnastics",
          "Gymnastics",
          "Gymnastics",
          "Gymnastics",
          "Weightlifting",
          "Weightlifting",
          "Gymnastics",
          "Gymnastics",
          "Gymnastics",
          "Gymnastics",
          "Gymnastics",
          "Gymnastics",
          "Gymnastics",
          "Gymnastics",
          "Weightlifting",
          "Gymnastics",
          "Gymnastics",
          "Gymnastics",
          "Gymnastics",
          "Archery",
          "Archery",
          "Archery",
          "Gymnastics",
          "Gymnastics",
          "Gymnastics",
          "Weightlifting",
          "Gymnastics",
          "Weightlifting",
          "Gymnastics",
          "Gymnastics",
          "Weightlifting",
          "Gymnastics",
          "Gymnastics",
          "Gymnastics",
          "Weightlifting",
          "Gymnastics",
          "Gymnastics",
          "Gymnastics",
          "Gymnastics",
          "Gymnastics",
          "Gymnastics",
          "Gymnastics",
          "Gymnastics",
          "Gymnastics",
          "Gymnastics",
          "Gymnastics",
          "Gymnastics",
          "Archery",
          "Archery",
          "Gymnastics",
          "Gymnastics",
          "Weightlifting",
          "Weightlifting",
          "Weightlifting",
          "Weightlifting",
          "Weightlifting",
          "Weightlifting",
          "Gymnastics",
          "Gymnastics",
          "Gymnastics",
          "Gymnastics",
          "Weightlifting",
          "Weightlifting",
          "Archery",
          "Archery",
          "Archery",
          "Archery",
          "Gymnastics",
          "Gymnastics",
          "Gymnastics",
          "Gymnastics",
          "Gymnastics",
          "Gymnastics",
          "Gymnastics",
          "Gymnastics",
          "Gymnastics",
          "Archery",
          "Archery",
          "Archery",
          "Gymnastics",
          "Gymnastics",
          "Gymnastics",
          "Gymnastics",
          "Gymnastics",
          "Gymnastics",
          "Gymnastics",
          "Gymnastics",
          "Gymnastics",
          "Gymnastics",
          "Gymnastics",
          "Gymnastics",
          "Gymnastics",
          "Gymnastics",
          "Weightlifting",
          "Weightlifting",
          "Gymnastics",
          "Gymnastics",
          "Gymnastics",
          "Archery",
          "Weightlifting",
          "Archery",
          "Archery",
          "Gymnastics",
          "Archery",
          "Archery",
          "Weightlifting",
          "Gymnastics",
          "Gymnastics",
          "Gymnastics",
          "Gymnastics",
          "Archery",
          "Archery",
          "Gymnastics",
          "Gymnastics",
          "Weightlifting",
          "Weightlifting",
          "Gymnastics",
          "Weightlifting",
          "Weightlifting",
          "Weightlifting",
          "Gymnastics",
          "Weightlifting",
          "Gymnastics",
          "Gymnastics",
          "Gymnastics",
          "Weightlifting",
          "Archery",
          "Gymnastics",
          "Gymnastics",
          "Gymnastics",
          "Gymnastics",
          "Gymnastics",
          "Weightlifting",
          "Gymnastics",
          "Weightlifting",
          "Weightlifting",
          "Gymnastics",
          "Gymnastics",
          "Gymnastics",
          "Gymnastics",
          "Gymnastics",
          "Gymnastics",
          "Gymnastics",
          "Gymnastics",
          "Gymnastics",
          "Gymnastics",
          "Gymnastics",
          "Gymnastics",
          "Gymnastics",
          "Gymnastics",
          "Archery",
          "Gymnastics",
          "Weightlifting",
          "Weightlifting",
          "Gymnastics",
          "Gymnastics",
          "Gymnastics",
          "Archery",
          "Archery",
          "Weightlifting",
          "Gymnastics",
          "Gymnastics",
          "Gymnastics",
          "Archery",
          "Archery",
          "Gymnastics",
          "Gymnastics",
          "Gymnastics",
          "Gymnastics",
          "Gymnastics",
          "Archery",
          "Gymnastics",
          "Weightlifting",
          "Gymnastics",
          "Archery",
          "Weightlifting",
          "Gymnastics",
          "Archery",
          "Gymnastics",
          "Gymnastics",
          "Gymnastics",
          "Gymnastics",
          "Gymnastics",
          "Gymnastics",
          "Gymnastics",
          "Gymnastics",
          "Gymnastics",
          "Weightlifting",
          "Archery",
          "Archery",
          "Weightlifting",
          "Gymnastics",
          "Weightlifting",
          "Gymnastics",
          "Weightlifting",
          "Gymnastics",
          "Gymnastics",
          "Weightlifting",
          "Gymnastics",
          "Gymnastics",
          "Gymnastics",
          "Gymnastics",
          "Weightlifting",
          "Gymnastics",
          "Gymnastics",
          "Gymnastics",
          "Gymnastics",
          "Gymnastics",
          "Gymnastics",
          "Archery",
          "Gymnastics",
          "Gymnastics",
          "Gymnastics",
          "Archery",
          "Gymnastics",
          "Gymnastics",
          "Gymnastics",
          "Gymnastics",
          "Gymnastics",
          "Gymnastics",
          "Gymnastics",
          "Gymnastics",
          "Gymnastics",
          "Gymnastics",
          "Gymnastics",
          "Gymnastics",
          "Weightlifting",
          "Gymnastics",
          "Gymnastics",
          "Gymnastics",
          "Gymnastics",
          "Gymnastics",
          "Gymnastics",
          "Gymnastics",
          "Gymnastics",
          "Gymnastics",
          "Gymnastics",
          "Gymnastics",
          "Gymnastics",
          "Gymnastics",
          "Gymnastics",
          "Gymnastics",
          "Gymnastics",
          "Gymnastics",
          "Gymnastics",
          "Gymnastics",
          "Gymnastics",
          "Weightlifting",
          "Gymnastics",
          "Gymnastics",
          "Gymnastics",
          "Gymnastics",
          "Archery",
          "Archery",
          "Gymnastics",
          "Archery",
          "Archery",
          "Gymnastics",
          "Gymnastics",
          "Gymnastics",
          "Gymnastics",
          "Gymnastics",
          "Archery",
          "Gymnastics",
          "Gymnastics",
          "Gymnastics",
          "Gymnastics",
          "Gymnastics",
          "Gymnastics",
          "Gymnastics",
          "Gymnastics",
          "Gymnastics",
          "Gymnastics",
          "Weightlifting",
          "Weightlifting",
          "Archery",
          "Archery",
          "Archery",
          "Weightlifting",
          "Gymnastics",
          "Gymnastics",
          "Gymnastics",
          "Gymnastics",
          "Gymnastics",
          "Gymnastics",
          "Archery",
          "Archery",
          "Gymnastics",
          "Gymnastics",
          "Gymnastics",
          "Gymnastics",
          "Gymnastics",
          "Weightlifting",
          "Weightlifting",
          "Archery",
          "Archery",
          "Gymnastics",
          "Gymnastics",
          "Weightlifting",
          "Weightlifting",
          "Gymnastics",
          "Gymnastics",
          "Gymnastics",
          "Weightlifting",
          "Archery",
          "Archery",
          "Gymnastics",
          "Gymnastics",
          "Gymnastics",
          "Gymnastics",
          "Gymnastics",
          "Weightlifting",
          "Weightlifting",
          "Weightlifting",
          "Weightlifting",
          "Archery",
          "Gymnastics",
          "Gymnastics",
          "Weightlifting",
          "Gymnastics",
          "Gymnastics",
          "Archery",
          "Gymnastics",
          "Gymnastics",
          "Gymnastics",
          "Gymnastics",
          "Gymnastics",
          "Gymnastics",
          "Archery",
          "Gymnastics",
          "Gymnastics",
          "Gymnastics",
          "Gymnastics",
          "Weightlifting",
          "Weightlifting",
          "Weightlifting",
          "Weightlifting",
          "Gymnastics",
          "Gymnastics",
          "Gymnastics",
          "Gymnastics",
          "Weightlifting",
          "Gymnastics",
          "Gymnastics",
          "Gymnastics",
          "Gymnastics",
          "Gymnastics",
          "Gymnastics",
          "Gymnastics",
          "Gymnastics",
          "Gymnastics",
          "Gymnastics",
          "Gymnastics",
          "Gymnastics",
          "Gymnastics",
          "Gymnastics",
          "Gymnastics",
          "Gymnastics",
          "Gymnastics",
          "Gymnastics",
          "Gymnastics",
          "Gymnastics",
          "Gymnastics",
          "Gymnastics",
          "Gymnastics",
          "Gymnastics",
          "Gymnastics",
          "Gymnastics",
          "Gymnastics",
          "Gymnastics",
          "Weightlifting",
          "Archery",
          "Archery",
          "Archery",
          "Archery",
          "Archery",
          "Archery",
          "Archery",
          "Archery",
          "Gymnastics",
          "Gymnastics",
          "Gymnastics",
          "Gymnastics",
          "Gymnastics",
          "Archery",
          "Archery",
          "Archery",
          "Archery",
          "Weightlifting",
          "Archery",
          "Weightlifting",
          "Gymnastics",
          "Gymnastics",
          "Gymnastics",
          "Weightlifting",
          "Weightlifting",
          "Weightlifting",
          "Gymnastics",
          "Gymnastics",
          "Gymnastics",
          "Gymnastics",
          "Gymnastics",
          "Weightlifting",
          "Gymnastics",
          "Gymnastics",
          "Gymnastics",
          "Gymnastics",
          "Gymnastics",
          "Gymnastics",
          "Gymnastics",
          "Gymnastics",
          "Archery",
          "Archery",
          "Gymnastics",
          "Gymnastics",
          "Gymnastics",
          "Weightlifting",
          "Weightlifting",
          "Weightlifting",
          "Weightlifting",
          "Weightlifting",
          "Weightlifting",
          "Gymnastics",
          "Gymnastics",
          "Gymnastics",
          "Gymnastics",
          "Gymnastics",
          "Weightlifting",
          "Gymnastics",
          "Gymnastics",
          "Gymnastics",
          "Gymnastics",
          "Gymnastics",
          "Gymnastics",
          "Gymnastics",
          "Gymnastics",
          "Gymnastics",
          "Gymnastics",
          "Gymnastics",
          "Gymnastics",
          "Archery",
          "Archery",
          "Archery",
          "Archery",
          "Archery",
          "Archery",
          "Gymnastics",
          "Gymnastics",
          "Gymnastics",
          "Gymnastics",
          "Gymnastics",
          "Gymnastics",
          "Gymnastics",
          "Gymnastics",
          "Gymnastics",
          "Gymnastics",
          "Gymnastics",
          "Gymnastics",
          "Gymnastics",
          "Gymnastics",
          "Gymnastics",
          "Gymnastics",
          "Gymnastics",
          "Weightlifting",
          "Weightlifting",
          "Gymnastics",
          "Gymnastics",
          "Weightlifting",
          "Weightlifting",
          "Gymnastics",
          "Gymnastics",
          "Gymnastics",
          "Weightlifting",
          "Weightlifting",
          "Gymnastics",
          "Gymnastics",
          "Gymnastics",
          "Weightlifting",
          "Weightlifting",
          "Weightlifting",
          "Archery",
          "Gymnastics",
          "Gymnastics",
          "Gymnastics",
          "Gymnastics",
          "Gymnastics",
          "Weightlifting",
          "Weightlifting",
          "Gymnastics",
          "Gymnastics",
          "Weightlifting",
          "Gymnastics",
          "Gymnastics",
          "Gymnastics",
          "Gymnastics",
          "Gymnastics",
          "Gymnastics",
          "Gymnastics",
          "Gymnastics",
          "Gymnastics",
          "Gymnastics",
          "Gymnastics",
          "Gymnastics",
          "Gymnastics",
          "Gymnastics",
          "Gymnastics",
          "Gymnastics",
          "Gymnastics",
          "Gymnastics",
          "Gymnastics",
          "Weightlifting",
          "Weightlifting",
          "Gymnastics",
          "Gymnastics",
          "Gymnastics",
          "Gymnastics",
          "Gymnastics",
          "Gymnastics",
          "Gymnastics",
          "Gymnastics",
          "Weightlifting",
          "Gymnastics",
          "Gymnastics",
          "Gymnastics",
          "Gymnastics",
          "Gymnastics",
          "Gymnastics",
          "Gymnastics",
          "Gymnastics",
          "Archery",
          "Weightlifting",
          "Gymnastics",
          "Gymnastics",
          "Gymnastics",
          "Archery",
          "Weightlifting",
          "Gymnastics",
          "Gymnastics",
          "Gymnastics",
          "Gymnastics",
          "Gymnastics",
          "Gymnastics",
          "Weightlifting",
          "Gymnastics",
          "Gymnastics",
          "Gymnastics",
          "Gymnastics",
          "Weightlifting",
          "Gymnastics",
          "Weightlifting",
          "Weightlifting",
          "Gymnastics",
          "Gymnastics",
          "Weightlifting",
          "Gymnastics",
          "Gymnastics",
          "Gymnastics",
          "Weightlifting",
          "Weightlifting",
          "Gymnastics",
          "Gymnastics",
          "Gymnastics",
          "Weightlifting",
          "Gymnastics",
          "Gymnastics",
          "Archery",
          "Weightlifting",
          "Gymnastics",
          "Gymnastics",
          "Gymnastics",
          "Gymnastics",
          "Gymnastics",
          "Gymnastics",
          "Gymnastics",
          "Gymnastics",
          "Gymnastics",
          "Gymnastics",
          "Gymnastics",
          "Weightlifting",
          "Weightlifting",
          "Weightlifting",
          "Gymnastics",
          "Gymnastics",
          "Gymnastics",
          "Gymnastics",
          "Gymnastics",
          "Gymnastics",
          "Gymnastics",
          "Gymnastics",
          "Weightlifting",
          "Gymnastics",
          "Gymnastics",
          "Gymnastics",
          "Gymnastics",
          "Gymnastics",
          "Gymnastics",
          "Gymnastics",
          "Archery",
          "Gymnastics",
          "Gymnastics",
          "Weightlifting",
          "Archery",
          "Gymnastics",
          "Gymnastics",
          "Weightlifting",
          "Gymnastics",
          "Gymnastics",
          "Gymnastics",
          "Gymnastics",
          "Gymnastics",
          "Gymnastics",
          "Gymnastics",
          "Gymnastics",
          "Gymnastics",
          "Gymnastics",
          "Gymnastics",
          "Weightlifting",
          "Weightlifting",
          "Gymnastics",
          "Weightlifting",
          "Weightlifting",
          "Weightlifting",
          "Weightlifting",
          "Archery",
          "Weightlifting",
          "Archery",
          "Gymnastics",
          "Gymnastics",
          "Gymnastics",
          "Gymnastics",
          "Gymnastics",
          "Weightlifting",
          "Gymnastics",
          "Gymnastics",
          "Gymnastics",
          "Gymnastics",
          "Gymnastics",
          "Gymnastics",
          "Gymnastics",
          "Gymnastics",
          "Weightlifting",
          "Weightlifting",
          "Archery",
          "Archery",
          "Archery",
          "Gymnastics",
          "Weightlifting",
          "Weightlifting",
          "Gymnastics",
          "Gymnastics",
          "Archery",
          "Archery",
          "Archery",
          "Archery",
          "Archery",
          "Archery",
          "Gymnastics",
          "Gymnastics",
          "Gymnastics",
          "Gymnastics",
          "Gymnastics",
          "Gymnastics",
          "Gymnastics",
          "Gymnastics",
          "Gymnastics",
          "Gymnastics",
          "Gymnastics",
          "Gymnastics",
          "Gymnastics",
          "Weightlifting",
          "Gymnastics",
          "Gymnastics",
          "Gymnastics",
          "Gymnastics",
          "Gymnastics",
          "Gymnastics",
          "Weightlifting",
          "Gymnastics",
          "Gymnastics",
          "Gymnastics",
          "Gymnastics",
          "Gymnastics",
          "Weightlifting",
          "Gymnastics",
          "Gymnastics",
          "Gymnastics",
          "Weightlifting",
          "Gymnastics",
          "Archery",
          "Gymnastics",
          "Archery",
          "Weightlifting",
          "Gymnastics",
          "Gymnastics",
          "Gymnastics",
          "Gymnastics",
          "Weightlifting",
          "Gymnastics",
          "Gymnastics",
          "Gymnastics",
          "Gymnastics",
          "Weightlifting",
          "Weightlifting",
          "Gymnastics",
          "Gymnastics",
          "Gymnastics",
          "Weightlifting",
          "Weightlifting",
          "Gymnastics",
          "Weightlifting",
          "Weightlifting",
          "Weightlifting",
          "Weightlifting",
          "Gymnastics",
          "Gymnastics",
          "Gymnastics",
          "Gymnastics",
          "Gymnastics",
          "Gymnastics",
          "Gymnastics",
          "Weightlifting",
          "Gymnastics",
          "Gymnastics",
          "Gymnastics",
          "Gymnastics",
          "Gymnastics",
          "Gymnastics",
          "Gymnastics",
          "Gymnastics",
          "Archery",
          "Weightlifting",
          "Gymnastics",
          "Weightlifting",
          "Archery",
          "Weightlifting",
          "Gymnastics",
          "Gymnastics",
          "Gymnastics",
          "Gymnastics",
          "Weightlifting",
          "Weightlifting",
          "Gymnastics",
          "Gymnastics",
          "Gymnastics",
          "Gymnastics",
          "Gymnastics",
          "Gymnastics",
          "Gymnastics",
          "Gymnastics",
          "Gymnastics",
          "Gymnastics",
          "Weightlifting",
          "Gymnastics",
          "Gymnastics",
          "Gymnastics",
          "Gymnastics",
          "Gymnastics",
          "Gymnastics",
          "Gymnastics",
          "Gymnastics",
          "Gymnastics",
          "Gymnastics",
          "Gymnastics",
          "Gymnastics",
          "Weightlifting",
          "Archery",
          "Gymnastics",
          "Gymnastics",
          "Gymnastics",
          "Gymnastics",
          "Gymnastics",
          "Gymnastics",
          "Gymnastics",
          "Gymnastics",
          "Gymnastics",
          "Gymnastics",
          "Weightlifting",
          "Gymnastics",
          "Gymnastics",
          "Gymnastics",
          "Gymnastics",
          "Weightlifting",
          "Gymnastics",
          "Gymnastics",
          "Gymnastics",
          "Gymnastics",
          "Gymnastics",
          "Gymnastics",
          "Gymnastics",
          "Gymnastics",
          "Weightlifting",
          "Weightlifting",
          "Gymnastics",
          "Gymnastics",
          "Gymnastics",
          "Gymnastics",
          "Gymnastics",
          "Gymnastics",
          "Gymnastics",
          "Gymnastics",
          "Gymnastics",
          "Gymnastics",
          "Gymnastics",
          "Gymnastics",
          "Gymnastics",
          "Weightlifting",
          "Weightlifting",
          "Weightlifting",
          "Gymnastics",
          "Gymnastics",
          "Gymnastics",
          "Gymnastics",
          "Gymnastics",
          "Gymnastics",
          "Gymnastics",
          "Gymnastics",
          "Weightlifting",
          "Archery",
          "Gymnastics",
          "Weightlifting",
          "Gymnastics",
          "Gymnastics",
          "Gymnastics",
          "Weightlifting",
          "Gymnastics",
          "Gymnastics",
          "Gymnastics",
          "Weightlifting",
          "Gymnastics",
          "Weightlifting",
          "Gymnastics",
          "Gymnastics",
          "Gymnastics",
          "Weightlifting",
          "Gymnastics",
          "Gymnastics",
          "Gymnastics",
          "Gymnastics",
          "Gymnastics",
          "Gymnastics",
          "Gymnastics",
          "Gymnastics",
          "Weightlifting",
          "Weightlifting",
          "Weightlifting",
          "Gymnastics",
          "Weightlifting",
          "Gymnastics",
          "Gymnastics",
          "Gymnastics",
          "Gymnastics",
          "Gymnastics",
          "Gymnastics",
          "Gymnastics",
          "Gymnastics",
          "Weightlifting",
          "Gymnastics",
          "Weightlifting",
          "Weightlifting",
          "Gymnastics",
          "Gymnastics",
          "Weightlifting",
          "Weightlifting",
          "Weightlifting",
          "Weightlifting",
          "Gymnastics",
          "Weightlifting",
          "Weightlifting",
          "Archery",
          "Gymnastics",
          "Gymnastics",
          "Weightlifting",
          "Archery",
          "Gymnastics",
          "Archery",
          "Weightlifting",
          "Gymnastics",
          "Gymnastics",
          "Gymnastics",
          "Gymnastics",
          "Gymnastics",
          "Gymnastics",
          "Weightlifting",
          "Gymnastics",
          "Gymnastics",
          "Weightlifting",
          "Gymnastics",
          "Gymnastics",
          "Weightlifting",
          "Weightlifting",
          "Gymnastics",
          "Gymnastics",
          "Gymnastics",
          "Gymnastics",
          "Gymnastics",
          "Gymnastics",
          "Gymnastics",
          "Gymnastics",
          "Gymnastics",
          "Gymnastics",
          "Gymnastics",
          "Gymnastics",
          "Gymnastics",
          "Gymnastics",
          "Gymnastics",
          "Gymnastics",
          "Gymnastics",
          "Gymnastics",
          "Gymnastics",
          "Weightlifting",
          "Gymnastics",
          "Weightlifting",
          "Gymnastics",
          "Gymnastics",
          "Weightlifting",
          "Archery",
          "Archery",
          "Archery",
          "Archery",
          "Archery",
          "Archery",
          "Archery",
          "Gymnastics",
          "Gymnastics",
          "Gymnastics",
          "Archery",
          "Archery",
          "Archery",
          "Archery",
          "Archery",
          "Archery",
          "Archery",
          "Archery",
          "Archery",
          "Archery",
          "Archery",
          "Archery",
          "Gymnastics",
          "Gymnastics",
          "Archery",
          "Archery",
          "Weightlifting",
          "Gymnastics",
          "Archery",
          "Gymnastics",
          "Gymnastics",
          "Gymnastics",
          "Gymnastics",
          "Gymnastics",
          "Gymnastics",
          "Weightlifting",
          "Weightlifting",
          "Gymnastics",
          "Weightlifting",
          "Weightlifting",
          "Gymnastics",
          "Gymnastics",
          "Gymnastics",
          "Weightlifting",
          "Weightlifting",
          "Weightlifting",
          "Gymnastics",
          "Gymnastics",
          "Gymnastics",
          "Gymnastics",
          "Gymnastics",
          "Gymnastics",
          "Archery",
          "Weightlifting",
          "Gymnastics",
          "Gymnastics",
          "Gymnastics",
          "Gymnastics",
          "Weightlifting",
          "Gymnastics",
          "Gymnastics",
          "Gymnastics",
          "Gymnastics",
          "Archery",
          "Gymnastics",
          "Gymnastics",
          "Gymnastics",
          "Gymnastics",
          "Archery",
          "Gymnastics",
          "Archery",
          "Archery",
          "Archery",
          "Gymnastics",
          "Gymnastics",
          "Gymnastics",
          "Archery",
          "Weightlifting",
          "Weightlifting",
          "Gymnastics",
          "Gymnastics",
          "Gymnastics",
          "Gymnastics",
          "Gymnastics",
          "Gymnastics",
          "Gymnastics",
          "Gymnastics",
          "Gymnastics",
          "Gymnastics",
          "Gymnastics",
          "Weightlifting",
          "Gymnastics",
          "Weightlifting",
          "Gymnastics",
          "Gymnastics",
          "Archery",
          "Archery",
          "Archery",
          "Archery",
          "Archery",
          "Archery",
          "Weightlifting",
          "Gymnastics",
          "Gymnastics",
          "Gymnastics",
          "Gymnastics",
          "Gymnastics",
          "Gymnastics",
          "Gymnastics",
          "Gymnastics",
          "Gymnastics",
          "Weightlifting",
          "Weightlifting",
          "Weightlifting",
          "Weightlifting",
          "Weightlifting",
          "Weightlifting",
          "Weightlifting",
          "Weightlifting",
          "Gymnastics",
          "Weightlifting",
          "Archery",
          "Weightlifting",
          "Gymnastics",
          "Weightlifting",
          "Weightlifting",
          "Weightlifting",
          "Gymnastics",
          "Gymnastics",
          "Gymnastics",
          "Gymnastics",
          "Gymnastics",
          "Gymnastics",
          "Gymnastics",
          "Gymnastics",
          "Gymnastics"
         ],
         "x0": " ",
         "xaxis": "x",
         "y": [
          28,
          28,
          28,
          21,
          22,
          16,
          19,
          25,
          25,
          30,
          30,
          34,
          null,
          44,
          44,
          16,
          20,
          20,
          29,
          20,
          24,
          17,
          23,
          26,
          null,
          19,
          23,
          23,
          23,
          23,
          27,
          27,
          22,
          26,
          23,
          23,
          23,
          23,
          20,
          28,
          26,
          20,
          23,
          23,
          27,
          27,
          27,
          27,
          31,
          22,
          28,
          28,
          16,
          18,
          35,
          26,
          17,
          22,
          29,
          33,
          24,
          29,
          24,
          22,
          25,
          34,
          22,
          27,
          24,
          20,
          18,
          27,
          18,
          19,
          22,
          29,
          37,
          19,
          19,
          19,
          19,
          19,
          21,
          21,
          21,
          26,
          22,
          23,
          31,
          23,
          16,
          27,
          27,
          25,
          25,
          22,
          25,
          26,
          15,
          15,
          19,
          25,
          20,
          19,
          23,
          28,
          31,
          25,
          29,
          29,
          24,
          44,
          26,
          26,
          15,
          19,
          27,
          27,
          35,
          26,
          25,
          29,
          24,
          23,
          23,
          22,
          28,
          22,
          22,
          22,
          26,
          26,
          26,
          26,
          26,
          24,
          24,
          28,
          19,
          29,
          29,
          22,
          26,
          24,
          26,
          23,
          25,
          25,
          29,
          23,
          23,
          27,
          20,
          23,
          19,
          22,
          22,
          27,
          20,
          18,
          30,
          30,
          30,
          30,
          35,
          35,
          35,
          17,
          null,
          null,
          null,
          14,
          14,
          14,
          18,
          18,
          26,
          26,
          25,
          26,
          27,
          30,
          15,
          22,
          34,
          27,
          31,
          18,
          18,
          19,
          39,
          24,
          null,
          null,
          22,
          44,
          44,
          30,
          19,
          23,
          21,
          21,
          null,
          null,
          16,
          20,
          23,
          34,
          19,
          20,
          24,
          28,
          21,
          20,
          22,
          22,
          22,
          24,
          40,
          24,
          32,
          16,
          16,
          20,
          21,
          22,
          19,
          21,
          25,
          23,
          27,
          27,
          27,
          31,
          19,
          17,
          22,
          24,
          23,
          33,
          33,
          33,
          30,
          21,
          23,
          28,
          24,
          24,
          29,
          44,
          44,
          33,
          14,
          19,
          21,
          null,
          null,
          26,
          26,
          26,
          21,
          21,
          20,
          19,
          34,
          25,
          28,
          27,
          29,
          36,
          19,
          21,
          29,
          31,
          27,
          27,
          27,
          28,
          26,
          19,
          21,
          29,
          29,
          15,
          32,
          23,
          23,
          19,
          29,
          22,
          23,
          15,
          22,
          30,
          25,
          24,
          25,
          19,
          24,
          26,
          18,
          41,
          21,
          17,
          18,
          38,
          20,
          20,
          27,
          32,
          32,
          24,
          27,
          27,
          20,
          31,
          35,
          35,
          21,
          24,
          22,
          27,
          28,
          21,
          33,
          33,
          21,
          24,
          20,
          24,
          24,
          16,
          16,
          24,
          25,
          25,
          25,
          25,
          25,
          26,
          22,
          25,
          24,
          24,
          null,
          null,
          16,
          24,
          24,
          26,
          19,
          19,
          33,
          23,
          24,
          17,
          21,
          24,
          25,
          29,
          26,
          19,
          21,
          30,
          30,
          24,
          28,
          44,
          44,
          44,
          25,
          21,
          29,
          28,
          29,
          29,
          29,
          21,
          21,
          15,
          15,
          28,
          31,
          25,
          20,
          24,
          19,
          23,
          21,
          16,
          23,
          20,
          18,
          22,
          22,
          24,
          24,
          28,
          24,
          20,
          20,
          20,
          27,
          24,
          24,
          21,
          22,
          23,
          18,
          16,
          23,
          20,
          23,
          40,
          23,
          16,
          20,
          18,
          18,
          27,
          26,
          24,
          26,
          21,
          23,
          23,
          27,
          31,
          null,
          29,
          29,
          19,
          23,
          27,
          19,
          25,
          24,
          27,
          22,
          22,
          22,
          22,
          25,
          25,
          25,
          29,
          29,
          26,
          31,
          35,
          35,
          35,
          35,
          20,
          24,
          28,
          21,
          17,
          17,
          25,
          17,
          21,
          24,
          24,
          24,
          28,
          20,
          26,
          26,
          21,
          20,
          18,
          18,
          18,
          22,
          22,
          17,
          17,
          21,
          29,
          23,
          24,
          23,
          23,
          32,
          19,
          24,
          22,
          26,
          17,
          17,
          17,
          21,
          22,
          35,
          21,
          20,
          24,
          17,
          29,
          21,
          30,
          17,
          23,
          23,
          19,
          19,
          22,
          29,
          27,
          27,
          30,
          26,
          27,
          30,
          19,
          23,
          26,
          23,
          28,
          15,
          21,
          21,
          21,
          21,
          25,
          25,
          25,
          29,
          29,
          18,
          16,
          26,
          20,
          22,
          19,
          27,
          21,
          28,
          28,
          23,
          26,
          34,
          26,
          29,
          20,
          20,
          20,
          16,
          19,
          19,
          27,
          27,
          18,
          22,
          22,
          20,
          25,
          22,
          23,
          21,
          29,
          22,
          25,
          21,
          25,
          21,
          18,
          24,
          27,
          17,
          25,
          30,
          20,
          24,
          21,
          29,
          15,
          27,
          22,
          25,
          29,
          24,
          24,
          17,
          17,
          21,
          25,
          21,
          21,
          21,
          20,
          20,
          23,
          22,
          26,
          19,
          27,
          31,
          20,
          22,
          26,
          26,
          23,
          18,
          21,
          29,
          22,
          30,
          21,
          21,
          25,
          20,
          22,
          16,
          23,
          23,
          23,
          24,
          26,
          27,
          48,
          26,
          22,
          18,
          19,
          26,
          27,
          23,
          22,
          23,
          23,
          23,
          31,
          23,
          19,
          19,
          15,
          15,
          33,
          23,
          27,
          27,
          26,
          21,
          20,
          null,
          21,
          25,
          24,
          28,
          24,
          19,
          14,
          27,
          22,
          27,
          47,
          23,
          23,
          25,
          19,
          23,
          28,
          28,
          28,
          27,
          31,
          17,
          21,
          23,
          27,
          31,
          15,
          21,
          25,
          25,
          25,
          25,
          29,
          29,
          23,
          20,
          20,
          24,
          24,
          29,
          29,
          29,
          24,
          31,
          31,
          24,
          53,
          24,
          24,
          21,
          22,
          18,
          24,
          19,
          24,
          19,
          26,
          24,
          28,
          20,
          24,
          22,
          28,
          18,
          21,
          24,
          27,
          24,
          28,
          23,
          30,
          24,
          18,
          22,
          33,
          24,
          20,
          25,
          29,
          29,
          29,
          33,
          18,
          18,
          29,
          26,
          21,
          19,
          27,
          45,
          20,
          23,
          28,
          24,
          28,
          28,
          32,
          21,
          21,
          25,
          18,
          40,
          30,
          16,
          14,
          14,
          32,
          32,
          23,
          30,
          25,
          25,
          29,
          28,
          30,
          28,
          21,
          22,
          19,
          19,
          25,
          21,
          20,
          25,
          20,
          27,
          16,
          36,
          19,
          17,
          17,
          26,
          22,
          18,
          21,
          63,
          22,
          16,
          16,
          16,
          20,
          31,
          16,
          18,
          18,
          22,
          22,
          30,
          31,
          16,
          34,
          22,
          26,
          31,
          29,
          20,
          19,
          23,
          24,
          22,
          23,
          21,
          25,
          20,
          15,
          25,
          null,
          null,
          17,
          17,
          21,
          32,
          24,
          32,
          27,
          21,
          19,
          22,
          23,
          23,
          20,
          24,
          22,
          34,
          19,
          22,
          34,
          20,
          28,
          27,
          28,
          28,
          40,
          40,
          26,
          19,
          28,
          33,
          23,
          19,
          19,
          26,
          26,
          26,
          24,
          24,
          24,
          33,
          27,
          30,
          17,
          28,
          28,
          24,
          24,
          28,
          28,
          28,
          28,
          32,
          20,
          31,
          19,
          19,
          21,
          25,
          29,
          20,
          20,
          20,
          20,
          20,
          20,
          16,
          22,
          22,
          24,
          19,
          19,
          19,
          24,
          26,
          27,
          16,
          16,
          16,
          31,
          23,
          25,
          21,
          23,
          33,
          31,
          24,
          16,
          23,
          22,
          30,
          28,
          21,
          28,
          25,
          63,
          24,
          21,
          23,
          24,
          29,
          23,
          25,
          17,
          27,
          27,
          21,
          25,
          20,
          25,
          27,
          33,
          15,
          19,
          18,
          27,
          25,
          25,
          29,
          25,
          21,
          25,
          29,
          25,
          29,
          26,
          21,
          21,
          25,
          16,
          16,
          16,
          16,
          25,
          40,
          22,
          28,
          27,
          26,
          21,
          25,
          25,
          24,
          27,
          22,
          20,
          null,
          19,
          33,
          25,
          34,
          24,
          56,
          25,
          20,
          23,
          31,
          20,
          22,
          22,
          22,
          24,
          23,
          33,
          27,
          24,
          26,
          27,
          23,
          20,
          24,
          24,
          28,
          28,
          27,
          22,
          26,
          19,
          24,
          33,
          16,
          19,
          19,
          23,
          23,
          27,
          27,
          28,
          34,
          35,
          24,
          29,
          29,
          null,
          null,
          51,
          null,
          null,
          null,
          null,
          18,
          26,
          24,
          33,
          39,
          34,
          34,
          54,
          54,
          54,
          54,
          25,
          null,
          null,
          null,
          22,
          30,
          null,
          null,
          24,
          20,
          31,
          29,
          35,
          22,
          23,
          23,
          22,
          23,
          27,
          24,
          20,
          24,
          19,
          26,
          22,
          32,
          35,
          25,
          23,
          23,
          20,
          19,
          23,
          26,
          18,
          26,
          26,
          31,
          31,
          31,
          23,
          22,
          23,
          24,
          24,
          19,
          23,
          23,
          27,
          17,
          42,
          null,
          29,
          18,
          63,
          27,
          28,
          17,
          58,
          24,
          24,
          21,
          23,
          23,
          18,
          27,
          25,
          25,
          19,
          20,
          28,
          28,
          22,
          15,
          26,
          25,
          26,
          19,
          17,
          17,
          21,
          23,
          17,
          25,
          17,
          17,
          17,
          24,
          32,
          32,
          36,
          22,
          25,
          23,
          25,
          23,
          19,
          26,
          30,
          22,
          26,
          23,
          29,
          27,
          25,
          22,
          24,
          23,
          20,
          26,
          22,
          29,
          20,
          20,
          20,
          24,
          24,
          30
         ],
         "y0": " ",
         "yaxis": "y"
        },
        {
         "alignmentgroup": "True",
         "hovertemplate": "Medal=Silver<br>Sport=%{x}<br>Age=%{y}<extra></extra>",
         "legendgroup": "Silver",
         "marker": {
          "color": "#ab63fa"
         },
         "name": "Silver",
         "notched": false,
         "offsetgroup": "Silver",
         "orientation": "v",
         "showlegend": true,
         "type": "box",
         "x": [
          "Gymnastics",
          "Gymnastics",
          "Gymnastics",
          "Gymnastics",
          "Gymnastics",
          "Gymnastics",
          "Gymnastics",
          "Weightlifting",
          "Weightlifting",
          "Gymnastics",
          "Gymnastics",
          "Weightlifting",
          "Weightlifting",
          "Weightlifting",
          "Archery",
          "Weightlifting",
          "Gymnastics",
          "Gymnastics",
          "Gymnastics",
          "Gymnastics",
          "Gymnastics",
          "Gymnastics",
          "Gymnastics",
          "Gymnastics",
          "Gymnastics",
          "Gymnastics",
          "Gymnastics",
          "Gymnastics",
          "Weightlifting",
          "Gymnastics",
          "Gymnastics",
          "Gymnastics",
          "Gymnastics",
          "Weightlifting",
          "Gymnastics",
          "Gymnastics",
          "Gymnastics",
          "Gymnastics",
          "Gymnastics",
          "Gymnastics",
          "Gymnastics",
          "Archery",
          "Gymnastics",
          "Weightlifting",
          "Gymnastics",
          "Gymnastics",
          "Gymnastics",
          "Gymnastics",
          "Gymnastics",
          "Gymnastics",
          "Weightlifting",
          "Weightlifting",
          "Gymnastics",
          "Gymnastics",
          "Gymnastics",
          "Gymnastics",
          "Gymnastics",
          "Weightlifting",
          "Weightlifting",
          "Gymnastics",
          "Gymnastics",
          "Gymnastics",
          "Archery",
          "Gymnastics",
          "Gymnastics",
          "Weightlifting",
          "Gymnastics",
          "Gymnastics",
          "Gymnastics",
          "Gymnastics",
          "Gymnastics",
          "Gymnastics",
          "Gymnastics",
          "Gymnastics",
          "Weightlifting",
          "Gymnastics",
          "Gymnastics",
          "Gymnastics",
          "Gymnastics",
          "Gymnastics",
          "Gymnastics",
          "Gymnastics",
          "Gymnastics",
          "Gymnastics",
          "Weightlifting",
          "Weightlifting",
          "Gymnastics",
          "Gymnastics",
          "Gymnastics",
          "Archery",
          "Gymnastics",
          "Archery",
          "Archery",
          "Archery",
          "Gymnastics",
          "Gymnastics",
          "Archery",
          "Gymnastics",
          "Archery",
          "Gymnastics",
          "Weightlifting",
          "Gymnastics",
          "Gymnastics",
          "Gymnastics",
          "Gymnastics",
          "Gymnastics",
          "Gymnastics",
          "Archery",
          "Archery",
          "Gymnastics",
          "Archery",
          "Gymnastics",
          "Weightlifting",
          "Weightlifting",
          "Gymnastics",
          "Gymnastics",
          "Gymnastics",
          "Gymnastics",
          "Gymnastics",
          "Gymnastics",
          "Gymnastics",
          "Archery",
          "Weightlifting",
          "Gymnastics",
          "Gymnastics",
          "Gymnastics",
          "Gymnastics",
          "Archery",
          "Archery",
          "Gymnastics",
          "Gymnastics",
          "Weightlifting",
          "Gymnastics",
          "Gymnastics",
          "Weightlifting",
          "Weightlifting",
          "Gymnastics",
          "Archery",
          "Gymnastics",
          "Gymnastics",
          "Archery",
          "Archery",
          "Gymnastics",
          "Gymnastics",
          "Archery",
          "Gymnastics",
          "Weightlifting",
          "Gymnastics",
          "Weightlifting",
          "Archery",
          "Archery",
          "Weightlifting",
          "Weightlifting",
          "Gymnastics",
          "Gymnastics",
          "Gymnastics",
          "Gymnastics",
          "Gymnastics",
          "Gymnastics",
          "Gymnastics",
          "Gymnastics",
          "Gymnastics",
          "Gymnastics",
          "Archery",
          "Gymnastics",
          "Gymnastics",
          "Gymnastics",
          "Archery",
          "Weightlifting",
          "Gymnastics",
          "Gymnastics",
          "Gymnastics",
          "Archery",
          "Gymnastics",
          "Gymnastics",
          "Gymnastics",
          "Gymnastics",
          "Weightlifting",
          "Archery",
          "Archery",
          "Gymnastics",
          "Gymnastics",
          "Gymnastics",
          "Archery",
          "Archery",
          "Gymnastics",
          "Gymnastics",
          "Gymnastics",
          "Gymnastics",
          "Gymnastics",
          "Gymnastics",
          "Gymnastics",
          "Archery",
          "Gymnastics",
          "Gymnastics",
          "Gymnastics",
          "Archery",
          "Archery",
          "Archery",
          "Gymnastics",
          "Gymnastics",
          "Archery",
          "Weightlifting",
          "Weightlifting",
          "Gymnastics",
          "Gymnastics",
          "Weightlifting",
          "Weightlifting",
          "Gymnastics",
          "Gymnastics",
          "Gymnastics",
          "Archery",
          "Gymnastics",
          "Gymnastics",
          "Archery",
          "Weightlifting",
          "Gymnastics",
          "Gymnastics",
          "Gymnastics",
          "Archery",
          "Weightlifting",
          "Weightlifting",
          "Gymnastics",
          "Gymnastics",
          "Gymnastics",
          "Gymnastics",
          "Archery",
          "Gymnastics",
          "Gymnastics",
          "Gymnastics",
          "Gymnastics",
          "Weightlifting",
          "Weightlifting",
          "Weightlifting",
          "Gymnastics",
          "Gymnastics",
          "Gymnastics",
          "Gymnastics",
          "Gymnastics",
          "Gymnastics",
          "Gymnastics",
          "Gymnastics",
          "Gymnastics",
          "Gymnastics",
          "Gymnastics",
          "Weightlifting",
          "Gymnastics",
          "Gymnastics",
          "Gymnastics",
          "Gymnastics",
          "Archery",
          "Archery",
          "Weightlifting",
          "Gymnastics",
          "Gymnastics",
          "Gymnastics",
          "Gymnastics",
          "Gymnastics",
          "Gymnastics",
          "Gymnastics",
          "Archery",
          "Gymnastics",
          "Gymnastics",
          "Gymnastics",
          "Gymnastics",
          "Weightlifting",
          "Gymnastics",
          "Gymnastics",
          "Gymnastics",
          "Gymnastics",
          "Gymnastics",
          "Gymnastics",
          "Gymnastics",
          "Gymnastics",
          "Archery",
          "Gymnastics",
          "Gymnastics",
          "Gymnastics",
          "Gymnastics",
          "Gymnastics",
          "Gymnastics",
          "Gymnastics",
          "Gymnastics",
          "Gymnastics",
          "Gymnastics",
          "Gymnastics",
          "Gymnastics",
          "Archery",
          "Archery",
          "Weightlifting",
          "Gymnastics",
          "Gymnastics",
          "Gymnastics",
          "Archery",
          "Gymnastics",
          "Gymnastics",
          "Gymnastics",
          "Gymnastics",
          "Gymnastics",
          "Gymnastics",
          "Weightlifting",
          "Gymnastics",
          "Weightlifting",
          "Weightlifting",
          "Gymnastics",
          "Gymnastics",
          "Gymnastics",
          "Gymnastics",
          "Gymnastics",
          "Gymnastics",
          "Gymnastics",
          "Gymnastics",
          "Gymnastics",
          "Gymnastics",
          "Gymnastics",
          "Gymnastics",
          "Weightlifting",
          "Gymnastics",
          "Weightlifting",
          "Gymnastics",
          "Gymnastics",
          "Archery",
          "Gymnastics",
          "Gymnastics",
          "Gymnastics",
          "Gymnastics",
          "Weightlifting",
          "Weightlifting",
          "Weightlifting",
          "Weightlifting",
          "Gymnastics",
          "Gymnastics",
          "Gymnastics",
          "Gymnastics",
          "Gymnastics",
          "Gymnastics",
          "Gymnastics",
          "Gymnastics",
          "Weightlifting",
          "Archery",
          "Weightlifting",
          "Weightlifting",
          "Weightlifting",
          "Gymnastics",
          "Gymnastics",
          "Weightlifting",
          "Gymnastics",
          "Weightlifting",
          "Weightlifting",
          "Weightlifting",
          "Archery",
          "Gymnastics",
          "Gymnastics",
          "Gymnastics",
          "Gymnastics",
          "Gymnastics",
          "Weightlifting",
          "Weightlifting",
          "Archery",
          "Archery",
          "Gymnastics",
          "Gymnastics",
          "Gymnastics",
          "Gymnastics",
          "Gymnastics",
          "Gymnastics",
          "Gymnastics",
          "Gymnastics",
          "Gymnastics",
          "Gymnastics",
          "Gymnastics",
          "Gymnastics",
          "Gymnastics",
          "Gymnastics",
          "Gymnastics",
          "Weightlifting",
          "Gymnastics",
          "Gymnastics",
          "Archery",
          "Archery",
          "Weightlifting",
          "Gymnastics",
          "Gymnastics",
          "Gymnastics",
          "Gymnastics",
          "Gymnastics",
          "Gymnastics",
          "Weightlifting",
          "Gymnastics",
          "Gymnastics",
          "Gymnastics",
          "Gymnastics",
          "Gymnastics",
          "Gymnastics",
          "Gymnastics",
          "Gymnastics",
          "Gymnastics",
          "Gymnastics",
          "Gymnastics",
          "Gymnastics",
          "Gymnastics",
          "Gymnastics",
          "Gymnastics",
          "Gymnastics",
          "Weightlifting",
          "Gymnastics",
          "Gymnastics",
          "Gymnastics",
          "Gymnastics",
          "Weightlifting",
          "Weightlifting",
          "Archery",
          "Gymnastics",
          "Weightlifting",
          "Weightlifting",
          "Archery",
          "Gymnastics",
          "Archery",
          "Gymnastics",
          "Gymnastics",
          "Gymnastics",
          "Gymnastics",
          "Gymnastics",
          "Gymnastics",
          "Gymnastics",
          "Gymnastics",
          "Gymnastics",
          "Gymnastics",
          "Gymnastics",
          "Gymnastics",
          "Weightlifting",
          "Gymnastics",
          "Gymnastics",
          "Gymnastics",
          "Weightlifting",
          "Gymnastics",
          "Gymnastics",
          "Gymnastics",
          "Gymnastics",
          "Weightlifting",
          "Gymnastics",
          "Gymnastics",
          "Weightlifting",
          "Gymnastics",
          "Gymnastics",
          "Gymnastics",
          "Weightlifting",
          "Gymnastics",
          "Gymnastics",
          "Gymnastics",
          "Gymnastics",
          "Archery",
          "Weightlifting",
          "Weightlifting",
          "Gymnastics",
          "Gymnastics",
          "Weightlifting",
          "Gymnastics",
          "Gymnastics",
          "Gymnastics",
          "Gymnastics",
          "Weightlifting",
          "Gymnastics",
          "Gymnastics",
          "Gymnastics",
          "Gymnastics",
          "Gymnastics",
          "Weightlifting",
          "Gymnastics",
          "Weightlifting",
          "Gymnastics",
          "Weightlifting",
          "Gymnastics",
          "Gymnastics",
          "Gymnastics",
          "Weightlifting",
          "Gymnastics",
          "Gymnastics",
          "Gymnastics",
          "Gymnastics",
          "Weightlifting",
          "Gymnastics",
          "Gymnastics",
          "Gymnastics",
          "Gymnastics",
          "Gymnastics",
          "Gymnastics",
          "Gymnastics",
          "Gymnastics",
          "Gymnastics",
          "Gymnastics",
          "Gymnastics",
          "Weightlifting",
          "Weightlifting",
          "Gymnastics",
          "Archery",
          "Gymnastics",
          "Gymnastics",
          "Gymnastics",
          "Gymnastics",
          "Gymnastics",
          "Gymnastics",
          "Gymnastics",
          "Weightlifting",
          "Gymnastics",
          "Archery",
          "Archery",
          "Gymnastics",
          "Gymnastics",
          "Gymnastics",
          "Gymnastics",
          "Weightlifting",
          "Gymnastics",
          "Weightlifting",
          "Gymnastics",
          "Gymnastics",
          "Gymnastics",
          "Archery",
          "Gymnastics",
          "Gymnastics",
          "Gymnastics",
          "Gymnastics",
          "Gymnastics",
          "Gymnastics",
          "Gymnastics",
          "Weightlifting",
          "Weightlifting",
          "Archery",
          "Gymnastics",
          "Gymnastics",
          "Archery",
          "Gymnastics",
          "Gymnastics",
          "Gymnastics",
          "Gymnastics",
          "Gymnastics",
          "Gymnastics",
          "Archery",
          "Weightlifting",
          "Gymnastics",
          "Gymnastics",
          "Gymnastics",
          "Gymnastics",
          "Gymnastics",
          "Gymnastics",
          "Gymnastics",
          "Weightlifting",
          "Weightlifting",
          "Gymnastics",
          "Gymnastics",
          "Gymnastics",
          "Gymnastics",
          "Weightlifting",
          "Gymnastics",
          "Weightlifting",
          "Gymnastics",
          "Weightlifting",
          "Gymnastics",
          "Gymnastics",
          "Gymnastics",
          "Gymnastics",
          "Gymnastics",
          "Archery",
          "Archery",
          "Archery",
          "Gymnastics",
          "Gymnastics",
          "Gymnastics",
          "Gymnastics",
          "Gymnastics",
          "Gymnastics",
          "Gymnastics",
          "Gymnastics",
          "Gymnastics",
          "Gymnastics",
          "Weightlifting",
          "Gymnastics",
          "Gymnastics",
          "Gymnastics",
          "Gymnastics",
          "Gymnastics",
          "Gymnastics",
          "Gymnastics",
          "Gymnastics",
          "Gymnastics",
          "Weightlifting",
          "Weightlifting",
          "Gymnastics",
          "Weightlifting",
          "Weightlifting",
          "Weightlifting",
          "Gymnastics",
          "Gymnastics",
          "Gymnastics",
          "Archery",
          "Archery",
          "Gymnastics",
          "Gymnastics",
          "Gymnastics",
          "Gymnastics",
          "Gymnastics",
          "Archery",
          "Gymnastics",
          "Weightlifting",
          "Gymnastics",
          "Gymnastics",
          "Archery",
          "Gymnastics",
          "Gymnastics",
          "Gymnastics",
          "Gymnastics",
          "Gymnastics",
          "Weightlifting",
          "Weightlifting",
          "Gymnastics",
          "Gymnastics",
          "Gymnastics",
          "Gymnastics",
          "Weightlifting",
          "Weightlifting",
          "Gymnastics",
          "Gymnastics",
          "Gymnastics",
          "Gymnastics",
          "Gymnastics",
          "Weightlifting",
          "Weightlifting",
          "Weightlifting",
          "Gymnastics",
          "Gymnastics",
          "Gymnastics",
          "Gymnastics",
          "Weightlifting",
          "Gymnastics",
          "Weightlifting",
          "Gymnastics",
          "Gymnastics",
          "Gymnastics",
          "Gymnastics",
          "Gymnastics",
          "Gymnastics",
          "Gymnastics",
          "Gymnastics",
          "Gymnastics",
          "Gymnastics",
          "Weightlifting",
          "Weightlifting",
          "Weightlifting",
          "Weightlifting",
          "Gymnastics",
          "Weightlifting",
          "Gymnastics",
          "Gymnastics",
          "Gymnastics",
          "Gymnastics",
          "Gymnastics",
          "Weightlifting",
          "Archery",
          "Weightlifting",
          "Gymnastics",
          "Gymnastics",
          "Gymnastics",
          "Gymnastics",
          "Weightlifting",
          "Gymnastics",
          "Gymnastics",
          "Weightlifting",
          "Archery",
          "Weightlifting",
          "Weightlifting",
          "Gymnastics",
          "Gymnastics",
          "Gymnastics",
          "Gymnastics",
          "Gymnastics",
          "Weightlifting",
          "Gymnastics",
          "Weightlifting",
          "Gymnastics",
          "Gymnastics",
          "Gymnastics",
          "Gymnastics",
          "Gymnastics",
          "Gymnastics",
          "Weightlifting",
          "Weightlifting",
          "Weightlifting",
          "Archery",
          "Gymnastics",
          "Archery",
          "Archery",
          "Archery",
          "Gymnastics",
          "Gymnastics",
          "Gymnastics",
          "Gymnastics",
          "Gymnastics",
          "Gymnastics",
          "Gymnastics",
          "Gymnastics",
          "Gymnastics",
          "Gymnastics",
          "Gymnastics",
          "Gymnastics",
          "Gymnastics",
          "Gymnastics",
          "Gymnastics",
          "Gymnastics",
          "Gymnastics",
          "Gymnastics",
          "Gymnastics",
          "Gymnastics",
          "Gymnastics",
          "Gymnastics",
          "Gymnastics",
          "Gymnastics",
          "Gymnastics",
          "Archery",
          "Gymnastics",
          "Weightlifting",
          "Weightlifting",
          "Gymnastics",
          "Gymnastics",
          "Archery",
          "Gymnastics",
          "Archery",
          "Gymnastics",
          "Gymnastics",
          "Archery",
          "Gymnastics",
          "Gymnastics",
          "Weightlifting",
          "Gymnastics",
          "Gymnastics",
          "Gymnastics",
          "Gymnastics",
          "Gymnastics",
          "Gymnastics",
          "Gymnastics",
          "Gymnastics",
          "Gymnastics",
          "Weightlifting",
          "Weightlifting",
          "Archery",
          "Archery",
          "Archery",
          "Gymnastics",
          "Weightlifting",
          "Gymnastics",
          "Gymnastics",
          "Gymnastics",
          "Gymnastics",
          "Gymnastics",
          "Gymnastics",
          "Weightlifting",
          "Weightlifting",
          "Gymnastics",
          "Gymnastics",
          "Gymnastics",
          "Gymnastics",
          "Gymnastics",
          "Gymnastics",
          "Gymnastics",
          "Weightlifting",
          "Weightlifting",
          "Archery",
          "Archery",
          "Gymnastics",
          "Archery",
          "Gymnastics",
          "Gymnastics",
          "Gymnastics",
          "Gymnastics",
          "Weightlifting",
          "Weightlifting",
          "Gymnastics",
          "Gymnastics",
          "Weightlifting",
          "Weightlifting",
          "Gymnastics",
          "Gymnastics",
          "Gymnastics",
          "Weightlifting",
          "Weightlifting",
          "Gymnastics",
          "Archery",
          "Archery",
          "Gymnastics",
          "Weightlifting",
          "Weightlifting",
          "Weightlifting",
          "Gymnastics",
          "Gymnastics",
          "Gymnastics",
          "Weightlifting",
          "Gymnastics",
          "Gymnastics",
          "Weightlifting",
          "Weightlifting",
          "Gymnastics",
          "Weightlifting",
          "Gymnastics",
          "Gymnastics",
          "Gymnastics",
          "Gymnastics",
          "Gymnastics",
          "Gymnastics",
          "Gymnastics",
          "Gymnastics",
          "Gymnastics",
          "Weightlifting",
          "Weightlifting",
          "Weightlifting",
          "Archery",
          "Archery",
          "Archery",
          "Gymnastics",
          "Gymnastics",
          "Weightlifting",
          "Gymnastics",
          "Gymnastics",
          "Gymnastics",
          "Gymnastics",
          "Gymnastics",
          "Weightlifting",
          "Weightlifting",
          "Gymnastics",
          "Gymnastics",
          "Weightlifting",
          "Weightlifting",
          "Gymnastics",
          "Weightlifting",
          "Gymnastics",
          "Gymnastics",
          "Weightlifting",
          "Weightlifting",
          "Gymnastics",
          "Gymnastics",
          "Gymnastics",
          "Gymnastics",
          "Gymnastics",
          "Gymnastics",
          "Weightlifting",
          "Gymnastics",
          "Gymnastics",
          "Gymnastics",
          "Gymnastics",
          "Weightlifting",
          "Gymnastics",
          "Weightlifting",
          "Gymnastics",
          "Gymnastics",
          "Gymnastics",
          "Gymnastics",
          "Gymnastics",
          "Weightlifting",
          "Gymnastics",
          "Gymnastics",
          "Gymnastics",
          "Weightlifting",
          "Gymnastics",
          "Gymnastics",
          "Weightlifting",
          "Gymnastics",
          "Weightlifting",
          "Archery",
          "Weightlifting",
          "Weightlifting",
          "Gymnastics",
          "Weightlifting",
          "Gymnastics",
          "Weightlifting",
          "Gymnastics",
          "Gymnastics",
          "Gymnastics",
          "Gymnastics",
          "Gymnastics",
          "Gymnastics",
          "Gymnastics",
          "Gymnastics",
          "Gymnastics",
          "Weightlifting",
          "Weightlifting",
          "Gymnastics",
          "Gymnastics",
          "Weightlifting",
          "Gymnastics",
          "Archery",
          "Weightlifting",
          "Gymnastics",
          "Gymnastics",
          "Gymnastics",
          "Gymnastics",
          "Weightlifting",
          "Gymnastics",
          "Weightlifting",
          "Gymnastics",
          "Gymnastics",
          "Gymnastics",
          "Gymnastics",
          "Weightlifting",
          "Weightlifting",
          "Weightlifting",
          "Gymnastics",
          "Gymnastics",
          "Gymnastics",
          "Gymnastics",
          "Gymnastics",
          "Gymnastics",
          "Archery",
          "Archery",
          "Gymnastics",
          "Gymnastics",
          "Gymnastics",
          "Gymnastics",
          "Weightlifting",
          "Gymnastics",
          "Gymnastics",
          "Gymnastics",
          "Gymnastics",
          "Gymnastics",
          "Gymnastics",
          "Gymnastics",
          "Gymnastics",
          "Gymnastics",
          "Gymnastics",
          "Gymnastics",
          "Gymnastics",
          "Weightlifting",
          "Gymnastics",
          "Gymnastics",
          "Gymnastics",
          "Gymnastics",
          "Weightlifting",
          "Gymnastics",
          "Weightlifting",
          "Gymnastics",
          "Weightlifting",
          "Gymnastics",
          "Gymnastics",
          "Weightlifting",
          "Gymnastics",
          "Weightlifting",
          "Gymnastics",
          "Gymnastics",
          "Gymnastics",
          "Gymnastics",
          "Gymnastics",
          "Gymnastics",
          "Gymnastics",
          "Gymnastics",
          "Gymnastics",
          "Gymnastics",
          "Gymnastics",
          "Gymnastics",
          "Gymnastics",
          "Gymnastics",
          "Gymnastics",
          "Gymnastics",
          "Gymnastics",
          "Gymnastics",
          "Gymnastics",
          "Gymnastics",
          "Gymnastics",
          "Archery",
          "Gymnastics",
          "Gymnastics",
          "Gymnastics",
          "Gymnastics",
          "Gymnastics",
          "Gymnastics",
          "Gymnastics",
          "Archery",
          "Archery",
          "Archery",
          "Archery",
          "Gymnastics",
          "Archery",
          "Archery",
          "Archery",
          "Archery",
          "Gymnastics",
          "Archery",
          "Gymnastics",
          "Gymnastics",
          "Weightlifting",
          "Gymnastics",
          "Gymnastics",
          "Gymnastics",
          "Gymnastics",
          "Gymnastics",
          "Archery",
          "Gymnastics",
          "Gymnastics",
          "Gymnastics",
          "Gymnastics",
          "Gymnastics",
          "Gymnastics",
          "Gymnastics",
          "Gymnastics",
          "Gymnastics",
          "Weightlifting",
          "Weightlifting",
          "Gymnastics",
          "Gymnastics",
          "Gymnastics",
          "Gymnastics",
          "Gymnastics",
          "Gymnastics",
          "Gymnastics",
          "Gymnastics",
          "Gymnastics",
          "Gymnastics",
          "Archery",
          "Gymnastics",
          "Gymnastics",
          "Gymnastics",
          "Archery",
          "Archery",
          "Archery",
          "Archery",
          "Archery",
          "Gymnastics",
          "Gymnastics",
          "Gymnastics",
          "Gymnastics",
          "Gymnastics",
          "Gymnastics",
          "Gymnastics",
          "Weightlifting",
          "Weightlifting",
          "Gymnastics",
          "Weightlifting",
          "Archery",
          "Archery",
          "Weightlifting",
          "Gymnastics",
          "Weightlifting",
          "Gymnastics",
          "Weightlifting",
          "Archery",
          "Weightlifting",
          "Weightlifting",
          "Weightlifting",
          "Weightlifting",
          "Archery",
          "Archery",
          "Gymnastics",
          "Archery",
          "Gymnastics",
          "Archery",
          "Gymnastics",
          "Gymnastics",
          "Gymnastics",
          "Gymnastics",
          "Weightlifting",
          "Weightlifting",
          "Weightlifting",
          "Gymnastics",
          "Gymnastics",
          "Gymnastics",
          "Weightlifting",
          "Weightlifting",
          "Gymnastics",
          "Gymnastics",
          "Gymnastics",
          "Archery",
          "Archery",
          "Weightlifting",
          "Weightlifting",
          "Weightlifting",
          "Gymnastics",
          "Gymnastics",
          "Gymnastics",
          "Gymnastics",
          "Gymnastics",
          "Gymnastics",
          "Gymnastics",
          "Weightlifting"
         ],
         "x0": " ",
         "xaxis": "x",
         "y": [
          24,
          20,
          19,
          19,
          24,
          24,
          20,
          21,
          32,
          21,
          21,
          19,
          26,
          20,
          44,
          26,
          16,
          14,
          22,
          27,
          31,
          34,
          28,
          19,
          23,
          23,
          27,
          27,
          28,
          28,
          23,
          23,
          27,
          19,
          21,
          34,
          31,
          26,
          29,
          26,
          27,
          26,
          22,
          22,
          null,
          25,
          28,
          24,
          24,
          22,
          23,
          27,
          22,
          21,
          27,
          25,
          14,
          25,
          28,
          15,
          21,
          26,
          24,
          25,
          26,
          23,
          27,
          27,
          24,
          17,
          22,
          15,
          17,
          22,
          24,
          22,
          18,
          24,
          28,
          22,
          28,
          19,
          22,
          34,
          23,
          31,
          23,
          23,
          22,
          46,
          24,
          44,
          44,
          44,
          21,
          22,
          26,
          24,
          26,
          37,
          26,
          24,
          20,
          18,
          22,
          26,
          26,
          21,
          23,
          27,
          26,
          16,
          29,
          22,
          18,
          27,
          30,
          30,
          35,
          33,
          22,
          null,
          23,
          14,
          18,
          18,
          15,
          55,
          55,
          null,
          31,
          31,
          26,
          19,
          24,
          27,
          34,
          20,
          27,
          18,
          null,
          44,
          27,
          26,
          null,
          30,
          24,
          21,
          28,
          34,
          42,
          25,
          22,
          21,
          25,
          18,
          18,
          22,
          22,
          22,
          22,
          21,
          15,
          36,
          16,
          16,
          23,
          null,
          26,
          15,
          23,
          15,
          68,
          16,
          16,
          26,
          27,
          21,
          23,
          27,
          27,
          31,
          29,
          61,
          61,
          23,
          23,
          27,
          null,
          23,
          33,
          33,
          25,
          21,
          22,
          21,
          22,
          38,
          38,
          30,
          26,
          44,
          29,
          29,
          20,
          26,
          26,
          30,
          22,
          23,
          21,
          24,
          31,
          27,
          27,
          23,
          14,
          24,
          25,
          25,
          33,
          37,
          19,
          25,
          25,
          29,
          21,
          24,
          23,
          26,
          23,
          25,
          19,
          27,
          17,
          11,
          null,
          14,
          15,
          25,
          13,
          17,
          17,
          30,
          30,
          24,
          24,
          18,
          14,
          16,
          53,
          53,
          29,
          17,
          15,
          17,
          23,
          27,
          32,
          32,
          22,
          20,
          27,
          31,
          31,
          25,
          16,
          null,
          22,
          29,
          24,
          21,
          21,
          21,
          23,
          33,
          23,
          23,
          18,
          23,
          29,
          25,
          27,
          26,
          26,
          26,
          20,
          19,
          27,
          23,
          20,
          25,
          31,
          26,
          18,
          38,
          21,
          24,
          30,
          16,
          27,
          27,
          20,
          23,
          21,
          27,
          25,
          37,
          19,
          22,
          30,
          30,
          30,
          30,
          30,
          22,
          20,
          27,
          21,
          24,
          23,
          54,
          30,
          29,
          17,
          17,
          23,
          27,
          26,
          30,
          15,
          30,
          22,
          23,
          21,
          18,
          21,
          23,
          27,
          21,
          24,
          27,
          23,
          24,
          22,
          26,
          25,
          29,
          22,
          20,
          20,
          16,
          20,
          20,
          20,
          27,
          21,
          18,
          18,
          26,
          20,
          30,
          30,
          25,
          24,
          26,
          24,
          16,
          16,
          16,
          20,
          20,
          21,
          22,
          26,
          29,
          29,
          29,
          23,
          27,
          31,
          22,
          21,
          25,
          23,
          25,
          28,
          21,
          18,
          25,
          25,
          29,
          24,
          31,
          35,
          35,
          null,
          24,
          28,
          28,
          22,
          26,
          17,
          21,
          27,
          17,
          21,
          21,
          25,
          32,
          24,
          23,
          19,
          23,
          27,
          20,
          18,
          21,
          26,
          22,
          22,
          27,
          22,
          20,
          31,
          19,
          21,
          19,
          23,
          23,
          25,
          20,
          18,
          19,
          23,
          16,
          17,
          17,
          27,
          30,
          17,
          21,
          22,
          21,
          20,
          24,
          25,
          26,
          30,
          23,
          27,
          26,
          18,
          26,
          20,
          null,
          20,
          27,
          31,
          23,
          23,
          23,
          18,
          19,
          23,
          24,
          24,
          25,
          27,
          21,
          18,
          23,
          15,
          null,
          30,
          21,
          25,
          20,
          32,
          38,
          24,
          25,
          25,
          32,
          21,
          21,
          25,
          25,
          29,
          29,
          24,
          18,
          26,
          24,
          27,
          19,
          25,
          37,
          29,
          29,
          29,
          19,
          28,
          30,
          24,
          36,
          36,
          24,
          24,
          24,
          18,
          25,
          23,
          27,
          22,
          22,
          22,
          18,
          20,
          20,
          21,
          18,
          22,
          22,
          26,
          22,
          21,
          26,
          27,
          17,
          19,
          24,
          24,
          24,
          24,
          28,
          16,
          19,
          24,
          18,
          18,
          18,
          17,
          17,
          26,
          26,
          36,
          34,
          null,
          null,
          20,
          20,
          21,
          15,
          32,
          25,
          22,
          23,
          16,
          24,
          21,
          21,
          27,
          31,
          31,
          28,
          28,
          28,
          28,
          27,
          27,
          23,
          19,
          14,
          25,
          22,
          28,
          22,
          22,
          30,
          12,
          23,
          23,
          22,
          18,
          22,
          31,
          16,
          27,
          27,
          19,
          27,
          23,
          16,
          30,
          34,
          18,
          18,
          16,
          20,
          23,
          35,
          26,
          27,
          21,
          19,
          19,
          23,
          27,
          31,
          22,
          23,
          20,
          26,
          15,
          15,
          15,
          23,
          21,
          23,
          32,
          21,
          21,
          21,
          21,
          27,
          26,
          20,
          17,
          20,
          19,
          26,
          null,
          27,
          25,
          28,
          31,
          31,
          17,
          21,
          19,
          27,
          25,
          25,
          29,
          33,
          26,
          23,
          20,
          18,
          20,
          16,
          20,
          20,
          24,
          25,
          27,
          20,
          28,
          24,
          24,
          26,
          23,
          28,
          23,
          23,
          33,
          24,
          28,
          25,
          22,
          18,
          29,
          19,
          24,
          23,
          32,
          24,
          25,
          25,
          25,
          29,
          18,
          26,
          21,
          27,
          20,
          31,
          24,
          32,
          25,
          18,
          17,
          17,
          21,
          21,
          22,
          16,
          16,
          25,
          26,
          24,
          32,
          27,
          21,
          27,
          28,
          27,
          21,
          31,
          23,
          21,
          20,
          25,
          25,
          22,
          20,
          27,
          14,
          19,
          22,
          16,
          20,
          21,
          24,
          25,
          16,
          17,
          30,
          24,
          18,
          27,
          29,
          15,
          15,
          28,
          31,
          31,
          31,
          28,
          20,
          25,
          29,
          40,
          40,
          40,
          19,
          26,
          16,
          22,
          22,
          20,
          24,
          28,
          34,
          26,
          23,
          16,
          16,
          22,
          22,
          34,
          34,
          21,
          25,
          55,
          55,
          21,
          24,
          23,
          19,
          32,
          15,
          19,
          23,
          19,
          23,
          22,
          26,
          27,
          24,
          24,
          24,
          28,
          20,
          32,
          26,
          21,
          28,
          29,
          27,
          25,
          26,
          25,
          18,
          24,
          27,
          29,
          24,
          18,
          21,
          19,
          22,
          30,
          23,
          40,
          18,
          33,
          33,
          22,
          24,
          22,
          23,
          17,
          43,
          43,
          28,
          28,
          22,
          28,
          28,
          32,
          32,
          20,
          31,
          35,
          20,
          21,
          24,
          20,
          19,
          26,
          16,
          16,
          22,
          26,
          22,
          27,
          24,
          17,
          25,
          17,
          21,
          16,
          20,
          23,
          27,
          18,
          16,
          20,
          20,
          19,
          18,
          23,
          18,
          27,
          29,
          33,
          33,
          27,
          29,
          30,
          27,
          30,
          21,
          26,
          29,
          25,
          null,
          23,
          19,
          30,
          19,
          34,
          37,
          20,
          20,
          23,
          29,
          23,
          28,
          25,
          29,
          23,
          16,
          26,
          20,
          44,
          21,
          32,
          37,
          40,
          17,
          24,
          23,
          27,
          27,
          22,
          22,
          13,
          21,
          36,
          31,
          19,
          23,
          27,
          21,
          24,
          28,
          33,
          33,
          23,
          24,
          27,
          28,
          22,
          26,
          22,
          19,
          23,
          20,
          24,
          24,
          28,
          28,
          22,
          21,
          25,
          23,
          23,
          27,
          23,
          23,
          24,
          32,
          32,
          27,
          24,
          14,
          18,
          23,
          26,
          24,
          26,
          28,
          25,
          26,
          26,
          26,
          24,
          19,
          23,
          23,
          16,
          17,
          28,
          19,
          19,
          23,
          23,
          22,
          30,
          15,
          15,
          28,
          34,
          20,
          28,
          29,
          29,
          25,
          19,
          27,
          null,
          null,
          null,
          null,
          34,
          34,
          54,
          54,
          28,
          null,
          20,
          26,
          25,
          null,
          null,
          12,
          null,
          23,
          37,
          22,
          null,
          27,
          23,
          24,
          23,
          19,
          14,
          null,
          24,
          28,
          24,
          18,
          23,
          23,
          23,
          23,
          27,
          27,
          20,
          29,
          26,
          34,
          34,
          23,
          17,
          27,
          18,
          19,
          24,
          null,
          18,
          22,
          25,
          29,
          31,
          31,
          26,
          31,
          24,
          23,
          63,
          63,
          null,
          30,
          null,
          null,
          33,
          59,
          19,
          23,
          24,
          19,
          26,
          24,
          21,
          21,
          21,
          41,
          23,
          20,
          28,
          25,
          22,
          23,
          27,
          27,
          31,
          24,
          18,
          26,
          17,
          26,
          18,
          23,
          27,
          23,
          22,
          22,
          21,
          21,
          25,
          25,
          25,
          30,
          30,
          23
         ],
         "y0": " ",
         "yaxis": "y"
        }
       ],
       "layout": {
        "boxmode": "group",
        "legend": {
         "title": {
          "text": "Medal"
         },
         "tracegroupgap": 0
        },
        "template": {
         "data": {
          "bar": [
           {
            "error_x": {
             "color": "#2a3f5f"
            },
            "error_y": {
             "color": "#2a3f5f"
            },
            "marker": {
             "line": {
              "color": "#E5ECF6",
              "width": 0.5
             },
             "pattern": {
              "fillmode": "overlay",
              "size": 10,
              "solidity": 0.2
             }
            },
            "type": "bar"
           }
          ],
          "barpolar": [
           {
            "marker": {
             "line": {
              "color": "#E5ECF6",
              "width": 0.5
             },
             "pattern": {
              "fillmode": "overlay",
              "size": 10,
              "solidity": 0.2
             }
            },
            "type": "barpolar"
           }
          ],
          "carpet": [
           {
            "aaxis": {
             "endlinecolor": "#2a3f5f",
             "gridcolor": "white",
             "linecolor": "white",
             "minorgridcolor": "white",
             "startlinecolor": "#2a3f5f"
            },
            "baxis": {
             "endlinecolor": "#2a3f5f",
             "gridcolor": "white",
             "linecolor": "white",
             "minorgridcolor": "white",
             "startlinecolor": "#2a3f5f"
            },
            "type": "carpet"
           }
          ],
          "choropleth": [
           {
            "colorbar": {
             "outlinewidth": 0,
             "ticks": ""
            },
            "type": "choropleth"
           }
          ],
          "contour": [
           {
            "colorbar": {
             "outlinewidth": 0,
             "ticks": ""
            },
            "colorscale": [
             [
              0,
              "#0d0887"
             ],
             [
              0.1111111111111111,
              "#46039f"
             ],
             [
              0.2222222222222222,
              "#7201a8"
             ],
             [
              0.3333333333333333,
              "#9c179e"
             ],
             [
              0.4444444444444444,
              "#bd3786"
             ],
             [
              0.5555555555555556,
              "#d8576b"
             ],
             [
              0.6666666666666666,
              "#ed7953"
             ],
             [
              0.7777777777777778,
              "#fb9f3a"
             ],
             [
              0.8888888888888888,
              "#fdca26"
             ],
             [
              1,
              "#f0f921"
             ]
            ],
            "type": "contour"
           }
          ],
          "contourcarpet": [
           {
            "colorbar": {
             "outlinewidth": 0,
             "ticks": ""
            },
            "type": "contourcarpet"
           }
          ],
          "heatmap": [
           {
            "colorbar": {
             "outlinewidth": 0,
             "ticks": ""
            },
            "colorscale": [
             [
              0,
              "#0d0887"
             ],
             [
              0.1111111111111111,
              "#46039f"
             ],
             [
              0.2222222222222222,
              "#7201a8"
             ],
             [
              0.3333333333333333,
              "#9c179e"
             ],
             [
              0.4444444444444444,
              "#bd3786"
             ],
             [
              0.5555555555555556,
              "#d8576b"
             ],
             [
              0.6666666666666666,
              "#ed7953"
             ],
             [
              0.7777777777777778,
              "#fb9f3a"
             ],
             [
              0.8888888888888888,
              "#fdca26"
             ],
             [
              1,
              "#f0f921"
             ]
            ],
            "type": "heatmap"
           }
          ],
          "heatmapgl": [
           {
            "colorbar": {
             "outlinewidth": 0,
             "ticks": ""
            },
            "colorscale": [
             [
              0,
              "#0d0887"
             ],
             [
              0.1111111111111111,
              "#46039f"
             ],
             [
              0.2222222222222222,
              "#7201a8"
             ],
             [
              0.3333333333333333,
              "#9c179e"
             ],
             [
              0.4444444444444444,
              "#bd3786"
             ],
             [
              0.5555555555555556,
              "#d8576b"
             ],
             [
              0.6666666666666666,
              "#ed7953"
             ],
             [
              0.7777777777777778,
              "#fb9f3a"
             ],
             [
              0.8888888888888888,
              "#fdca26"
             ],
             [
              1,
              "#f0f921"
             ]
            ],
            "type": "heatmapgl"
           }
          ],
          "histogram": [
           {
            "marker": {
             "pattern": {
              "fillmode": "overlay",
              "size": 10,
              "solidity": 0.2
             }
            },
            "type": "histogram"
           }
          ],
          "histogram2d": [
           {
            "colorbar": {
             "outlinewidth": 0,
             "ticks": ""
            },
            "colorscale": [
             [
              0,
              "#0d0887"
             ],
             [
              0.1111111111111111,
              "#46039f"
             ],
             [
              0.2222222222222222,
              "#7201a8"
             ],
             [
              0.3333333333333333,
              "#9c179e"
             ],
             [
              0.4444444444444444,
              "#bd3786"
             ],
             [
              0.5555555555555556,
              "#d8576b"
             ],
             [
              0.6666666666666666,
              "#ed7953"
             ],
             [
              0.7777777777777778,
              "#fb9f3a"
             ],
             [
              0.8888888888888888,
              "#fdca26"
             ],
             [
              1,
              "#f0f921"
             ]
            ],
            "type": "histogram2d"
           }
          ],
          "histogram2dcontour": [
           {
            "colorbar": {
             "outlinewidth": 0,
             "ticks": ""
            },
            "colorscale": [
             [
              0,
              "#0d0887"
             ],
             [
              0.1111111111111111,
              "#46039f"
             ],
             [
              0.2222222222222222,
              "#7201a8"
             ],
             [
              0.3333333333333333,
              "#9c179e"
             ],
             [
              0.4444444444444444,
              "#bd3786"
             ],
             [
              0.5555555555555556,
              "#d8576b"
             ],
             [
              0.6666666666666666,
              "#ed7953"
             ],
             [
              0.7777777777777778,
              "#fb9f3a"
             ],
             [
              0.8888888888888888,
              "#fdca26"
             ],
             [
              1,
              "#f0f921"
             ]
            ],
            "type": "histogram2dcontour"
           }
          ],
          "mesh3d": [
           {
            "colorbar": {
             "outlinewidth": 0,
             "ticks": ""
            },
            "type": "mesh3d"
           }
          ],
          "parcoords": [
           {
            "line": {
             "colorbar": {
              "outlinewidth": 0,
              "ticks": ""
             }
            },
            "type": "parcoords"
           }
          ],
          "pie": [
           {
            "automargin": true,
            "type": "pie"
           }
          ],
          "scatter": [
           {
            "fillpattern": {
             "fillmode": "overlay",
             "size": 10,
             "solidity": 0.2
            },
            "type": "scatter"
           }
          ],
          "scatter3d": [
           {
            "line": {
             "colorbar": {
              "outlinewidth": 0,
              "ticks": ""
             }
            },
            "marker": {
             "colorbar": {
              "outlinewidth": 0,
              "ticks": ""
             }
            },
            "type": "scatter3d"
           }
          ],
          "scattercarpet": [
           {
            "marker": {
             "colorbar": {
              "outlinewidth": 0,
              "ticks": ""
             }
            },
            "type": "scattercarpet"
           }
          ],
          "scattergeo": [
           {
            "marker": {
             "colorbar": {
              "outlinewidth": 0,
              "ticks": ""
             }
            },
            "type": "scattergeo"
           }
          ],
          "scattergl": [
           {
            "marker": {
             "colorbar": {
              "outlinewidth": 0,
              "ticks": ""
             }
            },
            "type": "scattergl"
           }
          ],
          "scattermapbox": [
           {
            "marker": {
             "colorbar": {
              "outlinewidth": 0,
              "ticks": ""
             }
            },
            "type": "scattermapbox"
           }
          ],
          "scatterpolar": [
           {
            "marker": {
             "colorbar": {
              "outlinewidth": 0,
              "ticks": ""
             }
            },
            "type": "scatterpolar"
           }
          ],
          "scatterpolargl": [
           {
            "marker": {
             "colorbar": {
              "outlinewidth": 0,
              "ticks": ""
             }
            },
            "type": "scatterpolargl"
           }
          ],
          "scatterternary": [
           {
            "marker": {
             "colorbar": {
              "outlinewidth": 0,
              "ticks": ""
             }
            },
            "type": "scatterternary"
           }
          ],
          "surface": [
           {
            "colorbar": {
             "outlinewidth": 0,
             "ticks": ""
            },
            "colorscale": [
             [
              0,
              "#0d0887"
             ],
             [
              0.1111111111111111,
              "#46039f"
             ],
             [
              0.2222222222222222,
              "#7201a8"
             ],
             [
              0.3333333333333333,
              "#9c179e"
             ],
             [
              0.4444444444444444,
              "#bd3786"
             ],
             [
              0.5555555555555556,
              "#d8576b"
             ],
             [
              0.6666666666666666,
              "#ed7953"
             ],
             [
              0.7777777777777778,
              "#fb9f3a"
             ],
             [
              0.8888888888888888,
              "#fdca26"
             ],
             [
              1,
              "#f0f921"
             ]
            ],
            "type": "surface"
           }
          ],
          "table": [
           {
            "cells": {
             "fill": {
              "color": "#EBF0F8"
             },
             "line": {
              "color": "white"
             }
            },
            "header": {
             "fill": {
              "color": "#C8D4E3"
             },
             "line": {
              "color": "white"
             }
            },
            "type": "table"
           }
          ]
         },
         "layout": {
          "annotationdefaults": {
           "arrowcolor": "#2a3f5f",
           "arrowhead": 0,
           "arrowwidth": 1
          },
          "autotypenumbers": "strict",
          "coloraxis": {
           "colorbar": {
            "outlinewidth": 0,
            "ticks": ""
           }
          },
          "colorscale": {
           "diverging": [
            [
             0,
             "#8e0152"
            ],
            [
             0.1,
             "#c51b7d"
            ],
            [
             0.2,
             "#de77ae"
            ],
            [
             0.3,
             "#f1b6da"
            ],
            [
             0.4,
             "#fde0ef"
            ],
            [
             0.5,
             "#f7f7f7"
            ],
            [
             0.6,
             "#e6f5d0"
            ],
            [
             0.7,
             "#b8e186"
            ],
            [
             0.8,
             "#7fbc41"
            ],
            [
             0.9,
             "#4d9221"
            ],
            [
             1,
             "#276419"
            ]
           ],
           "sequential": [
            [
             0,
             "#0d0887"
            ],
            [
             0.1111111111111111,
             "#46039f"
            ],
            [
             0.2222222222222222,
             "#7201a8"
            ],
            [
             0.3333333333333333,
             "#9c179e"
            ],
            [
             0.4444444444444444,
             "#bd3786"
            ],
            [
             0.5555555555555556,
             "#d8576b"
            ],
            [
             0.6666666666666666,
             "#ed7953"
            ],
            [
             0.7777777777777778,
             "#fb9f3a"
            ],
            [
             0.8888888888888888,
             "#fdca26"
            ],
            [
             1,
             "#f0f921"
            ]
           ],
           "sequentialminus": [
            [
             0,
             "#0d0887"
            ],
            [
             0.1111111111111111,
             "#46039f"
            ],
            [
             0.2222222222222222,
             "#7201a8"
            ],
            [
             0.3333333333333333,
             "#9c179e"
            ],
            [
             0.4444444444444444,
             "#bd3786"
            ],
            [
             0.5555555555555556,
             "#d8576b"
            ],
            [
             0.6666666666666666,
             "#ed7953"
            ],
            [
             0.7777777777777778,
             "#fb9f3a"
            ],
            [
             0.8888888888888888,
             "#fdca26"
            ],
            [
             1,
             "#f0f921"
            ]
           ]
          },
          "colorway": [
           "#636efa",
           "#EF553B",
           "#00cc96",
           "#ab63fa",
           "#FFA15A",
           "#19d3f3",
           "#FF6692",
           "#B6E880",
           "#FF97FF",
           "#FECB52"
          ],
          "font": {
           "color": "#2a3f5f"
          },
          "geo": {
           "bgcolor": "white",
           "lakecolor": "white",
           "landcolor": "#E5ECF6",
           "showlakes": true,
           "showland": true,
           "subunitcolor": "white"
          },
          "hoverlabel": {
           "align": "left"
          },
          "hovermode": "closest",
          "mapbox": {
           "style": "light"
          },
          "paper_bgcolor": "white",
          "plot_bgcolor": "#E5ECF6",
          "polar": {
           "angularaxis": {
            "gridcolor": "white",
            "linecolor": "white",
            "ticks": ""
           },
           "bgcolor": "#E5ECF6",
           "radialaxis": {
            "gridcolor": "white",
            "linecolor": "white",
            "ticks": ""
           }
          },
          "scene": {
           "xaxis": {
            "backgroundcolor": "#E5ECF6",
            "gridcolor": "white",
            "gridwidth": 2,
            "linecolor": "white",
            "showbackground": true,
            "ticks": "",
            "zerolinecolor": "white"
           },
           "yaxis": {
            "backgroundcolor": "#E5ECF6",
            "gridcolor": "white",
            "gridwidth": 2,
            "linecolor": "white",
            "showbackground": true,
            "ticks": "",
            "zerolinecolor": "white"
           },
           "zaxis": {
            "backgroundcolor": "#E5ECF6",
            "gridcolor": "white",
            "gridwidth": 2,
            "linecolor": "white",
            "showbackground": true,
            "ticks": "",
            "zerolinecolor": "white"
           }
          },
          "shapedefaults": {
           "line": {
            "color": "#2a3f5f"
           }
          },
          "ternary": {
           "aaxis": {
            "gridcolor": "white",
            "linecolor": "white",
            "ticks": ""
           },
           "baxis": {
            "gridcolor": "white",
            "linecolor": "white",
            "ticks": ""
           },
           "bgcolor": "#E5ECF6",
           "caxis": {
            "gridcolor": "white",
            "linecolor": "white",
            "ticks": ""
           }
          },
          "title": {
           "x": 0.05
          },
          "xaxis": {
           "automargin": true,
           "gridcolor": "white",
           "linecolor": "white",
           "ticks": "",
           "title": {
            "standoff": 15
           },
           "zerolinecolor": "white",
           "zerolinewidth": 2
          },
          "yaxis": {
           "automargin": true,
           "gridcolor": "white",
           "linecolor": "white",
           "ticks": "",
           "title": {
            "standoff": 15
           },
           "zerolinecolor": "white",
           "zerolinewidth": 2
          }
         }
        },
        "title": {
         "text": "Age distribution in Weightlifting, Archery and Gymnastics"
        },
        "xaxis": {
         "anchor": "y",
         "domain": [
          0,
          1
         ],
         "title": {
          "text": "Sport"
         }
        },
        "yaxis": {
         "anchor": "x",
         "domain": [
          0,
          1
         ],
         "title": {
          "text": "Age"
         }
        }
       }
      }
     },
     "metadata": {},
     "output_type": "display_data"
    }
   ],
   "source": [
    "age_distribution = filt_df.groupby(\"Sport\")[[\"Age\", \"Medal\"]].describe()\n",
    "\n",
    "age_distribution\n",
    "\n",
    "fig = px.box(filt_df, x=\"Sport\", y=\"Age\",color=\"Medal\", title=\"Age distribution in Weightlifting, Archery and Gymnastics\")\n",
    "fig.show()"
   ]
  }
 ],
 "metadata": {
  "kernelspec": {
   "display_name": ".venv",
   "language": "python",
   "name": "python3"
  },
  "language_info": {
   "codemirror_mode": {
    "name": "ipython",
    "version": 3
   },
   "file_extension": ".py",
   "mimetype": "text/x-python",
   "name": "python",
   "nbconvert_exporter": "python",
   "pygments_lexer": "ipython3",
   "version": "3.12.5"
  }
 },
 "nbformat": 4,
 "nbformat_minor": 2
}
