{
 "cells": [
  {
   "cell_type": "code",
   "execution_count": 26,
   "metadata": {},
   "outputs": [
    {
     "data": {
      "text/html": [
       "<div>\n",
       "<style scoped>\n",
       "    .dataframe tbody tr th:only-of-type {\n",
       "        vertical-align: middle;\n",
       "    }\n",
       "\n",
       "    .dataframe tbody tr th {\n",
       "        vertical-align: top;\n",
       "    }\n",
       "\n",
       "    .dataframe thead th {\n",
       "        text-align: right;\n",
       "    }\n",
       "</style>\n",
       "<table border=\"1\" class=\"dataframe\">\n",
       "  <thead>\n",
       "    <tr style=\"text-align: right;\">\n",
       "      <th></th>\n",
       "      <th>ID</th>\n",
       "      <th>Name</th>\n",
       "      <th>Sex</th>\n",
       "      <th>Age</th>\n",
       "      <th>Height</th>\n",
       "      <th>Weight</th>\n",
       "      <th>Team</th>\n",
       "      <th>NOC</th>\n",
       "      <th>Games</th>\n",
       "      <th>Year</th>\n",
       "      <th>Season</th>\n",
       "      <th>City</th>\n",
       "      <th>Sport</th>\n",
       "      <th>Event</th>\n",
       "      <th>Medal</th>\n",
       "    </tr>\n",
       "  </thead>\n",
       "  <tbody>\n",
       "    <tr>\n",
       "      <th>208</th>\n",
       "      <td>99</td>\n",
       "      <td>3d783a420a34bbe55508bbd5f6eaf42e2a5c8804a13ac6...</td>\n",
       "      <td>M</td>\n",
       "      <td>30.0</td>\n",
       "      <td>181.0</td>\n",
       "      <td>79.0</td>\n",
       "      <td>Hungary</td>\n",
       "      <td>HUN</td>\n",
       "      <td>1992 Summer</td>\n",
       "      <td>1992</td>\n",
       "      <td>Summer</td>\n",
       "      <td>Barcelona</td>\n",
       "      <td>Fencing</td>\n",
       "      <td>Fencing Men's Sabre, Team</td>\n",
       "      <td>Silver</td>\n",
       "    </tr>\n",
       "    <tr>\n",
       "      <th>209</th>\n",
       "      <td>100</td>\n",
       "      <td>ed7fb6924e1b785bfd0d7d8f53af169ad6488abb1505b7...</td>\n",
       "      <td>M</td>\n",
       "      <td>22.0</td>\n",
       "      <td>NaN</td>\n",
       "      <td>NaN</td>\n",
       "      <td>Hungary</td>\n",
       "      <td>HUN</td>\n",
       "      <td>1936 Summer</td>\n",
       "      <td>1936</td>\n",
       "      <td>Summer</td>\n",
       "      <td>Berlin</td>\n",
       "      <td>Swimming</td>\n",
       "      <td>Swimming Men's 100 metres Freestyle</td>\n",
       "      <td>NaN</td>\n",
       "    </tr>\n",
       "    <tr>\n",
       "      <th>210</th>\n",
       "      <td>100</td>\n",
       "      <td>ed7fb6924e1b785bfd0d7d8f53af169ad6488abb1505b7...</td>\n",
       "      <td>M</td>\n",
       "      <td>22.0</td>\n",
       "      <td>NaN</td>\n",
       "      <td>NaN</td>\n",
       "      <td>Hungary</td>\n",
       "      <td>HUN</td>\n",
       "      <td>1936 Summer</td>\n",
       "      <td>1936</td>\n",
       "      <td>Summer</td>\n",
       "      <td>Berlin</td>\n",
       "      <td>Swimming</td>\n",
       "      <td>Swimming Men's 4 x 200 metres Freestyle Relay</td>\n",
       "      <td>Bronze</td>\n",
       "    </tr>\n",
       "    <tr>\n",
       "      <th>884</th>\n",
       "      <td>507</td>\n",
       "      <td>557f18d348e2fb24e10d9cc87fb47162eb705d53ae01fe...</td>\n",
       "      <td>M</td>\n",
       "      <td>21.0</td>\n",
       "      <td>192.0</td>\n",
       "      <td>88.0</td>\n",
       "      <td>Hungary</td>\n",
       "      <td>HUN</td>\n",
       "      <td>1988 Summer</td>\n",
       "      <td>1988</td>\n",
       "      <td>Summer</td>\n",
       "      <td>Seoul</td>\n",
       "      <td>Canoeing</td>\n",
       "      <td>Canoeing Men's Kayak Doubles, 500 metres</td>\n",
       "      <td>Bronze</td>\n",
       "    </tr>\n",
       "    <tr>\n",
       "      <th>885</th>\n",
       "      <td>507</td>\n",
       "      <td>557f18d348e2fb24e10d9cc87fb47162eb705d53ae01fe...</td>\n",
       "      <td>M</td>\n",
       "      <td>21.0</td>\n",
       "      <td>192.0</td>\n",
       "      <td>88.0</td>\n",
       "      <td>Hungary</td>\n",
       "      <td>HUN</td>\n",
       "      <td>1988 Summer</td>\n",
       "      <td>1988</td>\n",
       "      <td>Summer</td>\n",
       "      <td>Seoul</td>\n",
       "      <td>Canoeing</td>\n",
       "      <td>Canoeing Men's Kayak Fours, 1,000 metres</td>\n",
       "      <td>Gold</td>\n",
       "    </tr>\n",
       "  </tbody>\n",
       "</table>\n",
       "</div>"
      ],
      "text/plain": [
       "      ID                                               Name Sex   Age  Height  \\\n",
       "208   99  3d783a420a34bbe55508bbd5f6eaf42e2a5c8804a13ac6...   M  30.0   181.0   \n",
       "209  100  ed7fb6924e1b785bfd0d7d8f53af169ad6488abb1505b7...   M  22.0     NaN   \n",
       "210  100  ed7fb6924e1b785bfd0d7d8f53af169ad6488abb1505b7...   M  22.0     NaN   \n",
       "884  507  557f18d348e2fb24e10d9cc87fb47162eb705d53ae01fe...   M  21.0   192.0   \n",
       "885  507  557f18d348e2fb24e10d9cc87fb47162eb705d53ae01fe...   M  21.0   192.0   \n",
       "\n",
       "     Weight     Team  NOC        Games  Year  Season       City     Sport  \\\n",
       "208    79.0  Hungary  HUN  1992 Summer  1992  Summer  Barcelona   Fencing   \n",
       "209     NaN  Hungary  HUN  1936 Summer  1936  Summer     Berlin  Swimming   \n",
       "210     NaN  Hungary  HUN  1936 Summer  1936  Summer     Berlin  Swimming   \n",
       "884    88.0  Hungary  HUN  1988 Summer  1988  Summer      Seoul  Canoeing   \n",
       "885    88.0  Hungary  HUN  1988 Summer  1988  Summer      Seoul  Canoeing   \n",
       "\n",
       "                                             Event   Medal  \n",
       "208                      Fencing Men's Sabre, Team  Silver  \n",
       "209            Swimming Men's 100 metres Freestyle     NaN  \n",
       "210  Swimming Men's 4 x 200 metres Freestyle Relay  Bronze  \n",
       "884       Canoeing Men's Kayak Doubles, 500 metres  Bronze  \n",
       "885       Canoeing Men's Kayak Fours, 1,000 metres    Gold  "
      ]
     },
     "execution_count": 26,
     "metadata": {},
     "output_type": "execute_result"
    }
   ],
   "source": [
    "import pandas as pd\n",
    "import hashlib as hl\n",
    "import plotly.express as px\n",
    "\n",
    "\n",
    "hungary = pd.read_csv(\"../Data/athlete_events.csv\")\n",
    "\n",
    "\n",
    "hungary = hungary[hungary[\"NOC\"] == \"HUN\"]\n",
    "\n",
    "def hash_name(name):\n",
    "    \n",
    "    if (name == None):\n",
    "        return\n",
    "\n",
    "    return hl.sha256(name.encode()).hexdigest()\n",
    "\n",
    "\n",
    "hungary[\"Name\"] = hungary[\"Name\"].apply(hash_name)\n",
    "\n",
    "hungary.head()\n"
   ]
  },
  {
   "cell_type": "code",
   "execution_count": 27,
   "metadata": {},
   "outputs": [
    {
     "data": {
      "application/vnd.plotly.v1+json": {
       "config": {
        "plotlyServerURL": "https://plot.ly"
       },
       "data": [
        {
         "alignmentgroup": "True",
         "hovertemplate": "Sport=%{x}<br>Antal medaljer=%{y}<extra></extra>",
         "legendgroup": "",
         "marker": {
          "color": "#636efa",
          "pattern": {
           "shape": ""
          }
         },
         "name": "",
         "offsetgroup": "",
         "orientation": "v",
         "showlegend": false,
         "textposition": "auto",
         "type": "bar",
         "x": [
          "Fencing",
          "Water Polo",
          "Canoeing",
          "Gymnastics",
          "Swimming",
          "Football",
          "Wrestling",
          "Athletics",
          "Handball",
          "Modern Pentathlon"
         ],
         "xaxis": "x",
         "y": [
          236,
          172,
          158,
          111,
          94,
          79,
          55,
          52,
          45,
          38
         ],
         "yaxis": "y"
        }
       ],
       "layout": {
        "barmode": "relative",
        "legend": {
         "tracegroupgap": 0
        },
        "template": {
         "data": {
          "bar": [
           {
            "error_x": {
             "color": "#2a3f5f"
            },
            "error_y": {
             "color": "#2a3f5f"
            },
            "marker": {
             "line": {
              "color": "#E5ECF6",
              "width": 0.5
             },
             "pattern": {
              "fillmode": "overlay",
              "size": 10,
              "solidity": 0.2
             }
            },
            "type": "bar"
           }
          ],
          "barpolar": [
           {
            "marker": {
             "line": {
              "color": "#E5ECF6",
              "width": 0.5
             },
             "pattern": {
              "fillmode": "overlay",
              "size": 10,
              "solidity": 0.2
             }
            },
            "type": "barpolar"
           }
          ],
          "carpet": [
           {
            "aaxis": {
             "endlinecolor": "#2a3f5f",
             "gridcolor": "white",
             "linecolor": "white",
             "minorgridcolor": "white",
             "startlinecolor": "#2a3f5f"
            },
            "baxis": {
             "endlinecolor": "#2a3f5f",
             "gridcolor": "white",
             "linecolor": "white",
             "minorgridcolor": "white",
             "startlinecolor": "#2a3f5f"
            },
            "type": "carpet"
           }
          ],
          "choropleth": [
           {
            "colorbar": {
             "outlinewidth": 0,
             "ticks": ""
            },
            "type": "choropleth"
           }
          ],
          "contour": [
           {
            "colorbar": {
             "outlinewidth": 0,
             "ticks": ""
            },
            "colorscale": [
             [
              0,
              "#0d0887"
             ],
             [
              0.1111111111111111,
              "#46039f"
             ],
             [
              0.2222222222222222,
              "#7201a8"
             ],
             [
              0.3333333333333333,
              "#9c179e"
             ],
             [
              0.4444444444444444,
              "#bd3786"
             ],
             [
              0.5555555555555556,
              "#d8576b"
             ],
             [
              0.6666666666666666,
              "#ed7953"
             ],
             [
              0.7777777777777778,
              "#fb9f3a"
             ],
             [
              0.8888888888888888,
              "#fdca26"
             ],
             [
              1,
              "#f0f921"
             ]
            ],
            "type": "contour"
           }
          ],
          "contourcarpet": [
           {
            "colorbar": {
             "outlinewidth": 0,
             "ticks": ""
            },
            "type": "contourcarpet"
           }
          ],
          "heatmap": [
           {
            "colorbar": {
             "outlinewidth": 0,
             "ticks": ""
            },
            "colorscale": [
             [
              0,
              "#0d0887"
             ],
             [
              0.1111111111111111,
              "#46039f"
             ],
             [
              0.2222222222222222,
              "#7201a8"
             ],
             [
              0.3333333333333333,
              "#9c179e"
             ],
             [
              0.4444444444444444,
              "#bd3786"
             ],
             [
              0.5555555555555556,
              "#d8576b"
             ],
             [
              0.6666666666666666,
              "#ed7953"
             ],
             [
              0.7777777777777778,
              "#fb9f3a"
             ],
             [
              0.8888888888888888,
              "#fdca26"
             ],
             [
              1,
              "#f0f921"
             ]
            ],
            "type": "heatmap"
           }
          ],
          "heatmapgl": [
           {
            "colorbar": {
             "outlinewidth": 0,
             "ticks": ""
            },
            "colorscale": [
             [
              0,
              "#0d0887"
             ],
             [
              0.1111111111111111,
              "#46039f"
             ],
             [
              0.2222222222222222,
              "#7201a8"
             ],
             [
              0.3333333333333333,
              "#9c179e"
             ],
             [
              0.4444444444444444,
              "#bd3786"
             ],
             [
              0.5555555555555556,
              "#d8576b"
             ],
             [
              0.6666666666666666,
              "#ed7953"
             ],
             [
              0.7777777777777778,
              "#fb9f3a"
             ],
             [
              0.8888888888888888,
              "#fdca26"
             ],
             [
              1,
              "#f0f921"
             ]
            ],
            "type": "heatmapgl"
           }
          ],
          "histogram": [
           {
            "marker": {
             "pattern": {
              "fillmode": "overlay",
              "size": 10,
              "solidity": 0.2
             }
            },
            "type": "histogram"
           }
          ],
          "histogram2d": [
           {
            "colorbar": {
             "outlinewidth": 0,
             "ticks": ""
            },
            "colorscale": [
             [
              0,
              "#0d0887"
             ],
             [
              0.1111111111111111,
              "#46039f"
             ],
             [
              0.2222222222222222,
              "#7201a8"
             ],
             [
              0.3333333333333333,
              "#9c179e"
             ],
             [
              0.4444444444444444,
              "#bd3786"
             ],
             [
              0.5555555555555556,
              "#d8576b"
             ],
             [
              0.6666666666666666,
              "#ed7953"
             ],
             [
              0.7777777777777778,
              "#fb9f3a"
             ],
             [
              0.8888888888888888,
              "#fdca26"
             ],
             [
              1,
              "#f0f921"
             ]
            ],
            "type": "histogram2d"
           }
          ],
          "histogram2dcontour": [
           {
            "colorbar": {
             "outlinewidth": 0,
             "ticks": ""
            },
            "colorscale": [
             [
              0,
              "#0d0887"
             ],
             [
              0.1111111111111111,
              "#46039f"
             ],
             [
              0.2222222222222222,
              "#7201a8"
             ],
             [
              0.3333333333333333,
              "#9c179e"
             ],
             [
              0.4444444444444444,
              "#bd3786"
             ],
             [
              0.5555555555555556,
              "#d8576b"
             ],
             [
              0.6666666666666666,
              "#ed7953"
             ],
             [
              0.7777777777777778,
              "#fb9f3a"
             ],
             [
              0.8888888888888888,
              "#fdca26"
             ],
             [
              1,
              "#f0f921"
             ]
            ],
            "type": "histogram2dcontour"
           }
          ],
          "mesh3d": [
           {
            "colorbar": {
             "outlinewidth": 0,
             "ticks": ""
            },
            "type": "mesh3d"
           }
          ],
          "parcoords": [
           {
            "line": {
             "colorbar": {
              "outlinewidth": 0,
              "ticks": ""
             }
            },
            "type": "parcoords"
           }
          ],
          "pie": [
           {
            "automargin": true,
            "type": "pie"
           }
          ],
          "scatter": [
           {
            "fillpattern": {
             "fillmode": "overlay",
             "size": 10,
             "solidity": 0.2
            },
            "type": "scatter"
           }
          ],
          "scatter3d": [
           {
            "line": {
             "colorbar": {
              "outlinewidth": 0,
              "ticks": ""
             }
            },
            "marker": {
             "colorbar": {
              "outlinewidth": 0,
              "ticks": ""
             }
            },
            "type": "scatter3d"
           }
          ],
          "scattercarpet": [
           {
            "marker": {
             "colorbar": {
              "outlinewidth": 0,
              "ticks": ""
             }
            },
            "type": "scattercarpet"
           }
          ],
          "scattergeo": [
           {
            "marker": {
             "colorbar": {
              "outlinewidth": 0,
              "ticks": ""
             }
            },
            "type": "scattergeo"
           }
          ],
          "scattergl": [
           {
            "marker": {
             "colorbar": {
              "outlinewidth": 0,
              "ticks": ""
             }
            },
            "type": "scattergl"
           }
          ],
          "scattermapbox": [
           {
            "marker": {
             "colorbar": {
              "outlinewidth": 0,
              "ticks": ""
             }
            },
            "type": "scattermapbox"
           }
          ],
          "scatterpolar": [
           {
            "marker": {
             "colorbar": {
              "outlinewidth": 0,
              "ticks": ""
             }
            },
            "type": "scatterpolar"
           }
          ],
          "scatterpolargl": [
           {
            "marker": {
             "colorbar": {
              "outlinewidth": 0,
              "ticks": ""
             }
            },
            "type": "scatterpolargl"
           }
          ],
          "scatterternary": [
           {
            "marker": {
             "colorbar": {
              "outlinewidth": 0,
              "ticks": ""
             }
            },
            "type": "scatterternary"
           }
          ],
          "surface": [
           {
            "colorbar": {
             "outlinewidth": 0,
             "ticks": ""
            },
            "colorscale": [
             [
              0,
              "#0d0887"
             ],
             [
              0.1111111111111111,
              "#46039f"
             ],
             [
              0.2222222222222222,
              "#7201a8"
             ],
             [
              0.3333333333333333,
              "#9c179e"
             ],
             [
              0.4444444444444444,
              "#bd3786"
             ],
             [
              0.5555555555555556,
              "#d8576b"
             ],
             [
              0.6666666666666666,
              "#ed7953"
             ],
             [
              0.7777777777777778,
              "#fb9f3a"
             ],
             [
              0.8888888888888888,
              "#fdca26"
             ],
             [
              1,
              "#f0f921"
             ]
            ],
            "type": "surface"
           }
          ],
          "table": [
           {
            "cells": {
             "fill": {
              "color": "#EBF0F8"
             },
             "line": {
              "color": "white"
             }
            },
            "header": {
             "fill": {
              "color": "#C8D4E3"
             },
             "line": {
              "color": "white"
             }
            },
            "type": "table"
           }
          ]
         },
         "layout": {
          "annotationdefaults": {
           "arrowcolor": "#2a3f5f",
           "arrowhead": 0,
           "arrowwidth": 1
          },
          "autotypenumbers": "strict",
          "coloraxis": {
           "colorbar": {
            "outlinewidth": 0,
            "ticks": ""
           }
          },
          "colorscale": {
           "diverging": [
            [
             0,
             "#8e0152"
            ],
            [
             0.1,
             "#c51b7d"
            ],
            [
             0.2,
             "#de77ae"
            ],
            [
             0.3,
             "#f1b6da"
            ],
            [
             0.4,
             "#fde0ef"
            ],
            [
             0.5,
             "#f7f7f7"
            ],
            [
             0.6,
             "#e6f5d0"
            ],
            [
             0.7,
             "#b8e186"
            ],
            [
             0.8,
             "#7fbc41"
            ],
            [
             0.9,
             "#4d9221"
            ],
            [
             1,
             "#276419"
            ]
           ],
           "sequential": [
            [
             0,
             "#0d0887"
            ],
            [
             0.1111111111111111,
             "#46039f"
            ],
            [
             0.2222222222222222,
             "#7201a8"
            ],
            [
             0.3333333333333333,
             "#9c179e"
            ],
            [
             0.4444444444444444,
             "#bd3786"
            ],
            [
             0.5555555555555556,
             "#d8576b"
            ],
            [
             0.6666666666666666,
             "#ed7953"
            ],
            [
             0.7777777777777778,
             "#fb9f3a"
            ],
            [
             0.8888888888888888,
             "#fdca26"
            ],
            [
             1,
             "#f0f921"
            ]
           ],
           "sequentialminus": [
            [
             0,
             "#0d0887"
            ],
            [
             0.1111111111111111,
             "#46039f"
            ],
            [
             0.2222222222222222,
             "#7201a8"
            ],
            [
             0.3333333333333333,
             "#9c179e"
            ],
            [
             0.4444444444444444,
             "#bd3786"
            ],
            [
             0.5555555555555556,
             "#d8576b"
            ],
            [
             0.6666666666666666,
             "#ed7953"
            ],
            [
             0.7777777777777778,
             "#fb9f3a"
            ],
            [
             0.8888888888888888,
             "#fdca26"
            ],
            [
             1,
             "#f0f921"
            ]
           ]
          },
          "colorway": [
           "#636efa",
           "#EF553B",
           "#00cc96",
           "#ab63fa",
           "#FFA15A",
           "#19d3f3",
           "#FF6692",
           "#B6E880",
           "#FF97FF",
           "#FECB52"
          ],
          "font": {
           "color": "#2a3f5f"
          },
          "geo": {
           "bgcolor": "white",
           "lakecolor": "white",
           "landcolor": "#E5ECF6",
           "showlakes": true,
           "showland": true,
           "subunitcolor": "white"
          },
          "hoverlabel": {
           "align": "left"
          },
          "hovermode": "closest",
          "mapbox": {
           "style": "light"
          },
          "paper_bgcolor": "white",
          "plot_bgcolor": "#E5ECF6",
          "polar": {
           "angularaxis": {
            "gridcolor": "white",
            "linecolor": "white",
            "ticks": ""
           },
           "bgcolor": "#E5ECF6",
           "radialaxis": {
            "gridcolor": "white",
            "linecolor": "white",
            "ticks": ""
           }
          },
          "scene": {
           "xaxis": {
            "backgroundcolor": "#E5ECF6",
            "gridcolor": "white",
            "gridwidth": 2,
            "linecolor": "white",
            "showbackground": true,
            "ticks": "",
            "zerolinecolor": "white"
           },
           "yaxis": {
            "backgroundcolor": "#E5ECF6",
            "gridcolor": "white",
            "gridwidth": 2,
            "linecolor": "white",
            "showbackground": true,
            "ticks": "",
            "zerolinecolor": "white"
           },
           "zaxis": {
            "backgroundcolor": "#E5ECF6",
            "gridcolor": "white",
            "gridwidth": 2,
            "linecolor": "white",
            "showbackground": true,
            "ticks": "",
            "zerolinecolor": "white"
           }
          },
          "shapedefaults": {
           "line": {
            "color": "#2a3f5f"
           }
          },
          "ternary": {
           "aaxis": {
            "gridcolor": "white",
            "linecolor": "white",
            "ticks": ""
           },
           "baxis": {
            "gridcolor": "white",
            "linecolor": "white",
            "ticks": ""
           },
           "bgcolor": "#E5ECF6",
           "caxis": {
            "gridcolor": "white",
            "linecolor": "white",
            "ticks": ""
           }
          },
          "title": {
           "x": 0.05
          },
          "xaxis": {
           "automargin": true,
           "gridcolor": "white",
           "linecolor": "white",
           "ticks": "",
           "title": {
            "standoff": 15
           },
           "zerolinecolor": "white",
           "zerolinewidth": 2
          },
          "yaxis": {
           "automargin": true,
           "gridcolor": "white",
           "linecolor": "white",
           "ticks": "",
           "title": {
            "standoff": 15
           },
           "zerolinecolor": "white",
           "zerolinewidth": 2
          }
         }
        },
        "title": {
         "text": "Topp 10 sporter där Ungern fått flest medaljer"
        },
        "xaxis": {
         "anchor": "y",
         "domain": [
          0,
          1
         ],
         "title": {
          "text": "Sport"
         }
        },
        "yaxis": {
         "anchor": "x",
         "domain": [
          0,
          1
         ],
         "title": {
          "text": "Antal medaljer"
         }
        }
       }
      },
      "text/html": [
       "<div>                            <div id=\"0feb4119-eb9d-4a30-9e66-1ee3d5d55a42\" class=\"plotly-graph-div\" style=\"height:525px; width:100%;\"></div>            <script type=\"text/javascript\">                require([\"plotly\"], function(Plotly) {                    window.PLOTLYENV=window.PLOTLYENV || {};                                    if (document.getElementById(\"0feb4119-eb9d-4a30-9e66-1ee3d5d55a42\")) {                    Plotly.newPlot(                        \"0feb4119-eb9d-4a30-9e66-1ee3d5d55a42\",                        [{\"alignmentgroup\":\"True\",\"hovertemplate\":\"Sport=%{x}\\u003cbr\\u003eAntal medaljer=%{y}\\u003cextra\\u003e\\u003c\\u002fextra\\u003e\",\"legendgroup\":\"\",\"marker\":{\"color\":\"#636efa\",\"pattern\":{\"shape\":\"\"}},\"name\":\"\",\"offsetgroup\":\"\",\"orientation\":\"v\",\"showlegend\":false,\"textposition\":\"auto\",\"x\":[\"Fencing\",\"Water Polo\",\"Canoeing\",\"Gymnastics\",\"Swimming\",\"Football\",\"Wrestling\",\"Athletics\",\"Handball\",\"Modern Pentathlon\"],\"xaxis\":\"x\",\"y\":[236,172,158,111,94,79,55,52,45,38],\"yaxis\":\"y\",\"type\":\"bar\"}],                        {\"template\":{\"data\":{\"histogram2dcontour\":[{\"type\":\"histogram2dcontour\",\"colorbar\":{\"outlinewidth\":0,\"ticks\":\"\"},\"colorscale\":[[0.0,\"#0d0887\"],[0.1111111111111111,\"#46039f\"],[0.2222222222222222,\"#7201a8\"],[0.3333333333333333,\"#9c179e\"],[0.4444444444444444,\"#bd3786\"],[0.5555555555555556,\"#d8576b\"],[0.6666666666666666,\"#ed7953\"],[0.7777777777777778,\"#fb9f3a\"],[0.8888888888888888,\"#fdca26\"],[1.0,\"#f0f921\"]]}],\"choropleth\":[{\"type\":\"choropleth\",\"colorbar\":{\"outlinewidth\":0,\"ticks\":\"\"}}],\"histogram2d\":[{\"type\":\"histogram2d\",\"colorbar\":{\"outlinewidth\":0,\"ticks\":\"\"},\"colorscale\":[[0.0,\"#0d0887\"],[0.1111111111111111,\"#46039f\"],[0.2222222222222222,\"#7201a8\"],[0.3333333333333333,\"#9c179e\"],[0.4444444444444444,\"#bd3786\"],[0.5555555555555556,\"#d8576b\"],[0.6666666666666666,\"#ed7953\"],[0.7777777777777778,\"#fb9f3a\"],[0.8888888888888888,\"#fdca26\"],[1.0,\"#f0f921\"]]}],\"heatmap\":[{\"type\":\"heatmap\",\"colorbar\":{\"outlinewidth\":0,\"ticks\":\"\"},\"colorscale\":[[0.0,\"#0d0887\"],[0.1111111111111111,\"#46039f\"],[0.2222222222222222,\"#7201a8\"],[0.3333333333333333,\"#9c179e\"],[0.4444444444444444,\"#bd3786\"],[0.5555555555555556,\"#d8576b\"],[0.6666666666666666,\"#ed7953\"],[0.7777777777777778,\"#fb9f3a\"],[0.8888888888888888,\"#fdca26\"],[1.0,\"#f0f921\"]]}],\"heatmapgl\":[{\"type\":\"heatmapgl\",\"colorbar\":{\"outlinewidth\":0,\"ticks\":\"\"},\"colorscale\":[[0.0,\"#0d0887\"],[0.1111111111111111,\"#46039f\"],[0.2222222222222222,\"#7201a8\"],[0.3333333333333333,\"#9c179e\"],[0.4444444444444444,\"#bd3786\"],[0.5555555555555556,\"#d8576b\"],[0.6666666666666666,\"#ed7953\"],[0.7777777777777778,\"#fb9f3a\"],[0.8888888888888888,\"#fdca26\"],[1.0,\"#f0f921\"]]}],\"contourcarpet\":[{\"type\":\"contourcarpet\",\"colorbar\":{\"outlinewidth\":0,\"ticks\":\"\"}}],\"contour\":[{\"type\":\"contour\",\"colorbar\":{\"outlinewidth\":0,\"ticks\":\"\"},\"colorscale\":[[0.0,\"#0d0887\"],[0.1111111111111111,\"#46039f\"],[0.2222222222222222,\"#7201a8\"],[0.3333333333333333,\"#9c179e\"],[0.4444444444444444,\"#bd3786\"],[0.5555555555555556,\"#d8576b\"],[0.6666666666666666,\"#ed7953\"],[0.7777777777777778,\"#fb9f3a\"],[0.8888888888888888,\"#fdca26\"],[1.0,\"#f0f921\"]]}],\"surface\":[{\"type\":\"surface\",\"colorbar\":{\"outlinewidth\":0,\"ticks\":\"\"},\"colorscale\":[[0.0,\"#0d0887\"],[0.1111111111111111,\"#46039f\"],[0.2222222222222222,\"#7201a8\"],[0.3333333333333333,\"#9c179e\"],[0.4444444444444444,\"#bd3786\"],[0.5555555555555556,\"#d8576b\"],[0.6666666666666666,\"#ed7953\"],[0.7777777777777778,\"#fb9f3a\"],[0.8888888888888888,\"#fdca26\"],[1.0,\"#f0f921\"]]}],\"mesh3d\":[{\"type\":\"mesh3d\",\"colorbar\":{\"outlinewidth\":0,\"ticks\":\"\"}}],\"scatter\":[{\"fillpattern\":{\"fillmode\":\"overlay\",\"size\":10,\"solidity\":0.2},\"type\":\"scatter\"}],\"parcoords\":[{\"type\":\"parcoords\",\"line\":{\"colorbar\":{\"outlinewidth\":0,\"ticks\":\"\"}}}],\"scatterpolargl\":[{\"type\":\"scatterpolargl\",\"marker\":{\"colorbar\":{\"outlinewidth\":0,\"ticks\":\"\"}}}],\"bar\":[{\"error_x\":{\"color\":\"#2a3f5f\"},\"error_y\":{\"color\":\"#2a3f5f\"},\"marker\":{\"line\":{\"color\":\"#E5ECF6\",\"width\":0.5},\"pattern\":{\"fillmode\":\"overlay\",\"size\":10,\"solidity\":0.2}},\"type\":\"bar\"}],\"scattergeo\":[{\"type\":\"scattergeo\",\"marker\":{\"colorbar\":{\"outlinewidth\":0,\"ticks\":\"\"}}}],\"scatterpolar\":[{\"type\":\"scatterpolar\",\"marker\":{\"colorbar\":{\"outlinewidth\":0,\"ticks\":\"\"}}}],\"histogram\":[{\"marker\":{\"pattern\":{\"fillmode\":\"overlay\",\"size\":10,\"solidity\":0.2}},\"type\":\"histogram\"}],\"scattergl\":[{\"type\":\"scattergl\",\"marker\":{\"colorbar\":{\"outlinewidth\":0,\"ticks\":\"\"}}}],\"scatter3d\":[{\"type\":\"scatter3d\",\"line\":{\"colorbar\":{\"outlinewidth\":0,\"ticks\":\"\"}},\"marker\":{\"colorbar\":{\"outlinewidth\":0,\"ticks\":\"\"}}}],\"scattermapbox\":[{\"type\":\"scattermapbox\",\"marker\":{\"colorbar\":{\"outlinewidth\":0,\"ticks\":\"\"}}}],\"scatterternary\":[{\"type\":\"scatterternary\",\"marker\":{\"colorbar\":{\"outlinewidth\":0,\"ticks\":\"\"}}}],\"scattercarpet\":[{\"type\":\"scattercarpet\",\"marker\":{\"colorbar\":{\"outlinewidth\":0,\"ticks\":\"\"}}}],\"carpet\":[{\"aaxis\":{\"endlinecolor\":\"#2a3f5f\",\"gridcolor\":\"white\",\"linecolor\":\"white\",\"minorgridcolor\":\"white\",\"startlinecolor\":\"#2a3f5f\"},\"baxis\":{\"endlinecolor\":\"#2a3f5f\",\"gridcolor\":\"white\",\"linecolor\":\"white\",\"minorgridcolor\":\"white\",\"startlinecolor\":\"#2a3f5f\"},\"type\":\"carpet\"}],\"table\":[{\"cells\":{\"fill\":{\"color\":\"#EBF0F8\"},\"line\":{\"color\":\"white\"}},\"header\":{\"fill\":{\"color\":\"#C8D4E3\"},\"line\":{\"color\":\"white\"}},\"type\":\"table\"}],\"barpolar\":[{\"marker\":{\"line\":{\"color\":\"#E5ECF6\",\"width\":0.5},\"pattern\":{\"fillmode\":\"overlay\",\"size\":10,\"solidity\":0.2}},\"type\":\"barpolar\"}],\"pie\":[{\"automargin\":true,\"type\":\"pie\"}]},\"layout\":{\"autotypenumbers\":\"strict\",\"colorway\":[\"#636efa\",\"#EF553B\",\"#00cc96\",\"#ab63fa\",\"#FFA15A\",\"#19d3f3\",\"#FF6692\",\"#B6E880\",\"#FF97FF\",\"#FECB52\"],\"font\":{\"color\":\"#2a3f5f\"},\"hovermode\":\"closest\",\"hoverlabel\":{\"align\":\"left\"},\"paper_bgcolor\":\"white\",\"plot_bgcolor\":\"#E5ECF6\",\"polar\":{\"bgcolor\":\"#E5ECF6\",\"angularaxis\":{\"gridcolor\":\"white\",\"linecolor\":\"white\",\"ticks\":\"\"},\"radialaxis\":{\"gridcolor\":\"white\",\"linecolor\":\"white\",\"ticks\":\"\"}},\"ternary\":{\"bgcolor\":\"#E5ECF6\",\"aaxis\":{\"gridcolor\":\"white\",\"linecolor\":\"white\",\"ticks\":\"\"},\"baxis\":{\"gridcolor\":\"white\",\"linecolor\":\"white\",\"ticks\":\"\"},\"caxis\":{\"gridcolor\":\"white\",\"linecolor\":\"white\",\"ticks\":\"\"}},\"coloraxis\":{\"colorbar\":{\"outlinewidth\":0,\"ticks\":\"\"}},\"colorscale\":{\"sequential\":[[0.0,\"#0d0887\"],[0.1111111111111111,\"#46039f\"],[0.2222222222222222,\"#7201a8\"],[0.3333333333333333,\"#9c179e\"],[0.4444444444444444,\"#bd3786\"],[0.5555555555555556,\"#d8576b\"],[0.6666666666666666,\"#ed7953\"],[0.7777777777777778,\"#fb9f3a\"],[0.8888888888888888,\"#fdca26\"],[1.0,\"#f0f921\"]],\"sequentialminus\":[[0.0,\"#0d0887\"],[0.1111111111111111,\"#46039f\"],[0.2222222222222222,\"#7201a8\"],[0.3333333333333333,\"#9c179e\"],[0.4444444444444444,\"#bd3786\"],[0.5555555555555556,\"#d8576b\"],[0.6666666666666666,\"#ed7953\"],[0.7777777777777778,\"#fb9f3a\"],[0.8888888888888888,\"#fdca26\"],[1.0,\"#f0f921\"]],\"diverging\":[[0,\"#8e0152\"],[0.1,\"#c51b7d\"],[0.2,\"#de77ae\"],[0.3,\"#f1b6da\"],[0.4,\"#fde0ef\"],[0.5,\"#f7f7f7\"],[0.6,\"#e6f5d0\"],[0.7,\"#b8e186\"],[0.8,\"#7fbc41\"],[0.9,\"#4d9221\"],[1,\"#276419\"]]},\"xaxis\":{\"gridcolor\":\"white\",\"linecolor\":\"white\",\"ticks\":\"\",\"title\":{\"standoff\":15},\"zerolinecolor\":\"white\",\"automargin\":true,\"zerolinewidth\":2},\"yaxis\":{\"gridcolor\":\"white\",\"linecolor\":\"white\",\"ticks\":\"\",\"title\":{\"standoff\":15},\"zerolinecolor\":\"white\",\"automargin\":true,\"zerolinewidth\":2},\"scene\":{\"xaxis\":{\"backgroundcolor\":\"#E5ECF6\",\"gridcolor\":\"white\",\"linecolor\":\"white\",\"showbackground\":true,\"ticks\":\"\",\"zerolinecolor\":\"white\",\"gridwidth\":2},\"yaxis\":{\"backgroundcolor\":\"#E5ECF6\",\"gridcolor\":\"white\",\"linecolor\":\"white\",\"showbackground\":true,\"ticks\":\"\",\"zerolinecolor\":\"white\",\"gridwidth\":2},\"zaxis\":{\"backgroundcolor\":\"#E5ECF6\",\"gridcolor\":\"white\",\"linecolor\":\"white\",\"showbackground\":true,\"ticks\":\"\",\"zerolinecolor\":\"white\",\"gridwidth\":2}},\"shapedefaults\":{\"line\":{\"color\":\"#2a3f5f\"}},\"annotationdefaults\":{\"arrowcolor\":\"#2a3f5f\",\"arrowhead\":0,\"arrowwidth\":1},\"geo\":{\"bgcolor\":\"white\",\"landcolor\":\"#E5ECF6\",\"subunitcolor\":\"white\",\"showland\":true,\"showlakes\":true,\"lakecolor\":\"white\"},\"title\":{\"x\":0.05},\"mapbox\":{\"style\":\"light\"}}},\"xaxis\":{\"anchor\":\"y\",\"domain\":[0.0,1.0],\"title\":{\"text\":\"Sport\"}},\"yaxis\":{\"anchor\":\"x\",\"domain\":[0.0,1.0],\"title\":{\"text\":\"Antal medaljer\"}},\"legend\":{\"tracegroupgap\":0},\"title\":{\"text\":\"Topp 10 sporter d\\u00e4r Ungern f\\u00e5tt flest medaljer\"},\"barmode\":\"relative\"},                        {\"responsive\": true}                    ).then(function(){\n",
       "                            \n",
       "var gd = document.getElementById('0feb4119-eb9d-4a30-9e66-1ee3d5d55a42');\n",
       "var x = new MutationObserver(function (mutations, observer) {{\n",
       "        var display = window.getComputedStyle(gd).display;\n",
       "        if (!display || display === 'none') {{\n",
       "            console.log([gd, 'removed!']);\n",
       "            Plotly.purge(gd);\n",
       "            observer.disconnect();\n",
       "        }}\n",
       "}});\n",
       "\n",
       "// Listen for the removal of the full notebook cells\n",
       "var notebookContainer = gd.closest('#notebook-container');\n",
       "if (notebookContainer) {{\n",
       "    x.observe(notebookContainer, {childList: true});\n",
       "}}\n",
       "\n",
       "// Listen for the clearing of the current output cell\n",
       "var outputEl = gd.closest('.output');\n",
       "if (outputEl) {{\n",
       "    x.observe(outputEl, {childList: true});\n",
       "}}\n",
       "\n",
       "                        })                };                });            </script>        </div>"
      ]
     },
     "metadata": {},
     "output_type": "display_data"
    }
   ],
   "source": [
    "\n",
    "medals = hungary[hungary[\"Medal\"].notnull()]\n",
    "\n",
    "\n",
    "total_medals_by_sport = medals.groupby(\"Sport\").size().reset_index(name=\"Count\")\n",
    "\n",
    "\n",
    "top_sports = total_medals_by_sport.sort_values(by=\"Count\", ascending=False).head(10)\n",
    "\n",
    "\n",
    "fig = px.bar(\n",
    "    top_sports,\n",
    "    x=\"Sport\",\n",
    "    y=\"Count\",\n",
    "    title=\"Topp 10 sporter där Ungern fått flest medaljer\",\n",
    "    labels={\"Sport\": \"Sport\", \"Count\": \"Antal medaljer\"},\n",
    ")\n",
    "\n",
    "fig.show()\n"
   ]
  },
  {
   "cell_type": "code",
   "execution_count": 28,
   "metadata": {},
   "outputs": [
    {
     "data": {
      "application/vnd.plotly.v1+json": {
       "config": {
        "plotlyServerURL": "https://plot.ly"
       },
       "data": [
        {
         "alignmentgroup": "True",
         "hovertemplate": "År=%{x}<br>Antal medaljer=%{y}<extra></extra>",
         "legendgroup": "",
         "marker": {
          "color": "#636efa",
          "pattern": {
           "shape": ""
          }
         },
         "name": "",
         "offsetgroup": "",
         "orientation": "v",
         "showlegend": false,
         "textposition": "auto",
         "type": "bar",
         "x": [
          1896,
          1900,
          1904,
          1906,
          1908,
          1912,
          1924,
          1928,
          1932,
          1936,
          1948,
          1952,
          1956,
          1960,
          1964,
          1968,
          1972,
          1976,
          1980,
          1988,
          1992,
          1996,
          2000,
          2004,
          2008,
          2012,
          2016
         ],
         "xaxis": "x",
         "y": [
          6,
          5,
          4,
          13,
          20,
          30,
          22,
          21,
          35,
          43,
          64,
          104,
          66,
          66,
          56,
          81,
          81,
          55,
          63,
          44,
          45,
          43,
          53,
          40,
          27,
          26,
          22
         ],
         "yaxis": "y"
        }
       ],
       "layout": {
        "barmode": "relative",
        "legend": {
         "tracegroupgap": 0
        },
        "template": {
         "data": {
          "bar": [
           {
            "error_x": {
             "color": "#2a3f5f"
            },
            "error_y": {
             "color": "#2a3f5f"
            },
            "marker": {
             "line": {
              "color": "#E5ECF6",
              "width": 0.5
             },
             "pattern": {
              "fillmode": "overlay",
              "size": 10,
              "solidity": 0.2
             }
            },
            "type": "bar"
           }
          ],
          "barpolar": [
           {
            "marker": {
             "line": {
              "color": "#E5ECF6",
              "width": 0.5
             },
             "pattern": {
              "fillmode": "overlay",
              "size": 10,
              "solidity": 0.2
             }
            },
            "type": "barpolar"
           }
          ],
          "carpet": [
           {
            "aaxis": {
             "endlinecolor": "#2a3f5f",
             "gridcolor": "white",
             "linecolor": "white",
             "minorgridcolor": "white",
             "startlinecolor": "#2a3f5f"
            },
            "baxis": {
             "endlinecolor": "#2a3f5f",
             "gridcolor": "white",
             "linecolor": "white",
             "minorgridcolor": "white",
             "startlinecolor": "#2a3f5f"
            },
            "type": "carpet"
           }
          ],
          "choropleth": [
           {
            "colorbar": {
             "outlinewidth": 0,
             "ticks": ""
            },
            "type": "choropleth"
           }
          ],
          "contour": [
           {
            "colorbar": {
             "outlinewidth": 0,
             "ticks": ""
            },
            "colorscale": [
             [
              0,
              "#0d0887"
             ],
             [
              0.1111111111111111,
              "#46039f"
             ],
             [
              0.2222222222222222,
              "#7201a8"
             ],
             [
              0.3333333333333333,
              "#9c179e"
             ],
             [
              0.4444444444444444,
              "#bd3786"
             ],
             [
              0.5555555555555556,
              "#d8576b"
             ],
             [
              0.6666666666666666,
              "#ed7953"
             ],
             [
              0.7777777777777778,
              "#fb9f3a"
             ],
             [
              0.8888888888888888,
              "#fdca26"
             ],
             [
              1,
              "#f0f921"
             ]
            ],
            "type": "contour"
           }
          ],
          "contourcarpet": [
           {
            "colorbar": {
             "outlinewidth": 0,
             "ticks": ""
            },
            "type": "contourcarpet"
           }
          ],
          "heatmap": [
           {
            "colorbar": {
             "outlinewidth": 0,
             "ticks": ""
            },
            "colorscale": [
             [
              0,
              "#0d0887"
             ],
             [
              0.1111111111111111,
              "#46039f"
             ],
             [
              0.2222222222222222,
              "#7201a8"
             ],
             [
              0.3333333333333333,
              "#9c179e"
             ],
             [
              0.4444444444444444,
              "#bd3786"
             ],
             [
              0.5555555555555556,
              "#d8576b"
             ],
             [
              0.6666666666666666,
              "#ed7953"
             ],
             [
              0.7777777777777778,
              "#fb9f3a"
             ],
             [
              0.8888888888888888,
              "#fdca26"
             ],
             [
              1,
              "#f0f921"
             ]
            ],
            "type": "heatmap"
           }
          ],
          "heatmapgl": [
           {
            "colorbar": {
             "outlinewidth": 0,
             "ticks": ""
            },
            "colorscale": [
             [
              0,
              "#0d0887"
             ],
             [
              0.1111111111111111,
              "#46039f"
             ],
             [
              0.2222222222222222,
              "#7201a8"
             ],
             [
              0.3333333333333333,
              "#9c179e"
             ],
             [
              0.4444444444444444,
              "#bd3786"
             ],
             [
              0.5555555555555556,
              "#d8576b"
             ],
             [
              0.6666666666666666,
              "#ed7953"
             ],
             [
              0.7777777777777778,
              "#fb9f3a"
             ],
             [
              0.8888888888888888,
              "#fdca26"
             ],
             [
              1,
              "#f0f921"
             ]
            ],
            "type": "heatmapgl"
           }
          ],
          "histogram": [
           {
            "marker": {
             "pattern": {
              "fillmode": "overlay",
              "size": 10,
              "solidity": 0.2
             }
            },
            "type": "histogram"
           }
          ],
          "histogram2d": [
           {
            "colorbar": {
             "outlinewidth": 0,
             "ticks": ""
            },
            "colorscale": [
             [
              0,
              "#0d0887"
             ],
             [
              0.1111111111111111,
              "#46039f"
             ],
             [
              0.2222222222222222,
              "#7201a8"
             ],
             [
              0.3333333333333333,
              "#9c179e"
             ],
             [
              0.4444444444444444,
              "#bd3786"
             ],
             [
              0.5555555555555556,
              "#d8576b"
             ],
             [
              0.6666666666666666,
              "#ed7953"
             ],
             [
              0.7777777777777778,
              "#fb9f3a"
             ],
             [
              0.8888888888888888,
              "#fdca26"
             ],
             [
              1,
              "#f0f921"
             ]
            ],
            "type": "histogram2d"
           }
          ],
          "histogram2dcontour": [
           {
            "colorbar": {
             "outlinewidth": 0,
             "ticks": ""
            },
            "colorscale": [
             [
              0,
              "#0d0887"
             ],
             [
              0.1111111111111111,
              "#46039f"
             ],
             [
              0.2222222222222222,
              "#7201a8"
             ],
             [
              0.3333333333333333,
              "#9c179e"
             ],
             [
              0.4444444444444444,
              "#bd3786"
             ],
             [
              0.5555555555555556,
              "#d8576b"
             ],
             [
              0.6666666666666666,
              "#ed7953"
             ],
             [
              0.7777777777777778,
              "#fb9f3a"
             ],
             [
              0.8888888888888888,
              "#fdca26"
             ],
             [
              1,
              "#f0f921"
             ]
            ],
            "type": "histogram2dcontour"
           }
          ],
          "mesh3d": [
           {
            "colorbar": {
             "outlinewidth": 0,
             "ticks": ""
            },
            "type": "mesh3d"
           }
          ],
          "parcoords": [
           {
            "line": {
             "colorbar": {
              "outlinewidth": 0,
              "ticks": ""
             }
            },
            "type": "parcoords"
           }
          ],
          "pie": [
           {
            "automargin": true,
            "type": "pie"
           }
          ],
          "scatter": [
           {
            "fillpattern": {
             "fillmode": "overlay",
             "size": 10,
             "solidity": 0.2
            },
            "type": "scatter"
           }
          ],
          "scatter3d": [
           {
            "line": {
             "colorbar": {
              "outlinewidth": 0,
              "ticks": ""
             }
            },
            "marker": {
             "colorbar": {
              "outlinewidth": 0,
              "ticks": ""
             }
            },
            "type": "scatter3d"
           }
          ],
          "scattercarpet": [
           {
            "marker": {
             "colorbar": {
              "outlinewidth": 0,
              "ticks": ""
             }
            },
            "type": "scattercarpet"
           }
          ],
          "scattergeo": [
           {
            "marker": {
             "colorbar": {
              "outlinewidth": 0,
              "ticks": ""
             }
            },
            "type": "scattergeo"
           }
          ],
          "scattergl": [
           {
            "marker": {
             "colorbar": {
              "outlinewidth": 0,
              "ticks": ""
             }
            },
            "type": "scattergl"
           }
          ],
          "scattermapbox": [
           {
            "marker": {
             "colorbar": {
              "outlinewidth": 0,
              "ticks": ""
             }
            },
            "type": "scattermapbox"
           }
          ],
          "scatterpolar": [
           {
            "marker": {
             "colorbar": {
              "outlinewidth": 0,
              "ticks": ""
             }
            },
            "type": "scatterpolar"
           }
          ],
          "scatterpolargl": [
           {
            "marker": {
             "colorbar": {
              "outlinewidth": 0,
              "ticks": ""
             }
            },
            "type": "scatterpolargl"
           }
          ],
          "scatterternary": [
           {
            "marker": {
             "colorbar": {
              "outlinewidth": 0,
              "ticks": ""
             }
            },
            "type": "scatterternary"
           }
          ],
          "surface": [
           {
            "colorbar": {
             "outlinewidth": 0,
             "ticks": ""
            },
            "colorscale": [
             [
              0,
              "#0d0887"
             ],
             [
              0.1111111111111111,
              "#46039f"
             ],
             [
              0.2222222222222222,
              "#7201a8"
             ],
             [
              0.3333333333333333,
              "#9c179e"
             ],
             [
              0.4444444444444444,
              "#bd3786"
             ],
             [
              0.5555555555555556,
              "#d8576b"
             ],
             [
              0.6666666666666666,
              "#ed7953"
             ],
             [
              0.7777777777777778,
              "#fb9f3a"
             ],
             [
              0.8888888888888888,
              "#fdca26"
             ],
             [
              1,
              "#f0f921"
             ]
            ],
            "type": "surface"
           }
          ],
          "table": [
           {
            "cells": {
             "fill": {
              "color": "#EBF0F8"
             },
             "line": {
              "color": "white"
             }
            },
            "header": {
             "fill": {
              "color": "#C8D4E3"
             },
             "line": {
              "color": "white"
             }
            },
            "type": "table"
           }
          ]
         },
         "layout": {
          "annotationdefaults": {
           "arrowcolor": "#2a3f5f",
           "arrowhead": 0,
           "arrowwidth": 1
          },
          "autotypenumbers": "strict",
          "coloraxis": {
           "colorbar": {
            "outlinewidth": 0,
            "ticks": ""
           }
          },
          "colorscale": {
           "diverging": [
            [
             0,
             "#8e0152"
            ],
            [
             0.1,
             "#c51b7d"
            ],
            [
             0.2,
             "#de77ae"
            ],
            [
             0.3,
             "#f1b6da"
            ],
            [
             0.4,
             "#fde0ef"
            ],
            [
             0.5,
             "#f7f7f7"
            ],
            [
             0.6,
             "#e6f5d0"
            ],
            [
             0.7,
             "#b8e186"
            ],
            [
             0.8,
             "#7fbc41"
            ],
            [
             0.9,
             "#4d9221"
            ],
            [
             1,
             "#276419"
            ]
           ],
           "sequential": [
            [
             0,
             "#0d0887"
            ],
            [
             0.1111111111111111,
             "#46039f"
            ],
            [
             0.2222222222222222,
             "#7201a8"
            ],
            [
             0.3333333333333333,
             "#9c179e"
            ],
            [
             0.4444444444444444,
             "#bd3786"
            ],
            [
             0.5555555555555556,
             "#d8576b"
            ],
            [
             0.6666666666666666,
             "#ed7953"
            ],
            [
             0.7777777777777778,
             "#fb9f3a"
            ],
            [
             0.8888888888888888,
             "#fdca26"
            ],
            [
             1,
             "#f0f921"
            ]
           ],
           "sequentialminus": [
            [
             0,
             "#0d0887"
            ],
            [
             0.1111111111111111,
             "#46039f"
            ],
            [
             0.2222222222222222,
             "#7201a8"
            ],
            [
             0.3333333333333333,
             "#9c179e"
            ],
            [
             0.4444444444444444,
             "#bd3786"
            ],
            [
             0.5555555555555556,
             "#d8576b"
            ],
            [
             0.6666666666666666,
             "#ed7953"
            ],
            [
             0.7777777777777778,
             "#fb9f3a"
            ],
            [
             0.8888888888888888,
             "#fdca26"
            ],
            [
             1,
             "#f0f921"
            ]
           ]
          },
          "colorway": [
           "#636efa",
           "#EF553B",
           "#00cc96",
           "#ab63fa",
           "#FFA15A",
           "#19d3f3",
           "#FF6692",
           "#B6E880",
           "#FF97FF",
           "#FECB52"
          ],
          "font": {
           "color": "#2a3f5f"
          },
          "geo": {
           "bgcolor": "white",
           "lakecolor": "white",
           "landcolor": "#E5ECF6",
           "showlakes": true,
           "showland": true,
           "subunitcolor": "white"
          },
          "hoverlabel": {
           "align": "left"
          },
          "hovermode": "closest",
          "mapbox": {
           "style": "light"
          },
          "paper_bgcolor": "white",
          "plot_bgcolor": "#E5ECF6",
          "polar": {
           "angularaxis": {
            "gridcolor": "white",
            "linecolor": "white",
            "ticks": ""
           },
           "bgcolor": "#E5ECF6",
           "radialaxis": {
            "gridcolor": "white",
            "linecolor": "white",
            "ticks": ""
           }
          },
          "scene": {
           "xaxis": {
            "backgroundcolor": "#E5ECF6",
            "gridcolor": "white",
            "gridwidth": 2,
            "linecolor": "white",
            "showbackground": true,
            "ticks": "",
            "zerolinecolor": "white"
           },
           "yaxis": {
            "backgroundcolor": "#E5ECF6",
            "gridcolor": "white",
            "gridwidth": 2,
            "linecolor": "white",
            "showbackground": true,
            "ticks": "",
            "zerolinecolor": "white"
           },
           "zaxis": {
            "backgroundcolor": "#E5ECF6",
            "gridcolor": "white",
            "gridwidth": 2,
            "linecolor": "white",
            "showbackground": true,
            "ticks": "",
            "zerolinecolor": "white"
           }
          },
          "shapedefaults": {
           "line": {
            "color": "#2a3f5f"
           }
          },
          "ternary": {
           "aaxis": {
            "gridcolor": "white",
            "linecolor": "white",
            "ticks": ""
           },
           "baxis": {
            "gridcolor": "white",
            "linecolor": "white",
            "ticks": ""
           },
           "bgcolor": "#E5ECF6",
           "caxis": {
            "gridcolor": "white",
            "linecolor": "white",
            "ticks": ""
           }
          },
          "title": {
           "x": 0.05
          },
          "xaxis": {
           "automargin": true,
           "gridcolor": "white",
           "linecolor": "white",
           "ticks": "",
           "title": {
            "standoff": 15
           },
           "zerolinecolor": "white",
           "zerolinewidth": 2
          },
          "yaxis": {
           "automargin": true,
           "gridcolor": "white",
           "linecolor": "white",
           "ticks": "",
           "title": {
            "standoff": 15
           },
           "zerolinecolor": "white",
           "zerolinewidth": 2
          }
         }
        },
        "title": {
         "text": "Antal medaljer per OS"
        },
        "xaxis": {
         "anchor": "y",
         "domain": [
          0,
          1
         ],
         "title": {
          "text": "År"
         },
         "type": "category"
        },
        "yaxis": {
         "anchor": "x",
         "domain": [
          0,
          1
         ],
         "title": {
          "text": "Antal medaljer"
         }
        }
       }
      },
      "text/html": [
       "<div>                            <div id=\"07752bf0-b023-450a-8e50-edcba205282a\" class=\"plotly-graph-div\" style=\"height:525px; width:100%;\"></div>            <script type=\"text/javascript\">                require([\"plotly\"], function(Plotly) {                    window.PLOTLYENV=window.PLOTLYENV || {};                                    if (document.getElementById(\"07752bf0-b023-450a-8e50-edcba205282a\")) {                    Plotly.newPlot(                        \"07752bf0-b023-450a-8e50-edcba205282a\",                        [{\"alignmentgroup\":\"True\",\"hovertemplate\":\"\\u00c5r=%{x}\\u003cbr\\u003eAntal medaljer=%{y}\\u003cextra\\u003e\\u003c\\u002fextra\\u003e\",\"legendgroup\":\"\",\"marker\":{\"color\":\"#636efa\",\"pattern\":{\"shape\":\"\"}},\"name\":\"\",\"offsetgroup\":\"\",\"orientation\":\"v\",\"showlegend\":false,\"textposition\":\"auto\",\"x\":[1896,1900,1904,1906,1908,1912,1924,1928,1932,1936,1948,1952,1956,1960,1964,1968,1972,1976,1980,1988,1992,1996,2000,2004,2008,2012,2016],\"xaxis\":\"x\",\"y\":[6,5,4,13,20,30,22,21,35,43,64,104,66,66,56,81,81,55,63,44,45,43,53,40,27,26,22],\"yaxis\":\"y\",\"type\":\"bar\"}],                        {\"template\":{\"data\":{\"histogram2dcontour\":[{\"type\":\"histogram2dcontour\",\"colorbar\":{\"outlinewidth\":0,\"ticks\":\"\"},\"colorscale\":[[0.0,\"#0d0887\"],[0.1111111111111111,\"#46039f\"],[0.2222222222222222,\"#7201a8\"],[0.3333333333333333,\"#9c179e\"],[0.4444444444444444,\"#bd3786\"],[0.5555555555555556,\"#d8576b\"],[0.6666666666666666,\"#ed7953\"],[0.7777777777777778,\"#fb9f3a\"],[0.8888888888888888,\"#fdca26\"],[1.0,\"#f0f921\"]]}],\"choropleth\":[{\"type\":\"choropleth\",\"colorbar\":{\"outlinewidth\":0,\"ticks\":\"\"}}],\"histogram2d\":[{\"type\":\"histogram2d\",\"colorbar\":{\"outlinewidth\":0,\"ticks\":\"\"},\"colorscale\":[[0.0,\"#0d0887\"],[0.1111111111111111,\"#46039f\"],[0.2222222222222222,\"#7201a8\"],[0.3333333333333333,\"#9c179e\"],[0.4444444444444444,\"#bd3786\"],[0.5555555555555556,\"#d8576b\"],[0.6666666666666666,\"#ed7953\"],[0.7777777777777778,\"#fb9f3a\"],[0.8888888888888888,\"#fdca26\"],[1.0,\"#f0f921\"]]}],\"heatmap\":[{\"type\":\"heatmap\",\"colorbar\":{\"outlinewidth\":0,\"ticks\":\"\"},\"colorscale\":[[0.0,\"#0d0887\"],[0.1111111111111111,\"#46039f\"],[0.2222222222222222,\"#7201a8\"],[0.3333333333333333,\"#9c179e\"],[0.4444444444444444,\"#bd3786\"],[0.5555555555555556,\"#d8576b\"],[0.6666666666666666,\"#ed7953\"],[0.7777777777777778,\"#fb9f3a\"],[0.8888888888888888,\"#fdca26\"],[1.0,\"#f0f921\"]]}],\"heatmapgl\":[{\"type\":\"heatmapgl\",\"colorbar\":{\"outlinewidth\":0,\"ticks\":\"\"},\"colorscale\":[[0.0,\"#0d0887\"],[0.1111111111111111,\"#46039f\"],[0.2222222222222222,\"#7201a8\"],[0.3333333333333333,\"#9c179e\"],[0.4444444444444444,\"#bd3786\"],[0.5555555555555556,\"#d8576b\"],[0.6666666666666666,\"#ed7953\"],[0.7777777777777778,\"#fb9f3a\"],[0.8888888888888888,\"#fdca26\"],[1.0,\"#f0f921\"]]}],\"contourcarpet\":[{\"type\":\"contourcarpet\",\"colorbar\":{\"outlinewidth\":0,\"ticks\":\"\"}}],\"contour\":[{\"type\":\"contour\",\"colorbar\":{\"outlinewidth\":0,\"ticks\":\"\"},\"colorscale\":[[0.0,\"#0d0887\"],[0.1111111111111111,\"#46039f\"],[0.2222222222222222,\"#7201a8\"],[0.3333333333333333,\"#9c179e\"],[0.4444444444444444,\"#bd3786\"],[0.5555555555555556,\"#d8576b\"],[0.6666666666666666,\"#ed7953\"],[0.7777777777777778,\"#fb9f3a\"],[0.8888888888888888,\"#fdca26\"],[1.0,\"#f0f921\"]]}],\"surface\":[{\"type\":\"surface\",\"colorbar\":{\"outlinewidth\":0,\"ticks\":\"\"},\"colorscale\":[[0.0,\"#0d0887\"],[0.1111111111111111,\"#46039f\"],[0.2222222222222222,\"#7201a8\"],[0.3333333333333333,\"#9c179e\"],[0.4444444444444444,\"#bd3786\"],[0.5555555555555556,\"#d8576b\"],[0.6666666666666666,\"#ed7953\"],[0.7777777777777778,\"#fb9f3a\"],[0.8888888888888888,\"#fdca26\"],[1.0,\"#f0f921\"]]}],\"mesh3d\":[{\"type\":\"mesh3d\",\"colorbar\":{\"outlinewidth\":0,\"ticks\":\"\"}}],\"scatter\":[{\"fillpattern\":{\"fillmode\":\"overlay\",\"size\":10,\"solidity\":0.2},\"type\":\"scatter\"}],\"parcoords\":[{\"type\":\"parcoords\",\"line\":{\"colorbar\":{\"outlinewidth\":0,\"ticks\":\"\"}}}],\"scatterpolargl\":[{\"type\":\"scatterpolargl\",\"marker\":{\"colorbar\":{\"outlinewidth\":0,\"ticks\":\"\"}}}],\"bar\":[{\"error_x\":{\"color\":\"#2a3f5f\"},\"error_y\":{\"color\":\"#2a3f5f\"},\"marker\":{\"line\":{\"color\":\"#E5ECF6\",\"width\":0.5},\"pattern\":{\"fillmode\":\"overlay\",\"size\":10,\"solidity\":0.2}},\"type\":\"bar\"}],\"scattergeo\":[{\"type\":\"scattergeo\",\"marker\":{\"colorbar\":{\"outlinewidth\":0,\"ticks\":\"\"}}}],\"scatterpolar\":[{\"type\":\"scatterpolar\",\"marker\":{\"colorbar\":{\"outlinewidth\":0,\"ticks\":\"\"}}}],\"histogram\":[{\"marker\":{\"pattern\":{\"fillmode\":\"overlay\",\"size\":10,\"solidity\":0.2}},\"type\":\"histogram\"}],\"scattergl\":[{\"type\":\"scattergl\",\"marker\":{\"colorbar\":{\"outlinewidth\":0,\"ticks\":\"\"}}}],\"scatter3d\":[{\"type\":\"scatter3d\",\"line\":{\"colorbar\":{\"outlinewidth\":0,\"ticks\":\"\"}},\"marker\":{\"colorbar\":{\"outlinewidth\":0,\"ticks\":\"\"}}}],\"scattermapbox\":[{\"type\":\"scattermapbox\",\"marker\":{\"colorbar\":{\"outlinewidth\":0,\"ticks\":\"\"}}}],\"scatterternary\":[{\"type\":\"scatterternary\",\"marker\":{\"colorbar\":{\"outlinewidth\":0,\"ticks\":\"\"}}}],\"scattercarpet\":[{\"type\":\"scattercarpet\",\"marker\":{\"colorbar\":{\"outlinewidth\":0,\"ticks\":\"\"}}}],\"carpet\":[{\"aaxis\":{\"endlinecolor\":\"#2a3f5f\",\"gridcolor\":\"white\",\"linecolor\":\"white\",\"minorgridcolor\":\"white\",\"startlinecolor\":\"#2a3f5f\"},\"baxis\":{\"endlinecolor\":\"#2a3f5f\",\"gridcolor\":\"white\",\"linecolor\":\"white\",\"minorgridcolor\":\"white\",\"startlinecolor\":\"#2a3f5f\"},\"type\":\"carpet\"}],\"table\":[{\"cells\":{\"fill\":{\"color\":\"#EBF0F8\"},\"line\":{\"color\":\"white\"}},\"header\":{\"fill\":{\"color\":\"#C8D4E3\"},\"line\":{\"color\":\"white\"}},\"type\":\"table\"}],\"barpolar\":[{\"marker\":{\"line\":{\"color\":\"#E5ECF6\",\"width\":0.5},\"pattern\":{\"fillmode\":\"overlay\",\"size\":10,\"solidity\":0.2}},\"type\":\"barpolar\"}],\"pie\":[{\"automargin\":true,\"type\":\"pie\"}]},\"layout\":{\"autotypenumbers\":\"strict\",\"colorway\":[\"#636efa\",\"#EF553B\",\"#00cc96\",\"#ab63fa\",\"#FFA15A\",\"#19d3f3\",\"#FF6692\",\"#B6E880\",\"#FF97FF\",\"#FECB52\"],\"font\":{\"color\":\"#2a3f5f\"},\"hovermode\":\"closest\",\"hoverlabel\":{\"align\":\"left\"},\"paper_bgcolor\":\"white\",\"plot_bgcolor\":\"#E5ECF6\",\"polar\":{\"bgcolor\":\"#E5ECF6\",\"angularaxis\":{\"gridcolor\":\"white\",\"linecolor\":\"white\",\"ticks\":\"\"},\"radialaxis\":{\"gridcolor\":\"white\",\"linecolor\":\"white\",\"ticks\":\"\"}},\"ternary\":{\"bgcolor\":\"#E5ECF6\",\"aaxis\":{\"gridcolor\":\"white\",\"linecolor\":\"white\",\"ticks\":\"\"},\"baxis\":{\"gridcolor\":\"white\",\"linecolor\":\"white\",\"ticks\":\"\"},\"caxis\":{\"gridcolor\":\"white\",\"linecolor\":\"white\",\"ticks\":\"\"}},\"coloraxis\":{\"colorbar\":{\"outlinewidth\":0,\"ticks\":\"\"}},\"colorscale\":{\"sequential\":[[0.0,\"#0d0887\"],[0.1111111111111111,\"#46039f\"],[0.2222222222222222,\"#7201a8\"],[0.3333333333333333,\"#9c179e\"],[0.4444444444444444,\"#bd3786\"],[0.5555555555555556,\"#d8576b\"],[0.6666666666666666,\"#ed7953\"],[0.7777777777777778,\"#fb9f3a\"],[0.8888888888888888,\"#fdca26\"],[1.0,\"#f0f921\"]],\"sequentialminus\":[[0.0,\"#0d0887\"],[0.1111111111111111,\"#46039f\"],[0.2222222222222222,\"#7201a8\"],[0.3333333333333333,\"#9c179e\"],[0.4444444444444444,\"#bd3786\"],[0.5555555555555556,\"#d8576b\"],[0.6666666666666666,\"#ed7953\"],[0.7777777777777778,\"#fb9f3a\"],[0.8888888888888888,\"#fdca26\"],[1.0,\"#f0f921\"]],\"diverging\":[[0,\"#8e0152\"],[0.1,\"#c51b7d\"],[0.2,\"#de77ae\"],[0.3,\"#f1b6da\"],[0.4,\"#fde0ef\"],[0.5,\"#f7f7f7\"],[0.6,\"#e6f5d0\"],[0.7,\"#b8e186\"],[0.8,\"#7fbc41\"],[0.9,\"#4d9221\"],[1,\"#276419\"]]},\"xaxis\":{\"gridcolor\":\"white\",\"linecolor\":\"white\",\"ticks\":\"\",\"title\":{\"standoff\":15},\"zerolinecolor\":\"white\",\"automargin\":true,\"zerolinewidth\":2},\"yaxis\":{\"gridcolor\":\"white\",\"linecolor\":\"white\",\"ticks\":\"\",\"title\":{\"standoff\":15},\"zerolinecolor\":\"white\",\"automargin\":true,\"zerolinewidth\":2},\"scene\":{\"xaxis\":{\"backgroundcolor\":\"#E5ECF6\",\"gridcolor\":\"white\",\"linecolor\":\"white\",\"showbackground\":true,\"ticks\":\"\",\"zerolinecolor\":\"white\",\"gridwidth\":2},\"yaxis\":{\"backgroundcolor\":\"#E5ECF6\",\"gridcolor\":\"white\",\"linecolor\":\"white\",\"showbackground\":true,\"ticks\":\"\",\"zerolinecolor\":\"white\",\"gridwidth\":2},\"zaxis\":{\"backgroundcolor\":\"#E5ECF6\",\"gridcolor\":\"white\",\"linecolor\":\"white\",\"showbackground\":true,\"ticks\":\"\",\"zerolinecolor\":\"white\",\"gridwidth\":2}},\"shapedefaults\":{\"line\":{\"color\":\"#2a3f5f\"}},\"annotationdefaults\":{\"arrowcolor\":\"#2a3f5f\",\"arrowhead\":0,\"arrowwidth\":1},\"geo\":{\"bgcolor\":\"white\",\"landcolor\":\"#E5ECF6\",\"subunitcolor\":\"white\",\"showland\":true,\"showlakes\":true,\"lakecolor\":\"white\"},\"title\":{\"x\":0.05},\"mapbox\":{\"style\":\"light\"}}},\"xaxis\":{\"anchor\":\"y\",\"domain\":[0.0,1.0],\"title\":{\"text\":\"\\u00c5r\"},\"type\":\"category\"},\"yaxis\":{\"anchor\":\"x\",\"domain\":[0.0,1.0],\"title\":{\"text\":\"Antal medaljer\"}},\"legend\":{\"tracegroupgap\":0},\"title\":{\"text\":\"Antal medaljer per OS\"},\"barmode\":\"relative\"},                        {\"responsive\": true}                    ).then(function(){\n",
       "                            \n",
       "var gd = document.getElementById('07752bf0-b023-450a-8e50-edcba205282a');\n",
       "var x = new MutationObserver(function (mutations, observer) {{\n",
       "        var display = window.getComputedStyle(gd).display;\n",
       "        if (!display || display === 'none') {{\n",
       "            console.log([gd, 'removed!']);\n",
       "            Plotly.purge(gd);\n",
       "            observer.disconnect();\n",
       "        }}\n",
       "}});\n",
       "\n",
       "// Listen for the removal of the full notebook cells\n",
       "var notebookContainer = gd.closest('#notebook-container');\n",
       "if (notebookContainer) {{\n",
       "    x.observe(notebookContainer, {childList: true});\n",
       "}}\n",
       "\n",
       "// Listen for the clearing of the current output cell\n",
       "var outputEl = gd.closest('.output');\n",
       "if (outputEl) {{\n",
       "    x.observe(outputEl, {childList: true});\n",
       "}}\n",
       "\n",
       "                        })                };                });            </script>        </div>"
      ]
     },
     "metadata": {},
     "output_type": "display_data"
    }
   ],
   "source": [
    "medals = hungary[hungary[\"Medal\"].notnull()]\n",
    "\n",
    "\n",
    "medals_per_os = medals.groupby(\"Year\").size().reset_index(name=\"Count\")\n",
    "\n",
    "\n",
    "fig = px.bar(\n",
    "    medals_per_os,\n",
    "    x=\"Year\",\n",
    "    y=\"Count\",\n",
    "    title=\"Antal medaljer per OS\",\n",
    "    labels={\"Year\": \"År\", \"Count\": \"Antal medaljer\"},\n",
    ")\n",
    "\n",
    "fig.update_xaxes(type=\"category\")\n",
    "\n",
    "fig.show()\n"
   ]
  },
  {
   "cell_type": "code",
   "execution_count": null,
   "metadata": {},
   "outputs": [
    {
     "data": {
      "application/vnd.plotly.v1+json": {
       "config": {
        "plotlyServerURL": "https://plot.ly"
       },
       "data": [
        {
         "alignmentgroup": "True",
         "bingroup": "x",
         "hovertemplate": "Ålder=%{x}<br>count=%{y}<extra></extra>",
         "legendgroup": "",
         "marker": {
          "color": "#636efa",
          "pattern": {
           "shape": ""
          }
         },
         "name": "",
         "nbinsx": 20,
         "offsetgroup": "",
         "orientation": "v",
         "showlegend": false,
         "type": "histogram",
         "x": [
          30,
          22,
          22,
          21,
          21,
          25,
          16,
          16,
          23,
          20,
          23,
          23,
          22,
          22,
          34,
          30,
          22,
          22,
          18,
          18,
          17,
          17,
          21,
          30,
          30,
          27,
          25,
          29,
          28,
          28,
          24,
          18,
          27,
          17,
          17,
          22,
          26,
          23,
          26,
          15,
          15,
          15,
          15,
          15,
          15,
          21,
          13,
          17,
          21,
          28,
          23,
          32,
          20,
          24,
          31,
          21,
          25,
          21,
          21,
          34,
          23,
          27,
          31,
          18,
          22,
          23,
          30,
          24,
          23,
          27,
          31,
          23,
          27,
          31,
          28,
          22,
          22,
          22,
          22,
          22,
          22,
          22,
          22,
          26,
          26,
          26,
          26,
          26,
          26,
          26,
          26,
          29,
          20,
          20,
          20,
          29,
          33,
          22,
          23,
          28,
          19,
          19,
          23,
          23,
          25,
          23,
          23,
          27,
          27,
          25,
          29,
          33,
          22,
          18,
          28,
          24,
          19,
          27,
          22,
          29,
          24,
          28,
          22,
          20,
          27,
          21,
          25,
          23,
          19,
          23,
          24,
          23,
          27,
          20,
          24,
          24,
          28,
          30,
          26,
          26,
          20,
          24,
          26,
          26,
          30,
          30,
          34,
          28,
          28,
          23,
          25,
          28,
          23,
          23,
          23,
          26,
          17,
          17,
          17,
          17,
          17,
          17,
          27,
          21,
          21,
          25,
          25,
          28,
          26,
          22,
          22,
          30,
          30,
          34,
          34,
          24,
          22,
          24,
          22,
          20,
          24,
          19,
          19,
          23,
          23,
          28,
          26,
          26,
          26,
          30,
          30,
          30,
          17,
          21,
          21,
          25,
          25,
          14,
          14,
          14,
          14,
          14,
          14,
          18,
          18,
          18,
          18,
          18,
          29,
          32,
          32,
          36,
          36,
          45,
          25,
          30,
          24,
          28,
          32,
          25,
          21,
          30,
          20,
          20,
          20,
          24,
          38,
          27,
          31,
          35,
          35,
          21,
          25,
          21,
          21,
          21,
          21,
          21,
          21,
          17,
          29,
          29,
          25,
          29,
          29,
          21,
          29,
          24,
          28,
          32,
          25,
          22,
          21,
          21,
          21,
          21,
          21,
          21,
          21,
          21,
          22,
          24,
          29,
          33,
          16,
          20,
          20,
          24,
          24,
          25,
          21,
          28,
          28,
          28,
          28,
          28,
          28,
          28,
          28,
          22,
          22,
          14,
          29,
          23,
          20,
          28,
          18,
          22,
          23,
          23,
          15,
          19,
          19,
          21,
          26,
          30,
          23,
          23,
          23,
          28,
          32,
          36,
          16,
          20,
          24,
          28,
          47,
          24,
          28,
          32,
          18,
          22,
          26,
          16,
          23,
          23,
          30,
          19,
          19,
          23,
          23,
          23,
          24,
          20,
          24,
          17,
          21,
          21,
          19,
          19,
          23,
          27,
          27,
          31,
          31,
          35,
          35,
          21,
          21,
          29,
          29,
          29,
          29,
          41,
          41,
          24,
          26,
          18,
          22,
          20,
          29,
          26,
          26,
          23,
          28,
          32,
          36,
          26,
          26,
          26,
          26,
          26,
          26,
          26,
          26,
          21,
          25,
          25,
          14,
          14,
          14,
          14,
          14,
          14,
          18,
          18,
          18,
          18,
          18,
          18,
          31,
          31,
          31,
          31,
          31,
          31,
          31,
          31,
          36,
          36,
          36,
          19,
          19,
          19,
          24,
          24,
          20,
          20,
          20,
          20,
          20,
          20,
          25,
          29,
          29,
          29,
          33,
          26,
          19,
          36,
          23,
          23,
          25,
          25,
          29,
          29,
          23,
          27,
          20,
          24,
          28,
          32,
          36,
          22,
          23,
          27,
          27,
          21,
          25,
          24,
          36,
          36,
          40,
          40,
          40,
          26,
          27,
          27,
          27,
          27,
          27,
          27,
          27,
          27,
          21,
          21,
          21,
          21,
          21,
          25,
          25,
          25,
          25,
          25,
          39,
          22,
          26,
          30,
          25,
          25,
          25,
          27,
          27,
          27,
          23,
          23,
          21,
          21,
          23,
          24,
          18,
          21,
          19,
          27,
          20,
          20,
          20,
          24,
          24,
          24,
          23,
          29,
          36,
          36,
          36,
          48,
          48,
          20,
          25,
          28,
          34,
          34,
          38,
          29,
          33,
          27,
          25,
          25,
          32,
          23,
          28,
          28,
          28,
          19,
          18,
          39,
          39,
          22,
          29,
          18,
          18,
          21,
          28,
          32,
          20,
          28,
          24,
          28,
          32,
          36,
          23,
          23,
          22,
          20,
          28,
          20,
          26,
          38,
          27,
          27,
          31,
          31,
          39,
          39,
          16,
          16,
          16,
          16,
          16,
          20,
          20,
          20,
          20,
          20,
          22,
          25,
          28,
          18,
          18,
          22,
          22,
          26,
          30,
          21,
          21,
          25,
          22,
          23,
          31,
          35,
          39,
          39,
          17,
          17,
          17,
          17,
          17,
          17,
          17,
          22,
          22,
          22,
          22,
          22,
          22,
          22,
          25,
          26,
          26,
          26,
          26,
          26,
          30,
          30,
          30,
          25,
          25,
          25,
          29,
          26,
          19,
          27,
          27,
          31,
          31,
          16,
          16,
          20,
          24,
          24,
          24,
          46,
          21,
          25,
          29,
          22,
          22,
          25,
          29,
          33,
          24,
          45,
          21,
          24,
          28,
          19,
          23,
          23,
          23,
          33,
          25,
          23,
          25,
          19,
          21,
          20,
          24,
          32,
          32,
          32,
          32,
          30,
          18,
          18,
          18,
          20,
          20,
          20,
          22,
          22,
          22,
          24,
          21,
          25,
          29,
          18,
          27,
          27,
          25,
          25,
          25,
          25,
          25,
          25,
          25,
          25,
          25,
          33,
          23,
          23,
          23,
          23,
          23,
          23,
          23,
          23,
          16,
          16,
          16,
          24,
          19,
          19,
          22,
          27,
          31,
          35,
          24,
          24,
          24,
          24,
          24,
          24,
          27,
          36,
          28,
          26,
          26,
          20,
          24,
          17,
          17,
          21,
          25,
          26,
          26,
          26,
          26,
          26,
          28,
          28,
          32,
          26,
          26,
          23,
          35,
          22,
          21,
          24,
          28,
          16,
          21,
          21,
          25,
          25,
          30,
          30,
          24,
          23,
          27,
          25,
          25,
          24,
          24,
          28,
          33,
          29,
          29,
          33,
          25,
          29,
          27,
          25,
          20,
          29,
          23,
          27,
          31,
          31,
          27,
          23,
          38,
          24,
          24,
          27,
          26,
          18,
          18,
          21,
          21,
          23,
          27,
          15,
          15,
          19,
          23,
          21,
          21,
          20,
          21,
          25,
          29,
          33,
          15,
          15,
          15,
          15,
          15,
          15,
          26,
          26,
          30,
          30,
          34,
          24,
          24,
          24,
          24,
          24,
          24,
          24,
          24,
          28,
          28,
          28,
          28,
          28,
          28,
          28,
          28,
          23,
          25,
          29,
          21,
          25,
          21,
          25,
          20,
          28,
          17,
          17,
          17,
          17,
          17,
          17,
          18,
          18,
          24,
          28,
          28,
          24,
          18,
          18,
          18,
          18,
          29,
          29,
          32,
          23,
          23,
          18,
          18,
          18,
          18,
          22,
          22,
          22,
          26,
          26,
          26,
          26,
          26,
          30,
          30,
          35,
          35,
          35,
          35,
          16,
          16,
          20,
          20,
          29,
          21,
          28,
          15,
          19,
          19,
          21,
          21,
          21,
          21,
          21,
          21,
          21,
          21,
          23,
          24,
          21,
          21,
          21,
          25,
          24,
          20,
          24,
          28,
          23,
          27,
          25,
          21,
          25,
          29,
          24,
          27,
          27,
          30,
          22,
          22,
          23,
          25,
          26,
          20,
          17,
          17,
          21,
          21,
          26,
          30,
          34,
          21,
          31,
          23,
          23,
          23,
          27,
          27,
          27,
          31,
          26,
          18,
          18,
          18,
          18,
          18,
          18,
          22,
          23,
          20,
          21,
          23,
          27,
          24,
          28,
          22,
          22,
          22,
          22,
          22,
          22,
          22,
          22,
          26,
          26,
          26,
          26,
          26,
          26,
          26,
          30,
          30,
          29,
          20,
          20,
          24,
          24,
          28,
          28,
          32,
          19,
          23,
          23,
          23,
          28,
          28,
          19,
          23,
          27,
          31,
          26,
          23,
          23,
          22,
          22,
          27,
          27,
          27,
          24,
          23,
          27,
          29,
          18,
          13,
          15,
          23,
          28,
          17,
          18,
          18,
          22,
          22,
          22,
          22,
          26,
          26,
          22,
          25,
          19,
          19,
          19,
          19,
          23,
          20,
          24,
          25,
          29,
          21,
          21,
          22,
          22,
          37,
          41,
          45,
          28,
          19,
          19,
          28,
          30,
          19,
          27,
          24,
          22,
          26,
          22,
          26,
          18,
          18,
          22,
          22,
          22,
          22,
          26,
          30,
          20,
          20,
          20,
          24,
          24,
          18,
          18,
          18,
          22,
          22,
          26,
          21,
          21,
          21,
          25,
          25,
          23,
          28,
          18,
          18,
          19,
          19,
          19,
          19,
          19,
          17,
          17,
          20,
          20,
          20,
          25,
          20,
          25,
          29,
          33,
          37,
          17,
          25,
          25,
          32,
          28,
          25,
          25,
          25,
          25,
          33,
          28,
          28,
          20,
          24,
          24,
          28,
          26,
          26,
          26,
          24,
          20,
          20,
          24,
          24,
          28,
          33,
          33,
          18,
          18,
          18,
          22,
          22,
          22,
          26,
          26,
          20,
          21,
          21,
          21,
          33,
          33,
          25,
          32,
          28,
          29,
          17,
          26,
          30,
          15,
          19,
          19,
          22,
          22,
          26,
          26,
          26,
          26,
          24,
          28,
          35,
          36,
          27,
          21,
          29,
          25,
          22,
          25,
          17,
          17,
          17,
          24,
          20,
          24,
          24,
          28,
          28,
          32,
          32,
          24,
          27,
          25,
          29,
          33,
          22,
          22,
          22,
          22,
          22,
          22,
          22,
          22,
          26,
          26,
          26,
          26,
          26,
          26,
          26,
          26,
          20,
          22,
          26,
          30,
          34,
          24,
          24,
          28,
          19,
          19,
          23,
          26,
          32,
          32,
          40,
          22,
          22,
          26,
          26,
          30,
          30,
          34,
          20,
          21,
          24,
          28,
          32,
          23,
          27,
          29,
          18,
          18,
          18,
          18,
          18,
          18,
          22,
          22,
          22,
          22,
          22,
          22,
          26,
          26,
          26,
          26,
          26,
          26,
          34,
          34,
          37,
          20,
          21,
          27,
          25,
          29,
          23,
          23,
          25,
          34,
          34,
          27,
          27,
          39,
          39,
          39,
          23,
          27,
          31,
          19,
          19,
          19,
          17,
          21,
          25,
          29,
          33,
          32,
          21,
          26,
          14,
          14,
          17,
          17,
          17,
          21,
          21,
          21,
          19,
          19,
          19,
          19,
          19,
          19,
          23,
          23,
          23,
          23,
          23,
          23,
          17,
          17,
          21,
          21,
          21,
          25,
          25,
          24,
          22,
          25,
          18,
          15,
          15,
          15,
          17,
          17,
          21,
          21,
          21,
          25,
          25,
          25,
          21,
          25,
          23,
          23,
          37,
          41,
          29,
          41,
          45,
          23,
          24,
          24,
          23,
          22,
          22,
          22,
          22,
          22,
          22,
          22,
          22,
          29,
          33,
          33,
          21,
          24,
          32,
          16,
          20,
          24,
          36,
          36,
          36,
          32,
          22,
          26,
          26,
          21,
          13,
          24,
          28,
          18,
          23,
          39,
          39,
          39,
          39,
          25,
          25,
          31,
          24,
          25,
          28,
          28,
          18,
          24,
          22,
          22,
          26,
          26,
          30,
          30,
          20,
          24,
          40,
          29,
          33,
          25,
          25,
          25,
          29,
          29,
          20,
          21,
          21,
          21,
          21,
          21,
          21,
          21,
          21,
          21,
          24,
          24,
          24,
          24,
          24,
          24,
          24,
          24,
          28,
          23,
          22,
          30,
          22,
          26,
          28,
          20,
          23,
          27,
          27,
          31,
          26,
          31,
          18,
          18,
          18,
          18,
          18,
          18,
          18,
          18,
          19,
          23,
          15,
          21,
          25,
          22,
          24,
          28,
          26,
          31,
          31,
          31,
          24,
          32,
          21,
          21,
          23,
          27,
          19,
          21,
          25,
          23,
          23,
          26,
          26,
          30,
          30,
          28,
          22,
          20,
          29,
          27,
          35,
          25,
          28,
          32,
          19,
          31,
          31,
          36,
          24,
          26,
          26,
          27,
          26,
          26,
          21,
          21,
          25,
          25,
          25,
          25,
          25,
          25,
          25,
          25,
          29,
          29,
          29,
          29,
          29,
          29,
          29,
          29,
          28,
          29,
          20,
          19,
          19,
          23,
          27,
          25,
          25,
          29,
          29,
          29,
          33,
          33,
          33,
          31,
          31,
          35,
          35,
          34,
          16,
          16,
          27,
          35,
          25,
          25,
          28,
          28,
          27,
          31,
          24,
          26,
          27,
          24,
          22,
          30,
          15,
          15,
          15,
          15,
          15,
          15,
          26,
          16,
          16,
          20,
          28,
          27,
          26,
          27,
          20,
          24,
          28,
          23,
          29,
          27,
          27,
          27,
          31,
          31,
          31,
          34,
          23,
          27,
          21,
          23,
          22,
          26,
          30,
          34,
          38,
          27,
          20,
          20,
          21,
          21,
          33,
          33,
          23,
          23,
          20,
          28,
          28,
          32,
          32,
          36,
          36,
          27,
          18,
          18,
          18,
          18,
          18,
          18,
          21,
          21,
          16,
          16,
          21,
          22,
          26,
          30,
          14,
          18,
          23,
          23,
          23,
          27,
          22,
          25,
          25,
          29,
          29,
          18,
          18,
          18,
          18,
          18,
          18,
          20,
          20,
          24,
          24,
          27,
          24,
          26,
          32,
          18,
          18,
          22,
          26,
          32,
          27,
          26,
          25,
          29,
          28,
          28,
          32,
          18,
          22,
          26,
          30,
          34,
          38,
          24,
          28,
          27,
          25,
          29,
          34,
          27,
          25,
          25,
          25,
          29,
          29,
          29,
          29,
          27,
          24,
          24,
          25,
          31,
          22,
          26,
          35,
          35,
          39,
          28,
          32,
          24,
          27,
          15,
          19,
          20,
          28,
          23,
          23,
          23,
          27,
          27,
          24,
          24,
          28,
          23,
          27,
          35,
          29,
          28,
          26,
          26,
          26,
          19,
          23,
          27,
          31,
          25,
          25,
          29,
          29,
          37,
          37,
          18,
          26,
          19,
          23,
          22,
          22,
          19,
          19,
          23,
          23,
          20,
          20,
          19,
          23,
          23,
          21,
          21,
          21,
          25,
          25,
          18,
          22,
          22,
          22,
          17,
          21,
          19,
          23,
          24,
          24,
          28,
          28,
          21,
          28,
          22,
          26,
          22,
          26,
          26,
          26,
          38,
          38,
          38,
          42,
          42,
          42,
          46,
          46,
          50,
          50,
          24,
          31,
          31,
          20,
          27,
          31,
          20,
          27,
          27,
          27,
          27,
          27,
          27,
          20,
          24,
          18,
          18,
          23,
          23,
          23,
          27,
          27,
          27,
          27,
          23,
          23,
          23,
          23,
          23,
          30,
          21,
          25,
          35,
          39,
          20,
          22,
          22,
          26,
          30,
          30,
          30,
          21,
          41,
          41,
          32,
          32,
          32,
          32,
          24,
          28,
          32,
          32,
          36,
          36,
          29,
          29,
          33,
          33,
          29,
          28,
          22,
          22,
          22,
          19,
          23,
          23,
          25,
          25,
          20,
          21,
          25,
          25,
          26,
          21,
          23,
          19,
          39,
          40,
          23,
          23,
          27,
          27,
          18,
          25,
          26,
          30,
          20,
          23,
          31,
          35,
          21,
          21,
          21,
          26,
          28,
          24,
          24,
          22,
          25,
          29,
          18,
          18,
          18,
          18,
          18,
          18,
          18,
          18,
          26,
          26,
          26,
          26,
          26,
          26,
          26,
          26,
          24,
          27,
          22,
          22,
          22,
          22,
          24,
          19,
          31,
          28,
          23,
          27,
          27,
          27,
          27,
          27,
          27,
          27,
          32,
          32,
          32,
          32,
          32,
          32,
          32,
          23,
          27,
          31,
          31,
          23,
          20,
          20,
          24,
          24,
          28,
          28,
          28,
          32,
          32,
          21,
          29,
          14,
          14,
          14,
          14,
          18,
          18,
          18,
          18,
          22,
          20,
          24,
          29,
          32,
          36,
          23,
          23,
          27,
          27,
          27,
          32,
          25,
          25,
          25,
          19,
          22,
          19,
          23,
          23,
          23,
          20,
          24,
          20,
          24,
          28,
          24,
          24,
          35,
          29,
          22,
          26,
          22,
          30,
          16,
          26,
          28,
          20,
          24,
          26,
          26,
          21,
          22,
          26,
          26,
          22,
          23,
          29,
          24,
          24,
          27,
          27,
          27,
          31,
          22,
          22,
          26,
          30,
          30,
          26,
          24,
          15,
          19,
          19,
          23,
          23,
          23,
          27,
          27,
          27,
          20,
          24,
          24,
          18,
          30,
          21,
          25,
          19,
          19,
          19,
          26,
          26,
          25,
          29,
          23,
          23,
          20,
          18,
          22,
          18,
          18,
          46,
          50,
          50,
          50,
          50,
          50,
          50,
          50,
          50,
          50,
          50,
          50,
          50,
          50,
          50,
          50,
          50,
          50,
          50,
          50,
          50,
          50,
          50,
          50,
          50,
          50,
          50,
          50,
          50,
          54,
          19,
          21,
          21,
          22,
          26,
          30,
          18,
          22,
          27,
          32,
          32,
          26,
          19,
          21,
          21,
          22,
          19,
          19,
          23,
          27,
          25,
          22,
          32,
          36,
          22,
          22,
          26,
          26,
          30,
          30,
          34,
          23,
          20,
          25,
          15,
          15,
          15,
          15,
          15,
          15,
          27,
          29,
          25,
          29,
          32,
          22,
          24,
          21,
          20,
          19,
          23,
          21,
          16,
          16,
          16,
          16,
          20,
          20,
          24,
          26,
          21,
          23,
          31,
          16,
          16,
          16,
          21,
          25,
          27,
          22,
          20,
          28,
          32,
          32,
          44,
          44,
          25,
          25,
          34,
          27,
          27,
          27,
          27,
          27,
          28,
          22,
          38,
          42,
          33,
          23,
          26,
          26,
          23,
          23,
          23,
          23,
          23,
          23,
          23,
          23,
          27,
          29,
          32,
          32,
          28,
          22,
          22,
          22,
          22,
          22,
          26,
          26,
          26,
          26,
          26,
          26,
          26,
          26,
          25,
          23,
          20,
          21,
          21,
          21,
          25,
          25,
          25,
          29,
          29,
          37,
          23,
          27,
          24,
          38,
          22,
          25,
          22,
          22,
          22,
          35,
          35,
          39,
          30,
          30,
          21,
          21,
          21,
          21,
          21,
          21,
          21,
          21,
          25,
          25,
          25,
          25,
          25,
          25,
          25,
          25,
          24,
          22,
          38,
          38,
          42,
          29,
          21,
          23,
          20,
          24,
          24,
          25,
          29,
          30,
          30,
          30,
          25,
          25,
          25,
          19,
          19,
          25,
          29,
          23,
          21,
          20,
          24,
          28,
          41,
          22,
          24,
          24,
          18,
          24,
          28,
          32,
          22,
          29,
          23,
          30,
          20,
          24,
          26,
          19,
          19,
          19,
          21,
          21,
          24,
          24,
          24,
          34,
          21,
          24,
          24,
          24,
          24,
          24,
          18,
          30,
          22,
          26,
          26,
          30,
          22,
          20,
          23,
          26,
          34,
          29,
          18,
          37,
          20,
          18,
          22,
          26,
          30,
          26,
          20,
          25,
          25,
          22,
          26,
          24,
          24,
          32,
          32,
          25,
          22,
          18,
          26,
          24,
          28,
          26,
          25,
          25,
          20,
          21,
          24,
          28,
          32,
          29,
          28,
          26,
          25,
          25,
          25,
          15,
          15,
          15,
          15,
          15,
          15,
          34,
          34,
          30,
          17,
          17,
          21,
          21,
          21,
          26,
          26,
          29,
          30,
          23,
          23,
          27,
          25,
          25,
          20,
          20,
          20,
          20,
          20,
          20,
          20,
          20,
          28,
          32,
          24,
          28,
          32,
          15,
          19,
          19,
          23,
          23,
          23,
          23,
          27,
          27,
          27,
          27,
          27,
          25,
          25,
          20,
          15,
          22,
          22,
          22,
          26,
          26,
          26,
          26,
          27,
          31,
          27,
          35,
          39,
          43,
          39,
          39,
          39,
          27,
          22,
          30,
          30,
          23,
          26,
          26,
          26,
          22,
          25,
          28,
          22,
          30,
          21,
          21,
          29,
          29,
          33,
          33,
          37,
          41,
          41,
          21,
          21,
          25,
          25,
          29,
          25,
          19,
          26,
          30,
          23,
          25,
          29,
          22,
          30,
          29,
          33,
          25,
          26,
          26,
          26,
          26,
          30,
          30,
          30,
          26,
          24,
          24,
          28,
          26,
          28,
          22,
          21,
          24,
          25,
          25,
          25,
          15,
          19,
          19,
          23,
          23,
          23,
          23,
          27,
          27,
          27,
          26,
          26,
          32,
          32,
          22,
          25,
          22,
          22,
          28,
          28,
          26,
          24,
          24,
          28,
          28,
          32,
          32,
          23,
          27,
          21,
          35,
          35,
          35,
          35,
          19,
          25,
          25,
          29,
          33,
          37,
          25,
          23,
          20,
          20,
          25,
          29,
          19,
          21,
          25,
          18,
          18,
          22,
          22,
          26,
          26,
          34,
          34,
          22,
          27,
          27,
          20,
          20,
          20,
          20,
          20,
          20,
          20,
          42,
          32,
          27,
          26,
          31,
          23,
          21,
          24,
          23,
          27,
          27,
          31,
          31,
          15,
          25,
          25,
          31,
          25,
          25,
          29,
          29,
          32,
          18,
          18,
          18,
          18,
          21,
          21,
          21,
          25,
          25,
          20,
          20,
          24,
          28,
          32,
          18,
          18,
          18,
          23,
          27,
          30,
          26,
          26,
          26,
          26,
          28,
          23,
          23,
          27,
          26,
          23,
          27,
          31,
          35,
          21,
          18,
          22,
          22,
          26,
          26,
          30,
          30,
          34,
          22,
          22,
          27,
          27,
          31,
          31,
          34,
          34,
          38,
          38,
          20,
          20,
          24,
          28,
          28,
          32,
          32,
          18,
          24,
          24,
          22,
          23,
          27,
          31,
          28,
          32,
          15,
          19,
          19,
          23,
          23,
          23,
          21,
          25,
          25,
          20,
          20,
          26,
          29,
          29,
          29,
          32,
          25,
          24,
          22,
          26,
          21,
          25,
          25,
          25,
          25,
          25,
          25,
          25,
          26,
          26,
          24,
          28,
          30,
          28,
          26,
          17,
          21,
          25,
          29,
          21,
          26,
          30,
          20,
          28,
          31,
          36,
          36,
          40,
          40,
          20,
          24,
          28,
          32,
          36,
          25,
          27,
          26,
          16,
          22,
          26,
          30,
          33,
          22,
          19,
          19,
          21,
          18,
          18,
          18,
          23,
          23,
          23,
          21,
          22,
          28,
          28,
          32,
          32,
          25,
          19,
          23,
          23,
          27,
          24,
          24,
          24,
          24,
          24,
          24,
          24,
          24,
          22,
          28,
          30,
          21,
          28,
          35,
          17,
          17,
          17,
          17,
          17,
          17,
          21,
          21,
          21,
          21,
          21,
          21,
          21,
          21,
          21,
          21,
          21,
          21,
          21,
          21,
          17,
          17,
          25,
          25,
          25,
          31,
          31,
          31,
          31,
          31,
          31,
          31,
          35,
          35,
          35,
          35,
          35,
          35,
          35,
          23,
          27,
          24,
          19,
          23,
          30,
          30,
          30,
          30,
          30,
          30,
          30,
          30,
          20,
          47,
          47,
          19,
          19,
          19,
          19,
          19,
          19,
          19,
          19,
          29,
          20,
          21,
          25,
          19,
          19,
          19,
          23,
          17,
          25,
          25,
          29,
          29,
          29,
          28,
          24,
          28,
          26,
          26,
          26,
          30,
          21,
          21,
          21,
          21,
          21,
          21,
          21,
          23,
          16,
          16,
          16,
          16,
          16,
          16,
          14,
          14,
          14,
          19,
          23,
          27,
          20,
          24,
          28,
          21,
          24,
          20,
          24,
          24,
          20,
          24,
          25,
          25,
          25,
          25,
          25,
          25,
          25,
          25,
          22,
          22,
          22,
          22,
          28,
          23,
          23,
          25,
          25,
          25,
          23,
          27,
          31,
          31,
          23,
          20,
          16,
          16,
          20,
          32,
          32,
          21,
          21,
          27,
          27,
          27,
          29,
          26,
          26,
          28,
          25,
          33,
          16,
          20,
          20,
          20,
          24,
          24,
          24,
          24,
          28,
          28,
          23,
          27,
          27,
          14,
          18,
          18,
          18,
          28,
          32,
          32,
          36,
          33,
          24,
          19,
          26,
          30,
          28,
          32,
          18,
          18,
          18,
          23,
          25,
          25,
          22,
          26,
          30,
          24,
          22,
          26,
          30,
          34,
          19,
          21,
          21,
          23,
          32,
          32,
          20,
          21,
          23,
          23,
          23,
          23,
          23,
          23,
          23,
          23,
          39,
          12,
          12,
          16,
          20,
          22,
          29,
          19,
          19,
          19,
          19,
          25,
          25,
          29,
          29,
          27,
          27,
          27,
          27,
          27,
          27,
          27,
          27,
          30,
          24,
          17,
          21,
          19,
          19,
          23,
          31,
          27,
          27,
          27,
          27,
          27,
          27,
          27,
          27,
          21,
          25,
          21,
          25,
          35,
          35,
          23,
          26,
          26,
          30,
          25,
          25,
          29,
          24,
          28,
          32,
          36,
          25,
          29,
          16,
          16,
          16,
          22,
          22,
          30,
          30,
          38,
          22,
          22,
          22,
          16,
          20,
          20,
          20,
          24,
          24,
          24,
          23,
          23,
          27,
          27,
          27,
          31,
          31,
          35,
          35,
          24,
          24,
          19,
          22,
          31,
          27,
          25,
          29,
          22,
          22,
          22,
          22,
          22,
          22,
          22,
          22,
          21,
          25,
          24,
          22,
          23,
          23,
          23,
          23,
          27,
          27,
          27,
          29,
          17,
          17,
          25,
          26,
          27,
          31,
          24,
          28,
          36,
          27,
          27,
          27,
          35,
          35,
          39,
          17,
          24,
          20,
          20,
          24,
          24,
          28,
          32,
          32,
          23,
          23,
          23,
          24,
          27,
          25,
          25,
          23,
          22,
          24,
          20,
          20,
          23,
          27,
          31,
          18,
          18,
          23,
          27,
          20,
          24,
          19,
          19,
          19,
          21,
          21,
          21,
          21,
          21,
          28,
          22,
          26,
          20,
          32,
          20,
          28,
          24,
          16,
          20,
          28,
          20,
          20,
          20,
          20,
          20,
          20,
          20,
          24,
          24,
          24,
          24,
          24,
          24,
          24,
          20,
          28,
          32,
          21,
          21,
          21,
          21,
          21,
          25,
          29,
          47,
          18,
          18,
          19,
          23,
          25,
          24,
          15,
          15,
          15,
          19,
          19,
          19,
          23,
          23,
          23,
          20,
          24,
          28,
          32,
          24,
          24,
          28,
          28,
          28,
          23,
          23,
          19,
          23,
          27,
          33,
          24,
          17,
          17,
          17,
          21,
          21,
          22,
          26,
          34,
          34,
          17,
          26,
          30,
          34,
          39,
          28,
          20,
          30,
          21,
          25,
          22,
          26,
          30,
          22,
          22,
          26,
          26,
          30,
          30,
          34,
          34,
          38,
          26,
          30,
          34,
          23,
          25,
          25,
          25,
          24,
          36,
          36,
          40,
          23,
          25,
          24,
          24,
          28,
          28,
          32,
          32,
          32,
          36,
          36,
          24,
          24,
          31,
          22,
          21,
          21,
          21,
          21,
          24,
          24,
          26,
          26,
          30,
          20,
          20,
          24,
          36,
          36,
          39,
          39,
          44,
          44,
          48,
          20,
          20,
          20,
          20,
          20,
          20,
          20,
          20,
          21,
          25,
          33,
          26,
          21,
          25,
          28,
          25,
          25,
          29,
          29,
          33,
          33,
          26,
          23,
          26,
          24,
          16,
          16,
          16,
          16,
          16,
          24,
          28,
          21,
          21,
          21,
          25,
          25,
          18,
          18,
          23,
          23,
          19,
          19,
          38,
          27,
          24,
          21,
          25,
          29,
          37,
          23,
          23,
          35,
          35,
          25,
          25,
          29,
          29,
          33,
          33,
          18,
          26,
          30,
          20,
          23,
          27,
          27,
          27,
          27,
          27,
          27,
          27,
          21,
          25,
          25,
          29,
          29,
          29,
          25,
          25,
          17,
          21,
          21,
          21,
          25,
          25,
          25,
          25,
          20,
          24,
          28,
          23,
          33,
          22,
          22,
          22,
          26,
          26,
          30,
          23,
          15,
          15,
          15,
          15,
          15,
          15,
          30,
          30,
          30,
          33,
          28,
          24,
          24,
          24,
          24,
          24,
          27,
          22,
          31,
          31,
          21,
          21,
          23,
          28,
          28,
          23,
          27,
          27,
          24,
          27,
          46,
          25,
          25,
          19,
          19,
          19,
          19,
          20,
          29,
          23,
          27,
          26,
          30,
          34,
          38,
          23,
          23,
          27,
          27,
          31,
          31,
          35,
          35,
          25,
          21,
          21,
          25,
          25,
          33,
          37,
          37,
          24,
          24,
          23,
          50,
          23,
          30,
          17,
          21,
          29,
          33,
          37,
          19,
          23,
          26,
          30,
          22,
          26,
          26,
          24,
          24,
          24,
          24,
          24,
          24,
          24,
          22,
          50,
          21,
          25,
          25,
          28,
          28,
          25,
          29,
          34,
          27,
          27,
          27,
          27,
          23,
          25,
          20,
          27,
          22,
          25,
          32,
          25,
          19,
          19,
          19,
          19,
          19,
          19,
          19,
          34,
          34,
          22,
          15,
          15,
          27,
          24,
          32,
          19,
          23,
          23,
          23,
          31,
          19,
          19,
          19,
          19,
          24,
          21,
          21,
          25,
          25,
          29,
          29,
          21,
          21,
          21,
          23,
          23,
          27,
          26,
          20,
          28,
          44,
          20,
          20,
          20,
          20,
          20,
          20,
          20,
          20,
          25,
          25,
          18,
          18,
          18,
          22,
          24,
          21,
          28,
          28,
          28,
          28,
          28,
          28,
          28,
          28,
          30,
          34,
          27,
          21,
          28,
          28,
          21,
          27,
          20,
          20,
          20,
          24,
          24,
          19,
          28,
          28,
          19,
          23,
          18,
          18,
          19,
          19,
          20,
          20,
          23,
          26,
          22,
          27,
          28,
          28,
          31,
          24,
          20,
          22,
          27,
          20,
          17,
          21,
          21,
          29,
          29,
          28,
          25,
          23,
          23,
          23,
          20,
          30,
          29,
          30,
          18,
          21,
          21,
          25,
          29,
          29,
          18,
          18,
          18,
          24,
          29,
          31,
          19,
          19,
          19,
          25,
          24,
          21,
          25,
          29,
          26,
          23,
          23,
          23,
          39,
          28,
          36,
          24,
          26,
          27,
          16,
          16,
          16,
          16,
          16,
          16,
          21,
          23,
          22,
          22,
          19,
          19,
          19,
          19,
          21,
          21,
          21,
          21,
          25,
          25,
          26,
          21,
          24,
          28,
          32,
          23,
          23,
          23,
          23,
          22,
          26,
          25,
          27,
          31,
          17,
          17,
          17,
          21,
          21,
          21,
          20,
          20,
          24,
          25,
          25,
          26,
          26,
          20,
          20,
          28,
          21,
          21,
          18,
          18,
          18,
          18,
          18,
          18,
          18,
          18,
          22,
          22,
          22,
          22,
          22,
          22,
          22,
          22,
          26,
          26,
          26,
          26,
          26,
          26,
          26,
          26,
          23,
          23,
          23,
          27,
          23,
          26,
          30,
          24,
          24,
          24,
          24,
          24,
          24,
          17,
          21,
          27,
          19,
          19,
          19,
          19,
          19,
          19,
          23,
          23,
          23,
          23,
          23,
          23,
          26,
          24,
          24,
          24,
          19,
          22,
          22,
          26,
          26,
          22,
          19,
          33,
          53,
          53,
          53,
          53,
          53,
          53,
          53,
          53,
          53,
          53,
          53,
          53,
          53,
          53,
          53,
          53,
          53,
          53,
          53,
          53,
          53,
          53,
          53,
          53,
          53,
          53,
          53,
          27,
          27,
          31,
          31,
          26,
          28,
          29,
          24,
          33,
          20,
          20,
          24,
          24,
          20,
          25,
          28,
          18,
          26,
          22,
          31,
          24,
          28,
          28,
          27,
          32,
          23,
          23,
          28,
          22,
          22,
          25,
          25,
          29,
          27,
          31,
          20,
          20,
          29,
          27,
          27,
          31,
          31,
          29,
          20,
          21,
          22,
          22,
          27,
          27,
          21,
          23,
          23,
          31,
          23,
          27,
          21,
          27,
          28,
          24,
          24,
          18,
          18,
          18,
          23,
          23,
          35,
          22,
          26,
          32,
          32,
          44,
          44,
          48,
          48,
          20,
          24,
          21,
          25,
          29,
          19,
          19,
          19,
          21,
          30,
          30,
          24,
          28,
          26,
          25,
          25,
          29,
          29,
          33,
          33,
          22,
          26,
          30,
          34,
          24,
          24,
          24,
          22,
          26,
          26,
          23,
          25,
          25,
          14,
          14,
          14,
          14,
          14,
          14,
          18,
          18,
          18,
          18,
          18,
          18,
          24,
          22,
          31,
          22,
          26,
          21,
          24,
          26,
          23,
          24,
          26,
          26,
          26,
          26,
          26,
          26,
          26,
          26,
          23,
          23,
          23,
          23,
          27,
          22,
          22,
          22,
          22,
          22,
          22,
          22,
          22,
          23,
          23,
          27,
          21,
          25,
          22,
          22,
          26,
          30,
          35,
          35,
          18,
          18,
          18,
          18,
          22,
          27,
          27,
          31,
          31,
          24,
          27,
          22,
          22,
          22,
          22,
          23,
          27,
          35,
          35,
          35,
          35,
          21,
          33,
          43,
          22,
          26,
          25,
          25,
          23,
          32,
          27,
          25,
          25,
          25,
          25,
          26,
          20,
          20,
          20,
          22,
          24,
          24,
          24,
          22,
          22,
          30,
          30,
          34,
          34,
          38,
          25,
          37,
          41,
          25,
          16,
          16,
          16,
          16,
          16,
          16,
          16,
          16,
          16,
          16,
          16,
          16,
          32,
          32,
          21,
          25,
          29,
          18,
          18,
          18,
          20,
          24,
          27,
          27,
          31,
          31,
          25,
          33,
          24,
          26,
          26,
          26,
          26,
          26,
          26,
          26,
          26,
          30,
          30,
          30,
          30,
          30,
          30,
          30,
          30,
          21,
          21,
          21,
          21,
          21,
          21,
          21,
          21,
          33,
          33,
          33,
          33,
          33,
          33,
          33,
          33,
          27,
          20,
          20,
          24,
          24,
          28,
          32,
          32,
          36,
          40,
          21,
          22,
          22,
          25,
          25,
          17,
          17,
          17,
          17,
          17,
          17,
          21,
          21,
          21,
          21,
          21,
          21,
          26,
          23,
          27,
          30,
          34,
          24,
          28,
          22,
          24,
          18,
          24,
          22,
          32,
          23,
          23,
          23,
          23,
          23,
          23,
          23,
          23,
          27,
          27,
          27,
          27,
          27,
          27,
          27,
          27,
          27,
          23,
          22,
          26,
          16,
          16,
          16,
          16,
          16,
          16,
          28,
          32,
          34,
          34,
          30,
          30,
          24,
          25,
          29,
          33,
          24,
          27,
          22,
          28,
          28,
          25,
          27,
          25,
          37,
          37,
          24,
          22,
          26,
          58,
          24,
          20,
          20,
          20,
          24,
          24,
          24,
          24,
          24,
          24,
          24,
          26,
          26,
          26,
          26,
          22,
          28,
          28,
          16,
          16,
          16,
          16,
          16,
          16,
          21,
          21,
          21,
          21,
          21,
          21,
          25,
          25,
          25,
          25,
          25,
          25,
          17,
          17,
          21,
          21,
          25,
          25,
          29,
          23,
          24,
          24,
          28,
          21,
          21,
          21,
          16,
          20,
          20,
          24,
          24,
          24,
          23,
          23,
          27,
          20,
          29,
          26,
          30,
          31,
          29,
          36,
          26,
          30,
          33,
          30,
          34,
          35,
          19,
          21,
          26,
          25,
          27,
          27,
          31,
          31,
          21,
          21,
          21,
          24,
          27,
          21,
          26,
          26,
          26,
          26,
          25,
          21,
          23,
          21,
          26,
          35,
          24,
          24,
          23,
          31,
          18,
          20,
          24,
          28,
          17,
          17,
          17,
          19,
          23,
          27,
          26,
          30,
          33,
          26,
          30,
          21,
          24,
          32,
          32,
          36,
          15,
          15,
          19,
          19,
          25,
          25,
          30,
          30,
          33,
          33,
          28,
          32,
          23,
          27,
          16,
          20,
          20,
          20,
          20,
          20,
          20,
          30,
          35,
          18,
          22,
          15,
          27,
          30,
          30,
          24,
          24,
          32,
          32,
          36,
          36,
          27,
          48,
          23,
          23,
          26,
          26,
          30,
          30,
          20,
          20,
          22,
          22,
          26,
          26,
          27,
          24,
          24,
          20,
          24,
          18,
          18,
          24,
          24,
          22,
          30,
          34,
          26,
          30,
          30,
          25,
          22,
          26,
          26,
          21,
          25,
          29,
          33,
          29,
          23,
          22,
          22,
          24,
          28,
          29,
          26,
          23,
          27,
          17,
          17,
          22,
          26,
          27,
          31,
          26,
          23,
          23,
          20,
          20,
          24,
          21,
          25,
          29,
          31,
          31,
          17,
          23,
          23,
          27,
          27,
          24,
          23,
          35,
          23,
          27,
          19,
          22,
          26,
          31,
          35,
          39,
          39,
          19,
          19,
          23,
          23,
          34,
          17,
          17,
          17,
          17,
          17,
          17,
          21,
          21,
          21,
          21,
          15,
          15,
          20,
          20,
          20,
          24,
          32,
          31,
          31,
          20,
          20,
          20,
          22,
          24,
          18,
          18,
          18,
          18,
          18,
          18,
          22,
          22,
          22,
          22,
          22,
          22,
          23,
          23,
          25,
          25,
          26,
          19,
          23,
          27,
          24,
          29,
          22,
          19,
          28,
          24,
          24,
          25,
          48,
          16,
          30,
          24,
          15,
          25,
          26,
          29,
          25,
          18,
          25,
          26,
          21,
          29,
          29,
          22,
          26,
          26,
          30,
          30,
          14,
          14,
          14,
          14,
          14,
          14,
          18,
          18,
          18,
          18,
          18,
          18,
          15,
          15,
          15,
          15,
          15,
          15,
          23,
          23,
          23,
          23,
          23,
          22,
          23,
          22,
          23,
          26,
          30,
          21,
          21,
          19,
          24,
          24,
          24,
          24,
          25,
          25,
          21,
          25,
          25,
          24,
          28,
          32,
          24,
          24,
          33,
          26,
          21,
          25,
          29,
          21,
          28,
          32,
          36,
          36,
          40,
          21,
          25,
          25,
          35,
          39,
          37,
          37,
          41,
          41,
          29,
          25,
          23,
          24,
          28,
          19,
          24,
          28,
          21,
          21,
          21,
          21,
          21,
          21,
          21,
          21,
          21,
          21,
          21,
          23,
          23,
          27,
          28,
          28,
          24,
          21,
          21,
          25,
          29,
          29,
          19,
          19,
          34,
          38,
          21,
          25,
          33,
          24,
          24,
          28,
          32,
          32,
          22,
          26,
          30,
          23,
          24,
          28,
          32,
          32,
          22,
          21,
          20,
          28,
          28,
          28,
          28,
          28,
          28,
          28,
          28,
          22,
          26,
          20,
          24,
          20,
          22,
          26,
          30,
          34,
          24,
          24,
          25,
          29,
          33,
          19,
          24,
          27,
          22,
          22,
          38,
          38,
          38,
          38,
          38,
          38,
          38,
          33,
          26,
          29,
          29,
          23,
          30,
          30,
          30,
          30,
          30,
          30,
          30,
          30,
          34,
          34,
          34,
          34,
          34,
          34,
          34,
          34,
          18,
          19,
          20,
          20,
          24,
          24,
          24,
          33,
          37,
          24,
          28,
          27,
          25,
          20,
          23,
          23,
          19,
          19,
          16,
          21,
          20,
          24,
          25,
          29,
          20,
          20,
          20,
          20,
          20,
          20,
          20,
          25,
          25,
          25,
          25,
          25,
          25,
          25,
          25,
          25,
          29,
          29,
          29,
          29,
          29,
          29,
          29,
          29,
          25,
          25,
          19,
          19,
          30,
          32,
          40,
          22,
          22,
          22,
          22,
          22,
          22,
          22,
          22,
          26,
          26,
          26,
          26,
          26,
          26,
          26,
          30,
          30,
          30,
          30,
          30,
          30,
          30,
          30,
          24,
          24,
          23,
          31,
          27,
          27,
          23,
          31,
          31,
          19,
          21,
          23,
          27,
          21,
          29,
          43,
          52,
          23,
          25,
          24,
          24,
          20,
          21,
          21,
          25,
          23,
          23,
          27,
          27,
          28,
          28,
          32,
          32,
          36,
          36,
          23,
          23,
          26,
          26,
          30,
          24,
          28,
          32,
          28,
          28,
          33,
          33,
          24,
          28,
          32,
          32,
          27,
          27,
          27,
          27,
          20,
          24,
          21,
          21,
          25,
          22,
          28,
          24,
          28,
          32,
          23,
          19,
          20,
          25,
          20,
          24,
          28,
          32,
          35,
          20,
          21,
          24,
          35,
          35,
          35,
          35,
          23,
          27,
          31,
          19,
          21,
          26,
          22,
          21,
          20,
          20,
          20,
          24,
          28,
          20,
          24,
          36,
          36,
          36,
          31,
          20,
          20,
          24,
          24,
          20,
          24,
          28,
          32,
          32,
          25,
          25,
          23,
          27,
          27,
          27,
          24,
          36,
          22,
          23,
          24,
          28,
          29,
          19,
          19,
          19,
          23,
          23,
          24,
          22,
          26,
          27,
          31,
          19,
          23,
          35,
          39,
          43,
          43,
          43,
          43,
          25,
          23,
          23,
          29,
          29,
          41,
          45,
          24,
          28,
          31,
          35,
          22,
          22,
          27,
          31,
          35,
          25,
          21,
          19,
          27,
          27,
          19,
          21,
          25,
          25,
          29,
          20,
          25,
          29,
          21,
          32,
          32,
          25,
          20,
          24,
          20,
          20,
          30,
          23,
          23,
          27,
          27,
          31,
          31,
          35,
          35,
          39,
          39,
          25,
          21,
          27,
          31,
          20,
          24,
          28,
          30,
          34,
          34,
          38,
          38,
          28,
          28,
          28,
          28,
          28,
          28,
          28,
          28,
          23,
          29,
          33,
          22,
          22,
          32,
          23,
          23,
          15,
          15,
          15,
          18,
          18,
          18,
          26,
          26,
          26,
          26,
          30,
          30,
          21,
          25,
          29,
          20,
          25,
          30,
          25,
          29,
          24,
          24,
          22,
          26,
          25,
          29,
          22,
          26,
          25,
          29,
          33,
          24,
          25,
          29,
          25,
          20,
          20,
          20,
          20,
          24,
          24,
          28,
          23,
          23,
          27,
          31,
          31,
          21,
          21,
          25,
          23,
          18,
          15,
          15,
          19,
          19,
          23,
          23,
          23,
          23,
          22,
          25,
          20,
          24,
          21,
          21,
          25,
          21,
          21,
          21,
          21,
          19,
          21,
          22,
          23,
          25,
          29,
          29,
          37,
          37,
          24,
          24,
          24,
          29,
          29,
          29,
          33,
          33,
          33,
          22,
          33,
          22,
          26,
          29,
          31,
          19,
          22,
          38,
          33,
          33,
          33,
          33,
          33,
          33,
          33,
          33,
          37,
          37,
          37,
          37,
          37,
          37,
          37,
          37,
          25,
          30,
          25,
          22,
          22,
          22,
          22,
          22,
          22,
          22,
          22,
          23,
          27,
          20,
          20,
          28,
          32,
          27,
          27,
          27,
          27,
          27,
          27,
          27,
          27,
          20,
          23,
          22,
          25,
          29,
          23,
          28,
          28,
          28,
          20,
          25,
          29,
          33,
          27,
          27,
          23,
          22,
          22,
          26,
          34,
          17,
          42,
          24,
          24,
          30,
          23,
          31,
          31,
          31,
          43,
          43,
          43,
          43,
          47,
          18,
          18,
          18,
          18,
          27,
          31,
          22,
          26,
          30,
          26,
          30,
          30,
          34,
          23,
          18,
          18,
          18,
          18,
          27,
          27,
          27,
          27,
          27,
          27,
          27,
          27,
          27,
          22,
          20,
          24,
          24,
          28,
          28,
          27,
          19,
          16,
          20,
          24,
          28,
          22,
          26,
          23,
          23,
          27,
          31,
          26,
          24,
          26,
          30,
          34,
          34,
          23,
          23,
          23,
          27,
          22,
          22,
          22,
          25,
          25,
          25,
          29,
          29,
          29,
          33,
          33,
          33,
          37,
          37,
          37,
          24,
          23,
          27,
          24,
          28,
          32,
          25,
          32,
          21,
          21,
          25,
          29,
          19,
          39,
          39,
          21,
          25,
          25,
          34,
          34,
          23,
          27,
          23,
          21,
          23,
          31,
          16,
          16,
          16,
          21,
          19,
          24,
          24,
          24,
          24,
          36,
          23,
          27,
          31,
          22,
          22,
          26,
          26,
          19,
          21,
          25,
          17,
          20,
          30,
          30,
          26,
          36,
          25,
          25,
          33,
          32,
          32,
          36,
          23,
          20,
          20,
          20,
          22,
          22,
          22,
          27,
          27,
          34,
          26,
          26,
          29,
          24,
          33,
          24,
          18,
          18,
          20,
          20,
          24,
          30,
          34,
          27,
          25,
          25,
          15,
          15,
          19,
          19,
          23,
          26,
          26,
          26,
          26,
          26,
          26,
          26,
          26,
          27,
          31,
          19,
          22,
          25,
          37,
          20,
          20,
          20,
          22,
          22,
          23,
          33,
          26,
          30,
          26,
          22,
          26,
          20,
          24,
          28,
          25,
          28,
          21,
          21,
          29,
          29,
          33,
          33,
          21,
          25,
          21,
          24,
          31,
          24,
          28,
          20,
          25,
          29,
          29,
          33,
          22,
          24,
          26,
          25,
          25,
          29,
          29,
          19,
          19,
          19,
          19,
          19,
          19,
          20,
          20,
          26,
          26,
          26,
          36,
          18,
          22,
          26,
          24,
          22,
          26,
          18,
          23,
          21,
          21,
          21,
          21,
          21,
          21,
          21,
          21,
          25,
          25,
          25,
          25,
          25,
          25,
          25,
          29,
          29,
          29,
          29,
          29,
          21,
          21,
          27,
          27,
          31,
          26,
          45,
          45,
          18,
          18,
          18,
          22,
          22,
          26,
          26,
          21,
          33,
          28,
          25,
          26,
          26,
          30,
          30,
          34,
          34,
          21,
          24,
          28,
          23,
          21,
          25,
          29,
          29,
          24,
          24,
          28,
          27,
          22,
          26,
          30,
          23,
          19,
          19,
          19,
          26,
          30,
          27,
          24,
          26,
          24,
          32,
          26,
          27,
          28,
          22,
          21,
          27,
          27,
          27,
          31,
          23,
          23,
          20,
          24,
          28,
          20,
          23,
          23,
          27,
          27,
          31,
          31,
          17,
          17,
          21,
          21,
          21,
          21,
          25,
          27,
          18,
          18,
          32,
          27,
          24,
          25,
          25,
          20,
          20,
          22,
          22,
          29,
          19,
          19,
          35,
          35,
          35,
          35,
          35,
          35,
          35,
          24,
          16,
          20,
          23,
          21,
          21,
          21,
          19,
          19,
          19,
          38,
          28,
          28,
          32,
          32,
          20,
          20,
          22,
          30,
          34,
          21,
          23,
          22,
          21,
          20,
          27,
          29,
          22,
          23,
          23,
          24,
          27,
          22,
          18,
          18,
          18,
          18,
          18,
          26,
          28,
          25,
          29,
          33,
          23,
          35,
          22,
          22,
          18,
          22,
          29,
          29,
          19,
          19,
          23,
          23,
          30,
          35,
          22,
          26,
          24,
          21,
          24,
          32,
          28,
          32,
          22,
          26,
          30,
          34,
          23,
          23,
          23,
          27,
          19,
          23,
          23,
          29,
          24,
          21,
          21,
          25,
          25,
          29,
          20,
          24,
          24,
          24,
          36,
          36,
          32,
          22,
          19,
          25,
          33,
          17,
          17,
          23,
          23,
          26,
          23,
          19,
          19,
          19,
          27,
          23,
          25,
          18,
          22,
          21,
          21,
          21,
          21,
          21,
          33,
          21,
          25,
          21,
          21,
          21,
          21,
          21,
          33,
          33,
          33,
          20,
          20,
          24,
          27,
          26,
          20,
          24,
          20,
          20,
          19,
          19,
          19,
          19,
          23,
          23,
          23,
          25,
          31,
          23,
          20,
          20,
          24,
          28,
          28,
          27,
          25,
          21,
          16,
          20,
          20,
          34,
          34,
          27,
          21,
          21,
          21,
          21,
          30,
          25,
          29,
          23,
          21,
          21,
          19,
          25,
          24,
          24,
          24,
          28,
          34,
          18,
          18,
          22,
          26,
          27,
          25,
          29,
          25,
          25,
          30,
          15,
          19,
          19,
          21,
          21,
          25,
          25,
          25,
          33,
          28,
          27,
          22,
          26,
          30,
          27,
          30,
          34,
          21,
          21,
          30,
          34,
          20,
          24,
          28,
          32,
          27,
          31,
          36,
          36,
          21,
          21,
          21,
          29,
          20,
          20,
          28,
          28,
          18,
          26,
          24,
          16,
          16,
          21,
          21,
          22,
          24,
          24,
          24,
          24,
          28,
          17,
          19,
          19,
          19,
          23,
          23,
          27,
          19,
          19,
          25,
          25,
          27,
          27,
          45,
          25,
          25,
          25,
          25,
          25,
          19,
          19,
          19,
          25,
          22,
          26,
          26,
          30,
          30,
          22,
          23,
          32,
          36,
          22,
          26,
          26,
          16,
          16,
          16,
          20,
          20,
          27,
          27,
          20,
          26,
          27,
          19,
          23,
          24,
          28,
          23,
          26,
          30,
          24,
          28,
          22,
          26,
          23,
          23,
          14,
          14,
          14,
          14,
          16,
          29,
          23,
          20,
          25,
          25,
          29,
          29,
          29,
          29,
          33,
          33,
          37,
          37,
          25,
          25,
          29,
          29,
          33,
          23,
          23,
          27,
          27,
          35,
          35,
          27,
          27,
          27,
          27,
          27,
          27,
          27,
          28,
          21,
          21,
          25,
          38,
          42,
          46,
          22,
          22,
          18,
          22,
          26,
          26,
          30,
          30,
          23,
          27,
          31,
          24,
          27,
          25,
          20,
          24,
          24,
          26,
          23,
          23,
          23,
          36,
          36,
          22,
          22,
          22,
          21,
          19,
          39,
          43,
          22,
          26,
          20,
          19,
          23,
          23,
          23,
          23,
          23,
          23,
          23,
          27,
          27,
          27,
          27,
          27,
          27,
          27,
          31,
          31,
          31,
          31,
          31,
          31,
          24,
          22,
          22,
          30,
          30,
          27,
          29,
          29,
          21,
          25,
          29,
          19,
          31,
          31,
          20,
          25,
          32,
          17,
          17,
          21,
          21,
          26,
          26,
          30,
          30,
          17,
          17,
          20,
          25,
          39,
          20,
          20,
          17,
          21,
          28,
          24,
          28,
          23,
          23,
          23,
          23,
          23,
          23,
          23,
          23,
          25,
          19,
          19,
          29,
          29,
          34,
          28,
          24,
          28,
          28,
          25,
          38,
          38,
          19,
          20,
          14,
          31,
          23,
          25,
          23,
          29,
          41,
          21,
          35,
          43,
          23,
          23,
          23,
          23,
          23,
          23,
          27,
          27,
          27,
          27,
          27,
          27,
          31,
          31,
          27,
          28,
          28,
          32,
          25,
          29,
          21,
          17,
          21,
          24,
          28,
          22,
          22,
          22,
          20,
          24,
          29,
          29,
          33,
          33,
          24,
          25,
          22,
          26,
          26,
          26,
          24,
          28,
          25,
          25,
          25,
          25,
          25,
          25,
          25,
          25,
          31,
          31,
          31,
          31,
          24,
          21,
          21,
          23,
          28,
          28,
          18,
          22,
          26,
          21,
          21,
          21,
          21,
          21,
          21,
          21,
          21,
          29,
          27,
          24,
          24,
          27,
          27,
          39,
          39,
          22,
          26,
          23,
          27,
          26,
          21,
          21,
          21,
          21,
          21,
          21,
          21,
          28,
          32,
          36,
          29,
          29,
          33,
          32,
          36,
          27,
          25,
          29,
          24,
          28,
          24,
          26,
          28,
          26,
          17,
          17,
          21,
          29,
          28,
          22,
          22,
          22,
          26,
          26,
          30,
          30,
          34,
          38,
          21,
          21,
          21,
          21,
          21,
          21,
          21,
          21,
          33,
          33,
          33,
          33,
          33,
          33,
          33,
          33,
          37,
          37,
          37,
          37,
          37,
          37,
          37,
          37,
          20,
          24,
          28,
          14,
          14,
          14,
          14,
          14,
          14,
          23,
          23,
          23,
          23,
          23,
          25,
          25,
          25,
          29,
          29,
          29,
          45,
          20,
          27,
          22,
          23,
          27,
          22,
          26,
          29,
          28,
          22,
          18,
          28,
          18,
          18,
          18,
          18,
          18,
          18,
          24,
          24,
          27,
          26,
          25,
          21,
          16,
          16,
          20,
          20,
          20,
          20,
          24,
          24,
          24,
          24,
          24,
          25,
          29,
          39,
          21,
          29,
          28,
          28,
          26,
          20,
          21,
          30,
          16,
          20,
          20,
          24,
          29,
          23,
          27,
          31,
          35,
          24,
          24,
          28,
          32,
          27,
          27,
          23,
          23,
          27,
          31,
          35,
          30,
          27,
          23,
          23,
          24,
          24,
          24,
          28,
          24,
          30,
          20,
          38,
          20,
          24,
          21,
          25,
          25,
          29,
          29,
          21,
          21,
          23,
          27,
          25,
          22,
          22,
          22,
          22,
          22,
          22,
          22,
          22,
          24,
          30,
          43,
          26,
          30,
          19,
          27,
          29,
          29,
          19,
          24,
          28,
          28,
          15,
          15,
          15,
          15,
          15,
          15,
          22,
          34,
          24,
          28,
          32,
          21,
          25,
          29,
          27,
          22,
          26,
          26,
          27,
          30,
          34,
          28,
          28,
          32,
          24,
          24,
          28,
          32,
          28,
          24,
          26,
          26,
          26,
          26,
          26,
          26,
          26,
          26,
          30,
          30,
          30,
          30,
          30,
          30,
          30,
          30,
          27,
          20,
          24,
          29,
          33,
          37,
          26,
          30,
          34,
          23,
          19,
          20,
          24,
          28,
          26,
          26,
          22,
          28,
          24,
          28,
          33,
          23,
          23,
          27,
          27,
          27,
          27,
          31,
          35,
          32,
          32,
          32,
          32,
          32,
          32,
          32,
          32,
          28,
          28,
          36,
          25,
          37,
          41,
          25,
          25,
          33,
          37,
          24,
          32,
          28,
          32,
          26,
          33,
          38,
          24,
          28,
          32,
          20,
          24,
          24,
          24,
          24,
          36,
          36,
          36,
          36,
          36,
          36,
          36,
          20,
          20,
          22,
          20,
          28,
          23,
          23,
          23,
          26,
          26,
          30,
          30,
          24,
          28,
          32,
          23,
          23,
          22,
          23,
          23,
          27,
          15,
          19,
          19,
          19,
          23,
          23,
          23,
          23,
          27,
          27,
          14,
          14,
          16,
          16,
          16,
          20,
          20,
          20,
          24,
          24,
          24,
          24,
          26,
          23,
          27,
          31,
          26,
          26,
          37,
          22,
          25,
          24,
          20,
          21,
          26,
          29,
          22,
          22,
          21,
          25,
          29,
          22,
          26,
          26,
          26,
          29,
          27,
          31,
          23,
          20,
          24,
          30,
          30,
          23,
          20,
          39,
          39,
          20,
          20,
          31,
          31,
          23,
          23,
          23,
          14,
          38,
          37,
          37,
          37,
          37,
          32,
          18,
          18,
          18,
          23,
          23,
          24,
          24,
          26,
          26,
          34,
          34,
          21,
          21,
          33,
          33,
          24,
          24,
          36,
          36,
          36,
          24,
          18,
          18,
          22,
          22,
          22,
          28,
          28,
          28,
          57,
          57,
          44,
          44,
          29,
          26,
          54,
          54,
          35,
          35,
          22,
          24,
          34,
          34,
          34,
          38,
          38,
          38,
          33,
          18,
          18,
          22,
          22,
          26,
          23,
          27,
          31,
          31,
          24,
          24,
          24,
          17,
          21,
          21,
          20,
          20,
          20,
          22,
          25,
          29,
          29,
          29,
          29,
          29,
          29,
          29,
          23,
          23,
          23,
          23,
          26,
          28,
          18,
          18,
          30,
          28,
          24,
          24,
          28,
          28,
          20,
          24,
          28,
          32,
          32,
          22,
          20,
          20,
          20,
          24,
          24,
          24,
          17,
          17,
          17,
          16,
          16,
          20,
          20,
          21,
          21,
          54,
          21,
          21,
          17,
          17,
          21,
          21,
          21,
          28,
          28,
          28,
          32,
          32,
          32,
          28,
          27,
          23,
          27,
          31,
          26,
          21,
          30,
          34,
          23,
          23,
          21,
          24,
          25,
          25,
          22,
          30,
          30,
          34,
          34,
          38,
          21,
          25,
          25,
          29,
          24,
          24,
          28,
          24,
          18,
          22,
          30,
          20,
          23,
          27,
          35,
          24,
          30,
          30,
          23,
          27,
          31,
          23,
          27,
          31,
          23,
          27,
          31,
          35,
          25,
          26,
          30,
          30,
          26,
          28,
          31,
          21,
          21,
          21,
          25,
          25,
          25,
          25,
          29,
          29,
          38,
          38,
          42,
          42,
          27
         ],
         "xaxis": "x",
         "yaxis": "y"
        }
       ],
       "layout": {
        "barmode": "relative",
        "legend": {
         "tracegroupgap": 0
        },
        "template": {
         "data": {
          "bar": [
           {
            "error_x": {
             "color": "#2a3f5f"
            },
            "error_y": {
             "color": "#2a3f5f"
            },
            "marker": {
             "line": {
              "color": "#E5ECF6",
              "width": 0.5
             },
             "pattern": {
              "fillmode": "overlay",
              "size": 10,
              "solidity": 0.2
             }
            },
            "type": "bar"
           }
          ],
          "barpolar": [
           {
            "marker": {
             "line": {
              "color": "#E5ECF6",
              "width": 0.5
             },
             "pattern": {
              "fillmode": "overlay",
              "size": 10,
              "solidity": 0.2
             }
            },
            "type": "barpolar"
           }
          ],
          "carpet": [
           {
            "aaxis": {
             "endlinecolor": "#2a3f5f",
             "gridcolor": "white",
             "linecolor": "white",
             "minorgridcolor": "white",
             "startlinecolor": "#2a3f5f"
            },
            "baxis": {
             "endlinecolor": "#2a3f5f",
             "gridcolor": "white",
             "linecolor": "white",
             "minorgridcolor": "white",
             "startlinecolor": "#2a3f5f"
            },
            "type": "carpet"
           }
          ],
          "choropleth": [
           {
            "colorbar": {
             "outlinewidth": 0,
             "ticks": ""
            },
            "type": "choropleth"
           }
          ],
          "contour": [
           {
            "colorbar": {
             "outlinewidth": 0,
             "ticks": ""
            },
            "colorscale": [
             [
              0,
              "#0d0887"
             ],
             [
              0.1111111111111111,
              "#46039f"
             ],
             [
              0.2222222222222222,
              "#7201a8"
             ],
             [
              0.3333333333333333,
              "#9c179e"
             ],
             [
              0.4444444444444444,
              "#bd3786"
             ],
             [
              0.5555555555555556,
              "#d8576b"
             ],
             [
              0.6666666666666666,
              "#ed7953"
             ],
             [
              0.7777777777777778,
              "#fb9f3a"
             ],
             [
              0.8888888888888888,
              "#fdca26"
             ],
             [
              1,
              "#f0f921"
             ]
            ],
            "type": "contour"
           }
          ],
          "contourcarpet": [
           {
            "colorbar": {
             "outlinewidth": 0,
             "ticks": ""
            },
            "type": "contourcarpet"
           }
          ],
          "heatmap": [
           {
            "colorbar": {
             "outlinewidth": 0,
             "ticks": ""
            },
            "colorscale": [
             [
              0,
              "#0d0887"
             ],
             [
              0.1111111111111111,
              "#46039f"
             ],
             [
              0.2222222222222222,
              "#7201a8"
             ],
             [
              0.3333333333333333,
              "#9c179e"
             ],
             [
              0.4444444444444444,
              "#bd3786"
             ],
             [
              0.5555555555555556,
              "#d8576b"
             ],
             [
              0.6666666666666666,
              "#ed7953"
             ],
             [
              0.7777777777777778,
              "#fb9f3a"
             ],
             [
              0.8888888888888888,
              "#fdca26"
             ],
             [
              1,
              "#f0f921"
             ]
            ],
            "type": "heatmap"
           }
          ],
          "heatmapgl": [
           {
            "colorbar": {
             "outlinewidth": 0,
             "ticks": ""
            },
            "colorscale": [
             [
              0,
              "#0d0887"
             ],
             [
              0.1111111111111111,
              "#46039f"
             ],
             [
              0.2222222222222222,
              "#7201a8"
             ],
             [
              0.3333333333333333,
              "#9c179e"
             ],
             [
              0.4444444444444444,
              "#bd3786"
             ],
             [
              0.5555555555555556,
              "#d8576b"
             ],
             [
              0.6666666666666666,
              "#ed7953"
             ],
             [
              0.7777777777777778,
              "#fb9f3a"
             ],
             [
              0.8888888888888888,
              "#fdca26"
             ],
             [
              1,
              "#f0f921"
             ]
            ],
            "type": "heatmapgl"
           }
          ],
          "histogram": [
           {
            "marker": {
             "pattern": {
              "fillmode": "overlay",
              "size": 10,
              "solidity": 0.2
             }
            },
            "type": "histogram"
           }
          ],
          "histogram2d": [
           {
            "colorbar": {
             "outlinewidth": 0,
             "ticks": ""
            },
            "colorscale": [
             [
              0,
              "#0d0887"
             ],
             [
              0.1111111111111111,
              "#46039f"
             ],
             [
              0.2222222222222222,
              "#7201a8"
             ],
             [
              0.3333333333333333,
              "#9c179e"
             ],
             [
              0.4444444444444444,
              "#bd3786"
             ],
             [
              0.5555555555555556,
              "#d8576b"
             ],
             [
              0.6666666666666666,
              "#ed7953"
             ],
             [
              0.7777777777777778,
              "#fb9f3a"
             ],
             [
              0.8888888888888888,
              "#fdca26"
             ],
             [
              1,
              "#f0f921"
             ]
            ],
            "type": "histogram2d"
           }
          ],
          "histogram2dcontour": [
           {
            "colorbar": {
             "outlinewidth": 0,
             "ticks": ""
            },
            "colorscale": [
             [
              0,
              "#0d0887"
             ],
             [
              0.1111111111111111,
              "#46039f"
             ],
             [
              0.2222222222222222,
              "#7201a8"
             ],
             [
              0.3333333333333333,
              "#9c179e"
             ],
             [
              0.4444444444444444,
              "#bd3786"
             ],
             [
              0.5555555555555556,
              "#d8576b"
             ],
             [
              0.6666666666666666,
              "#ed7953"
             ],
             [
              0.7777777777777778,
              "#fb9f3a"
             ],
             [
              0.8888888888888888,
              "#fdca26"
             ],
             [
              1,
              "#f0f921"
             ]
            ],
            "type": "histogram2dcontour"
           }
          ],
          "mesh3d": [
           {
            "colorbar": {
             "outlinewidth": 0,
             "ticks": ""
            },
            "type": "mesh3d"
           }
          ],
          "parcoords": [
           {
            "line": {
             "colorbar": {
              "outlinewidth": 0,
              "ticks": ""
             }
            },
            "type": "parcoords"
           }
          ],
          "pie": [
           {
            "automargin": true,
            "type": "pie"
           }
          ],
          "scatter": [
           {
            "fillpattern": {
             "fillmode": "overlay",
             "size": 10,
             "solidity": 0.2
            },
            "type": "scatter"
           }
          ],
          "scatter3d": [
           {
            "line": {
             "colorbar": {
              "outlinewidth": 0,
              "ticks": ""
             }
            },
            "marker": {
             "colorbar": {
              "outlinewidth": 0,
              "ticks": ""
             }
            },
            "type": "scatter3d"
           }
          ],
          "scattercarpet": [
           {
            "marker": {
             "colorbar": {
              "outlinewidth": 0,
              "ticks": ""
             }
            },
            "type": "scattercarpet"
           }
          ],
          "scattergeo": [
           {
            "marker": {
             "colorbar": {
              "outlinewidth": 0,
              "ticks": ""
             }
            },
            "type": "scattergeo"
           }
          ],
          "scattergl": [
           {
            "marker": {
             "colorbar": {
              "outlinewidth": 0,
              "ticks": ""
             }
            },
            "type": "scattergl"
           }
          ],
          "scattermapbox": [
           {
            "marker": {
             "colorbar": {
              "outlinewidth": 0,
              "ticks": ""
             }
            },
            "type": "scattermapbox"
           }
          ],
          "scatterpolar": [
           {
            "marker": {
             "colorbar": {
              "outlinewidth": 0,
              "ticks": ""
             }
            },
            "type": "scatterpolar"
           }
          ],
          "scatterpolargl": [
           {
            "marker": {
             "colorbar": {
              "outlinewidth": 0,
              "ticks": ""
             }
            },
            "type": "scatterpolargl"
           }
          ],
          "scatterternary": [
           {
            "marker": {
             "colorbar": {
              "outlinewidth": 0,
              "ticks": ""
             }
            },
            "type": "scatterternary"
           }
          ],
          "surface": [
           {
            "colorbar": {
             "outlinewidth": 0,
             "ticks": ""
            },
            "colorscale": [
             [
              0,
              "#0d0887"
             ],
             [
              0.1111111111111111,
              "#46039f"
             ],
             [
              0.2222222222222222,
              "#7201a8"
             ],
             [
              0.3333333333333333,
              "#9c179e"
             ],
             [
              0.4444444444444444,
              "#bd3786"
             ],
             [
              0.5555555555555556,
              "#d8576b"
             ],
             [
              0.6666666666666666,
              "#ed7953"
             ],
             [
              0.7777777777777778,
              "#fb9f3a"
             ],
             [
              0.8888888888888888,
              "#fdca26"
             ],
             [
              1,
              "#f0f921"
             ]
            ],
            "type": "surface"
           }
          ],
          "table": [
           {
            "cells": {
             "fill": {
              "color": "#EBF0F8"
             },
             "line": {
              "color": "white"
             }
            },
            "header": {
             "fill": {
              "color": "#C8D4E3"
             },
             "line": {
              "color": "white"
             }
            },
            "type": "table"
           }
          ]
         },
         "layout": {
          "annotationdefaults": {
           "arrowcolor": "#2a3f5f",
           "arrowhead": 0,
           "arrowwidth": 1
          },
          "autotypenumbers": "strict",
          "coloraxis": {
           "colorbar": {
            "outlinewidth": 0,
            "ticks": ""
           }
          },
          "colorscale": {
           "diverging": [
            [
             0,
             "#8e0152"
            ],
            [
             0.1,
             "#c51b7d"
            ],
            [
             0.2,
             "#de77ae"
            ],
            [
             0.3,
             "#f1b6da"
            ],
            [
             0.4,
             "#fde0ef"
            ],
            [
             0.5,
             "#f7f7f7"
            ],
            [
             0.6,
             "#e6f5d0"
            ],
            [
             0.7,
             "#b8e186"
            ],
            [
             0.8,
             "#7fbc41"
            ],
            [
             0.9,
             "#4d9221"
            ],
            [
             1,
             "#276419"
            ]
           ],
           "sequential": [
            [
             0,
             "#0d0887"
            ],
            [
             0.1111111111111111,
             "#46039f"
            ],
            [
             0.2222222222222222,
             "#7201a8"
            ],
            [
             0.3333333333333333,
             "#9c179e"
            ],
            [
             0.4444444444444444,
             "#bd3786"
            ],
            [
             0.5555555555555556,
             "#d8576b"
            ],
            [
             0.6666666666666666,
             "#ed7953"
            ],
            [
             0.7777777777777778,
             "#fb9f3a"
            ],
            [
             0.8888888888888888,
             "#fdca26"
            ],
            [
             1,
             "#f0f921"
            ]
           ],
           "sequentialminus": [
            [
             0,
             "#0d0887"
            ],
            [
             0.1111111111111111,
             "#46039f"
            ],
            [
             0.2222222222222222,
             "#7201a8"
            ],
            [
             0.3333333333333333,
             "#9c179e"
            ],
            [
             0.4444444444444444,
             "#bd3786"
            ],
            [
             0.5555555555555556,
             "#d8576b"
            ],
            [
             0.6666666666666666,
             "#ed7953"
            ],
            [
             0.7777777777777778,
             "#fb9f3a"
            ],
            [
             0.8888888888888888,
             "#fdca26"
            ],
            [
             1,
             "#f0f921"
            ]
           ]
          },
          "colorway": [
           "#636efa",
           "#EF553B",
           "#00cc96",
           "#ab63fa",
           "#FFA15A",
           "#19d3f3",
           "#FF6692",
           "#B6E880",
           "#FF97FF",
           "#FECB52"
          ],
          "font": {
           "color": "#2a3f5f"
          },
          "geo": {
           "bgcolor": "white",
           "lakecolor": "white",
           "landcolor": "#E5ECF6",
           "showlakes": true,
           "showland": true,
           "subunitcolor": "white"
          },
          "hoverlabel": {
           "align": "left"
          },
          "hovermode": "closest",
          "mapbox": {
           "style": "light"
          },
          "paper_bgcolor": "white",
          "plot_bgcolor": "#E5ECF6",
          "polar": {
           "angularaxis": {
            "gridcolor": "white",
            "linecolor": "white",
            "ticks": ""
           },
           "bgcolor": "#E5ECF6",
           "radialaxis": {
            "gridcolor": "white",
            "linecolor": "white",
            "ticks": ""
           }
          },
          "scene": {
           "xaxis": {
            "backgroundcolor": "#E5ECF6",
            "gridcolor": "white",
            "gridwidth": 2,
            "linecolor": "white",
            "showbackground": true,
            "ticks": "",
            "zerolinecolor": "white"
           },
           "yaxis": {
            "backgroundcolor": "#E5ECF6",
            "gridcolor": "white",
            "gridwidth": 2,
            "linecolor": "white",
            "showbackground": true,
            "ticks": "",
            "zerolinecolor": "white"
           },
           "zaxis": {
            "backgroundcolor": "#E5ECF6",
            "gridcolor": "white",
            "gridwidth": 2,
            "linecolor": "white",
            "showbackground": true,
            "ticks": "",
            "zerolinecolor": "white"
           }
          },
          "shapedefaults": {
           "line": {
            "color": "#2a3f5f"
           }
          },
          "ternary": {
           "aaxis": {
            "gridcolor": "white",
            "linecolor": "white",
            "ticks": ""
           },
           "baxis": {
            "gridcolor": "white",
            "linecolor": "white",
            "ticks": ""
           },
           "bgcolor": "#E5ECF6",
           "caxis": {
            "gridcolor": "white",
            "linecolor": "white",
            "ticks": ""
           }
          },
          "title": {
           "x": 0.05
          },
          "xaxis": {
           "automargin": true,
           "gridcolor": "white",
           "linecolor": "white",
           "ticks": "",
           "title": {
            "standoff": 15
           },
           "zerolinecolor": "white",
           "zerolinewidth": 2
          },
          "yaxis": {
           "automargin": true,
           "gridcolor": "white",
           "linecolor": "white",
           "ticks": "",
           "title": {
            "standoff": 15
           },
           "zerolinecolor": "white",
           "zerolinewidth": 2
          }
         }
        },
        "title": {
         "text": "Histogram över åldrar"
        },
        "xaxis": {
         "anchor": "y",
         "domain": [
          0,
          1
         ],
         "title": {
          "text": "Ålder"
         }
        },
        "yaxis": {
         "anchor": "x",
         "domain": [
          0,
          1
         ],
         "title": {
          "text": "count"
         }
        }
       }
      },
      "text/html": [
       "<div>                            <div id=\"0f92bf40-e3ab-4a1e-9036-1f142975b09b\" class=\"plotly-graph-div\" style=\"height:525px; width:100%;\"></div>            <script type=\"text/javascript\">                require([\"plotly\"], function(Plotly) {                    window.PLOTLYENV=window.PLOTLYENV || {};                                    if (document.getElementById(\"0f92bf40-e3ab-4a1e-9036-1f142975b09b\")) {                    Plotly.newPlot(                        \"0f92bf40-e3ab-4a1e-9036-1f142975b09b\",                        [{\"alignmentgroup\":\"True\",\"bingroup\":\"x\",\"hovertemplate\":\"\\u00c5lder=%{x}\\u003cbr\\u003ecount=%{y}\\u003cextra\\u003e\\u003c\\u002fextra\\u003e\",\"legendgroup\":\"\",\"marker\":{\"color\":\"#636efa\",\"pattern\":{\"shape\":\"\"}},\"name\":\"\",\"nbinsx\":20,\"offsetgroup\":\"\",\"orientation\":\"v\",\"showlegend\":false,\"x\":[30.0,22.0,22.0,21.0,21.0,25.0,16.0,16.0,23.0,20.0,23.0,23.0,22.0,22.0,34.0,30.0,22.0,22.0,18.0,18.0,17.0,17.0,21.0,30.0,30.0,27.0,25.0,29.0,28.0,28.0,24.0,18.0,27.0,17.0,17.0,22.0,26.0,23.0,26.0,15.0,15.0,15.0,15.0,15.0,15.0,21.0,13.0,17.0,21.0,28.0,23.0,32.0,20.0,24.0,31.0,21.0,25.0,21.0,21.0,34.0,23.0,27.0,31.0,18.0,22.0,23.0,30.0,24.0,23.0,27.0,31.0,23.0,27.0,31.0,28.0,22.0,22.0,22.0,22.0,22.0,22.0,22.0,22.0,26.0,26.0,26.0,26.0,26.0,26.0,26.0,26.0,29.0,20.0,20.0,20.0,29.0,33.0,22.0,23.0,28.0,19.0,19.0,23.0,23.0,25.0,23.0,23.0,27.0,27.0,25.0,29.0,33.0,22.0,18.0,28.0,24.0,19.0,27.0,22.0,29.0,24.0,28.0,22.0,20.0,27.0,21.0,25.0,23.0,19.0,23.0,24.0,23.0,27.0,20.0,24.0,24.0,28.0,30.0,26.0,26.0,20.0,24.0,26.0,26.0,30.0,30.0,34.0,28.0,28.0,23.0,25.0,28.0,23.0,23.0,23.0,26.0,17.0,17.0,17.0,17.0,17.0,17.0,27.0,21.0,21.0,25.0,25.0,28.0,26.0,22.0,22.0,30.0,30.0,34.0,34.0,24.0,22.0,24.0,22.0,20.0,24.0,19.0,19.0,23.0,23.0,28.0,26.0,26.0,26.0,30.0,30.0,30.0,17.0,21.0,21.0,25.0,25.0,14.0,14.0,14.0,14.0,14.0,14.0,18.0,18.0,18.0,18.0,18.0,29.0,32.0,32.0,36.0,36.0,45.0,25.0,30.0,24.0,28.0,32.0,25.0,21.0,30.0,20.0,20.0,20.0,24.0,38.0,27.0,31.0,35.0,35.0,21.0,25.0,21.0,21.0,21.0,21.0,21.0,21.0,17.0,29.0,29.0,25.0,29.0,29.0,21.0,29.0,24.0,28.0,32.0,25.0,22.0,21.0,21.0,21.0,21.0,21.0,21.0,21.0,21.0,22.0,24.0,29.0,33.0,16.0,20.0,20.0,24.0,24.0,25.0,21.0,28.0,28.0,28.0,28.0,28.0,28.0,28.0,28.0,22.0,22.0,14.0,29.0,23.0,20.0,28.0,18.0,22.0,23.0,23.0,15.0,19.0,19.0,21.0,26.0,30.0,23.0,23.0,23.0,28.0,32.0,36.0,16.0,20.0,24.0,28.0,47.0,24.0,28.0,32.0,18.0,22.0,26.0,16.0,23.0,23.0,30.0,19.0,19.0,23.0,23.0,23.0,24.0,20.0,24.0,17.0,21.0,21.0,19.0,19.0,23.0,27.0,27.0,31.0,31.0,35.0,35.0,21.0,21.0,29.0,29.0,29.0,29.0,41.0,41.0,24.0,26.0,18.0,22.0,20.0,29.0,26.0,26.0,23.0,28.0,32.0,36.0,26.0,26.0,26.0,26.0,26.0,26.0,26.0,26.0,21.0,25.0,25.0,14.0,14.0,14.0,14.0,14.0,14.0,18.0,18.0,18.0,18.0,18.0,18.0,31.0,31.0,31.0,31.0,31.0,31.0,31.0,31.0,36.0,36.0,36.0,19.0,19.0,19.0,24.0,24.0,20.0,20.0,20.0,20.0,20.0,20.0,25.0,29.0,29.0,29.0,33.0,26.0,19.0,36.0,23.0,23.0,25.0,25.0,29.0,29.0,23.0,27.0,20.0,24.0,28.0,32.0,36.0,22.0,23.0,27.0,27.0,21.0,25.0,24.0,36.0,36.0,40.0,40.0,40.0,26.0,27.0,27.0,27.0,27.0,27.0,27.0,27.0,27.0,21.0,21.0,21.0,21.0,21.0,25.0,25.0,25.0,25.0,25.0,39.0,22.0,26.0,30.0,25.0,25.0,25.0,27.0,27.0,27.0,23.0,23.0,21.0,21.0,23.0,24.0,18.0,21.0,19.0,27.0,20.0,20.0,20.0,24.0,24.0,24.0,23.0,29.0,36.0,36.0,36.0,48.0,48.0,20.0,25.0,28.0,34.0,34.0,38.0,29.0,33.0,27.0,25.0,25.0,32.0,23.0,28.0,28.0,28.0,19.0,18.0,39.0,39.0,22.0,29.0,18.0,18.0,21.0,28.0,32.0,20.0,28.0,24.0,28.0,32.0,36.0,23.0,23.0,22.0,20.0,28.0,20.0,26.0,38.0,27.0,27.0,31.0,31.0,39.0,39.0,16.0,16.0,16.0,16.0,16.0,20.0,20.0,20.0,20.0,20.0,22.0,25.0,28.0,18.0,18.0,22.0,22.0,26.0,30.0,21.0,21.0,25.0,22.0,23.0,31.0,35.0,39.0,39.0,17.0,17.0,17.0,17.0,17.0,17.0,17.0,22.0,22.0,22.0,22.0,22.0,22.0,22.0,25.0,26.0,26.0,26.0,26.0,26.0,30.0,30.0,30.0,25.0,25.0,25.0,29.0,26.0,19.0,27.0,27.0,31.0,31.0,16.0,16.0,20.0,24.0,24.0,24.0,46.0,21.0,25.0,29.0,22.0,22.0,25.0,29.0,33.0,24.0,45.0,21.0,24.0,28.0,19.0,23.0,23.0,23.0,33.0,25.0,23.0,25.0,19.0,21.0,20.0,24.0,32.0,32.0,32.0,32.0,30.0,18.0,18.0,18.0,20.0,20.0,20.0,22.0,22.0,22.0,24.0,21.0,25.0,29.0,18.0,27.0,27.0,25.0,25.0,25.0,25.0,25.0,25.0,25.0,25.0,25.0,33.0,23.0,23.0,23.0,23.0,23.0,23.0,23.0,23.0,16.0,16.0,16.0,24.0,19.0,19.0,22.0,27.0,31.0,35.0,24.0,24.0,24.0,24.0,24.0,24.0,27.0,36.0,28.0,26.0,26.0,20.0,24.0,17.0,17.0,21.0,25.0,26.0,26.0,26.0,26.0,26.0,28.0,28.0,32.0,26.0,26.0,23.0,35.0,22.0,21.0,24.0,28.0,16.0,21.0,21.0,25.0,25.0,30.0,30.0,24.0,23.0,27.0,25.0,25.0,24.0,24.0,28.0,33.0,29.0,29.0,33.0,25.0,29.0,27.0,25.0,20.0,29.0,23.0,27.0,31.0,31.0,27.0,23.0,38.0,24.0,24.0,27.0,26.0,18.0,18.0,21.0,21.0,23.0,27.0,15.0,15.0,19.0,23.0,21.0,21.0,20.0,21.0,25.0,29.0,33.0,15.0,15.0,15.0,15.0,15.0,15.0,26.0,26.0,30.0,30.0,34.0,24.0,24.0,24.0,24.0,24.0,24.0,24.0,24.0,28.0,28.0,28.0,28.0,28.0,28.0,28.0,28.0,23.0,25.0,29.0,21.0,25.0,21.0,25.0,20.0,28.0,17.0,17.0,17.0,17.0,17.0,17.0,18.0,18.0,24.0,28.0,28.0,24.0,18.0,18.0,18.0,18.0,29.0,29.0,32.0,23.0,23.0,18.0,18.0,18.0,18.0,22.0,22.0,22.0,26.0,26.0,26.0,26.0,26.0,30.0,30.0,35.0,35.0,35.0,35.0,16.0,16.0,20.0,20.0,29.0,21.0,28.0,15.0,19.0,19.0,21.0,21.0,21.0,21.0,21.0,21.0,21.0,21.0,23.0,24.0,21.0,21.0,21.0,25.0,24.0,20.0,24.0,28.0,23.0,27.0,25.0,21.0,25.0,29.0,24.0,27.0,27.0,30.0,22.0,22.0,23.0,25.0,26.0,20.0,17.0,17.0,21.0,21.0,26.0,30.0,34.0,21.0,31.0,23.0,23.0,23.0,27.0,27.0,27.0,31.0,26.0,18.0,18.0,18.0,18.0,18.0,18.0,22.0,23.0,20.0,21.0,23.0,27.0,24.0,28.0,22.0,22.0,22.0,22.0,22.0,22.0,22.0,22.0,26.0,26.0,26.0,26.0,26.0,26.0,26.0,30.0,30.0,29.0,20.0,20.0,24.0,24.0,28.0,28.0,32.0,19.0,23.0,23.0,23.0,28.0,28.0,19.0,23.0,27.0,31.0,26.0,23.0,23.0,22.0,22.0,27.0,27.0,27.0,24.0,23.0,27.0,29.0,18.0,13.0,15.0,23.0,28.0,17.0,18.0,18.0,22.0,22.0,22.0,22.0,26.0,26.0,22.0,25.0,19.0,19.0,19.0,19.0,23.0,20.0,24.0,25.0,29.0,21.0,21.0,22.0,22.0,37.0,41.0,45.0,28.0,19.0,19.0,28.0,30.0,19.0,27.0,24.0,22.0,26.0,22.0,26.0,18.0,18.0,22.0,22.0,22.0,22.0,26.0,30.0,20.0,20.0,20.0,24.0,24.0,18.0,18.0,18.0,22.0,22.0,26.0,21.0,21.0,21.0,25.0,25.0,23.0,28.0,18.0,18.0,19.0,19.0,19.0,19.0,19.0,17.0,17.0,20.0,20.0,20.0,25.0,20.0,25.0,29.0,33.0,37.0,17.0,25.0,25.0,32.0,28.0,25.0,25.0,25.0,25.0,33.0,28.0,28.0,20.0,24.0,24.0,28.0,26.0,26.0,26.0,24.0,20.0,20.0,24.0,24.0,28.0,33.0,33.0,18.0,18.0,18.0,22.0,22.0,22.0,26.0,26.0,20.0,21.0,21.0,21.0,33.0,33.0,25.0,32.0,28.0,29.0,17.0,26.0,30.0,15.0,19.0,19.0,22.0,22.0,26.0,26.0,26.0,26.0,24.0,28.0,35.0,36.0,27.0,21.0,29.0,25.0,22.0,25.0,17.0,17.0,17.0,24.0,20.0,24.0,24.0,28.0,28.0,32.0,32.0,24.0,27.0,25.0,29.0,33.0,22.0,22.0,22.0,22.0,22.0,22.0,22.0,22.0,26.0,26.0,26.0,26.0,26.0,26.0,26.0,26.0,20.0,22.0,26.0,30.0,34.0,24.0,24.0,28.0,19.0,19.0,23.0,26.0,32.0,32.0,40.0,22.0,22.0,26.0,26.0,30.0,30.0,34.0,20.0,21.0,24.0,28.0,32.0,23.0,27.0,29.0,18.0,18.0,18.0,18.0,18.0,18.0,22.0,22.0,22.0,22.0,22.0,22.0,26.0,26.0,26.0,26.0,26.0,26.0,34.0,34.0,37.0,20.0,21.0,27.0,25.0,29.0,23.0,23.0,25.0,34.0,34.0,27.0,27.0,39.0,39.0,39.0,23.0,27.0,31.0,19.0,19.0,19.0,17.0,21.0,25.0,29.0,33.0,32.0,21.0,26.0,14.0,14.0,17.0,17.0,17.0,21.0,21.0,21.0,19.0,19.0,19.0,19.0,19.0,19.0,23.0,23.0,23.0,23.0,23.0,23.0,17.0,17.0,21.0,21.0,21.0,25.0,25.0,24.0,22.0,25.0,18.0,15.0,15.0,15.0,17.0,17.0,21.0,21.0,21.0,25.0,25.0,25.0,21.0,25.0,23.0,23.0,37.0,41.0,29.0,41.0,45.0,23.0,24.0,24.0,23.0,22.0,22.0,22.0,22.0,22.0,22.0,22.0,22.0,29.0,33.0,33.0,21.0,24.0,32.0,16.0,20.0,24.0,36.0,36.0,36.0,32.0,22.0,26.0,26.0,21.0,13.0,24.0,28.0,18.0,23.0,39.0,39.0,39.0,39.0,25.0,25.0,31.0,24.0,25.0,28.0,28.0,18.0,24.0,22.0,22.0,26.0,26.0,30.0,30.0,20.0,24.0,40.0,29.0,33.0,25.0,25.0,25.0,29.0,29.0,20.0,21.0,21.0,21.0,21.0,21.0,21.0,21.0,21.0,21.0,24.0,24.0,24.0,24.0,24.0,24.0,24.0,24.0,28.0,23.0,22.0,30.0,22.0,26.0,28.0,20.0,23.0,27.0,27.0,31.0,26.0,31.0,18.0,18.0,18.0,18.0,18.0,18.0,18.0,18.0,19.0,23.0,15.0,21.0,25.0,22.0,24.0,28.0,26.0,31.0,31.0,31.0,24.0,32.0,21.0,21.0,23.0,27.0,19.0,21.0,25.0,23.0,23.0,26.0,26.0,30.0,30.0,28.0,22.0,20.0,29.0,27.0,35.0,25.0,28.0,32.0,19.0,31.0,31.0,36.0,24.0,26.0,26.0,27.0,26.0,26.0,21.0,21.0,25.0,25.0,25.0,25.0,25.0,25.0,25.0,25.0,29.0,29.0,29.0,29.0,29.0,29.0,29.0,29.0,28.0,29.0,20.0,19.0,19.0,23.0,27.0,25.0,25.0,29.0,29.0,29.0,33.0,33.0,33.0,31.0,31.0,35.0,35.0,34.0,16.0,16.0,27.0,35.0,25.0,25.0,28.0,28.0,27.0,31.0,24.0,26.0,27.0,24.0,22.0,30.0,15.0,15.0,15.0,15.0,15.0,15.0,26.0,16.0,16.0,20.0,28.0,27.0,26.0,27.0,20.0,24.0,28.0,23.0,29.0,27.0,27.0,27.0,31.0,31.0,31.0,34.0,23.0,27.0,21.0,23.0,22.0,26.0,30.0,34.0,38.0,27.0,20.0,20.0,21.0,21.0,33.0,33.0,23.0,23.0,20.0,28.0,28.0,32.0,32.0,36.0,36.0,27.0,18.0,18.0,18.0,18.0,18.0,18.0,21.0,21.0,16.0,16.0,21.0,22.0,26.0,30.0,14.0,18.0,23.0,23.0,23.0,27.0,22.0,25.0,25.0,29.0,29.0,18.0,18.0,18.0,18.0,18.0,18.0,20.0,20.0,24.0,24.0,27.0,24.0,26.0,32.0,18.0,18.0,22.0,26.0,32.0,27.0,26.0,25.0,29.0,28.0,28.0,32.0,18.0,22.0,26.0,30.0,34.0,38.0,24.0,28.0,27.0,25.0,29.0,34.0,27.0,25.0,25.0,25.0,29.0,29.0,29.0,29.0,27.0,24.0,24.0,25.0,31.0,22.0,26.0,35.0,35.0,39.0,28.0,32.0,24.0,27.0,15.0,19.0,20.0,28.0,23.0,23.0,23.0,27.0,27.0,24.0,24.0,28.0,23.0,27.0,35.0,29.0,28.0,26.0,26.0,26.0,19.0,23.0,27.0,31.0,25.0,25.0,29.0,29.0,37.0,37.0,18.0,26.0,19.0,23.0,22.0,22.0,19.0,19.0,23.0,23.0,20.0,20.0,19.0,23.0,23.0,21.0,21.0,21.0,25.0,25.0,18.0,22.0,22.0,22.0,17.0,21.0,19.0,23.0,24.0,24.0,28.0,28.0,21.0,28.0,22.0,26.0,22.0,26.0,26.0,26.0,38.0,38.0,38.0,42.0,42.0,42.0,46.0,46.0,50.0,50.0,24.0,31.0,31.0,20.0,27.0,31.0,20.0,27.0,27.0,27.0,27.0,27.0,27.0,20.0,24.0,18.0,18.0,23.0,23.0,23.0,27.0,27.0,27.0,27.0,23.0,23.0,23.0,23.0,23.0,30.0,21.0,25.0,35.0,39.0,20.0,22.0,22.0,26.0,30.0,30.0,30.0,21.0,41.0,41.0,32.0,32.0,32.0,32.0,24.0,28.0,32.0,32.0,36.0,36.0,29.0,29.0,33.0,33.0,29.0,28.0,22.0,22.0,22.0,19.0,23.0,23.0,25.0,25.0,20.0,21.0,25.0,25.0,26.0,21.0,23.0,19.0,39.0,40.0,23.0,23.0,27.0,27.0,18.0,25.0,26.0,30.0,20.0,23.0,31.0,35.0,21.0,21.0,21.0,26.0,28.0,24.0,24.0,22.0,25.0,29.0,18.0,18.0,18.0,18.0,18.0,18.0,18.0,18.0,26.0,26.0,26.0,26.0,26.0,26.0,26.0,26.0,24.0,27.0,22.0,22.0,22.0,22.0,24.0,19.0,31.0,28.0,23.0,27.0,27.0,27.0,27.0,27.0,27.0,27.0,32.0,32.0,32.0,32.0,32.0,32.0,32.0,23.0,27.0,31.0,31.0,23.0,20.0,20.0,24.0,24.0,28.0,28.0,28.0,32.0,32.0,21.0,29.0,14.0,14.0,14.0,14.0,18.0,18.0,18.0,18.0,22.0,20.0,24.0,29.0,32.0,36.0,23.0,23.0,27.0,27.0,27.0,32.0,25.0,25.0,25.0,19.0,22.0,19.0,23.0,23.0,23.0,20.0,24.0,20.0,24.0,28.0,24.0,24.0,35.0,29.0,22.0,26.0,22.0,30.0,16.0,26.0,28.0,20.0,24.0,26.0,26.0,21.0,22.0,26.0,26.0,22.0,23.0,29.0,24.0,24.0,27.0,27.0,27.0,31.0,22.0,22.0,26.0,30.0,30.0,26.0,24.0,15.0,19.0,19.0,23.0,23.0,23.0,27.0,27.0,27.0,20.0,24.0,24.0,18.0,30.0,21.0,25.0,19.0,19.0,19.0,26.0,26.0,25.0,29.0,23.0,23.0,20.0,18.0,22.0,18.0,18.0,46.0,50.0,50.0,50.0,50.0,50.0,50.0,50.0,50.0,50.0,50.0,50.0,50.0,50.0,50.0,50.0,50.0,50.0,50.0,50.0,50.0,50.0,50.0,50.0,50.0,50.0,50.0,50.0,50.0,54.0,19.0,21.0,21.0,22.0,26.0,30.0,18.0,22.0,27.0,32.0,32.0,26.0,19.0,21.0,21.0,22.0,19.0,19.0,23.0,27.0,25.0,22.0,32.0,36.0,22.0,22.0,26.0,26.0,30.0,30.0,34.0,23.0,20.0,25.0,15.0,15.0,15.0,15.0,15.0,15.0,27.0,29.0,25.0,29.0,32.0,22.0,24.0,21.0,20.0,19.0,23.0,21.0,16.0,16.0,16.0,16.0,20.0,20.0,24.0,26.0,21.0,23.0,31.0,16.0,16.0,16.0,21.0,25.0,27.0,22.0,20.0,28.0,32.0,32.0,44.0,44.0,25.0,25.0,34.0,27.0,27.0,27.0,27.0,27.0,28.0,22.0,38.0,42.0,33.0,23.0,26.0,26.0,23.0,23.0,23.0,23.0,23.0,23.0,23.0,23.0,27.0,29.0,32.0,32.0,28.0,22.0,22.0,22.0,22.0,22.0,26.0,26.0,26.0,26.0,26.0,26.0,26.0,26.0,25.0,23.0,20.0,21.0,21.0,21.0,25.0,25.0,25.0,29.0,29.0,37.0,23.0,27.0,24.0,38.0,22.0,25.0,22.0,22.0,22.0,35.0,35.0,39.0,30.0,30.0,21.0,21.0,21.0,21.0,21.0,21.0,21.0,21.0,25.0,25.0,25.0,25.0,25.0,25.0,25.0,25.0,24.0,22.0,38.0,38.0,42.0,29.0,21.0,23.0,20.0,24.0,24.0,25.0,29.0,30.0,30.0,30.0,25.0,25.0,25.0,19.0,19.0,25.0,29.0,23.0,21.0,20.0,24.0,28.0,41.0,22.0,24.0,24.0,18.0,24.0,28.0,32.0,22.0,29.0,23.0,30.0,20.0,24.0,26.0,19.0,19.0,19.0,21.0,21.0,24.0,24.0,24.0,34.0,21.0,24.0,24.0,24.0,24.0,24.0,18.0,30.0,22.0,26.0,26.0,30.0,22.0,20.0,23.0,26.0,34.0,29.0,18.0,37.0,20.0,18.0,22.0,26.0,30.0,26.0,20.0,25.0,25.0,22.0,26.0,24.0,24.0,32.0,32.0,25.0,22.0,18.0,26.0,24.0,28.0,26.0,25.0,25.0,20.0,21.0,24.0,28.0,32.0,29.0,28.0,26.0,25.0,25.0,25.0,15.0,15.0,15.0,15.0,15.0,15.0,34.0,34.0,30.0,17.0,17.0,21.0,21.0,21.0,26.0,26.0,29.0,30.0,23.0,23.0,27.0,25.0,25.0,20.0,20.0,20.0,20.0,20.0,20.0,20.0,20.0,28.0,32.0,24.0,28.0,32.0,15.0,19.0,19.0,23.0,23.0,23.0,23.0,27.0,27.0,27.0,27.0,27.0,25.0,25.0,20.0,15.0,22.0,22.0,22.0,26.0,26.0,26.0,26.0,27.0,31.0,27.0,35.0,39.0,43.0,39.0,39.0,39.0,27.0,22.0,30.0,30.0,23.0,26.0,26.0,26.0,22.0,25.0,28.0,22.0,30.0,21.0,21.0,29.0,29.0,33.0,33.0,37.0,41.0,41.0,21.0,21.0,25.0,25.0,29.0,25.0,19.0,26.0,30.0,23.0,25.0,29.0,22.0,30.0,29.0,33.0,25.0,26.0,26.0,26.0,26.0,30.0,30.0,30.0,26.0,24.0,24.0,28.0,26.0,28.0,22.0,21.0,24.0,25.0,25.0,25.0,15.0,19.0,19.0,23.0,23.0,23.0,23.0,27.0,27.0,27.0,26.0,26.0,32.0,32.0,22.0,25.0,22.0,22.0,28.0,28.0,26.0,24.0,24.0,28.0,28.0,32.0,32.0,23.0,27.0,21.0,35.0,35.0,35.0,35.0,19.0,25.0,25.0,29.0,33.0,37.0,25.0,23.0,20.0,20.0,25.0,29.0,19.0,21.0,25.0,18.0,18.0,22.0,22.0,26.0,26.0,34.0,34.0,22.0,27.0,27.0,20.0,20.0,20.0,20.0,20.0,20.0,20.0,42.0,32.0,27.0,26.0,31.0,23.0,21.0,24.0,23.0,27.0,27.0,31.0,31.0,15.0,25.0,25.0,31.0,25.0,25.0,29.0,29.0,32.0,18.0,18.0,18.0,18.0,21.0,21.0,21.0,25.0,25.0,20.0,20.0,24.0,28.0,32.0,18.0,18.0,18.0,23.0,27.0,30.0,26.0,26.0,26.0,26.0,28.0,23.0,23.0,27.0,26.0,23.0,27.0,31.0,35.0,21.0,18.0,22.0,22.0,26.0,26.0,30.0,30.0,34.0,22.0,22.0,27.0,27.0,31.0,31.0,34.0,34.0,38.0,38.0,20.0,20.0,24.0,28.0,28.0,32.0,32.0,18.0,24.0,24.0,22.0,23.0,27.0,31.0,28.0,32.0,15.0,19.0,19.0,23.0,23.0,23.0,21.0,25.0,25.0,20.0,20.0,26.0,29.0,29.0,29.0,32.0,25.0,24.0,22.0,26.0,21.0,25.0,25.0,25.0,25.0,25.0,25.0,25.0,26.0,26.0,24.0,28.0,30.0,28.0,26.0,17.0,21.0,25.0,29.0,21.0,26.0,30.0,20.0,28.0,31.0,36.0,36.0,40.0,40.0,20.0,24.0,28.0,32.0,36.0,25.0,27.0,26.0,16.0,22.0,26.0,30.0,33.0,22.0,19.0,19.0,21.0,18.0,18.0,18.0,23.0,23.0,23.0,21.0,22.0,28.0,28.0,32.0,32.0,25.0,19.0,23.0,23.0,27.0,24.0,24.0,24.0,24.0,24.0,24.0,24.0,24.0,22.0,28.0,30.0,21.0,28.0,35.0,17.0,17.0,17.0,17.0,17.0,17.0,21.0,21.0,21.0,21.0,21.0,21.0,21.0,21.0,21.0,21.0,21.0,21.0,21.0,21.0,17.0,17.0,25.0,25.0,25.0,31.0,31.0,31.0,31.0,31.0,31.0,31.0,35.0,35.0,35.0,35.0,35.0,35.0,35.0,23.0,27.0,24.0,19.0,23.0,30.0,30.0,30.0,30.0,30.0,30.0,30.0,30.0,20.0,47.0,47.0,19.0,19.0,19.0,19.0,19.0,19.0,19.0,19.0,29.0,20.0,21.0,25.0,19.0,19.0,19.0,23.0,17.0,25.0,25.0,29.0,29.0,29.0,28.0,24.0,28.0,26.0,26.0,26.0,30.0,21.0,21.0,21.0,21.0,21.0,21.0,21.0,23.0,16.0,16.0,16.0,16.0,16.0,16.0,14.0,14.0,14.0,19.0,23.0,27.0,20.0,24.0,28.0,21.0,24.0,20.0,24.0,24.0,20.0,24.0,25.0,25.0,25.0,25.0,25.0,25.0,25.0,25.0,22.0,22.0,22.0,22.0,28.0,23.0,23.0,25.0,25.0,25.0,23.0,27.0,31.0,31.0,23.0,20.0,16.0,16.0,20.0,32.0,32.0,21.0,21.0,27.0,27.0,27.0,29.0,26.0,26.0,28.0,25.0,33.0,16.0,20.0,20.0,20.0,24.0,24.0,24.0,24.0,28.0,28.0,23.0,27.0,27.0,14.0,18.0,18.0,18.0,28.0,32.0,32.0,36.0,33.0,24.0,19.0,26.0,30.0,28.0,32.0,18.0,18.0,18.0,23.0,25.0,25.0,22.0,26.0,30.0,24.0,22.0,26.0,30.0,34.0,19.0,21.0,21.0,23.0,32.0,32.0,20.0,21.0,23.0,23.0,23.0,23.0,23.0,23.0,23.0,23.0,39.0,12.0,12.0,16.0,20.0,22.0,29.0,19.0,19.0,19.0,19.0,25.0,25.0,29.0,29.0,27.0,27.0,27.0,27.0,27.0,27.0,27.0,27.0,30.0,24.0,17.0,21.0,19.0,19.0,23.0,31.0,27.0,27.0,27.0,27.0,27.0,27.0,27.0,27.0,21.0,25.0,21.0,25.0,35.0,35.0,23.0,26.0,26.0,30.0,25.0,25.0,29.0,24.0,28.0,32.0,36.0,25.0,29.0,16.0,16.0,16.0,22.0,22.0,30.0,30.0,38.0,22.0,22.0,22.0,16.0,20.0,20.0,20.0,24.0,24.0,24.0,23.0,23.0,27.0,27.0,27.0,31.0,31.0,35.0,35.0,24.0,24.0,19.0,22.0,31.0,27.0,25.0,29.0,22.0,22.0,22.0,22.0,22.0,22.0,22.0,22.0,21.0,25.0,24.0,22.0,23.0,23.0,23.0,23.0,27.0,27.0,27.0,29.0,17.0,17.0,25.0,26.0,27.0,31.0,24.0,28.0,36.0,27.0,27.0,27.0,35.0,35.0,39.0,17.0,24.0,20.0,20.0,24.0,24.0,28.0,32.0,32.0,23.0,23.0,23.0,24.0,27.0,25.0,25.0,23.0,22.0,24.0,20.0,20.0,23.0,27.0,31.0,18.0,18.0,23.0,27.0,20.0,24.0,19.0,19.0,19.0,21.0,21.0,21.0,21.0,21.0,28.0,22.0,26.0,20.0,32.0,20.0,28.0,24.0,16.0,20.0,28.0,20.0,20.0,20.0,20.0,20.0,20.0,20.0,24.0,24.0,24.0,24.0,24.0,24.0,24.0,20.0,28.0,32.0,21.0,21.0,21.0,21.0,21.0,25.0,29.0,47.0,18.0,18.0,19.0,23.0,25.0,24.0,15.0,15.0,15.0,19.0,19.0,19.0,23.0,23.0,23.0,20.0,24.0,28.0,32.0,24.0,24.0,28.0,28.0,28.0,23.0,23.0,19.0,23.0,27.0,33.0,24.0,17.0,17.0,17.0,21.0,21.0,22.0,26.0,34.0,34.0,17.0,26.0,30.0,34.0,39.0,28.0,20.0,30.0,21.0,25.0,22.0,26.0,30.0,22.0,22.0,26.0,26.0,30.0,30.0,34.0,34.0,38.0,26.0,30.0,34.0,23.0,25.0,25.0,25.0,24.0,36.0,36.0,40.0,23.0,25.0,24.0,24.0,28.0,28.0,32.0,32.0,32.0,36.0,36.0,24.0,24.0,31.0,22.0,21.0,21.0,21.0,21.0,24.0,24.0,26.0,26.0,30.0,20.0,20.0,24.0,36.0,36.0,39.0,39.0,44.0,44.0,48.0,20.0,20.0,20.0,20.0,20.0,20.0,20.0,20.0,21.0,25.0,33.0,26.0,21.0,25.0,28.0,25.0,25.0,29.0,29.0,33.0,33.0,26.0,23.0,26.0,24.0,16.0,16.0,16.0,16.0,16.0,24.0,28.0,21.0,21.0,21.0,25.0,25.0,18.0,18.0,23.0,23.0,19.0,19.0,38.0,27.0,24.0,21.0,25.0,29.0,37.0,23.0,23.0,35.0,35.0,25.0,25.0,29.0,29.0,33.0,33.0,18.0,26.0,30.0,20.0,23.0,27.0,27.0,27.0,27.0,27.0,27.0,27.0,21.0,25.0,25.0,29.0,29.0,29.0,25.0,25.0,17.0,21.0,21.0,21.0,25.0,25.0,25.0,25.0,20.0,24.0,28.0,23.0,33.0,22.0,22.0,22.0,26.0,26.0,30.0,23.0,15.0,15.0,15.0,15.0,15.0,15.0,30.0,30.0,30.0,33.0,28.0,24.0,24.0,24.0,24.0,24.0,27.0,22.0,31.0,31.0,21.0,21.0,23.0,28.0,28.0,23.0,27.0,27.0,24.0,27.0,46.0,25.0,25.0,19.0,19.0,19.0,19.0,20.0,29.0,23.0,27.0,26.0,30.0,34.0,38.0,23.0,23.0,27.0,27.0,31.0,31.0,35.0,35.0,25.0,21.0,21.0,25.0,25.0,33.0,37.0,37.0,24.0,24.0,23.0,50.0,23.0,30.0,17.0,21.0,29.0,33.0,37.0,19.0,23.0,26.0,30.0,22.0,26.0,26.0,24.0,24.0,24.0,24.0,24.0,24.0,24.0,22.0,50.0,21.0,25.0,25.0,28.0,28.0,25.0,29.0,34.0,27.0,27.0,27.0,27.0,23.0,25.0,20.0,27.0,22.0,25.0,32.0,25.0,19.0,19.0,19.0,19.0,19.0,19.0,19.0,34.0,34.0,22.0,15.0,15.0,27.0,24.0,32.0,19.0,23.0,23.0,23.0,31.0,19.0,19.0,19.0,19.0,24.0,21.0,21.0,25.0,25.0,29.0,29.0,21.0,21.0,21.0,23.0,23.0,27.0,26.0,20.0,28.0,44.0,20.0,20.0,20.0,20.0,20.0,20.0,20.0,20.0,25.0,25.0,18.0,18.0,18.0,22.0,24.0,21.0,28.0,28.0,28.0,28.0,28.0,28.0,28.0,28.0,30.0,34.0,27.0,21.0,28.0,28.0,21.0,27.0,20.0,20.0,20.0,24.0,24.0,19.0,28.0,28.0,19.0,23.0,18.0,18.0,19.0,19.0,20.0,20.0,23.0,26.0,22.0,27.0,28.0,28.0,31.0,24.0,20.0,22.0,27.0,20.0,17.0,21.0,21.0,29.0,29.0,28.0,25.0,23.0,23.0,23.0,20.0,30.0,29.0,30.0,18.0,21.0,21.0,25.0,29.0,29.0,18.0,18.0,18.0,24.0,29.0,31.0,19.0,19.0,19.0,25.0,24.0,21.0,25.0,29.0,26.0,23.0,23.0,23.0,39.0,28.0,36.0,24.0,26.0,27.0,16.0,16.0,16.0,16.0,16.0,16.0,21.0,23.0,22.0,22.0,19.0,19.0,19.0,19.0,21.0,21.0,21.0,21.0,25.0,25.0,26.0,21.0,24.0,28.0,32.0,23.0,23.0,23.0,23.0,22.0,26.0,25.0,27.0,31.0,17.0,17.0,17.0,21.0,21.0,21.0,20.0,20.0,24.0,25.0,25.0,26.0,26.0,20.0,20.0,28.0,21.0,21.0,18.0,18.0,18.0,18.0,18.0,18.0,18.0,18.0,22.0,22.0,22.0,22.0,22.0,22.0,22.0,22.0,26.0,26.0,26.0,26.0,26.0,26.0,26.0,26.0,23.0,23.0,23.0,27.0,23.0,26.0,30.0,24.0,24.0,24.0,24.0,24.0,24.0,17.0,21.0,27.0,19.0,19.0,19.0,19.0,19.0,19.0,23.0,23.0,23.0,23.0,23.0,23.0,26.0,24.0,24.0,24.0,19.0,22.0,22.0,26.0,26.0,22.0,19.0,33.0,53.0,53.0,53.0,53.0,53.0,53.0,53.0,53.0,53.0,53.0,53.0,53.0,53.0,53.0,53.0,53.0,53.0,53.0,53.0,53.0,53.0,53.0,53.0,53.0,53.0,53.0,53.0,27.0,27.0,31.0,31.0,26.0,28.0,29.0,24.0,33.0,20.0,20.0,24.0,24.0,20.0,25.0,28.0,18.0,26.0,22.0,31.0,24.0,28.0,28.0,27.0,32.0,23.0,23.0,28.0,22.0,22.0,25.0,25.0,29.0,27.0,31.0,20.0,20.0,29.0,27.0,27.0,31.0,31.0,29.0,20.0,21.0,22.0,22.0,27.0,27.0,21.0,23.0,23.0,31.0,23.0,27.0,21.0,27.0,28.0,24.0,24.0,18.0,18.0,18.0,23.0,23.0,35.0,22.0,26.0,32.0,32.0,44.0,44.0,48.0,48.0,20.0,24.0,21.0,25.0,29.0,19.0,19.0,19.0,21.0,30.0,30.0,24.0,28.0,26.0,25.0,25.0,29.0,29.0,33.0,33.0,22.0,26.0,30.0,34.0,24.0,24.0,24.0,22.0,26.0,26.0,23.0,25.0,25.0,14.0,14.0,14.0,14.0,14.0,14.0,18.0,18.0,18.0,18.0,18.0,18.0,24.0,22.0,31.0,22.0,26.0,21.0,24.0,26.0,23.0,24.0,26.0,26.0,26.0,26.0,26.0,26.0,26.0,26.0,23.0,23.0,23.0,23.0,27.0,22.0,22.0,22.0,22.0,22.0,22.0,22.0,22.0,23.0,23.0,27.0,21.0,25.0,22.0,22.0,26.0,30.0,35.0,35.0,18.0,18.0,18.0,18.0,22.0,27.0,27.0,31.0,31.0,24.0,27.0,22.0,22.0,22.0,22.0,23.0,27.0,35.0,35.0,35.0,35.0,21.0,33.0,43.0,22.0,26.0,25.0,25.0,23.0,32.0,27.0,25.0,25.0,25.0,25.0,26.0,20.0,20.0,20.0,22.0,24.0,24.0,24.0,22.0,22.0,30.0,30.0,34.0,34.0,38.0,25.0,37.0,41.0,25.0,16.0,16.0,16.0,16.0,16.0,16.0,16.0,16.0,16.0,16.0,16.0,16.0,32.0,32.0,21.0,25.0,29.0,18.0,18.0,18.0,20.0,24.0,27.0,27.0,31.0,31.0,25.0,33.0,24.0,26.0,26.0,26.0,26.0,26.0,26.0,26.0,26.0,30.0,30.0,30.0,30.0,30.0,30.0,30.0,30.0,21.0,21.0,21.0,21.0,21.0,21.0,21.0,21.0,33.0,33.0,33.0,33.0,33.0,33.0,33.0,33.0,27.0,20.0,20.0,24.0,24.0,28.0,32.0,32.0,36.0,40.0,21.0,22.0,22.0,25.0,25.0,17.0,17.0,17.0,17.0,17.0,17.0,21.0,21.0,21.0,21.0,21.0,21.0,26.0,23.0,27.0,30.0,34.0,24.0,28.0,22.0,24.0,18.0,24.0,22.0,32.0,23.0,23.0,23.0,23.0,23.0,23.0,23.0,23.0,27.0,27.0,27.0,27.0,27.0,27.0,27.0,27.0,27.0,23.0,22.0,26.0,16.0,16.0,16.0,16.0,16.0,16.0,28.0,32.0,34.0,34.0,30.0,30.0,24.0,25.0,29.0,33.0,24.0,27.0,22.0,28.0,28.0,25.0,27.0,25.0,37.0,37.0,24.0,22.0,26.0,58.0,24.0,20.0,20.0,20.0,24.0,24.0,24.0,24.0,24.0,24.0,24.0,26.0,26.0,26.0,26.0,22.0,28.0,28.0,16.0,16.0,16.0,16.0,16.0,16.0,21.0,21.0,21.0,21.0,21.0,21.0,25.0,25.0,25.0,25.0,25.0,25.0,17.0,17.0,21.0,21.0,25.0,25.0,29.0,23.0,24.0,24.0,28.0,21.0,21.0,21.0,16.0,20.0,20.0,24.0,24.0,24.0,23.0,23.0,27.0,20.0,29.0,26.0,30.0,31.0,29.0,36.0,26.0,30.0,33.0,30.0,34.0,35.0,19.0,21.0,26.0,25.0,27.0,27.0,31.0,31.0,21.0,21.0,21.0,24.0,27.0,21.0,26.0,26.0,26.0,26.0,25.0,21.0,23.0,21.0,26.0,35.0,24.0,24.0,23.0,31.0,18.0,20.0,24.0,28.0,17.0,17.0,17.0,19.0,23.0,27.0,26.0,30.0,33.0,26.0,30.0,21.0,24.0,32.0,32.0,36.0,15.0,15.0,19.0,19.0,25.0,25.0,30.0,30.0,33.0,33.0,28.0,32.0,23.0,27.0,16.0,20.0,20.0,20.0,20.0,20.0,20.0,30.0,35.0,18.0,22.0,15.0,27.0,30.0,30.0,24.0,24.0,32.0,32.0,36.0,36.0,27.0,48.0,23.0,23.0,26.0,26.0,30.0,30.0,20.0,20.0,22.0,22.0,26.0,26.0,27.0,24.0,24.0,20.0,24.0,18.0,18.0,24.0,24.0,22.0,30.0,34.0,26.0,30.0,30.0,25.0,22.0,26.0,26.0,21.0,25.0,29.0,33.0,29.0,23.0,22.0,22.0,24.0,28.0,29.0,26.0,23.0,27.0,17.0,17.0,22.0,26.0,27.0,31.0,26.0,23.0,23.0,20.0,20.0,24.0,21.0,25.0,29.0,31.0,31.0,17.0,23.0,23.0,27.0,27.0,24.0,23.0,35.0,23.0,27.0,19.0,22.0,26.0,31.0,35.0,39.0,39.0,19.0,19.0,23.0,23.0,34.0,17.0,17.0,17.0,17.0,17.0,17.0,21.0,21.0,21.0,21.0,15.0,15.0,20.0,20.0,20.0,24.0,32.0,31.0,31.0,20.0,20.0,20.0,22.0,24.0,18.0,18.0,18.0,18.0,18.0,18.0,22.0,22.0,22.0,22.0,22.0,22.0,23.0,23.0,25.0,25.0,26.0,19.0,23.0,27.0,24.0,29.0,22.0,19.0,28.0,24.0,24.0,25.0,48.0,16.0,30.0,24.0,15.0,25.0,26.0,29.0,25.0,18.0,25.0,26.0,21.0,29.0,29.0,22.0,26.0,26.0,30.0,30.0,14.0,14.0,14.0,14.0,14.0,14.0,18.0,18.0,18.0,18.0,18.0,18.0,15.0,15.0,15.0,15.0,15.0,15.0,23.0,23.0,23.0,23.0,23.0,22.0,23.0,22.0,23.0,26.0,30.0,21.0,21.0,19.0,24.0,24.0,24.0,24.0,25.0,25.0,21.0,25.0,25.0,24.0,28.0,32.0,24.0,24.0,33.0,26.0,21.0,25.0,29.0,21.0,28.0,32.0,36.0,36.0,40.0,21.0,25.0,25.0,35.0,39.0,37.0,37.0,41.0,41.0,29.0,25.0,23.0,24.0,28.0,19.0,24.0,28.0,21.0,21.0,21.0,21.0,21.0,21.0,21.0,21.0,21.0,21.0,21.0,23.0,23.0,27.0,28.0,28.0,24.0,21.0,21.0,25.0,29.0,29.0,19.0,19.0,34.0,38.0,21.0,25.0,33.0,24.0,24.0,28.0,32.0,32.0,22.0,26.0,30.0,23.0,24.0,28.0,32.0,32.0,22.0,21.0,20.0,28.0,28.0,28.0,28.0,28.0,28.0,28.0,28.0,22.0,26.0,20.0,24.0,20.0,22.0,26.0,30.0,34.0,24.0,24.0,25.0,29.0,33.0,19.0,24.0,27.0,22.0,22.0,38.0,38.0,38.0,38.0,38.0,38.0,38.0,33.0,26.0,29.0,29.0,23.0,30.0,30.0,30.0,30.0,30.0,30.0,30.0,30.0,34.0,34.0,34.0,34.0,34.0,34.0,34.0,34.0,18.0,19.0,20.0,20.0,24.0,24.0,24.0,33.0,37.0,24.0,28.0,27.0,25.0,20.0,23.0,23.0,19.0,19.0,16.0,21.0,20.0,24.0,25.0,29.0,20.0,20.0,20.0,20.0,20.0,20.0,20.0,25.0,25.0,25.0,25.0,25.0,25.0,25.0,25.0,25.0,29.0,29.0,29.0,29.0,29.0,29.0,29.0,29.0,25.0,25.0,19.0,19.0,30.0,32.0,40.0,22.0,22.0,22.0,22.0,22.0,22.0,22.0,22.0,26.0,26.0,26.0,26.0,26.0,26.0,26.0,30.0,30.0,30.0,30.0,30.0,30.0,30.0,30.0,24.0,24.0,23.0,31.0,27.0,27.0,23.0,31.0,31.0,19.0,21.0,23.0,27.0,21.0,29.0,43.0,52.0,23.0,25.0,24.0,24.0,20.0,21.0,21.0,25.0,23.0,23.0,27.0,27.0,28.0,28.0,32.0,32.0,36.0,36.0,23.0,23.0,26.0,26.0,30.0,24.0,28.0,32.0,28.0,28.0,33.0,33.0,24.0,28.0,32.0,32.0,27.0,27.0,27.0,27.0,20.0,24.0,21.0,21.0,25.0,22.0,28.0,24.0,28.0,32.0,23.0,19.0,20.0,25.0,20.0,24.0,28.0,32.0,35.0,20.0,21.0,24.0,35.0,35.0,35.0,35.0,23.0,27.0,31.0,19.0,21.0,26.0,22.0,21.0,20.0,20.0,20.0,24.0,28.0,20.0,24.0,36.0,36.0,36.0,31.0,20.0,20.0,24.0,24.0,20.0,24.0,28.0,32.0,32.0,25.0,25.0,23.0,27.0,27.0,27.0,24.0,36.0,22.0,23.0,24.0,28.0,29.0,19.0,19.0,19.0,23.0,23.0,24.0,22.0,26.0,27.0,31.0,19.0,23.0,35.0,39.0,43.0,43.0,43.0,43.0,25.0,23.0,23.0,29.0,29.0,41.0,45.0,24.0,28.0,31.0,35.0,22.0,22.0,27.0,31.0,35.0,25.0,21.0,19.0,27.0,27.0,19.0,21.0,25.0,25.0,29.0,20.0,25.0,29.0,21.0,32.0,32.0,25.0,20.0,24.0,20.0,20.0,30.0,23.0,23.0,27.0,27.0,31.0,31.0,35.0,35.0,39.0,39.0,25.0,21.0,27.0,31.0,20.0,24.0,28.0,30.0,34.0,34.0,38.0,38.0,28.0,28.0,28.0,28.0,28.0,28.0,28.0,28.0,23.0,29.0,33.0,22.0,22.0,32.0,23.0,23.0,15.0,15.0,15.0,18.0,18.0,18.0,26.0,26.0,26.0,26.0,30.0,30.0,21.0,25.0,29.0,20.0,25.0,30.0,25.0,29.0,24.0,24.0,22.0,26.0,25.0,29.0,22.0,26.0,25.0,29.0,33.0,24.0,25.0,29.0,25.0,20.0,20.0,20.0,20.0,24.0,24.0,28.0,23.0,23.0,27.0,31.0,31.0,21.0,21.0,25.0,23.0,18.0,15.0,15.0,19.0,19.0,23.0,23.0,23.0,23.0,22.0,25.0,20.0,24.0,21.0,21.0,25.0,21.0,21.0,21.0,21.0,19.0,21.0,22.0,23.0,25.0,29.0,29.0,37.0,37.0,24.0,24.0,24.0,29.0,29.0,29.0,33.0,33.0,33.0,22.0,33.0,22.0,26.0,29.0,31.0,19.0,22.0,38.0,33.0,33.0,33.0,33.0,33.0,33.0,33.0,33.0,37.0,37.0,37.0,37.0,37.0,37.0,37.0,37.0,25.0,30.0,25.0,22.0,22.0,22.0,22.0,22.0,22.0,22.0,22.0,23.0,27.0,20.0,20.0,28.0,32.0,27.0,27.0,27.0,27.0,27.0,27.0,27.0,27.0,20.0,23.0,22.0,25.0,29.0,23.0,28.0,28.0,28.0,20.0,25.0,29.0,33.0,27.0,27.0,23.0,22.0,22.0,26.0,34.0,17.0,42.0,24.0,24.0,30.0,23.0,31.0,31.0,31.0,43.0,43.0,43.0,43.0,47.0,18.0,18.0,18.0,18.0,27.0,31.0,22.0,26.0,30.0,26.0,30.0,30.0,34.0,23.0,18.0,18.0,18.0,18.0,27.0,27.0,27.0,27.0,27.0,27.0,27.0,27.0,27.0,22.0,20.0,24.0,24.0,28.0,28.0,27.0,19.0,16.0,20.0,24.0,28.0,22.0,26.0,23.0,23.0,27.0,31.0,26.0,24.0,26.0,30.0,34.0,34.0,23.0,23.0,23.0,27.0,22.0,22.0,22.0,25.0,25.0,25.0,29.0,29.0,29.0,33.0,33.0,33.0,37.0,37.0,37.0,24.0,23.0,27.0,24.0,28.0,32.0,25.0,32.0,21.0,21.0,25.0,29.0,19.0,39.0,39.0,21.0,25.0,25.0,34.0,34.0,23.0,27.0,23.0,21.0,23.0,31.0,16.0,16.0,16.0,21.0,19.0,24.0,24.0,24.0,24.0,36.0,23.0,27.0,31.0,22.0,22.0,26.0,26.0,19.0,21.0,25.0,17.0,20.0,30.0,30.0,26.0,36.0,25.0,25.0,33.0,32.0,32.0,36.0,23.0,20.0,20.0,20.0,22.0,22.0,22.0,27.0,27.0,34.0,26.0,26.0,29.0,24.0,33.0,24.0,18.0,18.0,20.0,20.0,24.0,30.0,34.0,27.0,25.0,25.0,15.0,15.0,19.0,19.0,23.0,26.0,26.0,26.0,26.0,26.0,26.0,26.0,26.0,27.0,31.0,19.0,22.0,25.0,37.0,20.0,20.0,20.0,22.0,22.0,23.0,33.0,26.0,30.0,26.0,22.0,26.0,20.0,24.0,28.0,25.0,28.0,21.0,21.0,29.0,29.0,33.0,33.0,21.0,25.0,21.0,24.0,31.0,24.0,28.0,20.0,25.0,29.0,29.0,33.0,22.0,24.0,26.0,25.0,25.0,29.0,29.0,19.0,19.0,19.0,19.0,19.0,19.0,20.0,20.0,26.0,26.0,26.0,36.0,18.0,22.0,26.0,24.0,22.0,26.0,18.0,23.0,21.0,21.0,21.0,21.0,21.0,21.0,21.0,21.0,25.0,25.0,25.0,25.0,25.0,25.0,25.0,29.0,29.0,29.0,29.0,29.0,21.0,21.0,27.0,27.0,31.0,26.0,45.0,45.0,18.0,18.0,18.0,22.0,22.0,26.0,26.0,21.0,33.0,28.0,25.0,26.0,26.0,30.0,30.0,34.0,34.0,21.0,24.0,28.0,23.0,21.0,25.0,29.0,29.0,24.0,24.0,28.0,27.0,22.0,26.0,30.0,23.0,19.0,19.0,19.0,26.0,30.0,27.0,24.0,26.0,24.0,32.0,26.0,27.0,28.0,22.0,21.0,27.0,27.0,27.0,31.0,23.0,23.0,20.0,24.0,28.0,20.0,23.0,23.0,27.0,27.0,31.0,31.0,17.0,17.0,21.0,21.0,21.0,21.0,25.0,27.0,18.0,18.0,32.0,27.0,24.0,25.0,25.0,20.0,20.0,22.0,22.0,29.0,19.0,19.0,35.0,35.0,35.0,35.0,35.0,35.0,35.0,24.0,16.0,20.0,23.0,21.0,21.0,21.0,19.0,19.0,19.0,38.0,28.0,28.0,32.0,32.0,20.0,20.0,22.0,30.0,34.0,21.0,23.0,22.0,21.0,20.0,27.0,29.0,22.0,23.0,23.0,24.0,27.0,22.0,18.0,18.0,18.0,18.0,18.0,26.0,28.0,25.0,29.0,33.0,23.0,35.0,22.0,22.0,18.0,22.0,29.0,29.0,19.0,19.0,23.0,23.0,30.0,35.0,22.0,26.0,24.0,21.0,24.0,32.0,28.0,32.0,22.0,26.0,30.0,34.0,23.0,23.0,23.0,27.0,19.0,23.0,23.0,29.0,24.0,21.0,21.0,25.0,25.0,29.0,20.0,24.0,24.0,24.0,36.0,36.0,32.0,22.0,19.0,25.0,33.0,17.0,17.0,23.0,23.0,26.0,23.0,19.0,19.0,19.0,27.0,23.0,25.0,18.0,22.0,21.0,21.0,21.0,21.0,21.0,33.0,21.0,25.0,21.0,21.0,21.0,21.0,21.0,33.0,33.0,33.0,20.0,20.0,24.0,27.0,26.0,20.0,24.0,20.0,20.0,19.0,19.0,19.0,19.0,23.0,23.0,23.0,25.0,31.0,23.0,20.0,20.0,24.0,28.0,28.0,27.0,25.0,21.0,16.0,20.0,20.0,34.0,34.0,27.0,21.0,21.0,21.0,21.0,30.0,25.0,29.0,23.0,21.0,21.0,19.0,25.0,24.0,24.0,24.0,28.0,34.0,18.0,18.0,22.0,26.0,27.0,25.0,29.0,25.0,25.0,30.0,15.0,19.0,19.0,21.0,21.0,25.0,25.0,25.0,33.0,28.0,27.0,22.0,26.0,30.0,27.0,30.0,34.0,21.0,21.0,30.0,34.0,20.0,24.0,28.0,32.0,27.0,31.0,36.0,36.0,21.0,21.0,21.0,29.0,20.0,20.0,28.0,28.0,18.0,26.0,24.0,16.0,16.0,21.0,21.0,22.0,24.0,24.0,24.0,24.0,28.0,17.0,19.0,19.0,19.0,23.0,23.0,27.0,19.0,19.0,25.0,25.0,27.0,27.0,45.0,25.0,25.0,25.0,25.0,25.0,19.0,19.0,19.0,25.0,22.0,26.0,26.0,30.0,30.0,22.0,23.0,32.0,36.0,22.0,26.0,26.0,16.0,16.0,16.0,20.0,20.0,27.0,27.0,20.0,26.0,27.0,19.0,23.0,24.0,28.0,23.0,26.0,30.0,24.0,28.0,22.0,26.0,23.0,23.0,14.0,14.0,14.0,14.0,16.0,29.0,23.0,20.0,25.0,25.0,29.0,29.0,29.0,29.0,33.0,33.0,37.0,37.0,25.0,25.0,29.0,29.0,33.0,23.0,23.0,27.0,27.0,35.0,35.0,27.0,27.0,27.0,27.0,27.0,27.0,27.0,28.0,21.0,21.0,25.0,38.0,42.0,46.0,22.0,22.0,18.0,22.0,26.0,26.0,30.0,30.0,23.0,27.0,31.0,24.0,27.0,25.0,20.0,24.0,24.0,26.0,23.0,23.0,23.0,36.0,36.0,22.0,22.0,22.0,21.0,19.0,39.0,43.0,22.0,26.0,20.0,19.0,23.0,23.0,23.0,23.0,23.0,23.0,23.0,27.0,27.0,27.0,27.0,27.0,27.0,27.0,31.0,31.0,31.0,31.0,31.0,31.0,24.0,22.0,22.0,30.0,30.0,27.0,29.0,29.0,21.0,25.0,29.0,19.0,31.0,31.0,20.0,25.0,32.0,17.0,17.0,21.0,21.0,26.0,26.0,30.0,30.0,17.0,17.0,20.0,25.0,39.0,20.0,20.0,17.0,21.0,28.0,24.0,28.0,23.0,23.0,23.0,23.0,23.0,23.0,23.0,23.0,25.0,19.0,19.0,29.0,29.0,34.0,28.0,24.0,28.0,28.0,25.0,38.0,38.0,19.0,20.0,14.0,31.0,23.0,25.0,23.0,29.0,41.0,21.0,35.0,43.0,23.0,23.0,23.0,23.0,23.0,23.0,27.0,27.0,27.0,27.0,27.0,27.0,31.0,31.0,27.0,28.0,28.0,32.0,25.0,29.0,21.0,17.0,21.0,24.0,28.0,22.0,22.0,22.0,20.0,24.0,29.0,29.0,33.0,33.0,24.0,25.0,22.0,26.0,26.0,26.0,24.0,28.0,25.0,25.0,25.0,25.0,25.0,25.0,25.0,25.0,31.0,31.0,31.0,31.0,24.0,21.0,21.0,23.0,28.0,28.0,18.0,22.0,26.0,21.0,21.0,21.0,21.0,21.0,21.0,21.0,21.0,29.0,27.0,24.0,24.0,27.0,27.0,39.0,39.0,22.0,26.0,23.0,27.0,26.0,21.0,21.0,21.0,21.0,21.0,21.0,21.0,28.0,32.0,36.0,29.0,29.0,33.0,32.0,36.0,27.0,25.0,29.0,24.0,28.0,24.0,26.0,28.0,26.0,17.0,17.0,21.0,29.0,28.0,22.0,22.0,22.0,26.0,26.0,30.0,30.0,34.0,38.0,21.0,21.0,21.0,21.0,21.0,21.0,21.0,21.0,33.0,33.0,33.0,33.0,33.0,33.0,33.0,33.0,37.0,37.0,37.0,37.0,37.0,37.0,37.0,37.0,20.0,24.0,28.0,14.0,14.0,14.0,14.0,14.0,14.0,23.0,23.0,23.0,23.0,23.0,25.0,25.0,25.0,29.0,29.0,29.0,45.0,20.0,27.0,22.0,23.0,27.0,22.0,26.0,29.0,28.0,22.0,18.0,28.0,18.0,18.0,18.0,18.0,18.0,18.0,24.0,24.0,27.0,26.0,25.0,21.0,16.0,16.0,20.0,20.0,20.0,20.0,24.0,24.0,24.0,24.0,24.0,25.0,29.0,39.0,21.0,29.0,28.0,28.0,26.0,20.0,21.0,30.0,16.0,20.0,20.0,24.0,29.0,23.0,27.0,31.0,35.0,24.0,24.0,28.0,32.0,27.0,27.0,23.0,23.0,27.0,31.0,35.0,30.0,27.0,23.0,23.0,24.0,24.0,24.0,28.0,24.0,30.0,20.0,38.0,20.0,24.0,21.0,25.0,25.0,29.0,29.0,21.0,21.0,23.0,27.0,25.0,22.0,22.0,22.0,22.0,22.0,22.0,22.0,22.0,24.0,30.0,43.0,26.0,30.0,19.0,27.0,29.0,29.0,19.0,24.0,28.0,28.0,15.0,15.0,15.0,15.0,15.0,15.0,22.0,34.0,24.0,28.0,32.0,21.0,25.0,29.0,27.0,22.0,26.0,26.0,27.0,30.0,34.0,28.0,28.0,32.0,24.0,24.0,28.0,32.0,28.0,24.0,26.0,26.0,26.0,26.0,26.0,26.0,26.0,26.0,30.0,30.0,30.0,30.0,30.0,30.0,30.0,30.0,27.0,20.0,24.0,29.0,33.0,37.0,26.0,30.0,34.0,23.0,19.0,20.0,24.0,28.0,26.0,26.0,22.0,28.0,24.0,28.0,33.0,23.0,23.0,27.0,27.0,27.0,27.0,31.0,35.0,32.0,32.0,32.0,32.0,32.0,32.0,32.0,32.0,28.0,28.0,36.0,25.0,37.0,41.0,25.0,25.0,33.0,37.0,24.0,32.0,28.0,32.0,26.0,33.0,38.0,24.0,28.0,32.0,20.0,24.0,24.0,24.0,24.0,36.0,36.0,36.0,36.0,36.0,36.0,36.0,20.0,20.0,22.0,20.0,28.0,23.0,23.0,23.0,26.0,26.0,30.0,30.0,24.0,28.0,32.0,23.0,23.0,22.0,23.0,23.0,27.0,15.0,19.0,19.0,19.0,23.0,23.0,23.0,23.0,27.0,27.0,14.0,14.0,16.0,16.0,16.0,20.0,20.0,20.0,24.0,24.0,24.0,24.0,26.0,23.0,27.0,31.0,26.0,26.0,37.0,22.0,25.0,24.0,20.0,21.0,26.0,29.0,22.0,22.0,21.0,25.0,29.0,22.0,26.0,26.0,26.0,29.0,27.0,31.0,23.0,20.0,24.0,30.0,30.0,23.0,20.0,39.0,39.0,20.0,20.0,31.0,31.0,23.0,23.0,23.0,14.0,38.0,37.0,37.0,37.0,37.0,32.0,18.0,18.0,18.0,23.0,23.0,24.0,24.0,26.0,26.0,34.0,34.0,21.0,21.0,33.0,33.0,24.0,24.0,36.0,36.0,36.0,24.0,18.0,18.0,22.0,22.0,22.0,28.0,28.0,28.0,57.0,57.0,44.0,44.0,29.0,26.0,54.0,54.0,35.0,35.0,22.0,24.0,34.0,34.0,34.0,38.0,38.0,38.0,33.0,18.0,18.0,22.0,22.0,26.0,23.0,27.0,31.0,31.0,24.0,24.0,24.0,17.0,21.0,21.0,20.0,20.0,20.0,22.0,25.0,29.0,29.0,29.0,29.0,29.0,29.0,29.0,23.0,23.0,23.0,23.0,26.0,28.0,18.0,18.0,30.0,28.0,24.0,24.0,28.0,28.0,20.0,24.0,28.0,32.0,32.0,22.0,20.0,20.0,20.0,24.0,24.0,24.0,17.0,17.0,17.0,16.0,16.0,20.0,20.0,21.0,21.0,54.0,21.0,21.0,17.0,17.0,21.0,21.0,21.0,28.0,28.0,28.0,32.0,32.0,32.0,28.0,27.0,23.0,27.0,31.0,26.0,21.0,30.0,34.0,23.0,23.0,21.0,24.0,25.0,25.0,22.0,30.0,30.0,34.0,34.0,38.0,21.0,25.0,25.0,29.0,24.0,24.0,28.0,24.0,18.0,22.0,30.0,20.0,23.0,27.0,35.0,24.0,30.0,30.0,23.0,27.0,31.0,23.0,27.0,31.0,23.0,27.0,31.0,35.0,25.0,26.0,30.0,30.0,26.0,28.0,31.0,21.0,21.0,21.0,25.0,25.0,25.0,25.0,29.0,29.0,38.0,38.0,42.0,42.0,27.0],\"xaxis\":\"x\",\"yaxis\":\"y\",\"type\":\"histogram\"}],                        {\"template\":{\"data\":{\"histogram2dcontour\":[{\"type\":\"histogram2dcontour\",\"colorbar\":{\"outlinewidth\":0,\"ticks\":\"\"},\"colorscale\":[[0.0,\"#0d0887\"],[0.1111111111111111,\"#46039f\"],[0.2222222222222222,\"#7201a8\"],[0.3333333333333333,\"#9c179e\"],[0.4444444444444444,\"#bd3786\"],[0.5555555555555556,\"#d8576b\"],[0.6666666666666666,\"#ed7953\"],[0.7777777777777778,\"#fb9f3a\"],[0.8888888888888888,\"#fdca26\"],[1.0,\"#f0f921\"]]}],\"choropleth\":[{\"type\":\"choropleth\",\"colorbar\":{\"outlinewidth\":0,\"ticks\":\"\"}}],\"histogram2d\":[{\"type\":\"histogram2d\",\"colorbar\":{\"outlinewidth\":0,\"ticks\":\"\"},\"colorscale\":[[0.0,\"#0d0887\"],[0.1111111111111111,\"#46039f\"],[0.2222222222222222,\"#7201a8\"],[0.3333333333333333,\"#9c179e\"],[0.4444444444444444,\"#bd3786\"],[0.5555555555555556,\"#d8576b\"],[0.6666666666666666,\"#ed7953\"],[0.7777777777777778,\"#fb9f3a\"],[0.8888888888888888,\"#fdca26\"],[1.0,\"#f0f921\"]]}],\"heatmap\":[{\"type\":\"heatmap\",\"colorbar\":{\"outlinewidth\":0,\"ticks\":\"\"},\"colorscale\":[[0.0,\"#0d0887\"],[0.1111111111111111,\"#46039f\"],[0.2222222222222222,\"#7201a8\"],[0.3333333333333333,\"#9c179e\"],[0.4444444444444444,\"#bd3786\"],[0.5555555555555556,\"#d8576b\"],[0.6666666666666666,\"#ed7953\"],[0.7777777777777778,\"#fb9f3a\"],[0.8888888888888888,\"#fdca26\"],[1.0,\"#f0f921\"]]}],\"heatmapgl\":[{\"type\":\"heatmapgl\",\"colorbar\":{\"outlinewidth\":0,\"ticks\":\"\"},\"colorscale\":[[0.0,\"#0d0887\"],[0.1111111111111111,\"#46039f\"],[0.2222222222222222,\"#7201a8\"],[0.3333333333333333,\"#9c179e\"],[0.4444444444444444,\"#bd3786\"],[0.5555555555555556,\"#d8576b\"],[0.6666666666666666,\"#ed7953\"],[0.7777777777777778,\"#fb9f3a\"],[0.8888888888888888,\"#fdca26\"],[1.0,\"#f0f921\"]]}],\"contourcarpet\":[{\"type\":\"contourcarpet\",\"colorbar\":{\"outlinewidth\":0,\"ticks\":\"\"}}],\"contour\":[{\"type\":\"contour\",\"colorbar\":{\"outlinewidth\":0,\"ticks\":\"\"},\"colorscale\":[[0.0,\"#0d0887\"],[0.1111111111111111,\"#46039f\"],[0.2222222222222222,\"#7201a8\"],[0.3333333333333333,\"#9c179e\"],[0.4444444444444444,\"#bd3786\"],[0.5555555555555556,\"#d8576b\"],[0.6666666666666666,\"#ed7953\"],[0.7777777777777778,\"#fb9f3a\"],[0.8888888888888888,\"#fdca26\"],[1.0,\"#f0f921\"]]}],\"surface\":[{\"type\":\"surface\",\"colorbar\":{\"outlinewidth\":0,\"ticks\":\"\"},\"colorscale\":[[0.0,\"#0d0887\"],[0.1111111111111111,\"#46039f\"],[0.2222222222222222,\"#7201a8\"],[0.3333333333333333,\"#9c179e\"],[0.4444444444444444,\"#bd3786\"],[0.5555555555555556,\"#d8576b\"],[0.6666666666666666,\"#ed7953\"],[0.7777777777777778,\"#fb9f3a\"],[0.8888888888888888,\"#fdca26\"],[1.0,\"#f0f921\"]]}],\"mesh3d\":[{\"type\":\"mesh3d\",\"colorbar\":{\"outlinewidth\":0,\"ticks\":\"\"}}],\"scatter\":[{\"fillpattern\":{\"fillmode\":\"overlay\",\"size\":10,\"solidity\":0.2},\"type\":\"scatter\"}],\"parcoords\":[{\"type\":\"parcoords\",\"line\":{\"colorbar\":{\"outlinewidth\":0,\"ticks\":\"\"}}}],\"scatterpolargl\":[{\"type\":\"scatterpolargl\",\"marker\":{\"colorbar\":{\"outlinewidth\":0,\"ticks\":\"\"}}}],\"bar\":[{\"error_x\":{\"color\":\"#2a3f5f\"},\"error_y\":{\"color\":\"#2a3f5f\"},\"marker\":{\"line\":{\"color\":\"#E5ECF6\",\"width\":0.5},\"pattern\":{\"fillmode\":\"overlay\",\"size\":10,\"solidity\":0.2}},\"type\":\"bar\"}],\"scattergeo\":[{\"type\":\"scattergeo\",\"marker\":{\"colorbar\":{\"outlinewidth\":0,\"ticks\":\"\"}}}],\"scatterpolar\":[{\"type\":\"scatterpolar\",\"marker\":{\"colorbar\":{\"outlinewidth\":0,\"ticks\":\"\"}}}],\"histogram\":[{\"marker\":{\"pattern\":{\"fillmode\":\"overlay\",\"size\":10,\"solidity\":0.2}},\"type\":\"histogram\"}],\"scattergl\":[{\"type\":\"scattergl\",\"marker\":{\"colorbar\":{\"outlinewidth\":0,\"ticks\":\"\"}}}],\"scatter3d\":[{\"type\":\"scatter3d\",\"line\":{\"colorbar\":{\"outlinewidth\":0,\"ticks\":\"\"}},\"marker\":{\"colorbar\":{\"outlinewidth\":0,\"ticks\":\"\"}}}],\"scattermapbox\":[{\"type\":\"scattermapbox\",\"marker\":{\"colorbar\":{\"outlinewidth\":0,\"ticks\":\"\"}}}],\"scatterternary\":[{\"type\":\"scatterternary\",\"marker\":{\"colorbar\":{\"outlinewidth\":0,\"ticks\":\"\"}}}],\"scattercarpet\":[{\"type\":\"scattercarpet\",\"marker\":{\"colorbar\":{\"outlinewidth\":0,\"ticks\":\"\"}}}],\"carpet\":[{\"aaxis\":{\"endlinecolor\":\"#2a3f5f\",\"gridcolor\":\"white\",\"linecolor\":\"white\",\"minorgridcolor\":\"white\",\"startlinecolor\":\"#2a3f5f\"},\"baxis\":{\"endlinecolor\":\"#2a3f5f\",\"gridcolor\":\"white\",\"linecolor\":\"white\",\"minorgridcolor\":\"white\",\"startlinecolor\":\"#2a3f5f\"},\"type\":\"carpet\"}],\"table\":[{\"cells\":{\"fill\":{\"color\":\"#EBF0F8\"},\"line\":{\"color\":\"white\"}},\"header\":{\"fill\":{\"color\":\"#C8D4E3\"},\"line\":{\"color\":\"white\"}},\"type\":\"table\"}],\"barpolar\":[{\"marker\":{\"line\":{\"color\":\"#E5ECF6\",\"width\":0.5},\"pattern\":{\"fillmode\":\"overlay\",\"size\":10,\"solidity\":0.2}},\"type\":\"barpolar\"}],\"pie\":[{\"automargin\":true,\"type\":\"pie\"}]},\"layout\":{\"autotypenumbers\":\"strict\",\"colorway\":[\"#636efa\",\"#EF553B\",\"#00cc96\",\"#ab63fa\",\"#FFA15A\",\"#19d3f3\",\"#FF6692\",\"#B6E880\",\"#FF97FF\",\"#FECB52\"],\"font\":{\"color\":\"#2a3f5f\"},\"hovermode\":\"closest\",\"hoverlabel\":{\"align\":\"left\"},\"paper_bgcolor\":\"white\",\"plot_bgcolor\":\"#E5ECF6\",\"polar\":{\"bgcolor\":\"#E5ECF6\",\"angularaxis\":{\"gridcolor\":\"white\",\"linecolor\":\"white\",\"ticks\":\"\"},\"radialaxis\":{\"gridcolor\":\"white\",\"linecolor\":\"white\",\"ticks\":\"\"}},\"ternary\":{\"bgcolor\":\"#E5ECF6\",\"aaxis\":{\"gridcolor\":\"white\",\"linecolor\":\"white\",\"ticks\":\"\"},\"baxis\":{\"gridcolor\":\"white\",\"linecolor\":\"white\",\"ticks\":\"\"},\"caxis\":{\"gridcolor\":\"white\",\"linecolor\":\"white\",\"ticks\":\"\"}},\"coloraxis\":{\"colorbar\":{\"outlinewidth\":0,\"ticks\":\"\"}},\"colorscale\":{\"sequential\":[[0.0,\"#0d0887\"],[0.1111111111111111,\"#46039f\"],[0.2222222222222222,\"#7201a8\"],[0.3333333333333333,\"#9c179e\"],[0.4444444444444444,\"#bd3786\"],[0.5555555555555556,\"#d8576b\"],[0.6666666666666666,\"#ed7953\"],[0.7777777777777778,\"#fb9f3a\"],[0.8888888888888888,\"#fdca26\"],[1.0,\"#f0f921\"]],\"sequentialminus\":[[0.0,\"#0d0887\"],[0.1111111111111111,\"#46039f\"],[0.2222222222222222,\"#7201a8\"],[0.3333333333333333,\"#9c179e\"],[0.4444444444444444,\"#bd3786\"],[0.5555555555555556,\"#d8576b\"],[0.6666666666666666,\"#ed7953\"],[0.7777777777777778,\"#fb9f3a\"],[0.8888888888888888,\"#fdca26\"],[1.0,\"#f0f921\"]],\"diverging\":[[0,\"#8e0152\"],[0.1,\"#c51b7d\"],[0.2,\"#de77ae\"],[0.3,\"#f1b6da\"],[0.4,\"#fde0ef\"],[0.5,\"#f7f7f7\"],[0.6,\"#e6f5d0\"],[0.7,\"#b8e186\"],[0.8,\"#7fbc41\"],[0.9,\"#4d9221\"],[1,\"#276419\"]]},\"xaxis\":{\"gridcolor\":\"white\",\"linecolor\":\"white\",\"ticks\":\"\",\"title\":{\"standoff\":15},\"zerolinecolor\":\"white\",\"automargin\":true,\"zerolinewidth\":2},\"yaxis\":{\"gridcolor\":\"white\",\"linecolor\":\"white\",\"ticks\":\"\",\"title\":{\"standoff\":15},\"zerolinecolor\":\"white\",\"automargin\":true,\"zerolinewidth\":2},\"scene\":{\"xaxis\":{\"backgroundcolor\":\"#E5ECF6\",\"gridcolor\":\"white\",\"linecolor\":\"white\",\"showbackground\":true,\"ticks\":\"\",\"zerolinecolor\":\"white\",\"gridwidth\":2},\"yaxis\":{\"backgroundcolor\":\"#E5ECF6\",\"gridcolor\":\"white\",\"linecolor\":\"white\",\"showbackground\":true,\"ticks\":\"\",\"zerolinecolor\":\"white\",\"gridwidth\":2},\"zaxis\":{\"backgroundcolor\":\"#E5ECF6\",\"gridcolor\":\"white\",\"linecolor\":\"white\",\"showbackground\":true,\"ticks\":\"\",\"zerolinecolor\":\"white\",\"gridwidth\":2}},\"shapedefaults\":{\"line\":{\"color\":\"#2a3f5f\"}},\"annotationdefaults\":{\"arrowcolor\":\"#2a3f5f\",\"arrowhead\":0,\"arrowwidth\":1},\"geo\":{\"bgcolor\":\"white\",\"landcolor\":\"#E5ECF6\",\"subunitcolor\":\"white\",\"showland\":true,\"showlakes\":true,\"lakecolor\":\"white\"},\"title\":{\"x\":0.05},\"mapbox\":{\"style\":\"light\"}}},\"xaxis\":{\"anchor\":\"y\",\"domain\":[0.0,1.0],\"title\":{\"text\":\"\\u00c5lder\"}},\"yaxis\":{\"anchor\":\"x\",\"domain\":[0.0,1.0],\"title\":{\"text\":\"count\"}},\"legend\":{\"tracegroupgap\":0},\"title\":{\"text\":\"Histogram \\u00f6ver \\u00e5ldrar\"},\"barmode\":\"relative\"},                        {\"responsive\": true}                    ).then(function(){\n",
       "                            \n",
       "var gd = document.getElementById('0f92bf40-e3ab-4a1e-9036-1f142975b09b');\n",
       "var x = new MutationObserver(function (mutations, observer) {{\n",
       "        var display = window.getComputedStyle(gd).display;\n",
       "        if (!display || display === 'none') {{\n",
       "            console.log([gd, 'removed!']);\n",
       "            Plotly.purge(gd);\n",
       "            observer.disconnect();\n",
       "        }}\n",
       "}});\n",
       "\n",
       "// Listen for the removal of the full notebook cells\n",
       "var notebookContainer = gd.closest('#notebook-container');\n",
       "if (notebookContainer) {{\n",
       "    x.observe(notebookContainer, {childList: true});\n",
       "}}\n",
       "\n",
       "// Listen for the clearing of the current output cell\n",
       "var outputEl = gd.closest('.output');\n",
       "if (outputEl) {{\n",
       "    x.observe(outputEl, {childList: true});\n",
       "}}\n",
       "\n",
       "                        })                };                });            </script>        </div>"
      ]
     },
     "metadata": {},
     "output_type": "display_data"
    }
   ],
   "source": [
    "\n",
    "age_data = hungary[hungary[\"Age\"].notnull()]\n",
    "\n",
    "\n",
    "fig = px.histogram(\n",
    "    age_data,\n",
    "    x=\"Age\",\n",
    "    nbins=20, \n",
    "    title=\"Histogram över åldrar\",\n",
    "    labels={\"Age\": \"Ålder\", \"Count\": \"Antal idrottare\"},\n",
    ")\n",
    "\n",
    "\n",
    "\n",
    "fig.show()\n"
   ]
  },
  {
   "cell_type": "code",
   "execution_count": 37,
   "metadata": {},
   "outputs": [
    {
     "data": {
      "application/vnd.plotly.v1+json": {
       "config": {
        "plotlyServerURL": "https://plot.ly"
       },
       "data": [
        {
         "customdata": [
          [
           "Bronze"
          ],
          [
           "Gold"
          ],
          [
           "Silver"
          ]
         ],
         "domain": {
          "x": [
           0,
           1
          ],
          "y": [
           0,
           1
          ]
         },
         "hovertemplate": "Medaljtyp=%{customdata[0]}<br>Antal=%{value}<extra></extra>",
         "labels": [
          "Bronze",
          "Gold",
          "Silver"
         ],
         "legendgroup": "",
         "marker": {
          "colors": [
           "#CD7F32",
           "#FFD700",
           "#C0C0C0"
          ]
         },
         "name": "",
         "showlegend": true,
         "type": "pie",
         "values": [
          371,
          432,
          332
         ]
        }
       ],
       "layout": {
        "font": {
         "color": "white"
        },
        "legend": {
         "tracegroupgap": 0
        },
        "paper_bgcolor": "black",
        "plot_bgcolor": "black",
        "template": {
         "data": {
          "bar": [
           {
            "error_x": {
             "color": "#2a3f5f"
            },
            "error_y": {
             "color": "#2a3f5f"
            },
            "marker": {
             "line": {
              "color": "#E5ECF6",
              "width": 0.5
             },
             "pattern": {
              "fillmode": "overlay",
              "size": 10,
              "solidity": 0.2
             }
            },
            "type": "bar"
           }
          ],
          "barpolar": [
           {
            "marker": {
             "line": {
              "color": "#E5ECF6",
              "width": 0.5
             },
             "pattern": {
              "fillmode": "overlay",
              "size": 10,
              "solidity": 0.2
             }
            },
            "type": "barpolar"
           }
          ],
          "carpet": [
           {
            "aaxis": {
             "endlinecolor": "#2a3f5f",
             "gridcolor": "white",
             "linecolor": "white",
             "minorgridcolor": "white",
             "startlinecolor": "#2a3f5f"
            },
            "baxis": {
             "endlinecolor": "#2a3f5f",
             "gridcolor": "white",
             "linecolor": "white",
             "minorgridcolor": "white",
             "startlinecolor": "#2a3f5f"
            },
            "type": "carpet"
           }
          ],
          "choropleth": [
           {
            "colorbar": {
             "outlinewidth": 0,
             "ticks": ""
            },
            "type": "choropleth"
           }
          ],
          "contour": [
           {
            "colorbar": {
             "outlinewidth": 0,
             "ticks": ""
            },
            "colorscale": [
             [
              0,
              "#0d0887"
             ],
             [
              0.1111111111111111,
              "#46039f"
             ],
             [
              0.2222222222222222,
              "#7201a8"
             ],
             [
              0.3333333333333333,
              "#9c179e"
             ],
             [
              0.4444444444444444,
              "#bd3786"
             ],
             [
              0.5555555555555556,
              "#d8576b"
             ],
             [
              0.6666666666666666,
              "#ed7953"
             ],
             [
              0.7777777777777778,
              "#fb9f3a"
             ],
             [
              0.8888888888888888,
              "#fdca26"
             ],
             [
              1,
              "#f0f921"
             ]
            ],
            "type": "contour"
           }
          ],
          "contourcarpet": [
           {
            "colorbar": {
             "outlinewidth": 0,
             "ticks": ""
            },
            "type": "contourcarpet"
           }
          ],
          "heatmap": [
           {
            "colorbar": {
             "outlinewidth": 0,
             "ticks": ""
            },
            "colorscale": [
             [
              0,
              "#0d0887"
             ],
             [
              0.1111111111111111,
              "#46039f"
             ],
             [
              0.2222222222222222,
              "#7201a8"
             ],
             [
              0.3333333333333333,
              "#9c179e"
             ],
             [
              0.4444444444444444,
              "#bd3786"
             ],
             [
              0.5555555555555556,
              "#d8576b"
             ],
             [
              0.6666666666666666,
              "#ed7953"
             ],
             [
              0.7777777777777778,
              "#fb9f3a"
             ],
             [
              0.8888888888888888,
              "#fdca26"
             ],
             [
              1,
              "#f0f921"
             ]
            ],
            "type": "heatmap"
           }
          ],
          "heatmapgl": [
           {
            "colorbar": {
             "outlinewidth": 0,
             "ticks": ""
            },
            "colorscale": [
             [
              0,
              "#0d0887"
             ],
             [
              0.1111111111111111,
              "#46039f"
             ],
             [
              0.2222222222222222,
              "#7201a8"
             ],
             [
              0.3333333333333333,
              "#9c179e"
             ],
             [
              0.4444444444444444,
              "#bd3786"
             ],
             [
              0.5555555555555556,
              "#d8576b"
             ],
             [
              0.6666666666666666,
              "#ed7953"
             ],
             [
              0.7777777777777778,
              "#fb9f3a"
             ],
             [
              0.8888888888888888,
              "#fdca26"
             ],
             [
              1,
              "#f0f921"
             ]
            ],
            "type": "heatmapgl"
           }
          ],
          "histogram": [
           {
            "marker": {
             "pattern": {
              "fillmode": "overlay",
              "size": 10,
              "solidity": 0.2
             }
            },
            "type": "histogram"
           }
          ],
          "histogram2d": [
           {
            "colorbar": {
             "outlinewidth": 0,
             "ticks": ""
            },
            "colorscale": [
             [
              0,
              "#0d0887"
             ],
             [
              0.1111111111111111,
              "#46039f"
             ],
             [
              0.2222222222222222,
              "#7201a8"
             ],
             [
              0.3333333333333333,
              "#9c179e"
             ],
             [
              0.4444444444444444,
              "#bd3786"
             ],
             [
              0.5555555555555556,
              "#d8576b"
             ],
             [
              0.6666666666666666,
              "#ed7953"
             ],
             [
              0.7777777777777778,
              "#fb9f3a"
             ],
             [
              0.8888888888888888,
              "#fdca26"
             ],
             [
              1,
              "#f0f921"
             ]
            ],
            "type": "histogram2d"
           }
          ],
          "histogram2dcontour": [
           {
            "colorbar": {
             "outlinewidth": 0,
             "ticks": ""
            },
            "colorscale": [
             [
              0,
              "#0d0887"
             ],
             [
              0.1111111111111111,
              "#46039f"
             ],
             [
              0.2222222222222222,
              "#7201a8"
             ],
             [
              0.3333333333333333,
              "#9c179e"
             ],
             [
              0.4444444444444444,
              "#bd3786"
             ],
             [
              0.5555555555555556,
              "#d8576b"
             ],
             [
              0.6666666666666666,
              "#ed7953"
             ],
             [
              0.7777777777777778,
              "#fb9f3a"
             ],
             [
              0.8888888888888888,
              "#fdca26"
             ],
             [
              1,
              "#f0f921"
             ]
            ],
            "type": "histogram2dcontour"
           }
          ],
          "mesh3d": [
           {
            "colorbar": {
             "outlinewidth": 0,
             "ticks": ""
            },
            "type": "mesh3d"
           }
          ],
          "parcoords": [
           {
            "line": {
             "colorbar": {
              "outlinewidth": 0,
              "ticks": ""
             }
            },
            "type": "parcoords"
           }
          ],
          "pie": [
           {
            "automargin": true,
            "type": "pie"
           }
          ],
          "scatter": [
           {
            "fillpattern": {
             "fillmode": "overlay",
             "size": 10,
             "solidity": 0.2
            },
            "type": "scatter"
           }
          ],
          "scatter3d": [
           {
            "line": {
             "colorbar": {
              "outlinewidth": 0,
              "ticks": ""
             }
            },
            "marker": {
             "colorbar": {
              "outlinewidth": 0,
              "ticks": ""
             }
            },
            "type": "scatter3d"
           }
          ],
          "scattercarpet": [
           {
            "marker": {
             "colorbar": {
              "outlinewidth": 0,
              "ticks": ""
             }
            },
            "type": "scattercarpet"
           }
          ],
          "scattergeo": [
           {
            "marker": {
             "colorbar": {
              "outlinewidth": 0,
              "ticks": ""
             }
            },
            "type": "scattergeo"
           }
          ],
          "scattergl": [
           {
            "marker": {
             "colorbar": {
              "outlinewidth": 0,
              "ticks": ""
             }
            },
            "type": "scattergl"
           }
          ],
          "scattermapbox": [
           {
            "marker": {
             "colorbar": {
              "outlinewidth": 0,
              "ticks": ""
             }
            },
            "type": "scattermapbox"
           }
          ],
          "scatterpolar": [
           {
            "marker": {
             "colorbar": {
              "outlinewidth": 0,
              "ticks": ""
             }
            },
            "type": "scatterpolar"
           }
          ],
          "scatterpolargl": [
           {
            "marker": {
             "colorbar": {
              "outlinewidth": 0,
              "ticks": ""
             }
            },
            "type": "scatterpolargl"
           }
          ],
          "scatterternary": [
           {
            "marker": {
             "colorbar": {
              "outlinewidth": 0,
              "ticks": ""
             }
            },
            "type": "scatterternary"
           }
          ],
          "surface": [
           {
            "colorbar": {
             "outlinewidth": 0,
             "ticks": ""
            },
            "colorscale": [
             [
              0,
              "#0d0887"
             ],
             [
              0.1111111111111111,
              "#46039f"
             ],
             [
              0.2222222222222222,
              "#7201a8"
             ],
             [
              0.3333333333333333,
              "#9c179e"
             ],
             [
              0.4444444444444444,
              "#bd3786"
             ],
             [
              0.5555555555555556,
              "#d8576b"
             ],
             [
              0.6666666666666666,
              "#ed7953"
             ],
             [
              0.7777777777777778,
              "#fb9f3a"
             ],
             [
              0.8888888888888888,
              "#fdca26"
             ],
             [
              1,
              "#f0f921"
             ]
            ],
            "type": "surface"
           }
          ],
          "table": [
           {
            "cells": {
             "fill": {
              "color": "#EBF0F8"
             },
             "line": {
              "color": "white"
             }
            },
            "header": {
             "fill": {
              "color": "#C8D4E3"
             },
             "line": {
              "color": "white"
             }
            },
            "type": "table"
           }
          ]
         },
         "layout": {
          "annotationdefaults": {
           "arrowcolor": "#2a3f5f",
           "arrowhead": 0,
           "arrowwidth": 1
          },
          "autotypenumbers": "strict",
          "coloraxis": {
           "colorbar": {
            "outlinewidth": 0,
            "ticks": ""
           }
          },
          "colorscale": {
           "diverging": [
            [
             0,
             "#8e0152"
            ],
            [
             0.1,
             "#c51b7d"
            ],
            [
             0.2,
             "#de77ae"
            ],
            [
             0.3,
             "#f1b6da"
            ],
            [
             0.4,
             "#fde0ef"
            ],
            [
             0.5,
             "#f7f7f7"
            ],
            [
             0.6,
             "#e6f5d0"
            ],
            [
             0.7,
             "#b8e186"
            ],
            [
             0.8,
             "#7fbc41"
            ],
            [
             0.9,
             "#4d9221"
            ],
            [
             1,
             "#276419"
            ]
           ],
           "sequential": [
            [
             0,
             "#0d0887"
            ],
            [
             0.1111111111111111,
             "#46039f"
            ],
            [
             0.2222222222222222,
             "#7201a8"
            ],
            [
             0.3333333333333333,
             "#9c179e"
            ],
            [
             0.4444444444444444,
             "#bd3786"
            ],
            [
             0.5555555555555556,
             "#d8576b"
            ],
            [
             0.6666666666666666,
             "#ed7953"
            ],
            [
             0.7777777777777778,
             "#fb9f3a"
            ],
            [
             0.8888888888888888,
             "#fdca26"
            ],
            [
             1,
             "#f0f921"
            ]
           ],
           "sequentialminus": [
            [
             0,
             "#0d0887"
            ],
            [
             0.1111111111111111,
             "#46039f"
            ],
            [
             0.2222222222222222,
             "#7201a8"
            ],
            [
             0.3333333333333333,
             "#9c179e"
            ],
            [
             0.4444444444444444,
             "#bd3786"
            ],
            [
             0.5555555555555556,
             "#d8576b"
            ],
            [
             0.6666666666666666,
             "#ed7953"
            ],
            [
             0.7777777777777778,
             "#fb9f3a"
            ],
            [
             0.8888888888888888,
             "#fdca26"
            ],
            [
             1,
             "#f0f921"
            ]
           ]
          },
          "colorway": [
           "#636efa",
           "#EF553B",
           "#00cc96",
           "#ab63fa",
           "#FFA15A",
           "#19d3f3",
           "#FF6692",
           "#B6E880",
           "#FF97FF",
           "#FECB52"
          ],
          "font": {
           "color": "#2a3f5f"
          },
          "geo": {
           "bgcolor": "white",
           "lakecolor": "white",
           "landcolor": "#E5ECF6",
           "showlakes": true,
           "showland": true,
           "subunitcolor": "white"
          },
          "hoverlabel": {
           "align": "left"
          },
          "hovermode": "closest",
          "mapbox": {
           "style": "light"
          },
          "paper_bgcolor": "white",
          "plot_bgcolor": "#E5ECF6",
          "polar": {
           "angularaxis": {
            "gridcolor": "white",
            "linecolor": "white",
            "ticks": ""
           },
           "bgcolor": "#E5ECF6",
           "radialaxis": {
            "gridcolor": "white",
            "linecolor": "white",
            "ticks": ""
           }
          },
          "scene": {
           "xaxis": {
            "backgroundcolor": "#E5ECF6",
            "gridcolor": "white",
            "gridwidth": 2,
            "linecolor": "white",
            "showbackground": true,
            "ticks": "",
            "zerolinecolor": "white"
           },
           "yaxis": {
            "backgroundcolor": "#E5ECF6",
            "gridcolor": "white",
            "gridwidth": 2,
            "linecolor": "white",
            "showbackground": true,
            "ticks": "",
            "zerolinecolor": "white"
           },
           "zaxis": {
            "backgroundcolor": "#E5ECF6",
            "gridcolor": "white",
            "gridwidth": 2,
            "linecolor": "white",
            "showbackground": true,
            "ticks": "",
            "zerolinecolor": "white"
           }
          },
          "shapedefaults": {
           "line": {
            "color": "#2a3f5f"
           }
          },
          "ternary": {
           "aaxis": {
            "gridcolor": "white",
            "linecolor": "white",
            "ticks": ""
           },
           "baxis": {
            "gridcolor": "white",
            "linecolor": "white",
            "ticks": ""
           },
           "bgcolor": "#E5ECF6",
           "caxis": {
            "gridcolor": "white",
            "linecolor": "white",
            "ticks": ""
           }
          },
          "title": {
           "x": 0.05
          },
          "xaxis": {
           "automargin": true,
           "gridcolor": "white",
           "linecolor": "white",
           "ticks": "",
           "title": {
            "standoff": 15
           },
           "zerolinecolor": "white",
           "zerolinewidth": 2
          },
          "yaxis": {
           "automargin": true,
           "gridcolor": "white",
           "linecolor": "white",
           "ticks": "",
           "title": {
            "standoff": 15
           },
           "zerolinecolor": "white",
           "zerolinewidth": 2
          }
         }
        },
        "title": {
         "font": {
          "color": "white"
         },
         "text": "Medaljfördelning för Ungern (guld, silver, brons)"
        }
       }
      },
      "text/html": [
       "<div>                            <div id=\"62e42ca6-5122-4335-b6c8-30d703c2b872\" class=\"plotly-graph-div\" style=\"height:525px; width:100%;\"></div>            <script type=\"text/javascript\">                require([\"plotly\"], function(Plotly) {                    window.PLOTLYENV=window.PLOTLYENV || {};                                    if (document.getElementById(\"62e42ca6-5122-4335-b6c8-30d703c2b872\")) {                    Plotly.newPlot(                        \"62e42ca6-5122-4335-b6c8-30d703c2b872\",                        [{\"customdata\":[[\"Bronze\"],[\"Gold\"],[\"Silver\"]],\"domain\":{\"x\":[0.0,1.0],\"y\":[0.0,1.0]},\"hovertemplate\":\"Medaljtyp=%{customdata[0]}\\u003cbr\\u003eAntal=%{value}\\u003cextra\\u003e\\u003c\\u002fextra\\u003e\",\"labels\":[\"Bronze\",\"Gold\",\"Silver\"],\"legendgroup\":\"\",\"marker\":{\"colors\":[\"#CD7F32\",\"#FFD700\",\"#C0C0C0\"]},\"name\":\"\",\"showlegend\":true,\"values\":[371,432,332],\"type\":\"pie\"}],                        {\"template\":{\"data\":{\"histogram2dcontour\":[{\"type\":\"histogram2dcontour\",\"colorbar\":{\"outlinewidth\":0,\"ticks\":\"\"},\"colorscale\":[[0.0,\"#0d0887\"],[0.1111111111111111,\"#46039f\"],[0.2222222222222222,\"#7201a8\"],[0.3333333333333333,\"#9c179e\"],[0.4444444444444444,\"#bd3786\"],[0.5555555555555556,\"#d8576b\"],[0.6666666666666666,\"#ed7953\"],[0.7777777777777778,\"#fb9f3a\"],[0.8888888888888888,\"#fdca26\"],[1.0,\"#f0f921\"]]}],\"choropleth\":[{\"type\":\"choropleth\",\"colorbar\":{\"outlinewidth\":0,\"ticks\":\"\"}}],\"histogram2d\":[{\"type\":\"histogram2d\",\"colorbar\":{\"outlinewidth\":0,\"ticks\":\"\"},\"colorscale\":[[0.0,\"#0d0887\"],[0.1111111111111111,\"#46039f\"],[0.2222222222222222,\"#7201a8\"],[0.3333333333333333,\"#9c179e\"],[0.4444444444444444,\"#bd3786\"],[0.5555555555555556,\"#d8576b\"],[0.6666666666666666,\"#ed7953\"],[0.7777777777777778,\"#fb9f3a\"],[0.8888888888888888,\"#fdca26\"],[1.0,\"#f0f921\"]]}],\"heatmap\":[{\"type\":\"heatmap\",\"colorbar\":{\"outlinewidth\":0,\"ticks\":\"\"},\"colorscale\":[[0.0,\"#0d0887\"],[0.1111111111111111,\"#46039f\"],[0.2222222222222222,\"#7201a8\"],[0.3333333333333333,\"#9c179e\"],[0.4444444444444444,\"#bd3786\"],[0.5555555555555556,\"#d8576b\"],[0.6666666666666666,\"#ed7953\"],[0.7777777777777778,\"#fb9f3a\"],[0.8888888888888888,\"#fdca26\"],[1.0,\"#f0f921\"]]}],\"heatmapgl\":[{\"type\":\"heatmapgl\",\"colorbar\":{\"outlinewidth\":0,\"ticks\":\"\"},\"colorscale\":[[0.0,\"#0d0887\"],[0.1111111111111111,\"#46039f\"],[0.2222222222222222,\"#7201a8\"],[0.3333333333333333,\"#9c179e\"],[0.4444444444444444,\"#bd3786\"],[0.5555555555555556,\"#d8576b\"],[0.6666666666666666,\"#ed7953\"],[0.7777777777777778,\"#fb9f3a\"],[0.8888888888888888,\"#fdca26\"],[1.0,\"#f0f921\"]]}],\"contourcarpet\":[{\"type\":\"contourcarpet\",\"colorbar\":{\"outlinewidth\":0,\"ticks\":\"\"}}],\"contour\":[{\"type\":\"contour\",\"colorbar\":{\"outlinewidth\":0,\"ticks\":\"\"},\"colorscale\":[[0.0,\"#0d0887\"],[0.1111111111111111,\"#46039f\"],[0.2222222222222222,\"#7201a8\"],[0.3333333333333333,\"#9c179e\"],[0.4444444444444444,\"#bd3786\"],[0.5555555555555556,\"#d8576b\"],[0.6666666666666666,\"#ed7953\"],[0.7777777777777778,\"#fb9f3a\"],[0.8888888888888888,\"#fdca26\"],[1.0,\"#f0f921\"]]}],\"surface\":[{\"type\":\"surface\",\"colorbar\":{\"outlinewidth\":0,\"ticks\":\"\"},\"colorscale\":[[0.0,\"#0d0887\"],[0.1111111111111111,\"#46039f\"],[0.2222222222222222,\"#7201a8\"],[0.3333333333333333,\"#9c179e\"],[0.4444444444444444,\"#bd3786\"],[0.5555555555555556,\"#d8576b\"],[0.6666666666666666,\"#ed7953\"],[0.7777777777777778,\"#fb9f3a\"],[0.8888888888888888,\"#fdca26\"],[1.0,\"#f0f921\"]]}],\"mesh3d\":[{\"type\":\"mesh3d\",\"colorbar\":{\"outlinewidth\":0,\"ticks\":\"\"}}],\"scatter\":[{\"fillpattern\":{\"fillmode\":\"overlay\",\"size\":10,\"solidity\":0.2},\"type\":\"scatter\"}],\"parcoords\":[{\"type\":\"parcoords\",\"line\":{\"colorbar\":{\"outlinewidth\":0,\"ticks\":\"\"}}}],\"scatterpolargl\":[{\"type\":\"scatterpolargl\",\"marker\":{\"colorbar\":{\"outlinewidth\":0,\"ticks\":\"\"}}}],\"bar\":[{\"error_x\":{\"color\":\"#2a3f5f\"},\"error_y\":{\"color\":\"#2a3f5f\"},\"marker\":{\"line\":{\"color\":\"#E5ECF6\",\"width\":0.5},\"pattern\":{\"fillmode\":\"overlay\",\"size\":10,\"solidity\":0.2}},\"type\":\"bar\"}],\"scattergeo\":[{\"type\":\"scattergeo\",\"marker\":{\"colorbar\":{\"outlinewidth\":0,\"ticks\":\"\"}}}],\"scatterpolar\":[{\"type\":\"scatterpolar\",\"marker\":{\"colorbar\":{\"outlinewidth\":0,\"ticks\":\"\"}}}],\"histogram\":[{\"marker\":{\"pattern\":{\"fillmode\":\"overlay\",\"size\":10,\"solidity\":0.2}},\"type\":\"histogram\"}],\"scattergl\":[{\"type\":\"scattergl\",\"marker\":{\"colorbar\":{\"outlinewidth\":0,\"ticks\":\"\"}}}],\"scatter3d\":[{\"type\":\"scatter3d\",\"line\":{\"colorbar\":{\"outlinewidth\":0,\"ticks\":\"\"}},\"marker\":{\"colorbar\":{\"outlinewidth\":0,\"ticks\":\"\"}}}],\"scattermapbox\":[{\"type\":\"scattermapbox\",\"marker\":{\"colorbar\":{\"outlinewidth\":0,\"ticks\":\"\"}}}],\"scatterternary\":[{\"type\":\"scatterternary\",\"marker\":{\"colorbar\":{\"outlinewidth\":0,\"ticks\":\"\"}}}],\"scattercarpet\":[{\"type\":\"scattercarpet\",\"marker\":{\"colorbar\":{\"outlinewidth\":0,\"ticks\":\"\"}}}],\"carpet\":[{\"aaxis\":{\"endlinecolor\":\"#2a3f5f\",\"gridcolor\":\"white\",\"linecolor\":\"white\",\"minorgridcolor\":\"white\",\"startlinecolor\":\"#2a3f5f\"},\"baxis\":{\"endlinecolor\":\"#2a3f5f\",\"gridcolor\":\"white\",\"linecolor\":\"white\",\"minorgridcolor\":\"white\",\"startlinecolor\":\"#2a3f5f\"},\"type\":\"carpet\"}],\"table\":[{\"cells\":{\"fill\":{\"color\":\"#EBF0F8\"},\"line\":{\"color\":\"white\"}},\"header\":{\"fill\":{\"color\":\"#C8D4E3\"},\"line\":{\"color\":\"white\"}},\"type\":\"table\"}],\"barpolar\":[{\"marker\":{\"line\":{\"color\":\"#E5ECF6\",\"width\":0.5},\"pattern\":{\"fillmode\":\"overlay\",\"size\":10,\"solidity\":0.2}},\"type\":\"barpolar\"}],\"pie\":[{\"automargin\":true,\"type\":\"pie\"}]},\"layout\":{\"autotypenumbers\":\"strict\",\"colorway\":[\"#636efa\",\"#EF553B\",\"#00cc96\",\"#ab63fa\",\"#FFA15A\",\"#19d3f3\",\"#FF6692\",\"#B6E880\",\"#FF97FF\",\"#FECB52\"],\"font\":{\"color\":\"#2a3f5f\"},\"hovermode\":\"closest\",\"hoverlabel\":{\"align\":\"left\"},\"paper_bgcolor\":\"white\",\"plot_bgcolor\":\"#E5ECF6\",\"polar\":{\"bgcolor\":\"#E5ECF6\",\"angularaxis\":{\"gridcolor\":\"white\",\"linecolor\":\"white\",\"ticks\":\"\"},\"radialaxis\":{\"gridcolor\":\"white\",\"linecolor\":\"white\",\"ticks\":\"\"}},\"ternary\":{\"bgcolor\":\"#E5ECF6\",\"aaxis\":{\"gridcolor\":\"white\",\"linecolor\":\"white\",\"ticks\":\"\"},\"baxis\":{\"gridcolor\":\"white\",\"linecolor\":\"white\",\"ticks\":\"\"},\"caxis\":{\"gridcolor\":\"white\",\"linecolor\":\"white\",\"ticks\":\"\"}},\"coloraxis\":{\"colorbar\":{\"outlinewidth\":0,\"ticks\":\"\"}},\"colorscale\":{\"sequential\":[[0.0,\"#0d0887\"],[0.1111111111111111,\"#46039f\"],[0.2222222222222222,\"#7201a8\"],[0.3333333333333333,\"#9c179e\"],[0.4444444444444444,\"#bd3786\"],[0.5555555555555556,\"#d8576b\"],[0.6666666666666666,\"#ed7953\"],[0.7777777777777778,\"#fb9f3a\"],[0.8888888888888888,\"#fdca26\"],[1.0,\"#f0f921\"]],\"sequentialminus\":[[0.0,\"#0d0887\"],[0.1111111111111111,\"#46039f\"],[0.2222222222222222,\"#7201a8\"],[0.3333333333333333,\"#9c179e\"],[0.4444444444444444,\"#bd3786\"],[0.5555555555555556,\"#d8576b\"],[0.6666666666666666,\"#ed7953\"],[0.7777777777777778,\"#fb9f3a\"],[0.8888888888888888,\"#fdca26\"],[1.0,\"#f0f921\"]],\"diverging\":[[0,\"#8e0152\"],[0.1,\"#c51b7d\"],[0.2,\"#de77ae\"],[0.3,\"#f1b6da\"],[0.4,\"#fde0ef\"],[0.5,\"#f7f7f7\"],[0.6,\"#e6f5d0\"],[0.7,\"#b8e186\"],[0.8,\"#7fbc41\"],[0.9,\"#4d9221\"],[1,\"#276419\"]]},\"xaxis\":{\"gridcolor\":\"white\",\"linecolor\":\"white\",\"ticks\":\"\",\"title\":{\"standoff\":15},\"zerolinecolor\":\"white\",\"automargin\":true,\"zerolinewidth\":2},\"yaxis\":{\"gridcolor\":\"white\",\"linecolor\":\"white\",\"ticks\":\"\",\"title\":{\"standoff\":15},\"zerolinecolor\":\"white\",\"automargin\":true,\"zerolinewidth\":2},\"scene\":{\"xaxis\":{\"backgroundcolor\":\"#E5ECF6\",\"gridcolor\":\"white\",\"linecolor\":\"white\",\"showbackground\":true,\"ticks\":\"\",\"zerolinecolor\":\"white\",\"gridwidth\":2},\"yaxis\":{\"backgroundcolor\":\"#E5ECF6\",\"gridcolor\":\"white\",\"linecolor\":\"white\",\"showbackground\":true,\"ticks\":\"\",\"zerolinecolor\":\"white\",\"gridwidth\":2},\"zaxis\":{\"backgroundcolor\":\"#E5ECF6\",\"gridcolor\":\"white\",\"linecolor\":\"white\",\"showbackground\":true,\"ticks\":\"\",\"zerolinecolor\":\"white\",\"gridwidth\":2}},\"shapedefaults\":{\"line\":{\"color\":\"#2a3f5f\"}},\"annotationdefaults\":{\"arrowcolor\":\"#2a3f5f\",\"arrowhead\":0,\"arrowwidth\":1},\"geo\":{\"bgcolor\":\"white\",\"landcolor\":\"#E5ECF6\",\"subunitcolor\":\"white\",\"showland\":true,\"showlakes\":true,\"lakecolor\":\"white\"},\"title\":{\"x\":0.05},\"mapbox\":{\"style\":\"light\"}}},\"legend\":{\"tracegroupgap\":0},\"title\":{\"text\":\"Medaljf\\u00f6rdelning f\\u00f6r Ungern (guld, silver, brons)\",\"font\":{\"color\":\"white\"}},\"font\":{\"color\":\"white\"},\"plot_bgcolor\":\"black\",\"paper_bgcolor\":\"black\"},                        {\"responsive\": true}                    ).then(function(){\n",
       "                            \n",
       "var gd = document.getElementById('62e42ca6-5122-4335-b6c8-30d703c2b872');\n",
       "var x = new MutationObserver(function (mutations, observer) {{\n",
       "        var display = window.getComputedStyle(gd).display;\n",
       "        if (!display || display === 'none') {{\n",
       "            console.log([gd, 'removed!']);\n",
       "            Plotly.purge(gd);\n",
       "            observer.disconnect();\n",
       "        }}\n",
       "}});\n",
       "\n",
       "// Listen for the removal of the full notebook cells\n",
       "var notebookContainer = gd.closest('#notebook-container');\n",
       "if (notebookContainer) {{\n",
       "    x.observe(notebookContainer, {childList: true});\n",
       "}}\n",
       "\n",
       "// Listen for the clearing of the current output cell\n",
       "var outputEl = gd.closest('.output');\n",
       "if (outputEl) {{\n",
       "    x.observe(outputEl, {childList: true});\n",
       "}}\n",
       "\n",
       "                        })                };                });            </script>        </div>"
      ]
     },
     "metadata": {},
     "output_type": "display_data"
    }
   ],
   "source": [
    "\n",
    "\n",
    "medal_distribution = hungary[hungary[\"Medal\"].notnull()].groupby(\"Medal\").size().reset_index(name=\"Count\")\n",
    "\n",
    "\n",
    "fig = px.pie(\n",
    "    medal_distribution,\n",
    "    names=\"Medal\",\n",
    "    values=\"Count\",\n",
    "    title=\"Medaljfördelning för Ungern (guld, silver, brons)\",\n",
    "    labels={\"Medal\": \"Medaljtyp\", \"Count\": \"Antal\"},\n",
    "    color=\"Medal\",\n",
    "    color_discrete_map={\"Gold\": \"#FFD700\", \"Silver\": \"#C0C0C0\", \"Bronze\": \"#CD7F32\"}  # Anpassade färger\n",
    ")\n",
    "\n",
    "\n",
    "fig.update_layout(\n",
    "    plot_bgcolor=\"black\",  \n",
    "    paper_bgcolor=\"black\",  \n",
    "    font=dict(color=\"white\"),  \n",
    "    title_font=dict(color=\"white\")\n",
    ")\n",
    "\n",
    "\n",
    "fig.show()\n"
   ]
  },
  {
   "cell_type": "code",
   "execution_count": 34,
   "metadata": {},
   "outputs": [
    {
     "data": {
      "application/vnd.plotly.v1+json": {
       "config": {
        "plotlyServerURL": "https://plot.ly"
       },
       "data": [
        {
         "hovertemplate": "År=%{x}<br>Antal medaljer=%{y}<extra></extra>",
         "legendgroup": "",
         "line": {
          "color": "#636efa",
          "dash": "solid"
         },
         "marker": {
          "symbol": "circle"
         },
         "mode": "lines",
         "name": "",
         "orientation": "v",
         "showlegend": false,
         "type": "scatter",
         "x": [
          1896,
          1900,
          1904,
          1906,
          1908,
          1912,
          1924,
          1928,
          1932,
          1936,
          1948,
          1952,
          1956,
          1960,
          1964,
          1968,
          1972,
          1976,
          1980,
          1988,
          1992,
          1996,
          2000,
          2004,
          2008,
          2012,
          2016
         ],
         "xaxis": "x",
         "y": [
          6,
          5,
          4,
          13,
          20,
          30,
          22,
          21,
          35,
          43,
          64,
          104,
          66,
          66,
          56,
          81,
          81,
          55,
          63,
          44,
          45,
          43,
          53,
          40,
          27,
          26,
          22
         ],
         "yaxis": "y"
        }
       ],
       "layout": {
        "legend": {
         "tracegroupgap": 0
        },
        "template": {
         "data": {
          "bar": [
           {
            "error_x": {
             "color": "#2a3f5f"
            },
            "error_y": {
             "color": "#2a3f5f"
            },
            "marker": {
             "line": {
              "color": "#E5ECF6",
              "width": 0.5
             },
             "pattern": {
              "fillmode": "overlay",
              "size": 10,
              "solidity": 0.2
             }
            },
            "type": "bar"
           }
          ],
          "barpolar": [
           {
            "marker": {
             "line": {
              "color": "#E5ECF6",
              "width": 0.5
             },
             "pattern": {
              "fillmode": "overlay",
              "size": 10,
              "solidity": 0.2
             }
            },
            "type": "barpolar"
           }
          ],
          "carpet": [
           {
            "aaxis": {
             "endlinecolor": "#2a3f5f",
             "gridcolor": "white",
             "linecolor": "white",
             "minorgridcolor": "white",
             "startlinecolor": "#2a3f5f"
            },
            "baxis": {
             "endlinecolor": "#2a3f5f",
             "gridcolor": "white",
             "linecolor": "white",
             "minorgridcolor": "white",
             "startlinecolor": "#2a3f5f"
            },
            "type": "carpet"
           }
          ],
          "choropleth": [
           {
            "colorbar": {
             "outlinewidth": 0,
             "ticks": ""
            },
            "type": "choropleth"
           }
          ],
          "contour": [
           {
            "colorbar": {
             "outlinewidth": 0,
             "ticks": ""
            },
            "colorscale": [
             [
              0,
              "#0d0887"
             ],
             [
              0.1111111111111111,
              "#46039f"
             ],
             [
              0.2222222222222222,
              "#7201a8"
             ],
             [
              0.3333333333333333,
              "#9c179e"
             ],
             [
              0.4444444444444444,
              "#bd3786"
             ],
             [
              0.5555555555555556,
              "#d8576b"
             ],
             [
              0.6666666666666666,
              "#ed7953"
             ],
             [
              0.7777777777777778,
              "#fb9f3a"
             ],
             [
              0.8888888888888888,
              "#fdca26"
             ],
             [
              1,
              "#f0f921"
             ]
            ],
            "type": "contour"
           }
          ],
          "contourcarpet": [
           {
            "colorbar": {
             "outlinewidth": 0,
             "ticks": ""
            },
            "type": "contourcarpet"
           }
          ],
          "heatmap": [
           {
            "colorbar": {
             "outlinewidth": 0,
             "ticks": ""
            },
            "colorscale": [
             [
              0,
              "#0d0887"
             ],
             [
              0.1111111111111111,
              "#46039f"
             ],
             [
              0.2222222222222222,
              "#7201a8"
             ],
             [
              0.3333333333333333,
              "#9c179e"
             ],
             [
              0.4444444444444444,
              "#bd3786"
             ],
             [
              0.5555555555555556,
              "#d8576b"
             ],
             [
              0.6666666666666666,
              "#ed7953"
             ],
             [
              0.7777777777777778,
              "#fb9f3a"
             ],
             [
              0.8888888888888888,
              "#fdca26"
             ],
             [
              1,
              "#f0f921"
             ]
            ],
            "type": "heatmap"
           }
          ],
          "heatmapgl": [
           {
            "colorbar": {
             "outlinewidth": 0,
             "ticks": ""
            },
            "colorscale": [
             [
              0,
              "#0d0887"
             ],
             [
              0.1111111111111111,
              "#46039f"
             ],
             [
              0.2222222222222222,
              "#7201a8"
             ],
             [
              0.3333333333333333,
              "#9c179e"
             ],
             [
              0.4444444444444444,
              "#bd3786"
             ],
             [
              0.5555555555555556,
              "#d8576b"
             ],
             [
              0.6666666666666666,
              "#ed7953"
             ],
             [
              0.7777777777777778,
              "#fb9f3a"
             ],
             [
              0.8888888888888888,
              "#fdca26"
             ],
             [
              1,
              "#f0f921"
             ]
            ],
            "type": "heatmapgl"
           }
          ],
          "histogram": [
           {
            "marker": {
             "pattern": {
              "fillmode": "overlay",
              "size": 10,
              "solidity": 0.2
             }
            },
            "type": "histogram"
           }
          ],
          "histogram2d": [
           {
            "colorbar": {
             "outlinewidth": 0,
             "ticks": ""
            },
            "colorscale": [
             [
              0,
              "#0d0887"
             ],
             [
              0.1111111111111111,
              "#46039f"
             ],
             [
              0.2222222222222222,
              "#7201a8"
             ],
             [
              0.3333333333333333,
              "#9c179e"
             ],
             [
              0.4444444444444444,
              "#bd3786"
             ],
             [
              0.5555555555555556,
              "#d8576b"
             ],
             [
              0.6666666666666666,
              "#ed7953"
             ],
             [
              0.7777777777777778,
              "#fb9f3a"
             ],
             [
              0.8888888888888888,
              "#fdca26"
             ],
             [
              1,
              "#f0f921"
             ]
            ],
            "type": "histogram2d"
           }
          ],
          "histogram2dcontour": [
           {
            "colorbar": {
             "outlinewidth": 0,
             "ticks": ""
            },
            "colorscale": [
             [
              0,
              "#0d0887"
             ],
             [
              0.1111111111111111,
              "#46039f"
             ],
             [
              0.2222222222222222,
              "#7201a8"
             ],
             [
              0.3333333333333333,
              "#9c179e"
             ],
             [
              0.4444444444444444,
              "#bd3786"
             ],
             [
              0.5555555555555556,
              "#d8576b"
             ],
             [
              0.6666666666666666,
              "#ed7953"
             ],
             [
              0.7777777777777778,
              "#fb9f3a"
             ],
             [
              0.8888888888888888,
              "#fdca26"
             ],
             [
              1,
              "#f0f921"
             ]
            ],
            "type": "histogram2dcontour"
           }
          ],
          "mesh3d": [
           {
            "colorbar": {
             "outlinewidth": 0,
             "ticks": ""
            },
            "type": "mesh3d"
           }
          ],
          "parcoords": [
           {
            "line": {
             "colorbar": {
              "outlinewidth": 0,
              "ticks": ""
             }
            },
            "type": "parcoords"
           }
          ],
          "pie": [
           {
            "automargin": true,
            "type": "pie"
           }
          ],
          "scatter": [
           {
            "fillpattern": {
             "fillmode": "overlay",
             "size": 10,
             "solidity": 0.2
            },
            "type": "scatter"
           }
          ],
          "scatter3d": [
           {
            "line": {
             "colorbar": {
              "outlinewidth": 0,
              "ticks": ""
             }
            },
            "marker": {
             "colorbar": {
              "outlinewidth": 0,
              "ticks": ""
             }
            },
            "type": "scatter3d"
           }
          ],
          "scattercarpet": [
           {
            "marker": {
             "colorbar": {
              "outlinewidth": 0,
              "ticks": ""
             }
            },
            "type": "scattercarpet"
           }
          ],
          "scattergeo": [
           {
            "marker": {
             "colorbar": {
              "outlinewidth": 0,
              "ticks": ""
             }
            },
            "type": "scattergeo"
           }
          ],
          "scattergl": [
           {
            "marker": {
             "colorbar": {
              "outlinewidth": 0,
              "ticks": ""
             }
            },
            "type": "scattergl"
           }
          ],
          "scattermapbox": [
           {
            "marker": {
             "colorbar": {
              "outlinewidth": 0,
              "ticks": ""
             }
            },
            "type": "scattermapbox"
           }
          ],
          "scatterpolar": [
           {
            "marker": {
             "colorbar": {
              "outlinewidth": 0,
              "ticks": ""
             }
            },
            "type": "scatterpolar"
           }
          ],
          "scatterpolargl": [
           {
            "marker": {
             "colorbar": {
              "outlinewidth": 0,
              "ticks": ""
             }
            },
            "type": "scatterpolargl"
           }
          ],
          "scatterternary": [
           {
            "marker": {
             "colorbar": {
              "outlinewidth": 0,
              "ticks": ""
             }
            },
            "type": "scatterternary"
           }
          ],
          "surface": [
           {
            "colorbar": {
             "outlinewidth": 0,
             "ticks": ""
            },
            "colorscale": [
             [
              0,
              "#0d0887"
             ],
             [
              0.1111111111111111,
              "#46039f"
             ],
             [
              0.2222222222222222,
              "#7201a8"
             ],
             [
              0.3333333333333333,
              "#9c179e"
             ],
             [
              0.4444444444444444,
              "#bd3786"
             ],
             [
              0.5555555555555556,
              "#d8576b"
             ],
             [
              0.6666666666666666,
              "#ed7953"
             ],
             [
              0.7777777777777778,
              "#fb9f3a"
             ],
             [
              0.8888888888888888,
              "#fdca26"
             ],
             [
              1,
              "#f0f921"
             ]
            ],
            "type": "surface"
           }
          ],
          "table": [
           {
            "cells": {
             "fill": {
              "color": "#EBF0F8"
             },
             "line": {
              "color": "white"
             }
            },
            "header": {
             "fill": {
              "color": "#C8D4E3"
             },
             "line": {
              "color": "white"
             }
            },
            "type": "table"
           }
          ]
         },
         "layout": {
          "annotationdefaults": {
           "arrowcolor": "#2a3f5f",
           "arrowhead": 0,
           "arrowwidth": 1
          },
          "autotypenumbers": "strict",
          "coloraxis": {
           "colorbar": {
            "outlinewidth": 0,
            "ticks": ""
           }
          },
          "colorscale": {
           "diverging": [
            [
             0,
             "#8e0152"
            ],
            [
             0.1,
             "#c51b7d"
            ],
            [
             0.2,
             "#de77ae"
            ],
            [
             0.3,
             "#f1b6da"
            ],
            [
             0.4,
             "#fde0ef"
            ],
            [
             0.5,
             "#f7f7f7"
            ],
            [
             0.6,
             "#e6f5d0"
            ],
            [
             0.7,
             "#b8e186"
            ],
            [
             0.8,
             "#7fbc41"
            ],
            [
             0.9,
             "#4d9221"
            ],
            [
             1,
             "#276419"
            ]
           ],
           "sequential": [
            [
             0,
             "#0d0887"
            ],
            [
             0.1111111111111111,
             "#46039f"
            ],
            [
             0.2222222222222222,
             "#7201a8"
            ],
            [
             0.3333333333333333,
             "#9c179e"
            ],
            [
             0.4444444444444444,
             "#bd3786"
            ],
            [
             0.5555555555555556,
             "#d8576b"
            ],
            [
             0.6666666666666666,
             "#ed7953"
            ],
            [
             0.7777777777777778,
             "#fb9f3a"
            ],
            [
             0.8888888888888888,
             "#fdca26"
            ],
            [
             1,
             "#f0f921"
            ]
           ],
           "sequentialminus": [
            [
             0,
             "#0d0887"
            ],
            [
             0.1111111111111111,
             "#46039f"
            ],
            [
             0.2222222222222222,
             "#7201a8"
            ],
            [
             0.3333333333333333,
             "#9c179e"
            ],
            [
             0.4444444444444444,
             "#bd3786"
            ],
            [
             0.5555555555555556,
             "#d8576b"
            ],
            [
             0.6666666666666666,
             "#ed7953"
            ],
            [
             0.7777777777777778,
             "#fb9f3a"
            ],
            [
             0.8888888888888888,
             "#fdca26"
            ],
            [
             1,
             "#f0f921"
            ]
           ]
          },
          "colorway": [
           "#636efa",
           "#EF553B",
           "#00cc96",
           "#ab63fa",
           "#FFA15A",
           "#19d3f3",
           "#FF6692",
           "#B6E880",
           "#FF97FF",
           "#FECB52"
          ],
          "font": {
           "color": "#2a3f5f"
          },
          "geo": {
           "bgcolor": "white",
           "lakecolor": "white",
           "landcolor": "#E5ECF6",
           "showlakes": true,
           "showland": true,
           "subunitcolor": "white"
          },
          "hoverlabel": {
           "align": "left"
          },
          "hovermode": "closest",
          "mapbox": {
           "style": "light"
          },
          "paper_bgcolor": "white",
          "plot_bgcolor": "#E5ECF6",
          "polar": {
           "angularaxis": {
            "gridcolor": "white",
            "linecolor": "white",
            "ticks": ""
           },
           "bgcolor": "#E5ECF6",
           "radialaxis": {
            "gridcolor": "white",
            "linecolor": "white",
            "ticks": ""
           }
          },
          "scene": {
           "xaxis": {
            "backgroundcolor": "#E5ECF6",
            "gridcolor": "white",
            "gridwidth": 2,
            "linecolor": "white",
            "showbackground": true,
            "ticks": "",
            "zerolinecolor": "white"
           },
           "yaxis": {
            "backgroundcolor": "#E5ECF6",
            "gridcolor": "white",
            "gridwidth": 2,
            "linecolor": "white",
            "showbackground": true,
            "ticks": "",
            "zerolinecolor": "white"
           },
           "zaxis": {
            "backgroundcolor": "#E5ECF6",
            "gridcolor": "white",
            "gridwidth": 2,
            "linecolor": "white",
            "showbackground": true,
            "ticks": "",
            "zerolinecolor": "white"
           }
          },
          "shapedefaults": {
           "line": {
            "color": "#2a3f5f"
           }
          },
          "ternary": {
           "aaxis": {
            "gridcolor": "white",
            "linecolor": "white",
            "ticks": ""
           },
           "baxis": {
            "gridcolor": "white",
            "linecolor": "white",
            "ticks": ""
           },
           "bgcolor": "#E5ECF6",
           "caxis": {
            "gridcolor": "white",
            "linecolor": "white",
            "ticks": ""
           }
          },
          "title": {
           "x": 0.05
          },
          "xaxis": {
           "automargin": true,
           "gridcolor": "white",
           "linecolor": "white",
           "ticks": "",
           "title": {
            "standoff": 15
           },
           "zerolinecolor": "white",
           "zerolinewidth": 2
          },
          "yaxis": {
           "automargin": true,
           "gridcolor": "white",
           "linecolor": "white",
           "ticks": "",
           "title": {
            "standoff": 15
           },
           "zerolinecolor": "white",
           "zerolinewidth": 2
          }
         }
        },
        "title": {
         "text": "Totalt antal medaljer per OS över tid"
        },
        "xaxis": {
         "anchor": "y",
         "domain": [
          0,
          1
         ],
         "title": {
          "text": "År"
         }
        },
        "yaxis": {
         "anchor": "x",
         "domain": [
          0,
          1
         ],
         "title": {
          "text": "Antal medaljer"
         }
        }
       }
      },
      "text/html": [
       "<div>                            <div id=\"95e526de-b145-420f-86bc-62b8814c61d6\" class=\"plotly-graph-div\" style=\"height:525px; width:100%;\"></div>            <script type=\"text/javascript\">                require([\"plotly\"], function(Plotly) {                    window.PLOTLYENV=window.PLOTLYENV || {};                                    if (document.getElementById(\"95e526de-b145-420f-86bc-62b8814c61d6\")) {                    Plotly.newPlot(                        \"95e526de-b145-420f-86bc-62b8814c61d6\",                        [{\"hovertemplate\":\"\\u00c5r=%{x}\\u003cbr\\u003eAntal medaljer=%{y}\\u003cextra\\u003e\\u003c\\u002fextra\\u003e\",\"legendgroup\":\"\",\"line\":{\"color\":\"#636efa\",\"dash\":\"solid\"},\"marker\":{\"symbol\":\"circle\"},\"mode\":\"lines\",\"name\":\"\",\"orientation\":\"v\",\"showlegend\":false,\"x\":[1896,1900,1904,1906,1908,1912,1924,1928,1932,1936,1948,1952,1956,1960,1964,1968,1972,1976,1980,1988,1992,1996,2000,2004,2008,2012,2016],\"xaxis\":\"x\",\"y\":[6,5,4,13,20,30,22,21,35,43,64,104,66,66,56,81,81,55,63,44,45,43,53,40,27,26,22],\"yaxis\":\"y\",\"type\":\"scatter\"}],                        {\"template\":{\"data\":{\"histogram2dcontour\":[{\"type\":\"histogram2dcontour\",\"colorbar\":{\"outlinewidth\":0,\"ticks\":\"\"},\"colorscale\":[[0.0,\"#0d0887\"],[0.1111111111111111,\"#46039f\"],[0.2222222222222222,\"#7201a8\"],[0.3333333333333333,\"#9c179e\"],[0.4444444444444444,\"#bd3786\"],[0.5555555555555556,\"#d8576b\"],[0.6666666666666666,\"#ed7953\"],[0.7777777777777778,\"#fb9f3a\"],[0.8888888888888888,\"#fdca26\"],[1.0,\"#f0f921\"]]}],\"choropleth\":[{\"type\":\"choropleth\",\"colorbar\":{\"outlinewidth\":0,\"ticks\":\"\"}}],\"histogram2d\":[{\"type\":\"histogram2d\",\"colorbar\":{\"outlinewidth\":0,\"ticks\":\"\"},\"colorscale\":[[0.0,\"#0d0887\"],[0.1111111111111111,\"#46039f\"],[0.2222222222222222,\"#7201a8\"],[0.3333333333333333,\"#9c179e\"],[0.4444444444444444,\"#bd3786\"],[0.5555555555555556,\"#d8576b\"],[0.6666666666666666,\"#ed7953\"],[0.7777777777777778,\"#fb9f3a\"],[0.8888888888888888,\"#fdca26\"],[1.0,\"#f0f921\"]]}],\"heatmap\":[{\"type\":\"heatmap\",\"colorbar\":{\"outlinewidth\":0,\"ticks\":\"\"},\"colorscale\":[[0.0,\"#0d0887\"],[0.1111111111111111,\"#46039f\"],[0.2222222222222222,\"#7201a8\"],[0.3333333333333333,\"#9c179e\"],[0.4444444444444444,\"#bd3786\"],[0.5555555555555556,\"#d8576b\"],[0.6666666666666666,\"#ed7953\"],[0.7777777777777778,\"#fb9f3a\"],[0.8888888888888888,\"#fdca26\"],[1.0,\"#f0f921\"]]}],\"heatmapgl\":[{\"type\":\"heatmapgl\",\"colorbar\":{\"outlinewidth\":0,\"ticks\":\"\"},\"colorscale\":[[0.0,\"#0d0887\"],[0.1111111111111111,\"#46039f\"],[0.2222222222222222,\"#7201a8\"],[0.3333333333333333,\"#9c179e\"],[0.4444444444444444,\"#bd3786\"],[0.5555555555555556,\"#d8576b\"],[0.6666666666666666,\"#ed7953\"],[0.7777777777777778,\"#fb9f3a\"],[0.8888888888888888,\"#fdca26\"],[1.0,\"#f0f921\"]]}],\"contourcarpet\":[{\"type\":\"contourcarpet\",\"colorbar\":{\"outlinewidth\":0,\"ticks\":\"\"}}],\"contour\":[{\"type\":\"contour\",\"colorbar\":{\"outlinewidth\":0,\"ticks\":\"\"},\"colorscale\":[[0.0,\"#0d0887\"],[0.1111111111111111,\"#46039f\"],[0.2222222222222222,\"#7201a8\"],[0.3333333333333333,\"#9c179e\"],[0.4444444444444444,\"#bd3786\"],[0.5555555555555556,\"#d8576b\"],[0.6666666666666666,\"#ed7953\"],[0.7777777777777778,\"#fb9f3a\"],[0.8888888888888888,\"#fdca26\"],[1.0,\"#f0f921\"]]}],\"surface\":[{\"type\":\"surface\",\"colorbar\":{\"outlinewidth\":0,\"ticks\":\"\"},\"colorscale\":[[0.0,\"#0d0887\"],[0.1111111111111111,\"#46039f\"],[0.2222222222222222,\"#7201a8\"],[0.3333333333333333,\"#9c179e\"],[0.4444444444444444,\"#bd3786\"],[0.5555555555555556,\"#d8576b\"],[0.6666666666666666,\"#ed7953\"],[0.7777777777777778,\"#fb9f3a\"],[0.8888888888888888,\"#fdca26\"],[1.0,\"#f0f921\"]]}],\"mesh3d\":[{\"type\":\"mesh3d\",\"colorbar\":{\"outlinewidth\":0,\"ticks\":\"\"}}],\"scatter\":[{\"fillpattern\":{\"fillmode\":\"overlay\",\"size\":10,\"solidity\":0.2},\"type\":\"scatter\"}],\"parcoords\":[{\"type\":\"parcoords\",\"line\":{\"colorbar\":{\"outlinewidth\":0,\"ticks\":\"\"}}}],\"scatterpolargl\":[{\"type\":\"scatterpolargl\",\"marker\":{\"colorbar\":{\"outlinewidth\":0,\"ticks\":\"\"}}}],\"bar\":[{\"error_x\":{\"color\":\"#2a3f5f\"},\"error_y\":{\"color\":\"#2a3f5f\"},\"marker\":{\"line\":{\"color\":\"#E5ECF6\",\"width\":0.5},\"pattern\":{\"fillmode\":\"overlay\",\"size\":10,\"solidity\":0.2}},\"type\":\"bar\"}],\"scattergeo\":[{\"type\":\"scattergeo\",\"marker\":{\"colorbar\":{\"outlinewidth\":0,\"ticks\":\"\"}}}],\"scatterpolar\":[{\"type\":\"scatterpolar\",\"marker\":{\"colorbar\":{\"outlinewidth\":0,\"ticks\":\"\"}}}],\"histogram\":[{\"marker\":{\"pattern\":{\"fillmode\":\"overlay\",\"size\":10,\"solidity\":0.2}},\"type\":\"histogram\"}],\"scattergl\":[{\"type\":\"scattergl\",\"marker\":{\"colorbar\":{\"outlinewidth\":0,\"ticks\":\"\"}}}],\"scatter3d\":[{\"type\":\"scatter3d\",\"line\":{\"colorbar\":{\"outlinewidth\":0,\"ticks\":\"\"}},\"marker\":{\"colorbar\":{\"outlinewidth\":0,\"ticks\":\"\"}}}],\"scattermapbox\":[{\"type\":\"scattermapbox\",\"marker\":{\"colorbar\":{\"outlinewidth\":0,\"ticks\":\"\"}}}],\"scatterternary\":[{\"type\":\"scatterternary\",\"marker\":{\"colorbar\":{\"outlinewidth\":0,\"ticks\":\"\"}}}],\"scattercarpet\":[{\"type\":\"scattercarpet\",\"marker\":{\"colorbar\":{\"outlinewidth\":0,\"ticks\":\"\"}}}],\"carpet\":[{\"aaxis\":{\"endlinecolor\":\"#2a3f5f\",\"gridcolor\":\"white\",\"linecolor\":\"white\",\"minorgridcolor\":\"white\",\"startlinecolor\":\"#2a3f5f\"},\"baxis\":{\"endlinecolor\":\"#2a3f5f\",\"gridcolor\":\"white\",\"linecolor\":\"white\",\"minorgridcolor\":\"white\",\"startlinecolor\":\"#2a3f5f\"},\"type\":\"carpet\"}],\"table\":[{\"cells\":{\"fill\":{\"color\":\"#EBF0F8\"},\"line\":{\"color\":\"white\"}},\"header\":{\"fill\":{\"color\":\"#C8D4E3\"},\"line\":{\"color\":\"white\"}},\"type\":\"table\"}],\"barpolar\":[{\"marker\":{\"line\":{\"color\":\"#E5ECF6\",\"width\":0.5},\"pattern\":{\"fillmode\":\"overlay\",\"size\":10,\"solidity\":0.2}},\"type\":\"barpolar\"}],\"pie\":[{\"automargin\":true,\"type\":\"pie\"}]},\"layout\":{\"autotypenumbers\":\"strict\",\"colorway\":[\"#636efa\",\"#EF553B\",\"#00cc96\",\"#ab63fa\",\"#FFA15A\",\"#19d3f3\",\"#FF6692\",\"#B6E880\",\"#FF97FF\",\"#FECB52\"],\"font\":{\"color\":\"#2a3f5f\"},\"hovermode\":\"closest\",\"hoverlabel\":{\"align\":\"left\"},\"paper_bgcolor\":\"white\",\"plot_bgcolor\":\"#E5ECF6\",\"polar\":{\"bgcolor\":\"#E5ECF6\",\"angularaxis\":{\"gridcolor\":\"white\",\"linecolor\":\"white\",\"ticks\":\"\"},\"radialaxis\":{\"gridcolor\":\"white\",\"linecolor\":\"white\",\"ticks\":\"\"}},\"ternary\":{\"bgcolor\":\"#E5ECF6\",\"aaxis\":{\"gridcolor\":\"white\",\"linecolor\":\"white\",\"ticks\":\"\"},\"baxis\":{\"gridcolor\":\"white\",\"linecolor\":\"white\",\"ticks\":\"\"},\"caxis\":{\"gridcolor\":\"white\",\"linecolor\":\"white\",\"ticks\":\"\"}},\"coloraxis\":{\"colorbar\":{\"outlinewidth\":0,\"ticks\":\"\"}},\"colorscale\":{\"sequential\":[[0.0,\"#0d0887\"],[0.1111111111111111,\"#46039f\"],[0.2222222222222222,\"#7201a8\"],[0.3333333333333333,\"#9c179e\"],[0.4444444444444444,\"#bd3786\"],[0.5555555555555556,\"#d8576b\"],[0.6666666666666666,\"#ed7953\"],[0.7777777777777778,\"#fb9f3a\"],[0.8888888888888888,\"#fdca26\"],[1.0,\"#f0f921\"]],\"sequentialminus\":[[0.0,\"#0d0887\"],[0.1111111111111111,\"#46039f\"],[0.2222222222222222,\"#7201a8\"],[0.3333333333333333,\"#9c179e\"],[0.4444444444444444,\"#bd3786\"],[0.5555555555555556,\"#d8576b\"],[0.6666666666666666,\"#ed7953\"],[0.7777777777777778,\"#fb9f3a\"],[0.8888888888888888,\"#fdca26\"],[1.0,\"#f0f921\"]],\"diverging\":[[0,\"#8e0152\"],[0.1,\"#c51b7d\"],[0.2,\"#de77ae\"],[0.3,\"#f1b6da\"],[0.4,\"#fde0ef\"],[0.5,\"#f7f7f7\"],[0.6,\"#e6f5d0\"],[0.7,\"#b8e186\"],[0.8,\"#7fbc41\"],[0.9,\"#4d9221\"],[1,\"#276419\"]]},\"xaxis\":{\"gridcolor\":\"white\",\"linecolor\":\"white\",\"ticks\":\"\",\"title\":{\"standoff\":15},\"zerolinecolor\":\"white\",\"automargin\":true,\"zerolinewidth\":2},\"yaxis\":{\"gridcolor\":\"white\",\"linecolor\":\"white\",\"ticks\":\"\",\"title\":{\"standoff\":15},\"zerolinecolor\":\"white\",\"automargin\":true,\"zerolinewidth\":2},\"scene\":{\"xaxis\":{\"backgroundcolor\":\"#E5ECF6\",\"gridcolor\":\"white\",\"linecolor\":\"white\",\"showbackground\":true,\"ticks\":\"\",\"zerolinecolor\":\"white\",\"gridwidth\":2},\"yaxis\":{\"backgroundcolor\":\"#E5ECF6\",\"gridcolor\":\"white\",\"linecolor\":\"white\",\"showbackground\":true,\"ticks\":\"\",\"zerolinecolor\":\"white\",\"gridwidth\":2},\"zaxis\":{\"backgroundcolor\":\"#E5ECF6\",\"gridcolor\":\"white\",\"linecolor\":\"white\",\"showbackground\":true,\"ticks\":\"\",\"zerolinecolor\":\"white\",\"gridwidth\":2}},\"shapedefaults\":{\"line\":{\"color\":\"#2a3f5f\"}},\"annotationdefaults\":{\"arrowcolor\":\"#2a3f5f\",\"arrowhead\":0,\"arrowwidth\":1},\"geo\":{\"bgcolor\":\"white\",\"landcolor\":\"#E5ECF6\",\"subunitcolor\":\"white\",\"showland\":true,\"showlakes\":true,\"lakecolor\":\"white\"},\"title\":{\"x\":0.05},\"mapbox\":{\"style\":\"light\"}}},\"xaxis\":{\"anchor\":\"y\",\"domain\":[0.0,1.0],\"title\":{\"text\":\"\\u00c5r\"}},\"yaxis\":{\"anchor\":\"x\",\"domain\":[0.0,1.0],\"title\":{\"text\":\"Antal medaljer\"}},\"legend\":{\"tracegroupgap\":0},\"title\":{\"text\":\"Totalt antal medaljer per OS \\u00f6ver tid\"}},                        {\"responsive\": true}                    ).then(function(){\n",
       "                            \n",
       "var gd = document.getElementById('95e526de-b145-420f-86bc-62b8814c61d6');\n",
       "var x = new MutationObserver(function (mutations, observer) {{\n",
       "        var display = window.getComputedStyle(gd).display;\n",
       "        if (!display || display === 'none') {{\n",
       "            console.log([gd, 'removed!']);\n",
       "            Plotly.purge(gd);\n",
       "            observer.disconnect();\n",
       "        }}\n",
       "}});\n",
       "\n",
       "// Listen for the removal of the full notebook cells\n",
       "var notebookContainer = gd.closest('#notebook-container');\n",
       "if (notebookContainer) {{\n",
       "    x.observe(notebookContainer, {childList: true});\n",
       "}}\n",
       "\n",
       "// Listen for the clearing of the current output cell\n",
       "var outputEl = gd.closest('.output');\n",
       "if (outputEl) {{\n",
       "    x.observe(outputEl, {childList: true});\n",
       "}}\n",
       "\n",
       "                        })                };                });            </script>        </div>"
      ]
     },
     "metadata": {},
     "output_type": "display_data"
    }
   ],
   "source": [
    "\n",
    "medals = hungary[hungary[\"Medal\"].notnull()]\n",
    "\n",
    "\n",
    "medals_over_time = medals.groupby(\"Year\").size().reset_index(name=\"Count\")\n",
    "\n",
    "\n",
    "fig = px.line(\n",
    "    medals_over_time,\n",
    "    x=\"Year\",\n",
    "    y=\"Count\",\n",
    "    title=\"Totalt antal medaljer per OS över tid\",\n",
    "    labels={\"Year\": \"År\", \"Count\": \"Antal medaljer\"},\n",
    ")\n",
    "\n",
    "fig.show()\n"
   ]
  },
  {
   "cell_type": "code",
   "execution_count": 35,
   "metadata": {},
   "outputs": [
    {
     "data": {
      "application/vnd.plotly.v1+json": {
       "config": {
        "plotlyServerURL": "https://plot.ly"
       },
       "data": [
        {
         "alignmentgroup": "True",
         "hovertemplate": "Sport=Athletics<br>År=%{x}<br>Antal medaljer=%{y}<extra></extra>",
         "legendgroup": "Athletics",
         "marker": {
          "color": "#636efa",
          "pattern": {
           "shape": ""
          }
         },
         "name": "Athletics",
         "offsetgroup": "Athletics",
         "orientation": "v",
         "showlegend": true,
         "textposition": "auto",
         "type": "bar",
         "x": [
          1896,
          1900,
          1906,
          1908,
          1912,
          1924,
          1928,
          1936,
          1948,
          1952,
          1956,
          1960,
          1964,
          1968,
          1976,
          1996,
          2004,
          2012,
          2016
         ],
         "xaxis": "x",
         "y": [
          3,
          2,
          5,
          6,
          1,
          1,
          1,
          1,
          3,
          8,
          2,
          3,
          4,
          7,
          1,
          1,
          1,
          1,
          1
         ],
         "yaxis": "y"
        },
        {
         "alignmentgroup": "True",
         "hovertemplate": "Sport=Swimming<br>År=%{x}<br>Antal medaljer=%{y}<extra></extra>",
         "legendgroup": "Swimming",
         "marker": {
          "color": "#EF553B",
          "pattern": {
           "shape": ""
          }
         },
         "name": "Swimming",
         "offsetgroup": "Swimming",
         "orientation": "v",
         "showlegend": true,
         "textposition": "auto",
         "type": "bar",
         "x": [
          1896,
          1900,
          1904,
          1906,
          1908,
          1924,
          1928,
          1932,
          1936,
          1948,
          1952,
          1956,
          1972,
          1980,
          1988,
          1992,
          1996,
          2000,
          2004,
          2008,
          2012,
          2016
         ],
         "xaxis": "x",
         "y": [
          2,
          3,
          4,
          5,
          5,
          1,
          1,
          4,
          5,
          7,
          11,
          2,
          3,
          4,
          6,
          9,
          6,
          1,
          2,
          3,
          3,
          7
         ],
         "yaxis": "y"
        },
        {
         "alignmentgroup": "True",
         "hovertemplate": "Sport=Tennis<br>År=%{x}<br>Antal medaljer=%{y}<extra></extra>",
         "legendgroup": "Tennis",
         "marker": {
          "color": "#00cc96",
          "pattern": {
           "shape": ""
          }
         },
         "name": "Tennis",
         "offsetgroup": "Tennis",
         "orientation": "v",
         "showlegend": true,
         "textposition": "auto",
         "type": "bar",
         "x": [
          1896
         ],
         "xaxis": "x",
         "y": [
          1
         ],
         "yaxis": "y"
        },
        {
         "alignmentgroup": "True",
         "hovertemplate": "Sport=Fencing<br>År=%{x}<br>Antal medaljer=%{y}<extra></extra>",
         "legendgroup": "Fencing",
         "marker": {
          "color": "#ab63fa",
          "pattern": {
           "shape": ""
          }
         },
         "name": "Fencing",
         "offsetgroup": "Fencing",
         "orientation": "v",
         "showlegend": true,
         "textposition": "auto",
         "type": "bar",
         "x": [
          1906,
          1908,
          1912,
          1924,
          1928,
          1932,
          1936,
          1948,
          1952,
          1956,
          1960,
          1964,
          1968,
          1972,
          1976,
          1980,
          1988,
          1992,
          1996,
          2000,
          2004,
          2008,
          2012,
          2016
         ],
         "xaxis": "x",
         "y": [
          1,
          7,
          11,
          15,
          8,
          9,
          9,
          10,
          16,
          19,
          13,
          12,
          19,
          20,
          7,
          13,
          15,
          11,
          5,
          1,
          6,
          1,
          1,
          7
         ],
         "yaxis": "y"
        },
        {
         "alignmentgroup": "True",
         "hovertemplate": "Sport=Gymnastics<br>År=%{x}<br>Antal medaljer=%{y}<extra></extra>",
         "legendgroup": "Gymnastics",
         "marker": {
          "color": "#FFA15A",
          "pattern": {
           "shape": ""
          }
         },
         "name": "Gymnastics",
         "offsetgroup": "Gymnastics",
         "orientation": "v",
         "showlegend": true,
         "textposition": "auto",
         "type": "bar",
         "x": [
          1906,
          1912,
          1932,
          1936,
          1948,
          1952,
          1956,
          1964,
          1972,
          1976,
          1980,
          1988,
          1992,
          1996,
          2000,
          2012
         ],
         "xaxis": "x",
         "y": [
          1,
          16,
          4,
          8,
          20,
          22,
          17,
          2,
          6,
          2,
          7,
          1,
          2,
          1,
          1,
          1
         ],
         "yaxis": "y"
        },
        {
         "alignmentgroup": "True",
         "hovertemplate": "Sport=Wrestling<br>År=%{x}<br>Antal medaljer=%{y}<extra></extra>",
         "legendgroup": "Wrestling",
         "marker": {
          "color": "#19d3f3",
          "pattern": {
           "shape": ""
          }
         },
         "name": "Wrestling",
         "offsetgroup": "Wrestling",
         "orientation": "v",
         "showlegend": true,
         "textposition": "auto",
         "type": "bar",
         "x": [
          1906,
          1908,
          1912,
          1924,
          1928,
          1932,
          1936,
          1948,
          1952,
          1956,
          1960,
          1964,
          1968,
          1972,
          1976,
          1980,
          1988,
          1992,
          2000,
          2004,
          2008,
          2012
         ],
         "xaxis": "x",
         "y": [
          1,
          1,
          1,
          2,
          2,
          3,
          4,
          4,
          4,
          2,
          1,
          2,
          4,
          5,
          2,
          7,
          2,
          2,
          1,
          1,
          1,
          3
         ],
         "yaxis": "y"
        },
        {
         "alignmentgroup": "True",
         "hovertemplate": "Sport=Rowing<br>År=%{x}<br>Antal medaljer=%{y}<extra></extra>",
         "legendgroup": "Rowing",
         "marker": {
          "color": "#FF6692",
          "pattern": {
           "shape": ""
          }
         },
         "name": "Rowing",
         "offsetgroup": "Rowing",
         "orientation": "v",
         "showlegend": true,
         "textposition": "auto",
         "type": "bar",
         "x": [
          1908,
          1948,
          1968
         ],
         "xaxis": "x",
         "y": [
          1,
          3,
          4
         ],
         "yaxis": "y"
        },
        {
         "alignmentgroup": "True",
         "hovertemplate": "Sport=Shooting<br>År=%{x}<br>Antal medaljer=%{y}<extra></extra>",
         "legendgroup": "Shooting",
         "marker": {
          "color": "#B6E880",
          "pattern": {
           "shape": ""
          }
         },
         "name": "Shooting",
         "offsetgroup": "Shooting",
         "orientation": "v",
         "showlegend": true,
         "textposition": "auto",
         "type": "bar",
         "x": [
          1912,
          1924,
          1932,
          1936,
          1948,
          1952,
          1964,
          1968,
          1972,
          1980,
          1988,
          2000,
          2004
         ],
         "xaxis": "x",
         "y": [
          1,
          1,
          1,
          1,
          1,
          3,
          2,
          1,
          1,
          1,
          2,
          1,
          1
         ],
         "yaxis": "y"
        },
        {
         "alignmentgroup": "True",
         "hovertemplate": "Sport=Art Competitions<br>År=%{x}<br>Antal medaljer=%{y}<extra></extra>",
         "legendgroup": "Art Competitions",
         "marker": {
          "color": "#FF97FF",
          "pattern": {
           "shape": ""
          }
         },
         "name": "Art Competitions",
         "offsetgroup": "Art Competitions",
         "orientation": "v",
         "showlegend": true,
         "textposition": "auto",
         "type": "bar",
         "x": [
          1924,
          1928,
          1932,
          1948
         ],
         "xaxis": "x",
         "y": [
          2,
          1,
          1,
          1
         ],
         "yaxis": "y"
        },
        {
         "alignmentgroup": "True",
         "hovertemplate": "Sport=Boxing<br>År=%{x}<br>Antal medaljer=%{y}<extra></extra>",
         "legendgroup": "Boxing",
         "marker": {
          "color": "#FECB52",
          "pattern": {
           "shape": ""
          }
         },
         "name": "Boxing",
         "offsetgroup": "Boxing",
         "orientation": "v",
         "showlegend": true,
         "textposition": "auto",
         "type": "bar",
         "x": [
          1928,
          1932,
          1936,
          1948,
          1952,
          1956,
          1960,
          1972,
          1980,
          1988,
          1992,
          1996,
          2000
         ],
         "xaxis": "x",
         "y": [
          1,
          1,
          1,
          2,
          1,
          1,
          1,
          4,
          2,
          1,
          3,
          1,
          1
         ],
         "yaxis": "y"
        },
        {
         "alignmentgroup": "True",
         "hovertemplate": "Sport=Water Polo<br>År=%{x}<br>Antal medaljer=%{y}<extra></extra>",
         "legendgroup": "Water Polo",
         "marker": {
          "color": "#636efa",
          "pattern": {
           "shape": ""
          }
         },
         "name": "Water Polo",
         "offsetgroup": "Water Polo",
         "orientation": "v",
         "showlegend": true,
         "textposition": "auto",
         "type": "bar",
         "x": [
          1928,
          1932,
          1936,
          1948,
          1952,
          1956,
          1960,
          1964,
          1968,
          1972,
          1976,
          1980,
          2000,
          2004,
          2008
         ],
         "xaxis": "x",
         "y": [
          7,
          10,
          11,
          11,
          13,
          11,
          14,
          12,
          11,
          11,
          11,
          11,
          13,
          13,
          13
         ],
         "yaxis": "y"
        },
        {
         "alignmentgroup": "True",
         "hovertemplate": "Sport=Figure Skating<br>År=%{x}<br>Antal medaljer=%{y}<extra></extra>",
         "legendgroup": "Figure Skating",
         "marker": {
          "color": "#EF553B",
          "pattern": {
           "shape": ""
          }
         },
         "name": "Figure Skating",
         "offsetgroup": "Figure Skating",
         "orientation": "v",
         "showlegend": true,
         "textposition": "auto",
         "type": "bar",
         "x": [
          1932,
          1936,
          1948,
          1952,
          1956,
          1980
         ],
         "xaxis": "x",
         "y": [
          2,
          2,
          2,
          2,
          2,
          2
         ],
         "yaxis": "y"
        },
        {
         "alignmentgroup": "True",
         "hovertemplate": "Sport=Equestrianism<br>År=%{x}<br>Antal medaljer=%{y}<extra></extra>",
         "legendgroup": "Equestrianism",
         "marker": {
          "color": "#00cc96",
          "pattern": {
           "shape": ""
          }
         },
         "name": "Equestrianism",
         "offsetgroup": "Equestrianism",
         "orientation": "v",
         "showlegend": true,
         "textposition": "auto",
         "type": "bar",
         "x": [
          1936
         ],
         "xaxis": "x",
         "y": [
          1
         ],
         "yaxis": "y"
        },
        {
         "alignmentgroup": "True",
         "hovertemplate": "Sport=Canoeing<br>År=%{x}<br>Antal medaljer=%{y}<extra></extra>",
         "legendgroup": "Canoeing",
         "marker": {
          "color": "#ab63fa",
          "pattern": {
           "shape": ""
          }
         },
         "name": "Canoeing",
         "offsetgroup": "Canoeing",
         "orientation": "v",
         "showlegend": true,
         "textposition": "auto",
         "type": "bar",
         "x": [
          1952,
          1956,
          1960,
          1964,
          1968,
          1972,
          1976,
          1980,
          1988,
          1992,
          1996,
          2000,
          2004,
          2008,
          2012,
          2016
         ],
         "xaxis": "x",
         "y": [
          4,
          10,
          12,
          1,
          12,
          5,
          12,
          6,
          11,
          13,
          11,
          17,
          14,
          9,
          14,
          7
         ],
         "yaxis": "y"
        },
        {
         "alignmentgroup": "True",
         "hovertemplate": "Sport=Football<br>År=%{x}<br>Antal medaljer=%{y}<extra></extra>",
         "legendgroup": "Football",
         "marker": {
          "color": "#FFA15A",
          "pattern": {
           "shape": ""
          }
         },
         "name": "Football",
         "offsetgroup": "Football",
         "orientation": "v",
         "showlegend": true,
         "textposition": "auto",
         "type": "bar",
         "x": [
          1952,
          1960,
          1964,
          1968,
          1972
         ],
         "xaxis": "x",
         "y": [
          15,
          16,
          14,
          17,
          17
         ],
         "yaxis": "y"
        },
        {
         "alignmentgroup": "True",
         "hovertemplate": "Sport=Modern Pentathlon<br>År=%{x}<br>Antal medaljer=%{y}<extra></extra>",
         "legendgroup": "Modern Pentathlon",
         "marker": {
          "color": "#19d3f3",
          "pattern": {
           "shape": ""
          }
         },
         "name": "Modern Pentathlon",
         "offsetgroup": "Modern Pentathlon",
         "orientation": "v",
         "showlegend": true,
         "textposition": "auto",
         "type": "bar",
         "x": [
          1952,
          1960,
          1964,
          1968,
          1972,
          1976,
          1980,
          1988,
          1992,
          1996,
          2000,
          2004,
          2012
         ],
         "xaxis": "x",
         "y": [
          5,
          5,
          4,
          4,
          4,
          3,
          4,
          4,
          1,
          1,
          1,
          1,
          1
         ],
         "yaxis": "y"
        },
        {
         "alignmentgroup": "True",
         "hovertemplate": "Sport=Weightlifting<br>År=%{x}<br>Antal medaljer=%{y}<extra></extra>",
         "legendgroup": "Weightlifting",
         "marker": {
          "color": "#FF6692",
          "pattern": {
           "shape": ""
          }
         },
         "name": "Weightlifting",
         "offsetgroup": "Weightlifting",
         "orientation": "v",
         "showlegend": true,
         "textposition": "auto",
         "type": "bar",
         "x": [
          1960,
          1964,
          1968,
          1972,
          1976,
          1980,
          1988,
          1996,
          2000,
          2004
         ],
         "xaxis": "x",
         "y": [
          1,
          3,
          2,
          5,
          2,
          2,
          2,
          1,
          1,
          1
         ],
         "yaxis": "y"
        },
        {
         "alignmentgroup": "True",
         "hovertemplate": "Sport=Handball<br>År=%{x}<br>Antal medaljer=%{y}<extra></extra>",
         "legendgroup": "Handball",
         "marker": {
          "color": "#B6E880",
          "pattern": {
           "shape": ""
          }
         },
         "name": "Handball",
         "offsetgroup": "Handball",
         "orientation": "v",
         "showlegend": true,
         "textposition": "auto",
         "type": "bar",
         "x": [
          1976,
          1996,
          2000
         ],
         "xaxis": "x",
         "y": [
          14,
          16,
          15
         ],
         "yaxis": "y"
        },
        {
         "alignmentgroup": "True",
         "hovertemplate": "Sport=Judo<br>År=%{x}<br>Antal medaljer=%{y}<extra></extra>",
         "legendgroup": "Judo",
         "marker": {
          "color": "#FF97FF",
          "pattern": {
           "shape": ""
          }
         },
         "name": "Judo",
         "offsetgroup": "Judo",
         "orientation": "v",
         "showlegend": true,
         "textposition": "auto",
         "type": "bar",
         "x": [
          1976,
          1980,
          1992,
          2012
         ],
         "xaxis": "x",
         "y": [
          1,
          2,
          4,
          2
         ],
         "yaxis": "y"
        },
        {
         "alignmentgroup": "True",
         "hovertemplate": "Sport=Sailing<br>År=%{x}<br>Antal medaljer=%{y}<extra></extra>",
         "legendgroup": "Sailing",
         "marker": {
          "color": "#FECB52",
          "pattern": {
           "shape": ""
          }
         },
         "name": "Sailing",
         "offsetgroup": "Sailing",
         "orientation": "v",
         "showlegend": true,
         "textposition": "auto",
         "type": "bar",
         "x": [
          1980
         ],
         "xaxis": "x",
         "y": [
          2
         ],
         "yaxis": "y"
        }
       ],
       "layout": {
        "barmode": "relative",
        "legend": {
         "title": {
          "text": "Sport"
         },
         "tracegroupgap": 0
        },
        "template": {
         "data": {
          "bar": [
           {
            "error_x": {
             "color": "#2a3f5f"
            },
            "error_y": {
             "color": "#2a3f5f"
            },
            "marker": {
             "line": {
              "color": "#E5ECF6",
              "width": 0.5
             },
             "pattern": {
              "fillmode": "overlay",
              "size": 10,
              "solidity": 0.2
             }
            },
            "type": "bar"
           }
          ],
          "barpolar": [
           {
            "marker": {
             "line": {
              "color": "#E5ECF6",
              "width": 0.5
             },
             "pattern": {
              "fillmode": "overlay",
              "size": 10,
              "solidity": 0.2
             }
            },
            "type": "barpolar"
           }
          ],
          "carpet": [
           {
            "aaxis": {
             "endlinecolor": "#2a3f5f",
             "gridcolor": "white",
             "linecolor": "white",
             "minorgridcolor": "white",
             "startlinecolor": "#2a3f5f"
            },
            "baxis": {
             "endlinecolor": "#2a3f5f",
             "gridcolor": "white",
             "linecolor": "white",
             "minorgridcolor": "white",
             "startlinecolor": "#2a3f5f"
            },
            "type": "carpet"
           }
          ],
          "choropleth": [
           {
            "colorbar": {
             "outlinewidth": 0,
             "ticks": ""
            },
            "type": "choropleth"
           }
          ],
          "contour": [
           {
            "colorbar": {
             "outlinewidth": 0,
             "ticks": ""
            },
            "colorscale": [
             [
              0,
              "#0d0887"
             ],
             [
              0.1111111111111111,
              "#46039f"
             ],
             [
              0.2222222222222222,
              "#7201a8"
             ],
             [
              0.3333333333333333,
              "#9c179e"
             ],
             [
              0.4444444444444444,
              "#bd3786"
             ],
             [
              0.5555555555555556,
              "#d8576b"
             ],
             [
              0.6666666666666666,
              "#ed7953"
             ],
             [
              0.7777777777777778,
              "#fb9f3a"
             ],
             [
              0.8888888888888888,
              "#fdca26"
             ],
             [
              1,
              "#f0f921"
             ]
            ],
            "type": "contour"
           }
          ],
          "contourcarpet": [
           {
            "colorbar": {
             "outlinewidth": 0,
             "ticks": ""
            },
            "type": "contourcarpet"
           }
          ],
          "heatmap": [
           {
            "colorbar": {
             "outlinewidth": 0,
             "ticks": ""
            },
            "colorscale": [
             [
              0,
              "#0d0887"
             ],
             [
              0.1111111111111111,
              "#46039f"
             ],
             [
              0.2222222222222222,
              "#7201a8"
             ],
             [
              0.3333333333333333,
              "#9c179e"
             ],
             [
              0.4444444444444444,
              "#bd3786"
             ],
             [
              0.5555555555555556,
              "#d8576b"
             ],
             [
              0.6666666666666666,
              "#ed7953"
             ],
             [
              0.7777777777777778,
              "#fb9f3a"
             ],
             [
              0.8888888888888888,
              "#fdca26"
             ],
             [
              1,
              "#f0f921"
             ]
            ],
            "type": "heatmap"
           }
          ],
          "heatmapgl": [
           {
            "colorbar": {
             "outlinewidth": 0,
             "ticks": ""
            },
            "colorscale": [
             [
              0,
              "#0d0887"
             ],
             [
              0.1111111111111111,
              "#46039f"
             ],
             [
              0.2222222222222222,
              "#7201a8"
             ],
             [
              0.3333333333333333,
              "#9c179e"
             ],
             [
              0.4444444444444444,
              "#bd3786"
             ],
             [
              0.5555555555555556,
              "#d8576b"
             ],
             [
              0.6666666666666666,
              "#ed7953"
             ],
             [
              0.7777777777777778,
              "#fb9f3a"
             ],
             [
              0.8888888888888888,
              "#fdca26"
             ],
             [
              1,
              "#f0f921"
             ]
            ],
            "type": "heatmapgl"
           }
          ],
          "histogram": [
           {
            "marker": {
             "pattern": {
              "fillmode": "overlay",
              "size": 10,
              "solidity": 0.2
             }
            },
            "type": "histogram"
           }
          ],
          "histogram2d": [
           {
            "colorbar": {
             "outlinewidth": 0,
             "ticks": ""
            },
            "colorscale": [
             [
              0,
              "#0d0887"
             ],
             [
              0.1111111111111111,
              "#46039f"
             ],
             [
              0.2222222222222222,
              "#7201a8"
             ],
             [
              0.3333333333333333,
              "#9c179e"
             ],
             [
              0.4444444444444444,
              "#bd3786"
             ],
             [
              0.5555555555555556,
              "#d8576b"
             ],
             [
              0.6666666666666666,
              "#ed7953"
             ],
             [
              0.7777777777777778,
              "#fb9f3a"
             ],
             [
              0.8888888888888888,
              "#fdca26"
             ],
             [
              1,
              "#f0f921"
             ]
            ],
            "type": "histogram2d"
           }
          ],
          "histogram2dcontour": [
           {
            "colorbar": {
             "outlinewidth": 0,
             "ticks": ""
            },
            "colorscale": [
             [
              0,
              "#0d0887"
             ],
             [
              0.1111111111111111,
              "#46039f"
             ],
             [
              0.2222222222222222,
              "#7201a8"
             ],
             [
              0.3333333333333333,
              "#9c179e"
             ],
             [
              0.4444444444444444,
              "#bd3786"
             ],
             [
              0.5555555555555556,
              "#d8576b"
             ],
             [
              0.6666666666666666,
              "#ed7953"
             ],
             [
              0.7777777777777778,
              "#fb9f3a"
             ],
             [
              0.8888888888888888,
              "#fdca26"
             ],
             [
              1,
              "#f0f921"
             ]
            ],
            "type": "histogram2dcontour"
           }
          ],
          "mesh3d": [
           {
            "colorbar": {
             "outlinewidth": 0,
             "ticks": ""
            },
            "type": "mesh3d"
           }
          ],
          "parcoords": [
           {
            "line": {
             "colorbar": {
              "outlinewidth": 0,
              "ticks": ""
             }
            },
            "type": "parcoords"
           }
          ],
          "pie": [
           {
            "automargin": true,
            "type": "pie"
           }
          ],
          "scatter": [
           {
            "fillpattern": {
             "fillmode": "overlay",
             "size": 10,
             "solidity": 0.2
            },
            "type": "scatter"
           }
          ],
          "scatter3d": [
           {
            "line": {
             "colorbar": {
              "outlinewidth": 0,
              "ticks": ""
             }
            },
            "marker": {
             "colorbar": {
              "outlinewidth": 0,
              "ticks": ""
             }
            },
            "type": "scatter3d"
           }
          ],
          "scattercarpet": [
           {
            "marker": {
             "colorbar": {
              "outlinewidth": 0,
              "ticks": ""
             }
            },
            "type": "scattercarpet"
           }
          ],
          "scattergeo": [
           {
            "marker": {
             "colorbar": {
              "outlinewidth": 0,
              "ticks": ""
             }
            },
            "type": "scattergeo"
           }
          ],
          "scattergl": [
           {
            "marker": {
             "colorbar": {
              "outlinewidth": 0,
              "ticks": ""
             }
            },
            "type": "scattergl"
           }
          ],
          "scattermapbox": [
           {
            "marker": {
             "colorbar": {
              "outlinewidth": 0,
              "ticks": ""
             }
            },
            "type": "scattermapbox"
           }
          ],
          "scatterpolar": [
           {
            "marker": {
             "colorbar": {
              "outlinewidth": 0,
              "ticks": ""
             }
            },
            "type": "scatterpolar"
           }
          ],
          "scatterpolargl": [
           {
            "marker": {
             "colorbar": {
              "outlinewidth": 0,
              "ticks": ""
             }
            },
            "type": "scatterpolargl"
           }
          ],
          "scatterternary": [
           {
            "marker": {
             "colorbar": {
              "outlinewidth": 0,
              "ticks": ""
             }
            },
            "type": "scatterternary"
           }
          ],
          "surface": [
           {
            "colorbar": {
             "outlinewidth": 0,
             "ticks": ""
            },
            "colorscale": [
             [
              0,
              "#0d0887"
             ],
             [
              0.1111111111111111,
              "#46039f"
             ],
             [
              0.2222222222222222,
              "#7201a8"
             ],
             [
              0.3333333333333333,
              "#9c179e"
             ],
             [
              0.4444444444444444,
              "#bd3786"
             ],
             [
              0.5555555555555556,
              "#d8576b"
             ],
             [
              0.6666666666666666,
              "#ed7953"
             ],
             [
              0.7777777777777778,
              "#fb9f3a"
             ],
             [
              0.8888888888888888,
              "#fdca26"
             ],
             [
              1,
              "#f0f921"
             ]
            ],
            "type": "surface"
           }
          ],
          "table": [
           {
            "cells": {
             "fill": {
              "color": "#EBF0F8"
             },
             "line": {
              "color": "white"
             }
            },
            "header": {
             "fill": {
              "color": "#C8D4E3"
             },
             "line": {
              "color": "white"
             }
            },
            "type": "table"
           }
          ]
         },
         "layout": {
          "annotationdefaults": {
           "arrowcolor": "#2a3f5f",
           "arrowhead": 0,
           "arrowwidth": 1
          },
          "autotypenumbers": "strict",
          "coloraxis": {
           "colorbar": {
            "outlinewidth": 0,
            "ticks": ""
           }
          },
          "colorscale": {
           "diverging": [
            [
             0,
             "#8e0152"
            ],
            [
             0.1,
             "#c51b7d"
            ],
            [
             0.2,
             "#de77ae"
            ],
            [
             0.3,
             "#f1b6da"
            ],
            [
             0.4,
             "#fde0ef"
            ],
            [
             0.5,
             "#f7f7f7"
            ],
            [
             0.6,
             "#e6f5d0"
            ],
            [
             0.7,
             "#b8e186"
            ],
            [
             0.8,
             "#7fbc41"
            ],
            [
             0.9,
             "#4d9221"
            ],
            [
             1,
             "#276419"
            ]
           ],
           "sequential": [
            [
             0,
             "#0d0887"
            ],
            [
             0.1111111111111111,
             "#46039f"
            ],
            [
             0.2222222222222222,
             "#7201a8"
            ],
            [
             0.3333333333333333,
             "#9c179e"
            ],
            [
             0.4444444444444444,
             "#bd3786"
            ],
            [
             0.5555555555555556,
             "#d8576b"
            ],
            [
             0.6666666666666666,
             "#ed7953"
            ],
            [
             0.7777777777777778,
             "#fb9f3a"
            ],
            [
             0.8888888888888888,
             "#fdca26"
            ],
            [
             1,
             "#f0f921"
            ]
           ],
           "sequentialminus": [
            [
             0,
             "#0d0887"
            ],
            [
             0.1111111111111111,
             "#46039f"
            ],
            [
             0.2222222222222222,
             "#7201a8"
            ],
            [
             0.3333333333333333,
             "#9c179e"
            ],
            [
             0.4444444444444444,
             "#bd3786"
            ],
            [
             0.5555555555555556,
             "#d8576b"
            ],
            [
             0.6666666666666666,
             "#ed7953"
            ],
            [
             0.7777777777777778,
             "#fb9f3a"
            ],
            [
             0.8888888888888888,
             "#fdca26"
            ],
            [
             1,
             "#f0f921"
            ]
           ]
          },
          "colorway": [
           "#636efa",
           "#EF553B",
           "#00cc96",
           "#ab63fa",
           "#FFA15A",
           "#19d3f3",
           "#FF6692",
           "#B6E880",
           "#FF97FF",
           "#FECB52"
          ],
          "font": {
           "color": "#2a3f5f"
          },
          "geo": {
           "bgcolor": "white",
           "lakecolor": "white",
           "landcolor": "#E5ECF6",
           "showlakes": true,
           "showland": true,
           "subunitcolor": "white"
          },
          "hoverlabel": {
           "align": "left"
          },
          "hovermode": "closest",
          "mapbox": {
           "style": "light"
          },
          "paper_bgcolor": "white",
          "plot_bgcolor": "#E5ECF6",
          "polar": {
           "angularaxis": {
            "gridcolor": "white",
            "linecolor": "white",
            "ticks": ""
           },
           "bgcolor": "#E5ECF6",
           "radialaxis": {
            "gridcolor": "white",
            "linecolor": "white",
            "ticks": ""
           }
          },
          "scene": {
           "xaxis": {
            "backgroundcolor": "#E5ECF6",
            "gridcolor": "white",
            "gridwidth": 2,
            "linecolor": "white",
            "showbackground": true,
            "ticks": "",
            "zerolinecolor": "white"
           },
           "yaxis": {
            "backgroundcolor": "#E5ECF6",
            "gridcolor": "white",
            "gridwidth": 2,
            "linecolor": "white",
            "showbackground": true,
            "ticks": "",
            "zerolinecolor": "white"
           },
           "zaxis": {
            "backgroundcolor": "#E5ECF6",
            "gridcolor": "white",
            "gridwidth": 2,
            "linecolor": "white",
            "showbackground": true,
            "ticks": "",
            "zerolinecolor": "white"
           }
          },
          "shapedefaults": {
           "line": {
            "color": "#2a3f5f"
           }
          },
          "ternary": {
           "aaxis": {
            "gridcolor": "white",
            "linecolor": "white",
            "ticks": ""
           },
           "baxis": {
            "gridcolor": "white",
            "linecolor": "white",
            "ticks": ""
           },
           "bgcolor": "#E5ECF6",
           "caxis": {
            "gridcolor": "white",
            "linecolor": "white",
            "ticks": ""
           }
          },
          "title": {
           "x": 0.05
          },
          "xaxis": {
           "automargin": true,
           "gridcolor": "white",
           "linecolor": "white",
           "ticks": "",
           "title": {
            "standoff": 15
           },
           "zerolinecolor": "white",
           "zerolinewidth": 2
          },
          "yaxis": {
           "automargin": true,
           "gridcolor": "white",
           "linecolor": "white",
           "ticks": "",
           "title": {
            "standoff": 15
           },
           "zerolinecolor": "white",
           "zerolinewidth": 2
          }
         }
        },
        "title": {
         "text": "Medaljer per sport över tid"
        },
        "xaxis": {
         "anchor": "y",
         "domain": [
          0,
          1
         ],
         "title": {
          "text": "År"
         }
        },
        "yaxis": {
         "anchor": "x",
         "domain": [
          0,
          1
         ],
         "title": {
          "text": "Antal medaljer"
         }
        }
       }
      },
      "text/html": [
       "<div>                            <div id=\"8bfa7b18-fdda-4fa4-a523-75c5e15e7e81\" class=\"plotly-graph-div\" style=\"height:525px; width:100%;\"></div>            <script type=\"text/javascript\">                require([\"plotly\"], function(Plotly) {                    window.PLOTLYENV=window.PLOTLYENV || {};                                    if (document.getElementById(\"8bfa7b18-fdda-4fa4-a523-75c5e15e7e81\")) {                    Plotly.newPlot(                        \"8bfa7b18-fdda-4fa4-a523-75c5e15e7e81\",                        [{\"alignmentgroup\":\"True\",\"hovertemplate\":\"Sport=Athletics\\u003cbr\\u003e\\u00c5r=%{x}\\u003cbr\\u003eAntal medaljer=%{y}\\u003cextra\\u003e\\u003c\\u002fextra\\u003e\",\"legendgroup\":\"Athletics\",\"marker\":{\"color\":\"#636efa\",\"pattern\":{\"shape\":\"\"}},\"name\":\"Athletics\",\"offsetgroup\":\"Athletics\",\"orientation\":\"v\",\"showlegend\":true,\"textposition\":\"auto\",\"x\":[1896,1900,1906,1908,1912,1924,1928,1936,1948,1952,1956,1960,1964,1968,1976,1996,2004,2012,2016],\"xaxis\":\"x\",\"y\":[3,2,5,6,1,1,1,1,3,8,2,3,4,7,1,1,1,1,1],\"yaxis\":\"y\",\"type\":\"bar\"},{\"alignmentgroup\":\"True\",\"hovertemplate\":\"Sport=Swimming\\u003cbr\\u003e\\u00c5r=%{x}\\u003cbr\\u003eAntal medaljer=%{y}\\u003cextra\\u003e\\u003c\\u002fextra\\u003e\",\"legendgroup\":\"Swimming\",\"marker\":{\"color\":\"#EF553B\",\"pattern\":{\"shape\":\"\"}},\"name\":\"Swimming\",\"offsetgroup\":\"Swimming\",\"orientation\":\"v\",\"showlegend\":true,\"textposition\":\"auto\",\"x\":[1896,1900,1904,1906,1908,1924,1928,1932,1936,1948,1952,1956,1972,1980,1988,1992,1996,2000,2004,2008,2012,2016],\"xaxis\":\"x\",\"y\":[2,3,4,5,5,1,1,4,5,7,11,2,3,4,6,9,6,1,2,3,3,7],\"yaxis\":\"y\",\"type\":\"bar\"},{\"alignmentgroup\":\"True\",\"hovertemplate\":\"Sport=Tennis\\u003cbr\\u003e\\u00c5r=%{x}\\u003cbr\\u003eAntal medaljer=%{y}\\u003cextra\\u003e\\u003c\\u002fextra\\u003e\",\"legendgroup\":\"Tennis\",\"marker\":{\"color\":\"#00cc96\",\"pattern\":{\"shape\":\"\"}},\"name\":\"Tennis\",\"offsetgroup\":\"Tennis\",\"orientation\":\"v\",\"showlegend\":true,\"textposition\":\"auto\",\"x\":[1896],\"xaxis\":\"x\",\"y\":[1],\"yaxis\":\"y\",\"type\":\"bar\"},{\"alignmentgroup\":\"True\",\"hovertemplate\":\"Sport=Fencing\\u003cbr\\u003e\\u00c5r=%{x}\\u003cbr\\u003eAntal medaljer=%{y}\\u003cextra\\u003e\\u003c\\u002fextra\\u003e\",\"legendgroup\":\"Fencing\",\"marker\":{\"color\":\"#ab63fa\",\"pattern\":{\"shape\":\"\"}},\"name\":\"Fencing\",\"offsetgroup\":\"Fencing\",\"orientation\":\"v\",\"showlegend\":true,\"textposition\":\"auto\",\"x\":[1906,1908,1912,1924,1928,1932,1936,1948,1952,1956,1960,1964,1968,1972,1976,1980,1988,1992,1996,2000,2004,2008,2012,2016],\"xaxis\":\"x\",\"y\":[1,7,11,15,8,9,9,10,16,19,13,12,19,20,7,13,15,11,5,1,6,1,1,7],\"yaxis\":\"y\",\"type\":\"bar\"},{\"alignmentgroup\":\"True\",\"hovertemplate\":\"Sport=Gymnastics\\u003cbr\\u003e\\u00c5r=%{x}\\u003cbr\\u003eAntal medaljer=%{y}\\u003cextra\\u003e\\u003c\\u002fextra\\u003e\",\"legendgroup\":\"Gymnastics\",\"marker\":{\"color\":\"#FFA15A\",\"pattern\":{\"shape\":\"\"}},\"name\":\"Gymnastics\",\"offsetgroup\":\"Gymnastics\",\"orientation\":\"v\",\"showlegend\":true,\"textposition\":\"auto\",\"x\":[1906,1912,1932,1936,1948,1952,1956,1964,1972,1976,1980,1988,1992,1996,2000,2012],\"xaxis\":\"x\",\"y\":[1,16,4,8,20,22,17,2,6,2,7,1,2,1,1,1],\"yaxis\":\"y\",\"type\":\"bar\"},{\"alignmentgroup\":\"True\",\"hovertemplate\":\"Sport=Wrestling\\u003cbr\\u003e\\u00c5r=%{x}\\u003cbr\\u003eAntal medaljer=%{y}\\u003cextra\\u003e\\u003c\\u002fextra\\u003e\",\"legendgroup\":\"Wrestling\",\"marker\":{\"color\":\"#19d3f3\",\"pattern\":{\"shape\":\"\"}},\"name\":\"Wrestling\",\"offsetgroup\":\"Wrestling\",\"orientation\":\"v\",\"showlegend\":true,\"textposition\":\"auto\",\"x\":[1906,1908,1912,1924,1928,1932,1936,1948,1952,1956,1960,1964,1968,1972,1976,1980,1988,1992,2000,2004,2008,2012],\"xaxis\":\"x\",\"y\":[1,1,1,2,2,3,4,4,4,2,1,2,4,5,2,7,2,2,1,1,1,3],\"yaxis\":\"y\",\"type\":\"bar\"},{\"alignmentgroup\":\"True\",\"hovertemplate\":\"Sport=Rowing\\u003cbr\\u003e\\u00c5r=%{x}\\u003cbr\\u003eAntal medaljer=%{y}\\u003cextra\\u003e\\u003c\\u002fextra\\u003e\",\"legendgroup\":\"Rowing\",\"marker\":{\"color\":\"#FF6692\",\"pattern\":{\"shape\":\"\"}},\"name\":\"Rowing\",\"offsetgroup\":\"Rowing\",\"orientation\":\"v\",\"showlegend\":true,\"textposition\":\"auto\",\"x\":[1908,1948,1968],\"xaxis\":\"x\",\"y\":[1,3,4],\"yaxis\":\"y\",\"type\":\"bar\"},{\"alignmentgroup\":\"True\",\"hovertemplate\":\"Sport=Shooting\\u003cbr\\u003e\\u00c5r=%{x}\\u003cbr\\u003eAntal medaljer=%{y}\\u003cextra\\u003e\\u003c\\u002fextra\\u003e\",\"legendgroup\":\"Shooting\",\"marker\":{\"color\":\"#B6E880\",\"pattern\":{\"shape\":\"\"}},\"name\":\"Shooting\",\"offsetgroup\":\"Shooting\",\"orientation\":\"v\",\"showlegend\":true,\"textposition\":\"auto\",\"x\":[1912,1924,1932,1936,1948,1952,1964,1968,1972,1980,1988,2000,2004],\"xaxis\":\"x\",\"y\":[1,1,1,1,1,3,2,1,1,1,2,1,1],\"yaxis\":\"y\",\"type\":\"bar\"},{\"alignmentgroup\":\"True\",\"hovertemplate\":\"Sport=Art Competitions\\u003cbr\\u003e\\u00c5r=%{x}\\u003cbr\\u003eAntal medaljer=%{y}\\u003cextra\\u003e\\u003c\\u002fextra\\u003e\",\"legendgroup\":\"Art Competitions\",\"marker\":{\"color\":\"#FF97FF\",\"pattern\":{\"shape\":\"\"}},\"name\":\"Art Competitions\",\"offsetgroup\":\"Art Competitions\",\"orientation\":\"v\",\"showlegend\":true,\"textposition\":\"auto\",\"x\":[1924,1928,1932,1948],\"xaxis\":\"x\",\"y\":[2,1,1,1],\"yaxis\":\"y\",\"type\":\"bar\"},{\"alignmentgroup\":\"True\",\"hovertemplate\":\"Sport=Boxing\\u003cbr\\u003e\\u00c5r=%{x}\\u003cbr\\u003eAntal medaljer=%{y}\\u003cextra\\u003e\\u003c\\u002fextra\\u003e\",\"legendgroup\":\"Boxing\",\"marker\":{\"color\":\"#FECB52\",\"pattern\":{\"shape\":\"\"}},\"name\":\"Boxing\",\"offsetgroup\":\"Boxing\",\"orientation\":\"v\",\"showlegend\":true,\"textposition\":\"auto\",\"x\":[1928,1932,1936,1948,1952,1956,1960,1972,1980,1988,1992,1996,2000],\"xaxis\":\"x\",\"y\":[1,1,1,2,1,1,1,4,2,1,3,1,1],\"yaxis\":\"y\",\"type\":\"bar\"},{\"alignmentgroup\":\"True\",\"hovertemplate\":\"Sport=Water Polo\\u003cbr\\u003e\\u00c5r=%{x}\\u003cbr\\u003eAntal medaljer=%{y}\\u003cextra\\u003e\\u003c\\u002fextra\\u003e\",\"legendgroup\":\"Water Polo\",\"marker\":{\"color\":\"#636efa\",\"pattern\":{\"shape\":\"\"}},\"name\":\"Water Polo\",\"offsetgroup\":\"Water Polo\",\"orientation\":\"v\",\"showlegend\":true,\"textposition\":\"auto\",\"x\":[1928,1932,1936,1948,1952,1956,1960,1964,1968,1972,1976,1980,2000,2004,2008],\"xaxis\":\"x\",\"y\":[7,10,11,11,13,11,14,12,11,11,11,11,13,13,13],\"yaxis\":\"y\",\"type\":\"bar\"},{\"alignmentgroup\":\"True\",\"hovertemplate\":\"Sport=Figure Skating\\u003cbr\\u003e\\u00c5r=%{x}\\u003cbr\\u003eAntal medaljer=%{y}\\u003cextra\\u003e\\u003c\\u002fextra\\u003e\",\"legendgroup\":\"Figure Skating\",\"marker\":{\"color\":\"#EF553B\",\"pattern\":{\"shape\":\"\"}},\"name\":\"Figure Skating\",\"offsetgroup\":\"Figure Skating\",\"orientation\":\"v\",\"showlegend\":true,\"textposition\":\"auto\",\"x\":[1932,1936,1948,1952,1956,1980],\"xaxis\":\"x\",\"y\":[2,2,2,2,2,2],\"yaxis\":\"y\",\"type\":\"bar\"},{\"alignmentgroup\":\"True\",\"hovertemplate\":\"Sport=Equestrianism\\u003cbr\\u003e\\u00c5r=%{x}\\u003cbr\\u003eAntal medaljer=%{y}\\u003cextra\\u003e\\u003c\\u002fextra\\u003e\",\"legendgroup\":\"Equestrianism\",\"marker\":{\"color\":\"#00cc96\",\"pattern\":{\"shape\":\"\"}},\"name\":\"Equestrianism\",\"offsetgroup\":\"Equestrianism\",\"orientation\":\"v\",\"showlegend\":true,\"textposition\":\"auto\",\"x\":[1936],\"xaxis\":\"x\",\"y\":[1],\"yaxis\":\"y\",\"type\":\"bar\"},{\"alignmentgroup\":\"True\",\"hovertemplate\":\"Sport=Canoeing\\u003cbr\\u003e\\u00c5r=%{x}\\u003cbr\\u003eAntal medaljer=%{y}\\u003cextra\\u003e\\u003c\\u002fextra\\u003e\",\"legendgroup\":\"Canoeing\",\"marker\":{\"color\":\"#ab63fa\",\"pattern\":{\"shape\":\"\"}},\"name\":\"Canoeing\",\"offsetgroup\":\"Canoeing\",\"orientation\":\"v\",\"showlegend\":true,\"textposition\":\"auto\",\"x\":[1952,1956,1960,1964,1968,1972,1976,1980,1988,1992,1996,2000,2004,2008,2012,2016],\"xaxis\":\"x\",\"y\":[4,10,12,1,12,5,12,6,11,13,11,17,14,9,14,7],\"yaxis\":\"y\",\"type\":\"bar\"},{\"alignmentgroup\":\"True\",\"hovertemplate\":\"Sport=Football\\u003cbr\\u003e\\u00c5r=%{x}\\u003cbr\\u003eAntal medaljer=%{y}\\u003cextra\\u003e\\u003c\\u002fextra\\u003e\",\"legendgroup\":\"Football\",\"marker\":{\"color\":\"#FFA15A\",\"pattern\":{\"shape\":\"\"}},\"name\":\"Football\",\"offsetgroup\":\"Football\",\"orientation\":\"v\",\"showlegend\":true,\"textposition\":\"auto\",\"x\":[1952,1960,1964,1968,1972],\"xaxis\":\"x\",\"y\":[15,16,14,17,17],\"yaxis\":\"y\",\"type\":\"bar\"},{\"alignmentgroup\":\"True\",\"hovertemplate\":\"Sport=Modern Pentathlon\\u003cbr\\u003e\\u00c5r=%{x}\\u003cbr\\u003eAntal medaljer=%{y}\\u003cextra\\u003e\\u003c\\u002fextra\\u003e\",\"legendgroup\":\"Modern Pentathlon\",\"marker\":{\"color\":\"#19d3f3\",\"pattern\":{\"shape\":\"\"}},\"name\":\"Modern Pentathlon\",\"offsetgroup\":\"Modern Pentathlon\",\"orientation\":\"v\",\"showlegend\":true,\"textposition\":\"auto\",\"x\":[1952,1960,1964,1968,1972,1976,1980,1988,1992,1996,2000,2004,2012],\"xaxis\":\"x\",\"y\":[5,5,4,4,4,3,4,4,1,1,1,1,1],\"yaxis\":\"y\",\"type\":\"bar\"},{\"alignmentgroup\":\"True\",\"hovertemplate\":\"Sport=Weightlifting\\u003cbr\\u003e\\u00c5r=%{x}\\u003cbr\\u003eAntal medaljer=%{y}\\u003cextra\\u003e\\u003c\\u002fextra\\u003e\",\"legendgroup\":\"Weightlifting\",\"marker\":{\"color\":\"#FF6692\",\"pattern\":{\"shape\":\"\"}},\"name\":\"Weightlifting\",\"offsetgroup\":\"Weightlifting\",\"orientation\":\"v\",\"showlegend\":true,\"textposition\":\"auto\",\"x\":[1960,1964,1968,1972,1976,1980,1988,1996,2000,2004],\"xaxis\":\"x\",\"y\":[1,3,2,5,2,2,2,1,1,1],\"yaxis\":\"y\",\"type\":\"bar\"},{\"alignmentgroup\":\"True\",\"hovertemplate\":\"Sport=Handball\\u003cbr\\u003e\\u00c5r=%{x}\\u003cbr\\u003eAntal medaljer=%{y}\\u003cextra\\u003e\\u003c\\u002fextra\\u003e\",\"legendgroup\":\"Handball\",\"marker\":{\"color\":\"#B6E880\",\"pattern\":{\"shape\":\"\"}},\"name\":\"Handball\",\"offsetgroup\":\"Handball\",\"orientation\":\"v\",\"showlegend\":true,\"textposition\":\"auto\",\"x\":[1976,1996,2000],\"xaxis\":\"x\",\"y\":[14,16,15],\"yaxis\":\"y\",\"type\":\"bar\"},{\"alignmentgroup\":\"True\",\"hovertemplate\":\"Sport=Judo\\u003cbr\\u003e\\u00c5r=%{x}\\u003cbr\\u003eAntal medaljer=%{y}\\u003cextra\\u003e\\u003c\\u002fextra\\u003e\",\"legendgroup\":\"Judo\",\"marker\":{\"color\":\"#FF97FF\",\"pattern\":{\"shape\":\"\"}},\"name\":\"Judo\",\"offsetgroup\":\"Judo\",\"orientation\":\"v\",\"showlegend\":true,\"textposition\":\"auto\",\"x\":[1976,1980,1992,2012],\"xaxis\":\"x\",\"y\":[1,2,4,2],\"yaxis\":\"y\",\"type\":\"bar\"},{\"alignmentgroup\":\"True\",\"hovertemplate\":\"Sport=Sailing\\u003cbr\\u003e\\u00c5r=%{x}\\u003cbr\\u003eAntal medaljer=%{y}\\u003cextra\\u003e\\u003c\\u002fextra\\u003e\",\"legendgroup\":\"Sailing\",\"marker\":{\"color\":\"#FECB52\",\"pattern\":{\"shape\":\"\"}},\"name\":\"Sailing\",\"offsetgroup\":\"Sailing\",\"orientation\":\"v\",\"showlegend\":true,\"textposition\":\"auto\",\"x\":[1980],\"xaxis\":\"x\",\"y\":[2],\"yaxis\":\"y\",\"type\":\"bar\"}],                        {\"template\":{\"data\":{\"histogram2dcontour\":[{\"type\":\"histogram2dcontour\",\"colorbar\":{\"outlinewidth\":0,\"ticks\":\"\"},\"colorscale\":[[0.0,\"#0d0887\"],[0.1111111111111111,\"#46039f\"],[0.2222222222222222,\"#7201a8\"],[0.3333333333333333,\"#9c179e\"],[0.4444444444444444,\"#bd3786\"],[0.5555555555555556,\"#d8576b\"],[0.6666666666666666,\"#ed7953\"],[0.7777777777777778,\"#fb9f3a\"],[0.8888888888888888,\"#fdca26\"],[1.0,\"#f0f921\"]]}],\"choropleth\":[{\"type\":\"choropleth\",\"colorbar\":{\"outlinewidth\":0,\"ticks\":\"\"}}],\"histogram2d\":[{\"type\":\"histogram2d\",\"colorbar\":{\"outlinewidth\":0,\"ticks\":\"\"},\"colorscale\":[[0.0,\"#0d0887\"],[0.1111111111111111,\"#46039f\"],[0.2222222222222222,\"#7201a8\"],[0.3333333333333333,\"#9c179e\"],[0.4444444444444444,\"#bd3786\"],[0.5555555555555556,\"#d8576b\"],[0.6666666666666666,\"#ed7953\"],[0.7777777777777778,\"#fb9f3a\"],[0.8888888888888888,\"#fdca26\"],[1.0,\"#f0f921\"]]}],\"heatmap\":[{\"type\":\"heatmap\",\"colorbar\":{\"outlinewidth\":0,\"ticks\":\"\"},\"colorscale\":[[0.0,\"#0d0887\"],[0.1111111111111111,\"#46039f\"],[0.2222222222222222,\"#7201a8\"],[0.3333333333333333,\"#9c179e\"],[0.4444444444444444,\"#bd3786\"],[0.5555555555555556,\"#d8576b\"],[0.6666666666666666,\"#ed7953\"],[0.7777777777777778,\"#fb9f3a\"],[0.8888888888888888,\"#fdca26\"],[1.0,\"#f0f921\"]]}],\"heatmapgl\":[{\"type\":\"heatmapgl\",\"colorbar\":{\"outlinewidth\":0,\"ticks\":\"\"},\"colorscale\":[[0.0,\"#0d0887\"],[0.1111111111111111,\"#46039f\"],[0.2222222222222222,\"#7201a8\"],[0.3333333333333333,\"#9c179e\"],[0.4444444444444444,\"#bd3786\"],[0.5555555555555556,\"#d8576b\"],[0.6666666666666666,\"#ed7953\"],[0.7777777777777778,\"#fb9f3a\"],[0.8888888888888888,\"#fdca26\"],[1.0,\"#f0f921\"]]}],\"contourcarpet\":[{\"type\":\"contourcarpet\",\"colorbar\":{\"outlinewidth\":0,\"ticks\":\"\"}}],\"contour\":[{\"type\":\"contour\",\"colorbar\":{\"outlinewidth\":0,\"ticks\":\"\"},\"colorscale\":[[0.0,\"#0d0887\"],[0.1111111111111111,\"#46039f\"],[0.2222222222222222,\"#7201a8\"],[0.3333333333333333,\"#9c179e\"],[0.4444444444444444,\"#bd3786\"],[0.5555555555555556,\"#d8576b\"],[0.6666666666666666,\"#ed7953\"],[0.7777777777777778,\"#fb9f3a\"],[0.8888888888888888,\"#fdca26\"],[1.0,\"#f0f921\"]]}],\"surface\":[{\"type\":\"surface\",\"colorbar\":{\"outlinewidth\":0,\"ticks\":\"\"},\"colorscale\":[[0.0,\"#0d0887\"],[0.1111111111111111,\"#46039f\"],[0.2222222222222222,\"#7201a8\"],[0.3333333333333333,\"#9c179e\"],[0.4444444444444444,\"#bd3786\"],[0.5555555555555556,\"#d8576b\"],[0.6666666666666666,\"#ed7953\"],[0.7777777777777778,\"#fb9f3a\"],[0.8888888888888888,\"#fdca26\"],[1.0,\"#f0f921\"]]}],\"mesh3d\":[{\"type\":\"mesh3d\",\"colorbar\":{\"outlinewidth\":0,\"ticks\":\"\"}}],\"scatter\":[{\"fillpattern\":{\"fillmode\":\"overlay\",\"size\":10,\"solidity\":0.2},\"type\":\"scatter\"}],\"parcoords\":[{\"type\":\"parcoords\",\"line\":{\"colorbar\":{\"outlinewidth\":0,\"ticks\":\"\"}}}],\"scatterpolargl\":[{\"type\":\"scatterpolargl\",\"marker\":{\"colorbar\":{\"outlinewidth\":0,\"ticks\":\"\"}}}],\"bar\":[{\"error_x\":{\"color\":\"#2a3f5f\"},\"error_y\":{\"color\":\"#2a3f5f\"},\"marker\":{\"line\":{\"color\":\"#E5ECF6\",\"width\":0.5},\"pattern\":{\"fillmode\":\"overlay\",\"size\":10,\"solidity\":0.2}},\"type\":\"bar\"}],\"scattergeo\":[{\"type\":\"scattergeo\",\"marker\":{\"colorbar\":{\"outlinewidth\":0,\"ticks\":\"\"}}}],\"scatterpolar\":[{\"type\":\"scatterpolar\",\"marker\":{\"colorbar\":{\"outlinewidth\":0,\"ticks\":\"\"}}}],\"histogram\":[{\"marker\":{\"pattern\":{\"fillmode\":\"overlay\",\"size\":10,\"solidity\":0.2}},\"type\":\"histogram\"}],\"scattergl\":[{\"type\":\"scattergl\",\"marker\":{\"colorbar\":{\"outlinewidth\":0,\"ticks\":\"\"}}}],\"scatter3d\":[{\"type\":\"scatter3d\",\"line\":{\"colorbar\":{\"outlinewidth\":0,\"ticks\":\"\"}},\"marker\":{\"colorbar\":{\"outlinewidth\":0,\"ticks\":\"\"}}}],\"scattermapbox\":[{\"type\":\"scattermapbox\",\"marker\":{\"colorbar\":{\"outlinewidth\":0,\"ticks\":\"\"}}}],\"scatterternary\":[{\"type\":\"scatterternary\",\"marker\":{\"colorbar\":{\"outlinewidth\":0,\"ticks\":\"\"}}}],\"scattercarpet\":[{\"type\":\"scattercarpet\",\"marker\":{\"colorbar\":{\"outlinewidth\":0,\"ticks\":\"\"}}}],\"carpet\":[{\"aaxis\":{\"endlinecolor\":\"#2a3f5f\",\"gridcolor\":\"white\",\"linecolor\":\"white\",\"minorgridcolor\":\"white\",\"startlinecolor\":\"#2a3f5f\"},\"baxis\":{\"endlinecolor\":\"#2a3f5f\",\"gridcolor\":\"white\",\"linecolor\":\"white\",\"minorgridcolor\":\"white\",\"startlinecolor\":\"#2a3f5f\"},\"type\":\"carpet\"}],\"table\":[{\"cells\":{\"fill\":{\"color\":\"#EBF0F8\"},\"line\":{\"color\":\"white\"}},\"header\":{\"fill\":{\"color\":\"#C8D4E3\"},\"line\":{\"color\":\"white\"}},\"type\":\"table\"}],\"barpolar\":[{\"marker\":{\"line\":{\"color\":\"#E5ECF6\",\"width\":0.5},\"pattern\":{\"fillmode\":\"overlay\",\"size\":10,\"solidity\":0.2}},\"type\":\"barpolar\"}],\"pie\":[{\"automargin\":true,\"type\":\"pie\"}]},\"layout\":{\"autotypenumbers\":\"strict\",\"colorway\":[\"#636efa\",\"#EF553B\",\"#00cc96\",\"#ab63fa\",\"#FFA15A\",\"#19d3f3\",\"#FF6692\",\"#B6E880\",\"#FF97FF\",\"#FECB52\"],\"font\":{\"color\":\"#2a3f5f\"},\"hovermode\":\"closest\",\"hoverlabel\":{\"align\":\"left\"},\"paper_bgcolor\":\"white\",\"plot_bgcolor\":\"#E5ECF6\",\"polar\":{\"bgcolor\":\"#E5ECF6\",\"angularaxis\":{\"gridcolor\":\"white\",\"linecolor\":\"white\",\"ticks\":\"\"},\"radialaxis\":{\"gridcolor\":\"white\",\"linecolor\":\"white\",\"ticks\":\"\"}},\"ternary\":{\"bgcolor\":\"#E5ECF6\",\"aaxis\":{\"gridcolor\":\"white\",\"linecolor\":\"white\",\"ticks\":\"\"},\"baxis\":{\"gridcolor\":\"white\",\"linecolor\":\"white\",\"ticks\":\"\"},\"caxis\":{\"gridcolor\":\"white\",\"linecolor\":\"white\",\"ticks\":\"\"}},\"coloraxis\":{\"colorbar\":{\"outlinewidth\":0,\"ticks\":\"\"}},\"colorscale\":{\"sequential\":[[0.0,\"#0d0887\"],[0.1111111111111111,\"#46039f\"],[0.2222222222222222,\"#7201a8\"],[0.3333333333333333,\"#9c179e\"],[0.4444444444444444,\"#bd3786\"],[0.5555555555555556,\"#d8576b\"],[0.6666666666666666,\"#ed7953\"],[0.7777777777777778,\"#fb9f3a\"],[0.8888888888888888,\"#fdca26\"],[1.0,\"#f0f921\"]],\"sequentialminus\":[[0.0,\"#0d0887\"],[0.1111111111111111,\"#46039f\"],[0.2222222222222222,\"#7201a8\"],[0.3333333333333333,\"#9c179e\"],[0.4444444444444444,\"#bd3786\"],[0.5555555555555556,\"#d8576b\"],[0.6666666666666666,\"#ed7953\"],[0.7777777777777778,\"#fb9f3a\"],[0.8888888888888888,\"#fdca26\"],[1.0,\"#f0f921\"]],\"diverging\":[[0,\"#8e0152\"],[0.1,\"#c51b7d\"],[0.2,\"#de77ae\"],[0.3,\"#f1b6da\"],[0.4,\"#fde0ef\"],[0.5,\"#f7f7f7\"],[0.6,\"#e6f5d0\"],[0.7,\"#b8e186\"],[0.8,\"#7fbc41\"],[0.9,\"#4d9221\"],[1,\"#276419\"]]},\"xaxis\":{\"gridcolor\":\"white\",\"linecolor\":\"white\",\"ticks\":\"\",\"title\":{\"standoff\":15},\"zerolinecolor\":\"white\",\"automargin\":true,\"zerolinewidth\":2},\"yaxis\":{\"gridcolor\":\"white\",\"linecolor\":\"white\",\"ticks\":\"\",\"title\":{\"standoff\":15},\"zerolinecolor\":\"white\",\"automargin\":true,\"zerolinewidth\":2},\"scene\":{\"xaxis\":{\"backgroundcolor\":\"#E5ECF6\",\"gridcolor\":\"white\",\"linecolor\":\"white\",\"showbackground\":true,\"ticks\":\"\",\"zerolinecolor\":\"white\",\"gridwidth\":2},\"yaxis\":{\"backgroundcolor\":\"#E5ECF6\",\"gridcolor\":\"white\",\"linecolor\":\"white\",\"showbackground\":true,\"ticks\":\"\",\"zerolinecolor\":\"white\",\"gridwidth\":2},\"zaxis\":{\"backgroundcolor\":\"#E5ECF6\",\"gridcolor\":\"white\",\"linecolor\":\"white\",\"showbackground\":true,\"ticks\":\"\",\"zerolinecolor\":\"white\",\"gridwidth\":2}},\"shapedefaults\":{\"line\":{\"color\":\"#2a3f5f\"}},\"annotationdefaults\":{\"arrowcolor\":\"#2a3f5f\",\"arrowhead\":0,\"arrowwidth\":1},\"geo\":{\"bgcolor\":\"white\",\"landcolor\":\"#E5ECF6\",\"subunitcolor\":\"white\",\"showland\":true,\"showlakes\":true,\"lakecolor\":\"white\"},\"title\":{\"x\":0.05},\"mapbox\":{\"style\":\"light\"}}},\"xaxis\":{\"anchor\":\"y\",\"domain\":[0.0,1.0],\"title\":{\"text\":\"\\u00c5r\"}},\"yaxis\":{\"anchor\":\"x\",\"domain\":[0.0,1.0],\"title\":{\"text\":\"Antal medaljer\"}},\"legend\":{\"title\":{\"text\":\"Sport\"},\"tracegroupgap\":0},\"title\":{\"text\":\"Medaljer per sport \\u00f6ver tid\"},\"barmode\":\"relative\"},                        {\"responsive\": true}                    ).then(function(){\n",
       "                            \n",
       "var gd = document.getElementById('8bfa7b18-fdda-4fa4-a523-75c5e15e7e81');\n",
       "var x = new MutationObserver(function (mutations, observer) {{\n",
       "        var display = window.getComputedStyle(gd).display;\n",
       "        if (!display || display === 'none') {{\n",
       "            console.log([gd, 'removed!']);\n",
       "            Plotly.purge(gd);\n",
       "            observer.disconnect();\n",
       "        }}\n",
       "}});\n",
       "\n",
       "// Listen for the removal of the full notebook cells\n",
       "var notebookContainer = gd.closest('#notebook-container');\n",
       "if (notebookContainer) {{\n",
       "    x.observe(notebookContainer, {childList: true});\n",
       "}}\n",
       "\n",
       "// Listen for the clearing of the current output cell\n",
       "var outputEl = gd.closest('.output');\n",
       "if (outputEl) {{\n",
       "    x.observe(outputEl, {childList: true});\n",
       "}}\n",
       "\n",
       "                        })                };                });            </script>        </div>"
      ]
     },
     "metadata": {},
     "output_type": "display_data"
    }
   ],
   "source": [
    "\n",
    "medals = hungary[hungary[\"Medal\"].notnull()]\n",
    "\n",
    "\n",
    "medals_by_sport_over_time = medals.groupby([\"Year\", \"Sport\"]).size().reset_index(name=\"Count\")\n",
    "\n",
    "\n",
    "fig = px.bar(\n",
    "    medals_by_sport_over_time,\n",
    "    x=\"Year\",\n",
    "    y=\"Count\",\n",
    "    color=\"Sport\",\n",
    "    title=\"Medaljer per sport över tid\",\n",
    "    labels={\"Year\": \"År\", \"Count\": \"Antal medaljer\", \"Sport\": \"Sport\"},\n",
    ")\n",
    "\n",
    "fig.show()\n"
   ]
  },
  {
   "cell_type": "code",
   "execution_count": 36,
   "metadata": {},
   "outputs": [
    {
     "data": {
      "application/vnd.plotly.v1+json": {
       "config": {
        "plotlyServerURL": "https://plot.ly"
       },
       "data": [
        {
         "alignmentgroup": "True",
         "hovertemplate": "Medaljtyp=%{x}<br>Ålder=%{y}<extra></extra>",
         "legendgroup": "",
         "marker": {
          "color": "#636efa"
         },
         "name": "",
         "notched": false,
         "offsetgroup": "",
         "orientation": "v",
         "showlegend": false,
         "type": "box",
         "x": [
          "Silver",
          "Bronze",
          "Bronze",
          "Gold",
          "Silver",
          "Silver",
          "Gold",
          "Bronze",
          "Gold",
          "Bronze",
          "Gold",
          "Silver",
          "Silver",
          "Bronze",
          "Gold",
          "Bronze",
          "Bronze",
          "Bronze",
          "Silver",
          "Bronze",
          "Bronze",
          "Bronze",
          "Bronze",
          "Silver",
          "Gold",
          "Silver",
          "Gold",
          "Gold",
          "Silver",
          "Silver",
          "Silver",
          "Silver",
          "Bronze",
          "Silver",
          "Silver",
          "Silver",
          "Bronze",
          "Gold",
          "Silver",
          "Bronze",
          "Bronze",
          "Silver",
          "Silver",
          "Gold",
          "Bronze",
          "Bronze",
          "Gold",
          "Gold",
          "Bronze",
          "Silver",
          "Gold",
          "Silver",
          "Gold",
          "Bronze",
          "Gold",
          "Gold",
          "Gold",
          "Gold",
          "Gold",
          "Bronze",
          "Bronze",
          "Gold",
          "Bronze",
          "Silver",
          "Gold",
          "Gold",
          "Bronze",
          "Silver",
          "Silver",
          "Bronze",
          "Silver",
          "Gold",
          "Gold",
          "Gold",
          "Gold",
          "Silver",
          "Bronze",
          "Bronze",
          "Gold",
          "Bronze",
          "Silver",
          "Silver",
          "Bronze",
          "Silver",
          "Gold",
          "Bronze",
          "Bronze",
          "Gold",
          "Gold",
          "Gold",
          "Gold",
          "Bronze",
          "Gold",
          "Silver",
          "Bronze",
          "Gold",
          "Gold",
          "Gold",
          "Silver",
          "Silver",
          "Gold",
          "Gold",
          "Gold",
          "Bronze",
          "Bronze",
          "Bronze",
          "Gold",
          "Silver",
          "Bronze",
          "Gold",
          "Gold",
          "Silver",
          "Bronze",
          "Gold",
          "Bronze",
          "Bronze",
          "Silver",
          "Bronze",
          "Bronze",
          "Bronze",
          "Bronze",
          "Silver",
          "Silver",
          "Silver",
          "Bronze",
          "Silver",
          "Gold",
          "Silver",
          "Gold",
          "Bronze",
          "Silver",
          "Gold",
          "Gold",
          "Bronze",
          "Gold",
          "Bronze",
          "Bronze",
          "Gold",
          "Silver",
          "Silver",
          "Gold",
          "Bronze",
          "Silver",
          "Gold",
          "Gold",
          "Gold",
          "Bronze",
          "Silver",
          "Bronze",
          "Gold",
          "Gold",
          "Gold",
          "Gold",
          "Bronze",
          "Silver",
          "Gold",
          "Gold",
          "Gold",
          "Gold",
          "Silver",
          "Silver",
          "Gold",
          "Silver",
          "Bronze",
          "Bronze",
          "Gold",
          "Silver",
          "Gold",
          "Silver",
          "Bronze",
          "Gold",
          "Bronze",
          "Bronze",
          "Bronze",
          "Gold",
          "Gold",
          "Gold",
          "Gold",
          "Silver",
          "Bronze",
          "Silver",
          "Bronze",
          "Bronze",
          "Gold",
          "Silver",
          "Silver",
          "Bronze",
          "Gold",
          "Silver",
          "Gold",
          "Gold",
          "Gold",
          "Gold",
          "Gold",
          "Bronze",
          "Bronze",
          "Bronze",
          "Gold",
          "Gold",
          "Silver",
          "Gold",
          "Bronze",
          "Silver",
          "Bronze",
          "Gold",
          "Bronze",
          "Silver",
          "Gold",
          "Gold",
          "Gold",
          "Bronze",
          "Silver",
          "Gold",
          "Bronze",
          "Silver",
          "Bronze",
          "Silver",
          "Bronze",
          "Bronze",
          "Gold",
          "Gold",
          "Silver",
          "Silver",
          "Silver",
          "Bronze",
          "Gold",
          "Gold",
          "Gold",
          "Gold",
          "Silver",
          "Bronze",
          "Bronze",
          "Gold",
          "Bronze",
          "Gold",
          "Gold",
          "Gold",
          "Bronze",
          "Bronze",
          "Silver",
          "Gold",
          "Gold",
          "Silver",
          "Gold",
          "Gold",
          "Bronze",
          "Bronze",
          "Silver",
          "Silver",
          "Gold",
          "Gold",
          "Silver",
          "Bronze",
          "Bronze",
          "Gold",
          "Gold",
          "Gold",
          "Gold",
          "Bronze",
          "Gold",
          "Bronze",
          "Silver",
          "Gold",
          "Bronze",
          "Silver",
          "Silver",
          "Gold",
          "Bronze",
          "Bronze",
          "Gold",
          "Gold",
          "Silver",
          "Bronze",
          "Silver",
          "Gold",
          "Silver",
          "Gold",
          "Gold",
          "Gold",
          "Bronze",
          "Gold",
          "Bronze",
          "Gold",
          "Gold",
          "Gold",
          "Bronze",
          "Silver",
          "Gold",
          "Gold",
          "Gold",
          "Bronze",
          "Bronze",
          "Gold",
          "Gold",
          "Silver",
          "Bronze",
          "Gold",
          "Gold",
          "Bronze",
          "Gold",
          "Bronze",
          "Silver",
          "Silver",
          "Bronze",
          "Bronze",
          "Gold",
          "Bronze",
          "Silver",
          "Silver",
          "Silver",
          "Bronze",
          "Silver",
          "Gold",
          "Bronze",
          "Bronze",
          "Silver",
          "Silver",
          "Silver",
          "Bronze",
          "Silver",
          "Gold",
          "Gold",
          "Bronze",
          "Gold",
          "Gold",
          "Gold",
          "Silver",
          "Gold",
          "Gold",
          "Silver",
          "Silver",
          "Bronze",
          "Silver",
          "Gold",
          "Gold",
          "Gold",
          "Silver",
          "Gold",
          "Silver",
          "Silver",
          "Gold",
          "Gold",
          "Gold",
          "Silver",
          "Bronze",
          "Bronze",
          "Gold",
          "Silver",
          "Gold",
          "Gold",
          "Bronze",
          "Gold",
          "Silver",
          "Bronze",
          "Bronze",
          "Gold",
          "Gold",
          "Silver",
          "Silver",
          "Silver",
          "Silver",
          "Silver",
          "Gold",
          "Gold",
          "Bronze",
          "Gold",
          "Gold",
          "Gold",
          "Bronze",
          "Bronze",
          "Silver",
          "Bronze",
          "Silver",
          "Gold",
          "Gold",
          "Gold",
          "Bronze",
          "Gold",
          "Bronze",
          "Silver",
          "Gold",
          "Gold",
          "Bronze",
          "Silver",
          "Silver",
          "Gold",
          "Bronze",
          "Gold",
          "Gold",
          "Silver",
          "Gold",
          "Gold",
          "Bronze",
          "Bronze",
          "Gold",
          "Gold",
          "Bronze",
          "Silver",
          "Silver",
          "Bronze",
          "Bronze",
          "Silver",
          "Gold",
          "Silver",
          "Bronze",
          "Silver",
          "Gold",
          "Gold",
          "Bronze",
          "Silver",
          "Gold",
          "Silver",
          "Silver",
          "Gold",
          "Bronze",
          "Gold",
          "Gold",
          "Gold",
          "Bronze",
          "Silver",
          "Silver",
          "Bronze",
          "Bronze",
          "Gold",
          "Gold",
          "Gold",
          "Silver",
          "Silver",
          "Silver",
          "Bronze",
          "Gold",
          "Bronze",
          "Gold",
          "Bronze",
          "Silver",
          "Bronze",
          "Silver",
          "Silver",
          "Bronze",
          "Gold",
          "Gold",
          "Bronze",
          "Gold",
          "Silver",
          "Gold",
          "Gold",
          "Gold",
          "Gold",
          "Gold",
          "Gold",
          "Gold",
          "Gold",
          "Gold",
          "Gold",
          "Silver",
          "Bronze",
          "Gold",
          "Gold",
          "Gold",
          "Silver",
          "Bronze",
          "Bronze",
          "Silver",
          "Bronze",
          "Gold",
          "Bronze",
          "Silver",
          "Silver",
          "Gold",
          "Gold",
          "Gold",
          "Gold",
          "Bronze",
          "Silver",
          "Bronze",
          "Gold",
          "Gold",
          "Silver",
          "Gold",
          "Silver",
          "Silver",
          "Gold",
          "Bronze",
          "Silver",
          "Gold",
          "Silver",
          "Gold",
          "Bronze",
          "Silver",
          "Gold",
          "Silver",
          "Gold",
          "Bronze",
          "Gold",
          "Gold",
          "Gold",
          "Bronze",
          "Silver",
          "Gold",
          "Bronze",
          "Bronze",
          "Bronze",
          "Bronze",
          "Bronze",
          "Silver",
          "Silver",
          "Bronze",
          "Gold",
          "Gold",
          "Silver",
          "Gold",
          "Bronze",
          "Gold",
          "Gold",
          "Silver",
          "Gold",
          "Bronze",
          "Bronze",
          "Silver",
          "Gold",
          "Silver",
          "Silver",
          "Gold",
          "Bronze",
          "Gold",
          "Bronze",
          "Silver",
          "Gold",
          "Bronze",
          "Silver",
          "Gold",
          "Bronze",
          "Gold",
          "Bronze",
          "Bronze",
          "Silver",
          "Bronze",
          "Bronze",
          "Gold",
          "Bronze",
          "Silver",
          "Gold",
          "Gold",
          "Silver",
          "Bronze",
          "Gold",
          "Gold",
          "Bronze",
          "Bronze",
          "Bronze",
          "Bronze",
          "Gold",
          "Bronze",
          "Gold",
          "Bronze",
          "Silver",
          "Silver",
          "Silver",
          "Silver",
          "Silver",
          "Silver",
          "Gold",
          "Silver",
          "Gold",
          "Silver",
          "Silver",
          "Gold",
          "Gold",
          "Bronze",
          "Gold",
          "Gold",
          "Gold",
          "Gold",
          "Gold",
          "Bronze",
          "Bronze",
          "Bronze",
          "Bronze",
          "Bronze",
          "Gold",
          "Silver",
          "Silver",
          "Silver",
          "Silver",
          "Silver",
          "Bronze",
          "Silver",
          "Gold",
          "Gold",
          "Gold",
          "Gold",
          "Gold",
          "Gold",
          "Gold",
          "Silver",
          "Bronze",
          "Bronze",
          "Silver",
          "Silver",
          "Silver",
          "Silver",
          "Bronze",
          "Silver",
          "Bronze",
          "Gold",
          "Gold",
          "Gold",
          "Bronze",
          "Gold",
          "Bronze",
          "Silver",
          "Silver",
          "Silver",
          "Silver",
          "Bronze",
          "Gold",
          "Gold",
          "Silver",
          "Silver",
          "Gold",
          "Bronze",
          "Bronze",
          "Bronze",
          "Bronze",
          "Gold",
          "Gold",
          "Gold",
          "Silver",
          "Bronze",
          "Silver",
          "Gold",
          "Gold",
          "Bronze",
          "Silver",
          "Gold",
          "Gold",
          "Bronze",
          "Gold",
          "Gold",
          "Silver",
          "Silver",
          "Bronze",
          "Silver",
          "Gold",
          "Gold",
          "Gold",
          "Bronze",
          "Silver",
          "Bronze",
          "Silver",
          "Bronze",
          "Bronze",
          "Bronze",
          "Silver",
          "Gold",
          "Silver",
          "Silver",
          "Bronze",
          "Gold",
          "Gold",
          "Gold",
          "Bronze",
          "Bronze",
          "Silver",
          "Bronze",
          "Bronze",
          "Bronze",
          "Bronze",
          "Gold",
          "Bronze",
          "Gold",
          "Bronze",
          "Bronze",
          "Bronze",
          "Silver",
          "Silver",
          "Gold",
          "Gold",
          "Silver",
          "Silver",
          "Gold",
          "Bronze",
          "Gold",
          "Bronze",
          "Silver",
          "Silver",
          "Bronze",
          "Gold",
          "Bronze",
          "Bronze",
          "Silver",
          "Bronze",
          "Gold",
          "Silver",
          "Bronze",
          "Bronze",
          "Silver",
          "Bronze",
          "Bronze",
          "Bronze",
          "Bronze",
          "Silver",
          "Gold",
          "Bronze",
          "Gold",
          "Gold",
          "Gold",
          "Gold",
          "Gold",
          "Bronze",
          "Silver",
          "Silver",
          "Silver",
          "Bronze",
          "Silver",
          "Gold",
          "Bronze",
          "Silver",
          "Gold",
          "Bronze",
          "Bronze",
          "Gold",
          "Bronze",
          "Bronze",
          "Bronze",
          "Bronze",
          "Gold",
          "Gold",
          "Gold",
          "Bronze",
          "Bronze",
          "Bronze",
          "Silver",
          "Silver",
          "Bronze",
          "Gold",
          "Silver",
          "Bronze",
          "Silver",
          "Gold",
          "Gold",
          "Gold",
          "Gold",
          "Bronze",
          "Gold",
          "Bronze",
          "Gold",
          "Gold",
          "Gold",
          "Bronze",
          "Gold",
          "Gold",
          "Gold",
          "Bronze",
          "Gold",
          "Gold",
          "Gold",
          "Silver",
          "Gold",
          "Gold",
          "Silver",
          "Silver",
          "Silver",
          "Gold",
          "Gold",
          "Gold",
          "Silver",
          "Bronze",
          "Gold",
          "Bronze",
          "Bronze",
          "Bronze",
          "Silver",
          "Bronze",
          "Silver",
          "Bronze",
          "Gold",
          "Bronze",
          "Gold",
          "Gold",
          "Silver",
          "Gold",
          "Gold",
          "Bronze",
          "Gold",
          "Gold",
          "Gold",
          "Silver",
          "Gold",
          "Silver",
          "Silver",
          "Gold",
          "Silver",
          "Bronze",
          "Gold",
          "Bronze",
          "Silver",
          "Silver",
          "Silver",
          "Gold",
          "Silver",
          "Gold",
          "Bronze",
          "Silver",
          "Silver",
          "Gold",
          "Gold",
          "Gold",
          "Bronze",
          "Bronze",
          "Bronze",
          "Silver",
          "Bronze",
          "Silver",
          "Silver",
          "Gold",
          "Gold",
          "Gold",
          "Bronze",
          "Silver",
          "Silver",
          "Silver",
          "Silver",
          "Silver",
          "Gold",
          "Bronze",
          "Gold",
          "Silver",
          "Gold",
          "Bronze",
          "Gold",
          "Gold",
          "Silver",
          "Bronze",
          "Silver",
          "Silver",
          "Gold",
          "Gold",
          "Gold",
          "Gold",
          "Gold",
          "Silver",
          "Bronze",
          "Silver",
          "Bronze",
          "Bronze",
          "Silver",
          "Silver",
          "Bronze",
          "Bronze",
          "Silver",
          "Silver",
          "Gold",
          "Gold",
          "Bronze",
          "Silver",
          "Silver",
          "Bronze",
          "Gold",
          "Silver",
          "Silver",
          "Gold",
          "Bronze",
          "Silver",
          "Silver",
          "Bronze",
          "Bronze",
          "Silver",
          "Silver",
          "Gold",
          "Bronze",
          "Silver",
          "Bronze",
          "Gold",
          "Silver",
          "Bronze",
          "Bronze",
          "Silver",
          "Silver",
          "Bronze",
          "Gold",
          "Gold",
          "Gold",
          "Silver",
          "Bronze",
          "Silver",
          "Gold",
          "Bronze",
          "Bronze",
          "Gold",
          "Bronze",
          "Silver",
          "Gold",
          "Gold",
          "Silver",
          "Gold",
          "Bronze",
          "Bronze",
          "Bronze",
          "Gold",
          "Silver",
          "Bronze",
          "Bronze",
          "Silver",
          "Bronze",
          "Bronze",
          "Silver",
          "Silver",
          "Bronze",
          "Bronze",
          "Bronze",
          "Bronze",
          "Gold",
          "Gold",
          "Gold",
          "Bronze",
          "Bronze",
          "Gold",
          "Gold",
          "Gold",
          "Gold",
          "Bronze",
          "Bronze",
          "Gold",
          "Gold",
          "Silver",
          "Silver",
          "Silver",
          "Gold",
          "Gold",
          "Gold",
          "Bronze",
          "Silver",
          "Gold",
          "Silver",
          "Silver",
          "Silver",
          "Silver",
          "Bronze",
          "Gold",
          "Bronze",
          "Bronze",
          "Gold",
          "Gold",
          "Silver",
          "Silver",
          "Gold",
          "Gold",
          "Gold",
          "Bronze",
          "Gold",
          "Gold",
          "Silver",
          "Bronze",
          "Bronze",
          "Bronze",
          "Silver",
          "Silver",
          "Gold",
          "Silver",
          "Gold",
          "Gold",
          "Gold",
          "Bronze",
          "Silver",
          "Gold",
          "Silver",
          "Gold",
          "Bronze",
          "Silver",
          "Gold",
          "Bronze",
          "Silver",
          "Gold",
          "Gold",
          "Bronze",
          "Bronze",
          "Gold",
          "Gold",
          "Bronze",
          "Bronze",
          "Bronze",
          "Silver",
          "Silver",
          "Bronze",
          "Silver",
          "Silver",
          "Silver",
          "Bronze",
          "Gold",
          "Silver",
          "Gold",
          "Silver",
          "Gold",
          "Silver",
          "Silver",
          "Gold",
          "Gold",
          "Bronze",
          "Gold",
          "Silver",
          "Silver",
          "Bronze",
          "Silver",
          "Gold",
          "Bronze",
          "Gold",
          "Bronze",
          "Gold",
          "Silver",
          "Bronze",
          "Bronze",
          "Silver",
          "Bronze",
          "Bronze",
          "Bronze",
          "Gold",
          "Bronze",
          "Gold",
          "Bronze",
          "Gold",
          "Bronze",
          "Bronze",
          "Bronze",
          "Silver",
          "Bronze",
          "Silver",
          "Bronze",
          "Silver",
          "Bronze",
          "Silver",
          "Bronze",
          "Bronze",
          "Gold",
          "Gold",
          "Bronze",
          "Bronze",
          "Silver",
          "Silver",
          "Bronze",
          "Bronze",
          "Bronze",
          "Bronze",
          "Bronze",
          "Silver",
          "Silver",
          "Gold",
          "Bronze",
          "Gold",
          "Bronze",
          "Bronze",
          "Bronze",
          "Silver",
          "Bronze",
          "Bronze",
          "Gold",
          "Gold",
          "Bronze",
          "Gold",
          "Gold",
          "Gold",
          "Gold",
          "Gold",
          "Gold",
          "Bronze",
          "Gold",
          "Gold",
          "Bronze",
          "Bronze",
          "Bronze",
          "Gold",
          "Silver",
          "Bronze",
          "Gold",
          "Gold",
          "Bronze",
          "Bronze",
          "Silver",
          "Silver",
          "Bronze",
          "Silver",
          "Gold",
          "Silver",
          "Bronze",
          "Silver",
          "Silver",
          "Silver",
          "Gold",
          "Bronze",
          "Silver",
          "Bronze",
          "Silver",
          "Gold",
          "Gold",
          "Silver",
          "Gold",
          "Silver",
          "Silver",
          "Silver",
          "Bronze",
          "Bronze",
          "Silver",
          "Gold",
          "Gold",
          "Gold",
          "Bronze",
          "Silver",
          "Silver",
          "Bronze",
          "Gold",
          "Gold",
          "Gold",
          "Silver",
          "Silver",
          "Bronze",
          "Bronze",
          "Bronze",
          "Gold",
          "Silver",
          "Gold",
          "Bronze",
          "Gold",
          "Bronze",
          "Bronze",
          "Bronze",
          "Bronze",
          "Bronze",
          "Silver",
          "Gold",
          "Bronze",
          "Silver",
          "Silver",
          "Gold",
          "Silver"
         ],
         "x0": " ",
         "xaxis": "x",
         "y": [
          30,
          22,
          21,
          21,
          25,
          30,
          27,
          18,
          31,
          21,
          30,
          27,
          28,
          24,
          28,
          21,
          24,
          28,
          26,
          24,
          30,
          34,
          25,
          27,
          22,
          30,
          30,
          34,
          34,
          24,
          20,
          24,
          36,
          25,
          24,
          35,
          29,
          33,
          20,
          24,
          28,
          23,
          32,
          36,
          26,
          16,
          24,
          21,
          18,
          36,
          19,
          25,
          25,
          27,
          28,
          32,
          36,
          24,
          36,
          40,
          40,
          40,
          24,
          21,
          27,
          36,
          48,
          48,
          38,
          29,
          27,
          24,
          28,
          32,
          38,
          27,
          39,
          18,
          22,
          26,
          30,
          17,
          17,
          22,
          22,
          26,
          25,
          20,
          24,
          23,
          27,
          31,
          35,
          26,
          20,
          25,
          26,
          23,
          35,
          22,
          24,
          28,
          23,
          24,
          24,
          33,
          29,
          33,
          27,
          27,
          21,
          25,
          30,
          25,
          29,
          21,
          25,
          17,
          24,
          28,
          18,
          22,
          22,
          22,
          26,
          30,
          20,
          23,
          25,
          25,
          24,
          27,
          22,
          22,
          20,
          21,
          23,
          23,
          27,
          31,
          26,
          23,
          26,
          30,
          29,
          19,
          23,
          23,
          18,
          22,
          22,
          20,
          19,
          27,
          24,
          21,
          21,
          25,
          25,
          19,
          28,
          28,
          20,
          33,
          33,
          25,
          24,
          28,
          32,
          25,
          29,
          33,
          26,
          24,
          24,
          22,
          22,
          26,
          26,
          30,
          30,
          22,
          27,
          25,
          29,
          23,
          23,
          25,
          14,
          14,
          17,
          17,
          17,
          21,
          21,
          19,
          24,
          29,
          41,
          45,
          21,
          26,
          23,
          31,
          25,
          22,
          29,
          33,
          25,
          20,
          28,
          20,
          23,
          27,
          27,
          26,
          31,
          21,
          25,
          22,
          23,
          23,
          26,
          26,
          30,
          28,
          20,
          31,
          36,
          26,
          25,
          19,
          23,
          27,
          25,
          29,
          29,
          34,
          27,
          27,
          24,
          28,
          23,
          27,
          31,
          34,
          23,
          26,
          30,
          34,
          27,
          21,
          23,
          23,
          25,
          25,
          29,
          29,
          20,
          32,
          35,
          35,
          39,
          24,
          29,
          28,
          23,
          29,
          29,
          37,
          26,
          23,
          18,
          22,
          22,
          22,
          24,
          28,
          22,
          26,
          22,
          26,
          26,
          38,
          38,
          42,
          42,
          42,
          46,
          50,
          24,
          31,
          27,
          31,
          23,
          23,
          35,
          39,
          26,
          32,
          19,
          25,
          25,
          21,
          21,
          26,
          18,
          27,
          23,
          27,
          27,
          32,
          32,
          23,
          23,
          20,
          28,
          18,
          18,
          20,
          24,
          29,
          32,
          36,
          23,
          19,
          28,
          24,
          24,
          27,
          27,
          22,
          15,
          23,
          18,
          18,
          46,
          19,
          26,
          18,
          22,
          27,
          32,
          22,
          36,
          22,
          22,
          26,
          23,
          22,
          16,
          27,
          22,
          28,
          28,
          23,
          23,
          32,
          38,
          24,
          21,
          20,
          24,
          25,
          29,
          30,
          24,
          22,
          29,
          26,
          23,
          18,
          22,
          26,
          30,
          22,
          26,
          25,
          25,
          24,
          28,
          32,
          28,
          34,
          23,
          23,
          28,
          24,
          27,
          27,
          27,
          27,
          20,
          35,
          39,
          23,
          21,
          29,
          41,
          41,
          23,
          25,
          29,
          26,
          24,
          25,
          29,
          33,
          37,
          27,
          23,
          24,
          27,
          31,
          25,
          25,
          29,
          29,
          21,
          21,
          32,
          26,
          26,
          22,
          22,
          26,
          34,
          31,
          34,
          24,
          23,
          27,
          31,
          28,
          32,
          23,
          21,
          25,
          25,
          17,
          21,
          25,
          29,
          26,
          30,
          28,
          31,
          36,
          36,
          40,
          40,
          24,
          28,
          32,
          25,
          22,
          21,
          32,
          28,
          21,
          17,
          21,
          31,
          31,
          31,
          31,
          35,
          35,
          35,
          35,
          35,
          35,
          24,
          19,
          19,
          20,
          28,
          24,
          28,
          26,
          21,
          21,
          16,
          23,
          27,
          24,
          28,
          20,
          21,
          25,
          32,
          24,
          30,
          22,
          26,
          30,
          21,
          21,
          23,
          21,
          22,
          21,
          29,
          25,
          23,
          27,
          27,
          27,
          31,
          35,
          22,
          31,
          27,
          21,
          25,
          22,
          27,
          27,
          31,
          36,
          27,
          39,
          24,
          24,
          28,
          32,
          24,
          24,
          23,
          27,
          31,
          18,
          23,
          27,
          20,
          20,
          20,
          20,
          20,
          20,
          24,
          24,
          32,
          25,
          15,
          19,
          20,
          22,
          26,
          34,
          26,
          30,
          21,
          25,
          30,
          22,
          34,
          30,
          23,
          24,
          24,
          28,
          28,
          32,
          32,
          36,
          36,
          24,
          36,
          36,
          39,
          39,
          44,
          48,
          20,
          25,
          29,
          24,
          23,
          19,
          25,
          25,
          29,
          23,
          27,
          27,
          21,
          25,
          25,
          29,
          29,
          29,
          24,
          28,
          22,
          26,
          30,
          31,
          23,
          24,
          23,
          26,
          30,
          34,
          23,
          27,
          27,
          31,
          31,
          35,
          21,
          33,
          23,
          17,
          22,
          25,
          23,
          44,
          30,
          34,
          20,
          23,
          22,
          31,
          25,
          29,
          24,
          25,
          26,
          23,
          24,
          28,
          20,
          20,
          24,
          22,
          26,
          26,
          30,
          19,
          53,
          27,
          31,
          26,
          20,
          25,
          28,
          31,
          24,
          28,
          28,
          27,
          22,
          22,
          27,
          31,
          27,
          27,
          21,
          23,
          23,
          31,
          27,
          35,
          44,
          48,
          30,
          28,
          22,
          26,
          30,
          34,
          14,
          31,
          22,
          21,
          26,
          24,
          27,
          22,
          26,
          35,
          35,
          22,
          27,
          27,
          27,
          43,
          38,
          18,
          18,
          20,
          27,
          31,
          24,
          26,
          26,
          26,
          33,
          27,
          23,
          27,
          30,
          34,
          23,
          25,
          29,
          33,
          28,
          24,
          24,
          17,
          29,
          26,
          30,
          33,
          25,
          27,
          27,
          31,
          26,
          18,
          24,
          28,
          23,
          27,
          33,
          30,
          33,
          20,
          18,
          15,
          27,
          30,
          24,
          32,
          36,
          27,
          26,
          22,
          26,
          24,
          24,
          22,
          30,
          34,
          26,
          30,
          29,
          23,
          22,
          23,
          23,
          21,
          25,
          29,
          31,
          17,
          27,
          23,
          39,
          19,
          18,
          18,
          23,
          26,
          22,
          26,
          22,
          23,
          23,
          26,
          30,
          24,
          21,
          41,
          29,
          25,
          23,
          24,
          28,
          34,
          38,
          28,
          22,
          26,
          30,
          23,
          30,
          19,
          24,
          27,
          22,
          30,
          30,
          30,
          25,
          21,
          25,
          25,
          25,
          25,
          31,
          25,
          23,
          23,
          27,
          28,
          32,
          32,
          36,
          23,
          26,
          30,
          24,
          33,
          33,
          24,
          28,
          32,
          19,
          20,
          24,
          28,
          32,
          35,
          35,
          35,
          24,
          28,
          32,
          25,
          28,
          19,
          27,
          39,
          43,
          29,
          41,
          45,
          24,
          35,
          22,
          22,
          21,
          19,
          27,
          21,
          29,
          32,
          24,
          23,
          27,
          27,
          31,
          31,
          35,
          39,
          24,
          38,
          23,
          26,
          25,
          26,
          24,
          25,
          29,
          20,
          20,
          24,
          31,
          25,
          20,
          24,
          25,
          24,
          29,
          29,
          26,
          33,
          23,
          27,
          20,
          28,
          22,
          25,
          29,
          28,
          23,
          31,
          43,
          43,
          26,
          30,
          20,
          24,
          24,
          28,
          34,
          23,
          32,
          16,
          22,
          26,
          20,
          36,
          25,
          22,
          27,
          30,
          21,
          29,
          24,
          24,
          28,
          20,
          25,
          25,
          25,
          29,
          22,
          26,
          21,
          26,
          30,
          30,
          34,
          21,
          25,
          29,
          29,
          26,
          30,
          19,
          21,
          21,
          25,
          18,
          29,
          21,
          28,
          29,
          26,
          33,
          22,
          32,
          22,
          26,
          30,
          23,
          24,
          25,
          29,
          23,
          27,
          33,
          20,
          20,
          25,
          24,
          25,
          22,
          26,
          30,
          22,
          26,
          30,
          34,
          20,
          24,
          28,
          32,
          27,
          31,
          36,
          18,
          26,
          16,
          16,
          24,
          24,
          28,
          19,
          19,
          27,
          25,
          27,
          27,
          26,
          26,
          22,
          27,
          26,
          24,
          28,
          20,
          38,
          42,
          23,
          22,
          19,
          23,
          23,
          27,
          27,
          27,
          24,
          21,
          21,
          21,
          29,
          34,
          28,
          28,
          25,
          20,
          29,
          29,
          33,
          24,
          22,
          26,
          21,
          29,
          27,
          39,
          32,
          29,
          28,
          29,
          28,
          33,
          23,
          25,
          29,
          29,
          28,
          18,
          24,
          27,
          26,
          25,
          29,
          20,
          30,
          31,
          32,
          21,
          25,
          22,
          26,
          19,
          19,
          24,
          22,
          24,
          21,
          27,
          28,
          24,
          29,
          33,
          19,
          28,
          28,
          24,
          28,
          27,
          32,
          37,
          24,
          22,
          23,
          23,
          26,
          24,
          28,
          23,
          24,
          24,
          27,
          31,
          24,
          29,
          22,
          20,
          24,
          23,
          20,
          18,
          18,
          18,
          23,
          23,
          24,
          24,
          26,
          26,
          18,
          35,
          34,
          34,
          38,
          38,
          27,
          21,
          25,
          29,
          29,
          28,
          24,
          28,
          20,
          24,
          28,
          22,
          20,
          17,
          17,
          21,
          28,
          28,
          27,
          23,
          27,
          23,
          30,
          25,
          29,
          23,
          23,
          27,
          31,
          38
         ],
         "y0": " ",
         "yaxis": "y"
        }
       ],
       "layout": {
        "boxmode": "group",
        "legend": {
         "tracegroupgap": 0
        },
        "template": {
         "data": {
          "bar": [
           {
            "error_x": {
             "color": "#2a3f5f"
            },
            "error_y": {
             "color": "#2a3f5f"
            },
            "marker": {
             "line": {
              "color": "#E5ECF6",
              "width": 0.5
             },
             "pattern": {
              "fillmode": "overlay",
              "size": 10,
              "solidity": 0.2
             }
            },
            "type": "bar"
           }
          ],
          "barpolar": [
           {
            "marker": {
             "line": {
              "color": "#E5ECF6",
              "width": 0.5
             },
             "pattern": {
              "fillmode": "overlay",
              "size": 10,
              "solidity": 0.2
             }
            },
            "type": "barpolar"
           }
          ],
          "carpet": [
           {
            "aaxis": {
             "endlinecolor": "#2a3f5f",
             "gridcolor": "white",
             "linecolor": "white",
             "minorgridcolor": "white",
             "startlinecolor": "#2a3f5f"
            },
            "baxis": {
             "endlinecolor": "#2a3f5f",
             "gridcolor": "white",
             "linecolor": "white",
             "minorgridcolor": "white",
             "startlinecolor": "#2a3f5f"
            },
            "type": "carpet"
           }
          ],
          "choropleth": [
           {
            "colorbar": {
             "outlinewidth": 0,
             "ticks": ""
            },
            "type": "choropleth"
           }
          ],
          "contour": [
           {
            "colorbar": {
             "outlinewidth": 0,
             "ticks": ""
            },
            "colorscale": [
             [
              0,
              "#0d0887"
             ],
             [
              0.1111111111111111,
              "#46039f"
             ],
             [
              0.2222222222222222,
              "#7201a8"
             ],
             [
              0.3333333333333333,
              "#9c179e"
             ],
             [
              0.4444444444444444,
              "#bd3786"
             ],
             [
              0.5555555555555556,
              "#d8576b"
             ],
             [
              0.6666666666666666,
              "#ed7953"
             ],
             [
              0.7777777777777778,
              "#fb9f3a"
             ],
             [
              0.8888888888888888,
              "#fdca26"
             ],
             [
              1,
              "#f0f921"
             ]
            ],
            "type": "contour"
           }
          ],
          "contourcarpet": [
           {
            "colorbar": {
             "outlinewidth": 0,
             "ticks": ""
            },
            "type": "contourcarpet"
           }
          ],
          "heatmap": [
           {
            "colorbar": {
             "outlinewidth": 0,
             "ticks": ""
            },
            "colorscale": [
             [
              0,
              "#0d0887"
             ],
             [
              0.1111111111111111,
              "#46039f"
             ],
             [
              0.2222222222222222,
              "#7201a8"
             ],
             [
              0.3333333333333333,
              "#9c179e"
             ],
             [
              0.4444444444444444,
              "#bd3786"
             ],
             [
              0.5555555555555556,
              "#d8576b"
             ],
             [
              0.6666666666666666,
              "#ed7953"
             ],
             [
              0.7777777777777778,
              "#fb9f3a"
             ],
             [
              0.8888888888888888,
              "#fdca26"
             ],
             [
              1,
              "#f0f921"
             ]
            ],
            "type": "heatmap"
           }
          ],
          "heatmapgl": [
           {
            "colorbar": {
             "outlinewidth": 0,
             "ticks": ""
            },
            "colorscale": [
             [
              0,
              "#0d0887"
             ],
             [
              0.1111111111111111,
              "#46039f"
             ],
             [
              0.2222222222222222,
              "#7201a8"
             ],
             [
              0.3333333333333333,
              "#9c179e"
             ],
             [
              0.4444444444444444,
              "#bd3786"
             ],
             [
              0.5555555555555556,
              "#d8576b"
             ],
             [
              0.6666666666666666,
              "#ed7953"
             ],
             [
              0.7777777777777778,
              "#fb9f3a"
             ],
             [
              0.8888888888888888,
              "#fdca26"
             ],
             [
              1,
              "#f0f921"
             ]
            ],
            "type": "heatmapgl"
           }
          ],
          "histogram": [
           {
            "marker": {
             "pattern": {
              "fillmode": "overlay",
              "size": 10,
              "solidity": 0.2
             }
            },
            "type": "histogram"
           }
          ],
          "histogram2d": [
           {
            "colorbar": {
             "outlinewidth": 0,
             "ticks": ""
            },
            "colorscale": [
             [
              0,
              "#0d0887"
             ],
             [
              0.1111111111111111,
              "#46039f"
             ],
             [
              0.2222222222222222,
              "#7201a8"
             ],
             [
              0.3333333333333333,
              "#9c179e"
             ],
             [
              0.4444444444444444,
              "#bd3786"
             ],
             [
              0.5555555555555556,
              "#d8576b"
             ],
             [
              0.6666666666666666,
              "#ed7953"
             ],
             [
              0.7777777777777778,
              "#fb9f3a"
             ],
             [
              0.8888888888888888,
              "#fdca26"
             ],
             [
              1,
              "#f0f921"
             ]
            ],
            "type": "histogram2d"
           }
          ],
          "histogram2dcontour": [
           {
            "colorbar": {
             "outlinewidth": 0,
             "ticks": ""
            },
            "colorscale": [
             [
              0,
              "#0d0887"
             ],
             [
              0.1111111111111111,
              "#46039f"
             ],
             [
              0.2222222222222222,
              "#7201a8"
             ],
             [
              0.3333333333333333,
              "#9c179e"
             ],
             [
              0.4444444444444444,
              "#bd3786"
             ],
             [
              0.5555555555555556,
              "#d8576b"
             ],
             [
              0.6666666666666666,
              "#ed7953"
             ],
             [
              0.7777777777777778,
              "#fb9f3a"
             ],
             [
              0.8888888888888888,
              "#fdca26"
             ],
             [
              1,
              "#f0f921"
             ]
            ],
            "type": "histogram2dcontour"
           }
          ],
          "mesh3d": [
           {
            "colorbar": {
             "outlinewidth": 0,
             "ticks": ""
            },
            "type": "mesh3d"
           }
          ],
          "parcoords": [
           {
            "line": {
             "colorbar": {
              "outlinewidth": 0,
              "ticks": ""
             }
            },
            "type": "parcoords"
           }
          ],
          "pie": [
           {
            "automargin": true,
            "type": "pie"
           }
          ],
          "scatter": [
           {
            "fillpattern": {
             "fillmode": "overlay",
             "size": 10,
             "solidity": 0.2
            },
            "type": "scatter"
           }
          ],
          "scatter3d": [
           {
            "line": {
             "colorbar": {
              "outlinewidth": 0,
              "ticks": ""
             }
            },
            "marker": {
             "colorbar": {
              "outlinewidth": 0,
              "ticks": ""
             }
            },
            "type": "scatter3d"
           }
          ],
          "scattercarpet": [
           {
            "marker": {
             "colorbar": {
              "outlinewidth": 0,
              "ticks": ""
             }
            },
            "type": "scattercarpet"
           }
          ],
          "scattergeo": [
           {
            "marker": {
             "colorbar": {
              "outlinewidth": 0,
              "ticks": ""
             }
            },
            "type": "scattergeo"
           }
          ],
          "scattergl": [
           {
            "marker": {
             "colorbar": {
              "outlinewidth": 0,
              "ticks": ""
             }
            },
            "type": "scattergl"
           }
          ],
          "scattermapbox": [
           {
            "marker": {
             "colorbar": {
              "outlinewidth": 0,
              "ticks": ""
             }
            },
            "type": "scattermapbox"
           }
          ],
          "scatterpolar": [
           {
            "marker": {
             "colorbar": {
              "outlinewidth": 0,
              "ticks": ""
             }
            },
            "type": "scatterpolar"
           }
          ],
          "scatterpolargl": [
           {
            "marker": {
             "colorbar": {
              "outlinewidth": 0,
              "ticks": ""
             }
            },
            "type": "scatterpolargl"
           }
          ],
          "scatterternary": [
           {
            "marker": {
             "colorbar": {
              "outlinewidth": 0,
              "ticks": ""
             }
            },
            "type": "scatterternary"
           }
          ],
          "surface": [
           {
            "colorbar": {
             "outlinewidth": 0,
             "ticks": ""
            },
            "colorscale": [
             [
              0,
              "#0d0887"
             ],
             [
              0.1111111111111111,
              "#46039f"
             ],
             [
              0.2222222222222222,
              "#7201a8"
             ],
             [
              0.3333333333333333,
              "#9c179e"
             ],
             [
              0.4444444444444444,
              "#bd3786"
             ],
             [
              0.5555555555555556,
              "#d8576b"
             ],
             [
              0.6666666666666666,
              "#ed7953"
             ],
             [
              0.7777777777777778,
              "#fb9f3a"
             ],
             [
              0.8888888888888888,
              "#fdca26"
             ],
             [
              1,
              "#f0f921"
             ]
            ],
            "type": "surface"
           }
          ],
          "table": [
           {
            "cells": {
             "fill": {
              "color": "#EBF0F8"
             },
             "line": {
              "color": "white"
             }
            },
            "header": {
             "fill": {
              "color": "#C8D4E3"
             },
             "line": {
              "color": "white"
             }
            },
            "type": "table"
           }
          ]
         },
         "layout": {
          "annotationdefaults": {
           "arrowcolor": "#2a3f5f",
           "arrowhead": 0,
           "arrowwidth": 1
          },
          "autotypenumbers": "strict",
          "coloraxis": {
           "colorbar": {
            "outlinewidth": 0,
            "ticks": ""
           }
          },
          "colorscale": {
           "diverging": [
            [
             0,
             "#8e0152"
            ],
            [
             0.1,
             "#c51b7d"
            ],
            [
             0.2,
             "#de77ae"
            ],
            [
             0.3,
             "#f1b6da"
            ],
            [
             0.4,
             "#fde0ef"
            ],
            [
             0.5,
             "#f7f7f7"
            ],
            [
             0.6,
             "#e6f5d0"
            ],
            [
             0.7,
             "#b8e186"
            ],
            [
             0.8,
             "#7fbc41"
            ],
            [
             0.9,
             "#4d9221"
            ],
            [
             1,
             "#276419"
            ]
           ],
           "sequential": [
            [
             0,
             "#0d0887"
            ],
            [
             0.1111111111111111,
             "#46039f"
            ],
            [
             0.2222222222222222,
             "#7201a8"
            ],
            [
             0.3333333333333333,
             "#9c179e"
            ],
            [
             0.4444444444444444,
             "#bd3786"
            ],
            [
             0.5555555555555556,
             "#d8576b"
            ],
            [
             0.6666666666666666,
             "#ed7953"
            ],
            [
             0.7777777777777778,
             "#fb9f3a"
            ],
            [
             0.8888888888888888,
             "#fdca26"
            ],
            [
             1,
             "#f0f921"
            ]
           ],
           "sequentialminus": [
            [
             0,
             "#0d0887"
            ],
            [
             0.1111111111111111,
             "#46039f"
            ],
            [
             0.2222222222222222,
             "#7201a8"
            ],
            [
             0.3333333333333333,
             "#9c179e"
            ],
            [
             0.4444444444444444,
             "#bd3786"
            ],
            [
             0.5555555555555556,
             "#d8576b"
            ],
            [
             0.6666666666666666,
             "#ed7953"
            ],
            [
             0.7777777777777778,
             "#fb9f3a"
            ],
            [
             0.8888888888888888,
             "#fdca26"
            ],
            [
             1,
             "#f0f921"
            ]
           ]
          },
          "colorway": [
           "#636efa",
           "#EF553B",
           "#00cc96",
           "#ab63fa",
           "#FFA15A",
           "#19d3f3",
           "#FF6692",
           "#B6E880",
           "#FF97FF",
           "#FECB52"
          ],
          "font": {
           "color": "#2a3f5f"
          },
          "geo": {
           "bgcolor": "white",
           "lakecolor": "white",
           "landcolor": "#E5ECF6",
           "showlakes": true,
           "showland": true,
           "subunitcolor": "white"
          },
          "hoverlabel": {
           "align": "left"
          },
          "hovermode": "closest",
          "mapbox": {
           "style": "light"
          },
          "paper_bgcolor": "white",
          "plot_bgcolor": "#E5ECF6",
          "polar": {
           "angularaxis": {
            "gridcolor": "white",
            "linecolor": "white",
            "ticks": ""
           },
           "bgcolor": "#E5ECF6",
           "radialaxis": {
            "gridcolor": "white",
            "linecolor": "white",
            "ticks": ""
           }
          },
          "scene": {
           "xaxis": {
            "backgroundcolor": "#E5ECF6",
            "gridcolor": "white",
            "gridwidth": 2,
            "linecolor": "white",
            "showbackground": true,
            "ticks": "",
            "zerolinecolor": "white"
           },
           "yaxis": {
            "backgroundcolor": "#E5ECF6",
            "gridcolor": "white",
            "gridwidth": 2,
            "linecolor": "white",
            "showbackground": true,
            "ticks": "",
            "zerolinecolor": "white"
           },
           "zaxis": {
            "backgroundcolor": "#E5ECF6",
            "gridcolor": "white",
            "gridwidth": 2,
            "linecolor": "white",
            "showbackground": true,
            "ticks": "",
            "zerolinecolor": "white"
           }
          },
          "shapedefaults": {
           "line": {
            "color": "#2a3f5f"
           }
          },
          "ternary": {
           "aaxis": {
            "gridcolor": "white",
            "linecolor": "white",
            "ticks": ""
           },
           "baxis": {
            "gridcolor": "white",
            "linecolor": "white",
            "ticks": ""
           },
           "bgcolor": "#E5ECF6",
           "caxis": {
            "gridcolor": "white",
            "linecolor": "white",
            "ticks": ""
           }
          },
          "title": {
           "x": 0.05
          },
          "xaxis": {
           "automargin": true,
           "gridcolor": "white",
           "linecolor": "white",
           "ticks": "",
           "title": {
            "standoff": 15
           },
           "zerolinecolor": "white",
           "zerolinewidth": 2
          },
          "yaxis": {
           "automargin": true,
           "gridcolor": "white",
           "linecolor": "white",
           "ticks": "",
           "title": {
            "standoff": 15
           },
           "zerolinecolor": "white",
           "zerolinewidth": 2
          }
         }
        },
        "title": {
         "text": "Åldersfördelning per medaljtyp"
        },
        "xaxis": {
         "anchor": "y",
         "domain": [
          0,
          1
         ],
         "title": {
          "text": "Medaljtyp"
         }
        },
        "yaxis": {
         "anchor": "x",
         "domain": [
          0,
          1
         ],
         "title": {
          "text": "Ålder"
         }
        }
       }
      },
      "text/html": [
       "<div>                            <div id=\"be4ce799-79e4-431c-8bd6-3cb0285c02f1\" class=\"plotly-graph-div\" style=\"height:525px; width:100%;\"></div>            <script type=\"text/javascript\">                require([\"plotly\"], function(Plotly) {                    window.PLOTLYENV=window.PLOTLYENV || {};                                    if (document.getElementById(\"be4ce799-79e4-431c-8bd6-3cb0285c02f1\")) {                    Plotly.newPlot(                        \"be4ce799-79e4-431c-8bd6-3cb0285c02f1\",                        [{\"alignmentgroup\":\"True\",\"hovertemplate\":\"Medaljtyp=%{x}\\u003cbr\\u003e\\u00c5lder=%{y}\\u003cextra\\u003e\\u003c\\u002fextra\\u003e\",\"legendgroup\":\"\",\"marker\":{\"color\":\"#636efa\"},\"name\":\"\",\"notched\":false,\"offsetgroup\":\"\",\"orientation\":\"v\",\"showlegend\":false,\"x\":[\"Silver\",\"Bronze\",\"Bronze\",\"Gold\",\"Silver\",\"Silver\",\"Gold\",\"Bronze\",\"Gold\",\"Bronze\",\"Gold\",\"Silver\",\"Silver\",\"Bronze\",\"Gold\",\"Bronze\",\"Bronze\",\"Bronze\",\"Silver\",\"Bronze\",\"Bronze\",\"Bronze\",\"Bronze\",\"Silver\",\"Gold\",\"Silver\",\"Gold\",\"Gold\",\"Silver\",\"Silver\",\"Silver\",\"Silver\",\"Bronze\",\"Silver\",\"Silver\",\"Silver\",\"Bronze\",\"Gold\",\"Silver\",\"Bronze\",\"Bronze\",\"Silver\",\"Silver\",\"Gold\",\"Bronze\",\"Bronze\",\"Gold\",\"Gold\",\"Bronze\",\"Silver\",\"Gold\",\"Silver\",\"Gold\",\"Bronze\",\"Gold\",\"Gold\",\"Gold\",\"Gold\",\"Gold\",\"Bronze\",\"Bronze\",\"Gold\",\"Bronze\",\"Silver\",\"Gold\",\"Gold\",\"Bronze\",\"Silver\",\"Silver\",\"Bronze\",\"Silver\",\"Gold\",\"Gold\",\"Gold\",\"Gold\",\"Silver\",\"Bronze\",\"Bronze\",\"Gold\",\"Bronze\",\"Silver\",\"Silver\",\"Bronze\",\"Silver\",\"Gold\",\"Bronze\",\"Bronze\",\"Gold\",\"Gold\",\"Gold\",\"Gold\",\"Bronze\",\"Gold\",\"Silver\",\"Bronze\",\"Gold\",\"Gold\",\"Gold\",\"Silver\",\"Silver\",\"Gold\",\"Gold\",\"Gold\",\"Bronze\",\"Bronze\",\"Bronze\",\"Gold\",\"Silver\",\"Bronze\",\"Gold\",\"Gold\",\"Silver\",\"Bronze\",\"Gold\",\"Bronze\",\"Bronze\",\"Silver\",\"Bronze\",\"Bronze\",\"Bronze\",\"Bronze\",\"Silver\",\"Silver\",\"Silver\",\"Bronze\",\"Silver\",\"Gold\",\"Silver\",\"Gold\",\"Bronze\",\"Silver\",\"Gold\",\"Gold\",\"Bronze\",\"Gold\",\"Bronze\",\"Bronze\",\"Gold\",\"Silver\",\"Silver\",\"Gold\",\"Bronze\",\"Silver\",\"Gold\",\"Gold\",\"Gold\",\"Bronze\",\"Silver\",\"Bronze\",\"Gold\",\"Gold\",\"Gold\",\"Gold\",\"Bronze\",\"Silver\",\"Gold\",\"Gold\",\"Gold\",\"Gold\",\"Silver\",\"Silver\",\"Gold\",\"Silver\",\"Bronze\",\"Bronze\",\"Gold\",\"Silver\",\"Gold\",\"Silver\",\"Bronze\",\"Gold\",\"Bronze\",\"Bronze\",\"Bronze\",\"Gold\",\"Gold\",\"Gold\",\"Gold\",\"Silver\",\"Bronze\",\"Silver\",\"Bronze\",\"Bronze\",\"Gold\",\"Silver\",\"Silver\",\"Bronze\",\"Gold\",\"Silver\",\"Gold\",\"Gold\",\"Gold\",\"Gold\",\"Gold\",\"Bronze\",\"Bronze\",\"Bronze\",\"Gold\",\"Gold\",\"Silver\",\"Gold\",\"Bronze\",\"Silver\",\"Bronze\",\"Gold\",\"Bronze\",\"Silver\",\"Gold\",\"Gold\",\"Gold\",\"Bronze\",\"Silver\",\"Gold\",\"Bronze\",\"Silver\",\"Bronze\",\"Silver\",\"Bronze\",\"Bronze\",\"Gold\",\"Gold\",\"Silver\",\"Silver\",\"Silver\",\"Bronze\",\"Gold\",\"Gold\",\"Gold\",\"Gold\",\"Silver\",\"Bronze\",\"Bronze\",\"Gold\",\"Bronze\",\"Gold\",\"Gold\",\"Gold\",\"Bronze\",\"Bronze\",\"Silver\",\"Gold\",\"Gold\",\"Silver\",\"Gold\",\"Gold\",\"Bronze\",\"Bronze\",\"Silver\",\"Silver\",\"Gold\",\"Gold\",\"Silver\",\"Bronze\",\"Bronze\",\"Gold\",\"Gold\",\"Gold\",\"Gold\",\"Bronze\",\"Gold\",\"Bronze\",\"Silver\",\"Gold\",\"Bronze\",\"Silver\",\"Silver\",\"Gold\",\"Bronze\",\"Bronze\",\"Gold\",\"Gold\",\"Silver\",\"Bronze\",\"Silver\",\"Gold\",\"Silver\",\"Gold\",\"Gold\",\"Gold\",\"Bronze\",\"Gold\",\"Bronze\",\"Gold\",\"Gold\",\"Gold\",\"Bronze\",\"Silver\",\"Gold\",\"Gold\",\"Gold\",\"Bronze\",\"Bronze\",\"Gold\",\"Gold\",\"Silver\",\"Bronze\",\"Gold\",\"Gold\",\"Bronze\",\"Gold\",\"Bronze\",\"Silver\",\"Silver\",\"Bronze\",\"Bronze\",\"Gold\",\"Bronze\",\"Silver\",\"Silver\",\"Silver\",\"Bronze\",\"Silver\",\"Gold\",\"Bronze\",\"Bronze\",\"Silver\",\"Silver\",\"Silver\",\"Bronze\",\"Silver\",\"Gold\",\"Gold\",\"Bronze\",\"Gold\",\"Gold\",\"Gold\",\"Silver\",\"Gold\",\"Gold\",\"Silver\",\"Silver\",\"Bronze\",\"Silver\",\"Gold\",\"Gold\",\"Gold\",\"Silver\",\"Gold\",\"Silver\",\"Silver\",\"Gold\",\"Gold\",\"Gold\",\"Silver\",\"Bronze\",\"Bronze\",\"Gold\",\"Silver\",\"Gold\",\"Gold\",\"Bronze\",\"Gold\",\"Silver\",\"Bronze\",\"Bronze\",\"Gold\",\"Gold\",\"Silver\",\"Silver\",\"Silver\",\"Silver\",\"Silver\",\"Gold\",\"Gold\",\"Bronze\",\"Gold\",\"Gold\",\"Gold\",\"Bronze\",\"Bronze\",\"Silver\",\"Bronze\",\"Silver\",\"Gold\",\"Gold\",\"Gold\",\"Bronze\",\"Gold\",\"Bronze\",\"Silver\",\"Gold\",\"Gold\",\"Bronze\",\"Silver\",\"Silver\",\"Gold\",\"Bronze\",\"Gold\",\"Gold\",\"Silver\",\"Gold\",\"Gold\",\"Bronze\",\"Bronze\",\"Gold\",\"Gold\",\"Bronze\",\"Silver\",\"Silver\",\"Bronze\",\"Bronze\",\"Silver\",\"Gold\",\"Silver\",\"Bronze\",\"Silver\",\"Gold\",\"Gold\",\"Bronze\",\"Silver\",\"Gold\",\"Silver\",\"Silver\",\"Gold\",\"Bronze\",\"Gold\",\"Gold\",\"Gold\",\"Bronze\",\"Silver\",\"Silver\",\"Bronze\",\"Bronze\",\"Gold\",\"Gold\",\"Gold\",\"Silver\",\"Silver\",\"Silver\",\"Bronze\",\"Gold\",\"Bronze\",\"Gold\",\"Bronze\",\"Silver\",\"Bronze\",\"Silver\",\"Silver\",\"Bronze\",\"Gold\",\"Gold\",\"Bronze\",\"Gold\",\"Silver\",\"Gold\",\"Gold\",\"Gold\",\"Gold\",\"Gold\",\"Gold\",\"Gold\",\"Gold\",\"Gold\",\"Gold\",\"Silver\",\"Bronze\",\"Gold\",\"Gold\",\"Gold\",\"Silver\",\"Bronze\",\"Bronze\",\"Silver\",\"Bronze\",\"Gold\",\"Bronze\",\"Silver\",\"Silver\",\"Gold\",\"Gold\",\"Gold\",\"Gold\",\"Bronze\",\"Silver\",\"Bronze\",\"Gold\",\"Gold\",\"Silver\",\"Gold\",\"Silver\",\"Silver\",\"Gold\",\"Bronze\",\"Silver\",\"Gold\",\"Silver\",\"Gold\",\"Bronze\",\"Silver\",\"Gold\",\"Silver\",\"Gold\",\"Bronze\",\"Gold\",\"Gold\",\"Gold\",\"Bronze\",\"Silver\",\"Gold\",\"Bronze\",\"Bronze\",\"Bronze\",\"Bronze\",\"Bronze\",\"Silver\",\"Silver\",\"Bronze\",\"Gold\",\"Gold\",\"Silver\",\"Gold\",\"Bronze\",\"Gold\",\"Gold\",\"Silver\",\"Gold\",\"Bronze\",\"Bronze\",\"Silver\",\"Gold\",\"Silver\",\"Silver\",\"Gold\",\"Bronze\",\"Gold\",\"Bronze\",\"Silver\",\"Gold\",\"Bronze\",\"Silver\",\"Gold\",\"Bronze\",\"Gold\",\"Bronze\",\"Bronze\",\"Silver\",\"Bronze\",\"Bronze\",\"Gold\",\"Bronze\",\"Silver\",\"Gold\",\"Gold\",\"Silver\",\"Bronze\",\"Gold\",\"Gold\",\"Bronze\",\"Bronze\",\"Bronze\",\"Bronze\",\"Gold\",\"Bronze\",\"Gold\",\"Bronze\",\"Silver\",\"Silver\",\"Silver\",\"Silver\",\"Silver\",\"Silver\",\"Gold\",\"Silver\",\"Gold\",\"Silver\",\"Silver\",\"Gold\",\"Gold\",\"Bronze\",\"Gold\",\"Gold\",\"Gold\",\"Gold\",\"Gold\",\"Bronze\",\"Bronze\",\"Bronze\",\"Bronze\",\"Bronze\",\"Gold\",\"Silver\",\"Silver\",\"Silver\",\"Silver\",\"Silver\",\"Bronze\",\"Silver\",\"Gold\",\"Gold\",\"Gold\",\"Gold\",\"Gold\",\"Gold\",\"Gold\",\"Silver\",\"Bronze\",\"Bronze\",\"Silver\",\"Silver\",\"Silver\",\"Silver\",\"Bronze\",\"Silver\",\"Bronze\",\"Gold\",\"Gold\",\"Gold\",\"Bronze\",\"Gold\",\"Bronze\",\"Silver\",\"Silver\",\"Silver\",\"Silver\",\"Bronze\",\"Gold\",\"Gold\",\"Silver\",\"Silver\",\"Gold\",\"Bronze\",\"Bronze\",\"Bronze\",\"Bronze\",\"Gold\",\"Gold\",\"Gold\",\"Silver\",\"Bronze\",\"Silver\",\"Gold\",\"Gold\",\"Bronze\",\"Silver\",\"Gold\",\"Gold\",\"Bronze\",\"Gold\",\"Gold\",\"Silver\",\"Silver\",\"Bronze\",\"Silver\",\"Gold\",\"Gold\",\"Gold\",\"Bronze\",\"Silver\",\"Bronze\",\"Silver\",\"Bronze\",\"Bronze\",\"Bronze\",\"Silver\",\"Gold\",\"Silver\",\"Silver\",\"Bronze\",\"Gold\",\"Gold\",\"Gold\",\"Bronze\",\"Bronze\",\"Silver\",\"Bronze\",\"Bronze\",\"Bronze\",\"Bronze\",\"Gold\",\"Bronze\",\"Gold\",\"Bronze\",\"Bronze\",\"Bronze\",\"Silver\",\"Silver\",\"Gold\",\"Gold\",\"Silver\",\"Silver\",\"Gold\",\"Bronze\",\"Gold\",\"Bronze\",\"Silver\",\"Silver\",\"Bronze\",\"Gold\",\"Bronze\",\"Bronze\",\"Silver\",\"Bronze\",\"Gold\",\"Silver\",\"Bronze\",\"Bronze\",\"Silver\",\"Bronze\",\"Bronze\",\"Bronze\",\"Bronze\",\"Silver\",\"Gold\",\"Bronze\",\"Gold\",\"Gold\",\"Gold\",\"Gold\",\"Gold\",\"Bronze\",\"Silver\",\"Silver\",\"Silver\",\"Bronze\",\"Silver\",\"Gold\",\"Bronze\",\"Silver\",\"Gold\",\"Bronze\",\"Bronze\",\"Gold\",\"Bronze\",\"Bronze\",\"Bronze\",\"Bronze\",\"Gold\",\"Gold\",\"Gold\",\"Bronze\",\"Bronze\",\"Bronze\",\"Silver\",\"Silver\",\"Bronze\",\"Gold\",\"Silver\",\"Bronze\",\"Silver\",\"Gold\",\"Gold\",\"Gold\",\"Gold\",\"Bronze\",\"Gold\",\"Bronze\",\"Gold\",\"Gold\",\"Gold\",\"Bronze\",\"Gold\",\"Gold\",\"Gold\",\"Bronze\",\"Gold\",\"Gold\",\"Gold\",\"Silver\",\"Gold\",\"Gold\",\"Silver\",\"Silver\",\"Silver\",\"Gold\",\"Gold\",\"Gold\",\"Silver\",\"Bronze\",\"Gold\",\"Bronze\",\"Bronze\",\"Bronze\",\"Silver\",\"Bronze\",\"Silver\",\"Bronze\",\"Gold\",\"Bronze\",\"Gold\",\"Gold\",\"Silver\",\"Gold\",\"Gold\",\"Bronze\",\"Gold\",\"Gold\",\"Gold\",\"Silver\",\"Gold\",\"Silver\",\"Silver\",\"Gold\",\"Silver\",\"Bronze\",\"Gold\",\"Bronze\",\"Silver\",\"Silver\",\"Silver\",\"Gold\",\"Silver\",\"Gold\",\"Bronze\",\"Silver\",\"Silver\",\"Gold\",\"Gold\",\"Gold\",\"Bronze\",\"Bronze\",\"Bronze\",\"Silver\",\"Bronze\",\"Silver\",\"Silver\",\"Gold\",\"Gold\",\"Gold\",\"Bronze\",\"Silver\",\"Silver\",\"Silver\",\"Silver\",\"Silver\",\"Gold\",\"Bronze\",\"Gold\",\"Silver\",\"Gold\",\"Bronze\",\"Gold\",\"Gold\",\"Silver\",\"Bronze\",\"Silver\",\"Silver\",\"Gold\",\"Gold\",\"Gold\",\"Gold\",\"Gold\",\"Silver\",\"Bronze\",\"Silver\",\"Bronze\",\"Bronze\",\"Silver\",\"Silver\",\"Bronze\",\"Bronze\",\"Silver\",\"Silver\",\"Gold\",\"Gold\",\"Bronze\",\"Silver\",\"Silver\",\"Bronze\",\"Gold\",\"Silver\",\"Silver\",\"Gold\",\"Bronze\",\"Silver\",\"Silver\",\"Bronze\",\"Bronze\",\"Silver\",\"Silver\",\"Gold\",\"Bronze\",\"Silver\",\"Bronze\",\"Gold\",\"Silver\",\"Bronze\",\"Bronze\",\"Silver\",\"Silver\",\"Bronze\",\"Gold\",\"Gold\",\"Gold\",\"Silver\",\"Bronze\",\"Silver\",\"Gold\",\"Bronze\",\"Bronze\",\"Gold\",\"Bronze\",\"Silver\",\"Gold\",\"Gold\",\"Silver\",\"Gold\",\"Bronze\",\"Bronze\",\"Bronze\",\"Gold\",\"Silver\",\"Bronze\",\"Bronze\",\"Silver\",\"Bronze\",\"Bronze\",\"Silver\",\"Silver\",\"Bronze\",\"Bronze\",\"Bronze\",\"Bronze\",\"Gold\",\"Gold\",\"Gold\",\"Bronze\",\"Bronze\",\"Gold\",\"Gold\",\"Gold\",\"Gold\",\"Bronze\",\"Bronze\",\"Gold\",\"Gold\",\"Silver\",\"Silver\",\"Silver\",\"Gold\",\"Gold\",\"Gold\",\"Bronze\",\"Silver\",\"Gold\",\"Silver\",\"Silver\",\"Silver\",\"Silver\",\"Bronze\",\"Gold\",\"Bronze\",\"Bronze\",\"Gold\",\"Gold\",\"Silver\",\"Silver\",\"Gold\",\"Gold\",\"Gold\",\"Bronze\",\"Gold\",\"Gold\",\"Silver\",\"Bronze\",\"Bronze\",\"Bronze\",\"Silver\",\"Silver\",\"Gold\",\"Silver\",\"Gold\",\"Gold\",\"Gold\",\"Bronze\",\"Silver\",\"Gold\",\"Silver\",\"Gold\",\"Bronze\",\"Silver\",\"Gold\",\"Bronze\",\"Silver\",\"Gold\",\"Gold\",\"Bronze\",\"Bronze\",\"Gold\",\"Gold\",\"Bronze\",\"Bronze\",\"Bronze\",\"Silver\",\"Silver\",\"Bronze\",\"Silver\",\"Silver\",\"Silver\",\"Bronze\",\"Gold\",\"Silver\",\"Gold\",\"Silver\",\"Gold\",\"Silver\",\"Silver\",\"Gold\",\"Gold\",\"Bronze\",\"Gold\",\"Silver\",\"Silver\",\"Bronze\",\"Silver\",\"Gold\",\"Bronze\",\"Gold\",\"Bronze\",\"Gold\",\"Silver\",\"Bronze\",\"Bronze\",\"Silver\",\"Bronze\",\"Bronze\",\"Bronze\",\"Gold\",\"Bronze\",\"Gold\",\"Bronze\",\"Gold\",\"Bronze\",\"Bronze\",\"Bronze\",\"Silver\",\"Bronze\",\"Silver\",\"Bronze\",\"Silver\",\"Bronze\",\"Silver\",\"Bronze\",\"Bronze\",\"Gold\",\"Gold\",\"Bronze\",\"Bronze\",\"Silver\",\"Silver\",\"Bronze\",\"Bronze\",\"Bronze\",\"Bronze\",\"Bronze\",\"Silver\",\"Silver\",\"Gold\",\"Bronze\",\"Gold\",\"Bronze\",\"Bronze\",\"Bronze\",\"Silver\",\"Bronze\",\"Bronze\",\"Gold\",\"Gold\",\"Bronze\",\"Gold\",\"Gold\",\"Gold\",\"Gold\",\"Gold\",\"Gold\",\"Bronze\",\"Gold\",\"Gold\",\"Bronze\",\"Bronze\",\"Bronze\",\"Gold\",\"Silver\",\"Bronze\",\"Gold\",\"Gold\",\"Bronze\",\"Bronze\",\"Silver\",\"Silver\",\"Bronze\",\"Silver\",\"Gold\",\"Silver\",\"Bronze\",\"Silver\",\"Silver\",\"Silver\",\"Gold\",\"Bronze\",\"Silver\",\"Bronze\",\"Silver\",\"Gold\",\"Gold\",\"Silver\",\"Gold\",\"Silver\",\"Silver\",\"Silver\",\"Bronze\",\"Bronze\",\"Silver\",\"Gold\",\"Gold\",\"Gold\",\"Bronze\",\"Silver\",\"Silver\",\"Bronze\",\"Gold\",\"Gold\",\"Gold\",\"Silver\",\"Silver\",\"Bronze\",\"Bronze\",\"Bronze\",\"Gold\",\"Silver\",\"Gold\",\"Bronze\",\"Gold\",\"Bronze\",\"Bronze\",\"Bronze\",\"Bronze\",\"Bronze\",\"Silver\",\"Gold\",\"Bronze\",\"Silver\",\"Silver\",\"Gold\",\"Silver\"],\"x0\":\" \",\"xaxis\":\"x\",\"y\":[30.0,22.0,21.0,21.0,25.0,30.0,27.0,18.0,31.0,21.0,30.0,27.0,28.0,24.0,28.0,21.0,24.0,28.0,26.0,24.0,30.0,34.0,25.0,27.0,22.0,30.0,30.0,34.0,34.0,24.0,20.0,24.0,36.0,25.0,24.0,35.0,29.0,33.0,20.0,24.0,28.0,23.0,32.0,36.0,26.0,16.0,24.0,21.0,18.0,36.0,19.0,25.0,25.0,27.0,28.0,32.0,36.0,24.0,36.0,40.0,40.0,40.0,24.0,21.0,27.0,36.0,48.0,48.0,38.0,29.0,27.0,24.0,28.0,32.0,38.0,27.0,39.0,18.0,22.0,26.0,30.0,17.0,17.0,22.0,22.0,26.0,25.0,20.0,24.0,23.0,27.0,31.0,35.0,26.0,20.0,25.0,26.0,23.0,35.0,22.0,24.0,28.0,23.0,24.0,24.0,33.0,29.0,33.0,27.0,27.0,21.0,25.0,30.0,25.0,29.0,21.0,25.0,17.0,24.0,28.0,18.0,22.0,22.0,22.0,26.0,30.0,20.0,23.0,25.0,25.0,24.0,27.0,22.0,22.0,20.0,21.0,23.0,23.0,27.0,31.0,26.0,23.0,26.0,30.0,29.0,19.0,23.0,23.0,18.0,22.0,22.0,20.0,19.0,27.0,24.0,21.0,21.0,25.0,25.0,19.0,28.0,28.0,20.0,33.0,33.0,25.0,24.0,28.0,32.0,25.0,29.0,33.0,26.0,24.0,24.0,22.0,22.0,26.0,26.0,30.0,30.0,22.0,27.0,25.0,29.0,23.0,23.0,25.0,14.0,14.0,17.0,17.0,17.0,21.0,21.0,19.0,24.0,29.0,41.0,45.0,21.0,26.0,23.0,31.0,25.0,22.0,29.0,33.0,25.0,20.0,28.0,20.0,23.0,27.0,27.0,26.0,31.0,21.0,25.0,22.0,23.0,23.0,26.0,26.0,30.0,28.0,20.0,31.0,36.0,26.0,25.0,19.0,23.0,27.0,25.0,29.0,29.0,34.0,27.0,27.0,24.0,28.0,23.0,27.0,31.0,34.0,23.0,26.0,30.0,34.0,27.0,21.0,23.0,23.0,25.0,25.0,29.0,29.0,20.0,32.0,35.0,35.0,39.0,24.0,29.0,28.0,23.0,29.0,29.0,37.0,26.0,23.0,18.0,22.0,22.0,22.0,24.0,28.0,22.0,26.0,22.0,26.0,26.0,38.0,38.0,42.0,42.0,42.0,46.0,50.0,24.0,31.0,27.0,31.0,23.0,23.0,35.0,39.0,26.0,32.0,19.0,25.0,25.0,21.0,21.0,26.0,18.0,27.0,23.0,27.0,27.0,32.0,32.0,23.0,23.0,20.0,28.0,18.0,18.0,20.0,24.0,29.0,32.0,36.0,23.0,19.0,28.0,24.0,24.0,27.0,27.0,22.0,15.0,23.0,18.0,18.0,46.0,19.0,26.0,18.0,22.0,27.0,32.0,22.0,36.0,22.0,22.0,26.0,23.0,22.0,16.0,27.0,22.0,28.0,28.0,23.0,23.0,32.0,38.0,24.0,21.0,20.0,24.0,25.0,29.0,30.0,24.0,22.0,29.0,26.0,23.0,18.0,22.0,26.0,30.0,22.0,26.0,25.0,25.0,24.0,28.0,32.0,28.0,34.0,23.0,23.0,28.0,24.0,27.0,27.0,27.0,27.0,20.0,35.0,39.0,23.0,21.0,29.0,41.0,41.0,23.0,25.0,29.0,26.0,24.0,25.0,29.0,33.0,37.0,27.0,23.0,24.0,27.0,31.0,25.0,25.0,29.0,29.0,21.0,21.0,32.0,26.0,26.0,22.0,22.0,26.0,34.0,31.0,34.0,24.0,23.0,27.0,31.0,28.0,32.0,23.0,21.0,25.0,25.0,17.0,21.0,25.0,29.0,26.0,30.0,28.0,31.0,36.0,36.0,40.0,40.0,24.0,28.0,32.0,25.0,22.0,21.0,32.0,28.0,21.0,17.0,21.0,31.0,31.0,31.0,31.0,35.0,35.0,35.0,35.0,35.0,35.0,24.0,19.0,19.0,20.0,28.0,24.0,28.0,26.0,21.0,21.0,16.0,23.0,27.0,24.0,28.0,20.0,21.0,25.0,32.0,24.0,30.0,22.0,26.0,30.0,21.0,21.0,23.0,21.0,22.0,21.0,29.0,25.0,23.0,27.0,27.0,27.0,31.0,35.0,22.0,31.0,27.0,21.0,25.0,22.0,27.0,27.0,31.0,36.0,27.0,39.0,24.0,24.0,28.0,32.0,24.0,24.0,23.0,27.0,31.0,18.0,23.0,27.0,20.0,20.0,20.0,20.0,20.0,20.0,24.0,24.0,32.0,25.0,15.0,19.0,20.0,22.0,26.0,34.0,26.0,30.0,21.0,25.0,30.0,22.0,34.0,30.0,23.0,24.0,24.0,28.0,28.0,32.0,32.0,36.0,36.0,24.0,36.0,36.0,39.0,39.0,44.0,48.0,20.0,25.0,29.0,24.0,23.0,19.0,25.0,25.0,29.0,23.0,27.0,27.0,21.0,25.0,25.0,29.0,29.0,29.0,24.0,28.0,22.0,26.0,30.0,31.0,23.0,24.0,23.0,26.0,30.0,34.0,23.0,27.0,27.0,31.0,31.0,35.0,21.0,33.0,23.0,17.0,22.0,25.0,23.0,44.0,30.0,34.0,20.0,23.0,22.0,31.0,25.0,29.0,24.0,25.0,26.0,23.0,24.0,28.0,20.0,20.0,24.0,22.0,26.0,26.0,30.0,19.0,53.0,27.0,31.0,26.0,20.0,25.0,28.0,31.0,24.0,28.0,28.0,27.0,22.0,22.0,27.0,31.0,27.0,27.0,21.0,23.0,23.0,31.0,27.0,35.0,44.0,48.0,30.0,28.0,22.0,26.0,30.0,34.0,14.0,31.0,22.0,21.0,26.0,24.0,27.0,22.0,26.0,35.0,35.0,22.0,27.0,27.0,27.0,43.0,38.0,18.0,18.0,20.0,27.0,31.0,24.0,26.0,26.0,26.0,33.0,27.0,23.0,27.0,30.0,34.0,23.0,25.0,29.0,33.0,28.0,24.0,24.0,17.0,29.0,26.0,30.0,33.0,25.0,27.0,27.0,31.0,26.0,18.0,24.0,28.0,23.0,27.0,33.0,30.0,33.0,20.0,18.0,15.0,27.0,30.0,24.0,32.0,36.0,27.0,26.0,22.0,26.0,24.0,24.0,22.0,30.0,34.0,26.0,30.0,29.0,23.0,22.0,23.0,23.0,21.0,25.0,29.0,31.0,17.0,27.0,23.0,39.0,19.0,18.0,18.0,23.0,26.0,22.0,26.0,22.0,23.0,23.0,26.0,30.0,24.0,21.0,41.0,29.0,25.0,23.0,24.0,28.0,34.0,38.0,28.0,22.0,26.0,30.0,23.0,30.0,19.0,24.0,27.0,22.0,30.0,30.0,30.0,25.0,21.0,25.0,25.0,25.0,25.0,31.0,25.0,23.0,23.0,27.0,28.0,32.0,32.0,36.0,23.0,26.0,30.0,24.0,33.0,33.0,24.0,28.0,32.0,19.0,20.0,24.0,28.0,32.0,35.0,35.0,35.0,24.0,28.0,32.0,25.0,28.0,19.0,27.0,39.0,43.0,29.0,41.0,45.0,24.0,35.0,22.0,22.0,21.0,19.0,27.0,21.0,29.0,32.0,24.0,23.0,27.0,27.0,31.0,31.0,35.0,39.0,24.0,38.0,23.0,26.0,25.0,26.0,24.0,25.0,29.0,20.0,20.0,24.0,31.0,25.0,20.0,24.0,25.0,24.0,29.0,29.0,26.0,33.0,23.0,27.0,20.0,28.0,22.0,25.0,29.0,28.0,23.0,31.0,43.0,43.0,26.0,30.0,20.0,24.0,24.0,28.0,34.0,23.0,32.0,16.0,22.0,26.0,20.0,36.0,25.0,22.0,27.0,30.0,21.0,29.0,24.0,24.0,28.0,20.0,25.0,25.0,25.0,29.0,22.0,26.0,21.0,26.0,30.0,30.0,34.0,21.0,25.0,29.0,29.0,26.0,30.0,19.0,21.0,21.0,25.0,18.0,29.0,21.0,28.0,29.0,26.0,33.0,22.0,32.0,22.0,26.0,30.0,23.0,24.0,25.0,29.0,23.0,27.0,33.0,20.0,20.0,25.0,24.0,25.0,22.0,26.0,30.0,22.0,26.0,30.0,34.0,20.0,24.0,28.0,32.0,27.0,31.0,36.0,18.0,26.0,16.0,16.0,24.0,24.0,28.0,19.0,19.0,27.0,25.0,27.0,27.0,26.0,26.0,22.0,27.0,26.0,24.0,28.0,20.0,38.0,42.0,23.0,22.0,19.0,23.0,23.0,27.0,27.0,27.0,24.0,21.0,21.0,21.0,29.0,34.0,28.0,28.0,25.0,20.0,29.0,29.0,33.0,24.0,22.0,26.0,21.0,29.0,27.0,39.0,32.0,29.0,28.0,29.0,28.0,33.0,23.0,25.0,29.0,29.0,28.0,18.0,24.0,27.0,26.0,25.0,29.0,20.0,30.0,31.0,32.0,21.0,25.0,22.0,26.0,19.0,19.0,24.0,22.0,24.0,21.0,27.0,28.0,24.0,29.0,33.0,19.0,28.0,28.0,24.0,28.0,27.0,32.0,37.0,24.0,22.0,23.0,23.0,26.0,24.0,28.0,23.0,24.0,24.0,27.0,31.0,24.0,29.0,22.0,20.0,24.0,23.0,20.0,18.0,18.0,18.0,23.0,23.0,24.0,24.0,26.0,26.0,18.0,35.0,34.0,34.0,38.0,38.0,27.0,21.0,25.0,29.0,29.0,28.0,24.0,28.0,20.0,24.0,28.0,22.0,20.0,17.0,17.0,21.0,28.0,28.0,27.0,23.0,27.0,23.0,30.0,25.0,29.0,23.0,23.0,27.0,31.0,38.0],\"y0\":\" \",\"yaxis\":\"y\",\"type\":\"box\"}],                        {\"template\":{\"data\":{\"histogram2dcontour\":[{\"type\":\"histogram2dcontour\",\"colorbar\":{\"outlinewidth\":0,\"ticks\":\"\"},\"colorscale\":[[0.0,\"#0d0887\"],[0.1111111111111111,\"#46039f\"],[0.2222222222222222,\"#7201a8\"],[0.3333333333333333,\"#9c179e\"],[0.4444444444444444,\"#bd3786\"],[0.5555555555555556,\"#d8576b\"],[0.6666666666666666,\"#ed7953\"],[0.7777777777777778,\"#fb9f3a\"],[0.8888888888888888,\"#fdca26\"],[1.0,\"#f0f921\"]]}],\"choropleth\":[{\"type\":\"choropleth\",\"colorbar\":{\"outlinewidth\":0,\"ticks\":\"\"}}],\"histogram2d\":[{\"type\":\"histogram2d\",\"colorbar\":{\"outlinewidth\":0,\"ticks\":\"\"},\"colorscale\":[[0.0,\"#0d0887\"],[0.1111111111111111,\"#46039f\"],[0.2222222222222222,\"#7201a8\"],[0.3333333333333333,\"#9c179e\"],[0.4444444444444444,\"#bd3786\"],[0.5555555555555556,\"#d8576b\"],[0.6666666666666666,\"#ed7953\"],[0.7777777777777778,\"#fb9f3a\"],[0.8888888888888888,\"#fdca26\"],[1.0,\"#f0f921\"]]}],\"heatmap\":[{\"type\":\"heatmap\",\"colorbar\":{\"outlinewidth\":0,\"ticks\":\"\"},\"colorscale\":[[0.0,\"#0d0887\"],[0.1111111111111111,\"#46039f\"],[0.2222222222222222,\"#7201a8\"],[0.3333333333333333,\"#9c179e\"],[0.4444444444444444,\"#bd3786\"],[0.5555555555555556,\"#d8576b\"],[0.6666666666666666,\"#ed7953\"],[0.7777777777777778,\"#fb9f3a\"],[0.8888888888888888,\"#fdca26\"],[1.0,\"#f0f921\"]]}],\"heatmapgl\":[{\"type\":\"heatmapgl\",\"colorbar\":{\"outlinewidth\":0,\"ticks\":\"\"},\"colorscale\":[[0.0,\"#0d0887\"],[0.1111111111111111,\"#46039f\"],[0.2222222222222222,\"#7201a8\"],[0.3333333333333333,\"#9c179e\"],[0.4444444444444444,\"#bd3786\"],[0.5555555555555556,\"#d8576b\"],[0.6666666666666666,\"#ed7953\"],[0.7777777777777778,\"#fb9f3a\"],[0.8888888888888888,\"#fdca26\"],[1.0,\"#f0f921\"]]}],\"contourcarpet\":[{\"type\":\"contourcarpet\",\"colorbar\":{\"outlinewidth\":0,\"ticks\":\"\"}}],\"contour\":[{\"type\":\"contour\",\"colorbar\":{\"outlinewidth\":0,\"ticks\":\"\"},\"colorscale\":[[0.0,\"#0d0887\"],[0.1111111111111111,\"#46039f\"],[0.2222222222222222,\"#7201a8\"],[0.3333333333333333,\"#9c179e\"],[0.4444444444444444,\"#bd3786\"],[0.5555555555555556,\"#d8576b\"],[0.6666666666666666,\"#ed7953\"],[0.7777777777777778,\"#fb9f3a\"],[0.8888888888888888,\"#fdca26\"],[1.0,\"#f0f921\"]]}],\"surface\":[{\"type\":\"surface\",\"colorbar\":{\"outlinewidth\":0,\"ticks\":\"\"},\"colorscale\":[[0.0,\"#0d0887\"],[0.1111111111111111,\"#46039f\"],[0.2222222222222222,\"#7201a8\"],[0.3333333333333333,\"#9c179e\"],[0.4444444444444444,\"#bd3786\"],[0.5555555555555556,\"#d8576b\"],[0.6666666666666666,\"#ed7953\"],[0.7777777777777778,\"#fb9f3a\"],[0.8888888888888888,\"#fdca26\"],[1.0,\"#f0f921\"]]}],\"mesh3d\":[{\"type\":\"mesh3d\",\"colorbar\":{\"outlinewidth\":0,\"ticks\":\"\"}}],\"scatter\":[{\"fillpattern\":{\"fillmode\":\"overlay\",\"size\":10,\"solidity\":0.2},\"type\":\"scatter\"}],\"parcoords\":[{\"type\":\"parcoords\",\"line\":{\"colorbar\":{\"outlinewidth\":0,\"ticks\":\"\"}}}],\"scatterpolargl\":[{\"type\":\"scatterpolargl\",\"marker\":{\"colorbar\":{\"outlinewidth\":0,\"ticks\":\"\"}}}],\"bar\":[{\"error_x\":{\"color\":\"#2a3f5f\"},\"error_y\":{\"color\":\"#2a3f5f\"},\"marker\":{\"line\":{\"color\":\"#E5ECF6\",\"width\":0.5},\"pattern\":{\"fillmode\":\"overlay\",\"size\":10,\"solidity\":0.2}},\"type\":\"bar\"}],\"scattergeo\":[{\"type\":\"scattergeo\",\"marker\":{\"colorbar\":{\"outlinewidth\":0,\"ticks\":\"\"}}}],\"scatterpolar\":[{\"type\":\"scatterpolar\",\"marker\":{\"colorbar\":{\"outlinewidth\":0,\"ticks\":\"\"}}}],\"histogram\":[{\"marker\":{\"pattern\":{\"fillmode\":\"overlay\",\"size\":10,\"solidity\":0.2}},\"type\":\"histogram\"}],\"scattergl\":[{\"type\":\"scattergl\",\"marker\":{\"colorbar\":{\"outlinewidth\":0,\"ticks\":\"\"}}}],\"scatter3d\":[{\"type\":\"scatter3d\",\"line\":{\"colorbar\":{\"outlinewidth\":0,\"ticks\":\"\"}},\"marker\":{\"colorbar\":{\"outlinewidth\":0,\"ticks\":\"\"}}}],\"scattermapbox\":[{\"type\":\"scattermapbox\",\"marker\":{\"colorbar\":{\"outlinewidth\":0,\"ticks\":\"\"}}}],\"scatterternary\":[{\"type\":\"scatterternary\",\"marker\":{\"colorbar\":{\"outlinewidth\":0,\"ticks\":\"\"}}}],\"scattercarpet\":[{\"type\":\"scattercarpet\",\"marker\":{\"colorbar\":{\"outlinewidth\":0,\"ticks\":\"\"}}}],\"carpet\":[{\"aaxis\":{\"endlinecolor\":\"#2a3f5f\",\"gridcolor\":\"white\",\"linecolor\":\"white\",\"minorgridcolor\":\"white\",\"startlinecolor\":\"#2a3f5f\"},\"baxis\":{\"endlinecolor\":\"#2a3f5f\",\"gridcolor\":\"white\",\"linecolor\":\"white\",\"minorgridcolor\":\"white\",\"startlinecolor\":\"#2a3f5f\"},\"type\":\"carpet\"}],\"table\":[{\"cells\":{\"fill\":{\"color\":\"#EBF0F8\"},\"line\":{\"color\":\"white\"}},\"header\":{\"fill\":{\"color\":\"#C8D4E3\"},\"line\":{\"color\":\"white\"}},\"type\":\"table\"}],\"barpolar\":[{\"marker\":{\"line\":{\"color\":\"#E5ECF6\",\"width\":0.5},\"pattern\":{\"fillmode\":\"overlay\",\"size\":10,\"solidity\":0.2}},\"type\":\"barpolar\"}],\"pie\":[{\"automargin\":true,\"type\":\"pie\"}]},\"layout\":{\"autotypenumbers\":\"strict\",\"colorway\":[\"#636efa\",\"#EF553B\",\"#00cc96\",\"#ab63fa\",\"#FFA15A\",\"#19d3f3\",\"#FF6692\",\"#B6E880\",\"#FF97FF\",\"#FECB52\"],\"font\":{\"color\":\"#2a3f5f\"},\"hovermode\":\"closest\",\"hoverlabel\":{\"align\":\"left\"},\"paper_bgcolor\":\"white\",\"plot_bgcolor\":\"#E5ECF6\",\"polar\":{\"bgcolor\":\"#E5ECF6\",\"angularaxis\":{\"gridcolor\":\"white\",\"linecolor\":\"white\",\"ticks\":\"\"},\"radialaxis\":{\"gridcolor\":\"white\",\"linecolor\":\"white\",\"ticks\":\"\"}},\"ternary\":{\"bgcolor\":\"#E5ECF6\",\"aaxis\":{\"gridcolor\":\"white\",\"linecolor\":\"white\",\"ticks\":\"\"},\"baxis\":{\"gridcolor\":\"white\",\"linecolor\":\"white\",\"ticks\":\"\"},\"caxis\":{\"gridcolor\":\"white\",\"linecolor\":\"white\",\"ticks\":\"\"}},\"coloraxis\":{\"colorbar\":{\"outlinewidth\":0,\"ticks\":\"\"}},\"colorscale\":{\"sequential\":[[0.0,\"#0d0887\"],[0.1111111111111111,\"#46039f\"],[0.2222222222222222,\"#7201a8\"],[0.3333333333333333,\"#9c179e\"],[0.4444444444444444,\"#bd3786\"],[0.5555555555555556,\"#d8576b\"],[0.6666666666666666,\"#ed7953\"],[0.7777777777777778,\"#fb9f3a\"],[0.8888888888888888,\"#fdca26\"],[1.0,\"#f0f921\"]],\"sequentialminus\":[[0.0,\"#0d0887\"],[0.1111111111111111,\"#46039f\"],[0.2222222222222222,\"#7201a8\"],[0.3333333333333333,\"#9c179e\"],[0.4444444444444444,\"#bd3786\"],[0.5555555555555556,\"#d8576b\"],[0.6666666666666666,\"#ed7953\"],[0.7777777777777778,\"#fb9f3a\"],[0.8888888888888888,\"#fdca26\"],[1.0,\"#f0f921\"]],\"diverging\":[[0,\"#8e0152\"],[0.1,\"#c51b7d\"],[0.2,\"#de77ae\"],[0.3,\"#f1b6da\"],[0.4,\"#fde0ef\"],[0.5,\"#f7f7f7\"],[0.6,\"#e6f5d0\"],[0.7,\"#b8e186\"],[0.8,\"#7fbc41\"],[0.9,\"#4d9221\"],[1,\"#276419\"]]},\"xaxis\":{\"gridcolor\":\"white\",\"linecolor\":\"white\",\"ticks\":\"\",\"title\":{\"standoff\":15},\"zerolinecolor\":\"white\",\"automargin\":true,\"zerolinewidth\":2},\"yaxis\":{\"gridcolor\":\"white\",\"linecolor\":\"white\",\"ticks\":\"\",\"title\":{\"standoff\":15},\"zerolinecolor\":\"white\",\"automargin\":true,\"zerolinewidth\":2},\"scene\":{\"xaxis\":{\"backgroundcolor\":\"#E5ECF6\",\"gridcolor\":\"white\",\"linecolor\":\"white\",\"showbackground\":true,\"ticks\":\"\",\"zerolinecolor\":\"white\",\"gridwidth\":2},\"yaxis\":{\"backgroundcolor\":\"#E5ECF6\",\"gridcolor\":\"white\",\"linecolor\":\"white\",\"showbackground\":true,\"ticks\":\"\",\"zerolinecolor\":\"white\",\"gridwidth\":2},\"zaxis\":{\"backgroundcolor\":\"#E5ECF6\",\"gridcolor\":\"white\",\"linecolor\":\"white\",\"showbackground\":true,\"ticks\":\"\",\"zerolinecolor\":\"white\",\"gridwidth\":2}},\"shapedefaults\":{\"line\":{\"color\":\"#2a3f5f\"}},\"annotationdefaults\":{\"arrowcolor\":\"#2a3f5f\",\"arrowhead\":0,\"arrowwidth\":1},\"geo\":{\"bgcolor\":\"white\",\"landcolor\":\"#E5ECF6\",\"subunitcolor\":\"white\",\"showland\":true,\"showlakes\":true,\"lakecolor\":\"white\"},\"title\":{\"x\":0.05},\"mapbox\":{\"style\":\"light\"}}},\"xaxis\":{\"anchor\":\"y\",\"domain\":[0.0,1.0],\"title\":{\"text\":\"Medaljtyp\"}},\"yaxis\":{\"anchor\":\"x\",\"domain\":[0.0,1.0],\"title\":{\"text\":\"\\u00c5lder\"}},\"legend\":{\"tracegroupgap\":0},\"title\":{\"text\":\"\\u00c5ldersf\\u00f6rdelning per medaljtyp\"},\"boxmode\":\"group\"},                        {\"responsive\": true}                    ).then(function(){\n",
       "                            \n",
       "var gd = document.getElementById('be4ce799-79e4-431c-8bd6-3cb0285c02f1');\n",
       "var x = new MutationObserver(function (mutations, observer) {{\n",
       "        var display = window.getComputedStyle(gd).display;\n",
       "        if (!display || display === 'none') {{\n",
       "            console.log([gd, 'removed!']);\n",
       "            Plotly.purge(gd);\n",
       "            observer.disconnect();\n",
       "        }}\n",
       "}});\n",
       "\n",
       "// Listen for the removal of the full notebook cells\n",
       "var notebookContainer = gd.closest('#notebook-container');\n",
       "if (notebookContainer) {{\n",
       "    x.observe(notebookContainer, {childList: true});\n",
       "}}\n",
       "\n",
       "// Listen for the clearing of the current output cell\n",
       "var outputEl = gd.closest('.output');\n",
       "if (outputEl) {{\n",
       "    x.observe(outputEl, {childList: true});\n",
       "}}\n",
       "\n",
       "                        })                };                });            </script>        </div>"
      ]
     },
     "metadata": {},
     "output_type": "display_data"
    }
   ],
   "source": [
    "\n",
    "age_medals = hungary[hungary[\"Age\"].notnull() & hungary[\"Medal\"].notnull()]\n",
    "\n",
    "\n",
    "fig = px.box(\n",
    "    age_medals,\n",
    "    x=\"Medal\",\n",
    "    y=\"Age\",\n",
    "    title=\"Åldersfördelning per medaljtyp\",\n",
    "    labels={\"Medal\": \"Medaljtyp\", \"Age\": \"Ålder\"},\n",
    ")\n",
    "\n",
    "fig.show()\n"
   ]
  }
 ],
 "metadata": {
  "kernelspec": {
   "display_name": "Python 3",
   "language": "python",
   "name": "python3"
  },
  "language_info": {
   "codemirror_mode": {
    "name": "ipython",
    "version": 3
   },
   "file_extension": ".py",
   "mimetype": "text/x-python",
   "name": "python",
   "nbconvert_exporter": "python",
   "pygments_lexer": "ipython3",
   "version": "3.10.12"
  }
 },
 "nbformat": 4,
 "nbformat_minor": 2
}
